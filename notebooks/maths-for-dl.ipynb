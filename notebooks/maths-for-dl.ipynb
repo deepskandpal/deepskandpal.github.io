{
 "cells": [
  {
   "cell_type": "markdown",
   "id": "54270033",
   "metadata": {},
   "source": [
    "# Only Maths You Will Ever Need for Deep Learning"
   ]
  },
  {
   "cell_type": "markdown",
   "id": "f78bb700",
   "metadata": {},
   "source": [
    "## Section 4.2: Derivatives of Vector Element-wise Binary Operators\n",
    "\n",
    "Neural networks often use element-wise operations on vectors, such as addition, subtraction, multiplication, and division. In these operations, each output element depends only on the corresponding elements of the input vectors. This leads to a major simplification when computing derivatives (Jacobians): the Jacobian matrices are diagonal.\n",
    "\n",
    "Let's see how this works for common element-wise operations between two vectors $w$ and $x$."
   ]
  },
  {
   "cell_type": "code",
   "execution_count": 1,
   "id": "1d744d4a",
   "metadata": {},
   "outputs": [
    {
     "name": "stdout",
     "output_type": "stream",
     "text": [
      "Addition (w + x): [ 7.  9. 11.]\n",
      "Subtraction (w - x): [-3. -3. -3.]\n",
      "Element-wise Multiplication (w * x): [10. 18. 28.]\n",
      "Element-wise Division (w / x): [0.4        0.5        0.57142857]\n"
     ]
    }
   ],
   "source": [
    "import numpy as np\n",
    "\n",
    "# Example vectors\n",
    "w = np.array([2.0, 3.0, 4.0])\n",
    "x = np.array([5.0, 6.0, 7.0])\n",
    "\n",
    "# Element-wise operations\n",
    "y_add = w + x\n",
    "print(\"Addition (w + x):\", y_add)\n",
    "\n",
    "y_sub = w - x\n",
    "print(\"Subtraction (w - x):\", y_sub)\n",
    "\n",
    "y_mul = w * x\n",
    "print(\"Element-wise Multiplication (w * x):\", y_mul)\n",
    "\n",
    "y_div = w / x\n",
    "print(\"Element-wise Division (w / x):\", y_div)"
   ]
  },
  {
   "cell_type": "markdown",
   "id": "3d8a2519",
   "metadata": {},
   "source": [
    "### Jacobians for Element-wise Operations\n",
    "\n",
    "For $y = w + x$:\n",
    "- $\\frac{\\partial y}{\\partial w} = I$ (identity matrix)\n",
    "- $\\frac{\\partial y}{\\partial x} = I$\n",
    "\n",
    "For $y = w - x$:\n",
    "- $\\frac{\\partial y}{\\partial w} = I$\n",
    "- $\\frac{\\partial y}{\\partial x} = -I$\n",
    "\n",
    "For $y = w \\odot x$ (element-wise multiplication):\n",
    "- $\\frac{\\partial y}{\\partial w} = \\mathrm{diag}(x)$\n",
    "- $\\frac{\\partial y}{\\partial x} = \\mathrm{diag}(w)$\n",
    "\n",
    "For $y = w / x$ (element-wise division):\n",
    "- $\\frac{\\partial y}{\\partial w} = \\mathrm{diag}(1/x)$\n",
    "- $\\frac{\\partial y}{\\partial x} = \\mathrm{diag}(-w/x^2)$\n",
    "\n",
    "Let's compute these Jacobians in code for our example vectors."
   ]
  },
  {
   "cell_type": "code",
   "execution_count": 2,
   "id": "e69aa20a",
   "metadata": {},
   "outputs": [
    {
     "name": "stdout",
     "output_type": "stream",
     "text": [
      "Jacobian of y = w + x with respect to w:\n",
      " [[1. 0. 0.]\n",
      " [0. 1. 0.]\n",
      " [0. 0. 1.]]\n",
      "Jacobian of y = w + x with respect to x:\n",
      " [[1. 0. 0.]\n",
      " [0. 1. 0.]\n",
      " [0. 0. 1.]]\n",
      "Jacobian of y = w - x with respect to w:\n",
      " [[1. 0. 0.]\n",
      " [0. 1. 0.]\n",
      " [0. 0. 1.]]\n",
      "Jacobian of y = w - x with respect to x:\n",
      " [[-1. -0. -0.]\n",
      " [-0. -1. -0.]\n",
      " [-0. -0. -1.]]\n",
      "Jacobian of y = w * x with respect to w:\n",
      " [[5. 0. 0.]\n",
      " [0. 6. 0.]\n",
      " [0. 0. 7.]]\n",
      "Jacobian of y = w * x with respect to x:\n",
      " [[2. 0. 0.]\n",
      " [0. 3. 0.]\n",
      " [0. 0. 4.]]\n",
      "Jacobian of y = w / x with respect to w:\n",
      " [[0.2        0.         0.        ]\n",
      " [0.         0.16666667 0.        ]\n",
      " [0.         0.         0.14285714]]\n",
      "Jacobian of y = w / x with respect to x:\n",
      " [[-0.08        0.          0.        ]\n",
      " [ 0.         -0.08333333  0.        ]\n",
      " [ 0.          0.         -0.08163265]]\n"
     ]
    }
   ],
   "source": [
    "# Jacobian for y = w + x (identity matrix)\n",
    "J_add_w = np.eye(len(w))\n",
    "J_add_x = np.eye(len(x))\n",
    "print(\"Jacobian of y = w + x with respect to w:\\n\", J_add_w)\n",
    "print(\"Jacobian of y = w + x with respect to x:\\n\", J_add_x)\n",
    "\n",
    "# Jacobian for y = w - x\n",
    "J_sub_w = np.eye(len(w))\n",
    "J_sub_x = -np.eye(len(x))\n",
    "print(\"Jacobian of y = w - x with respect to w:\\n\", J_sub_w)\n",
    "print(\"Jacobian of y = w - x with respect to x:\\n\", J_sub_x)\n",
    "\n",
    "# Jacobian for y = w * x (element-wise multiplication)\n",
    "J_mul_w = np.diag(x)\n",
    "J_mul_x = np.diag(w)\n",
    "print(\"Jacobian of y = w * x with respect to w:\\n\", J_mul_w)\n",
    "print(\"Jacobian of y = w * x with respect to x:\\n\", J_mul_x)\n",
    "\n",
    "# Jacobian for y = w / x (element-wise division)\n",
    "J_div_w = np.diag(1 / x)\n",
    "J_div_x = np.diag(-w / x**2)\n",
    "print(\"Jacobian of y = w / x with respect to w:\\n\", J_div_w)\n",
    "print(\"Jacobian of y = w / x with respect to x:\\n\", J_div_x)"
   ]
  },
  {
   "cell_type": "markdown",
   "id": "fc80ce29",
   "metadata": {},
   "source": [
    "### Key Takeaway\n",
    "\n",
    "For element-wise binary operations between vectors, the Jacobians with respect to each input are diagonal matrices. Each diagonal entry is simply the scalar derivative of the output element with respect to the corresponding input element. This makes backpropagation through such layers very efficient."
   ]
  },
  {
   "cell_type": "markdown",
   "id": "e416dc48",
   "metadata": {},
   "source": [
    "## Section 4.3: Derivatives Involving Scalar Expansion\n",
    "\n",
    "In neural networks, we often perform operations between a vector and a scalar, such as adding a scalar bias to every element of a vector or multiplying a vector by a scalar. These operations can be viewed as element-wise operations where the scalar is broadcasted to match the vector's size.\n",
    "\n",
    "Let's explore the derivatives for these cases:"
   ]
  },
  {
   "cell_type": "markdown",
   "id": "da85af4c",
   "metadata": {},
   "source": [
    "### Example 1: Addition of a Scalar to a Vector\n",
    "\n",
    "Let $y = x + z$, where $x$ is a vector and $z$ is a scalar. This is equivalent to $y_i = x_i + z$ for each $i$.\n",
    "\n",
    "- **Derivative with respect to $x$:**\n",
    "  - $\\frac{\\partial y}{\\partial x} = I$ (identity matrix)\n",
    "- **Derivative with respect to $z$:**\n",
    "  - $\\frac{\\partial y}{\\partial z} = \\mathbf{1}$ (a column vector of ones)"
   ]
  },
  {
   "cell_type": "code",
   "execution_count": 3,
   "id": "e72124a7",
   "metadata": {},
   "outputs": [
    {
     "name": "stdout",
     "output_type": "stream",
     "text": [
      "y = x + z: [6. 7. 8.]\n",
      "Jacobian of y = x + z with respect to x:\n",
      " [[1. 0. 0.]\n",
      " [0. 1. 0.]\n",
      " [0. 0. 1.]]\n",
      "Jacobian of y = x + z with respect to z:\n",
      " [[1.]\n",
      " [1.]\n",
      " [1.]]\n"
     ]
    }
   ],
   "source": [
    "import numpy as np\n",
    "\n",
    "x = np.array([1.0, 2.0, 3.0])\n",
    "z = 5.0\n",
    "\n",
    "y_add = x + z\n",
    "print(\"y = x + z:\", y_add)\n",
    "\n",
    "# Jacobian with respect to x (identity matrix)\n",
    "J_add_x = np.eye(len(x))\n",
    "print(\"Jacobian of y = x + z with respect to x:\\n\", J_add_x)\n",
    "\n",
    "# Derivative with respect to scalar z (vector of ones)\n",
    "J_add_z = np.ones((len(x), 1))\n",
    "print(\"Jacobian of y = x + z with respect to z:\\n\", J_add_z)"
   ]
  },
  {
   "cell_type": "markdown",
   "id": "cfb8de9f",
   "metadata": {},
   "source": [
    "### Example 2: Multiplication of a Vector by a Scalar\n",
    "\n",
    "Let $y = xz$, where $x$ is a vector and $z$ is a scalar. This is equivalent to $y_i = x_i \\cdot z$ for each $i$.\n",
    "\n",
    "- **Derivative with respect to $x$:**\n",
    "  - $\\frac{\\partial y}{\\partial x} = zI$ (scalar $z$ times the identity matrix)\n",
    "- **Derivative with respect to $z$:**\n",
    "  - $\\frac{\\partial y}{\\partial z} = x$ (the vector $x$ as a column vector)"
   ]
  },
  {
   "cell_type": "code",
   "execution_count": 4,
   "id": "21b649bb",
   "metadata": {},
   "outputs": [
    {
     "name": "stdout",
     "output_type": "stream",
     "text": [
      "y = x * z: [ 5. 10. 15.]\n",
      "Jacobian of y = x * z with respect to x:\n",
      " [[5. 0. 0.]\n",
      " [0. 5. 0.]\n",
      " [0. 0. 5.]]\n",
      "Jacobian of y = x * z with respect to z:\n",
      " [[1.]\n",
      " [2.]\n",
      " [3.]]\n"
     ]
    }
   ],
   "source": [
    "# y = x * z\n",
    "\n",
    "y_mul = x * z\n",
    "print(\"y = x * z:\", y_mul)\n",
    "\n",
    "# Jacobian with respect to x (z times identity matrix)\n",
    "J_mul_x = z * np.eye(len(x))\n",
    "print(\"Jacobian of y = x * z with respect to x:\\n\", J_mul_x)\n",
    "\n",
    "# Derivative with respect to scalar z (vector x)\n",
    "J_mul_z = x.reshape(-1, 1)\n",
    "print(\"Jacobian of y = x * z with respect to z:\\n\", J_mul_z)"
   ]
  },
  {
   "cell_type": "markdown",
   "id": "e7c61e2d",
   "metadata": {},
   "source": [
    "### Key Takeaway\n",
    "\n",
    "When a vector and a scalar are combined via addition or multiplication, the Jacobian with respect to the vector is diagonal, while the derivative with respect to the scalar is a column vector. This reflects how a change in the scalar affects all elements of the output vector equally (for addition) or proportionally (for multiplication)."
   ]
  },
  {
   "cell_type": "markdown",
   "id": "98af1c7e",
   "metadata": {},
   "source": [
    "## Section 4.4: Vector Sum Reduction\n",
    "\n",
    "In machine learning, we often reduce a vector to a scalar by summing its elements, such as when computing the total loss. This section explains how to compute the derivative of such a sum with respect to the input vector."
   ]
  },
  {
   "cell_type": "markdown",
   "id": "0ad2f3ce",
   "metadata": {},
   "source": [
    "### Example 1: Derivative of the Sum of a Vector\n",
    "\n",
    "Let $y = \\sum x_i$, where $x$ is a vector. The derivative of $y$ with respect to $x$ is a row vector of ones:\n",
    "\n",
    "$$\n",
    "\\nabla y = \\frac{\\partial y}{\\partial x} = [1, 1, \\ldots, 1]\n",
    "$$\n",
    "\n",
    "Intuition: Changing any $x_j$ by $\\Delta$ changes $y$ by $\\Delta$."
   ]
  },
  {
   "cell_type": "code",
   "execution_count": 5,
   "id": "f3917204",
   "metadata": {},
   "outputs": [
    {
     "name": "stdout",
     "output_type": "stream",
     "text": [
      "y = sum(x): 9.0\n",
      "Gradient of y = sum(x) with respect to x: [1. 1. 1.]\n"
     ]
    }
   ],
   "source": [
    "import numpy as np\n",
    "\n",
    "x = np.array([2.0, 3.0, 4.0])\n",
    "y = np.sum(x)\n",
    "print(\"y = sum(x):\", y)\n",
    "\n",
    "grad_y_x = np.ones_like(x)\n",
    "print(\"Gradient of y = sum(x) with respect to x:\", grad_y_x)"
   ]
  },
  {
   "cell_type": "markdown",
   "id": "af68896f",
   "metadata": {},
   "source": [
    "### Example 2: Derivative of the Sum of a Vector-Scalar Product\n",
    "\n",
    "Let $y = \\sum (x_i z)$, where $x$ is a vector and $z$ is a scalar. This is equivalent to $y = z \\cdot \\sum x_i$.\n",
    "\n",
    "- **Derivative with respect to $x$:**\n",
    "  - $\\nabla y = [z, z, \\ldots, z]$\n",
    "- **Derivative with respect to $z$:**\n",
    "  - $\\frac{\\partial y}{\\partial z} = \\sum x_i$"
   ]
  },
  {
   "cell_type": "code",
   "execution_count": 6,
   "id": "01b4e02c",
   "metadata": {},
   "outputs": [
    {
     "name": "stdout",
     "output_type": "stream",
     "text": [
      "y = sum(x * z): 45.0\n",
      "Gradient of y = sum(x * z) with respect to x: [5. 5. 5.]\n",
      "Derivative of y = sum(x * z) with respect to z: 9.0\n"
     ]
    }
   ],
   "source": [
    "z = 5.0\n",
    "y2 = np.sum(x * z)\n",
    "print(\"y = sum(x * z):\", y2)\n",
    "\n",
    "grad_y2_x = np.ones_like(x) * z\n",
    "print(\"Gradient of y = sum(x * z) with respect to x:\", grad_y2_x)\n",
    "\n",
    "grad_y2_z = np.sum(x)\n",
    "print(\"Derivative of y = sum(x * z) with respect to z:\", grad_y2_z)"
   ]
  },
  {
   "cell_type": "markdown",
   "id": "26d83250",
   "metadata": {},
   "source": [
    "### Key Takeaway\n",
    "\n",
    "When you sum the elements of a vector, the gradient with respect to the vector is a row vector of ones. For a sum of a vector times a scalar, the gradient with respect to the vector is a row vector of the scalar, and with respect to the scalar is the sum of the vector. This is fundamental for backpropagation in neural networks."
   ]
  },
  {
   "cell_type": "markdown",
   "id": "0ad48026",
   "metadata": {},
   "source": [
    "## Section 4.5: The Chain Rules\n",
    "\n",
    "The chain rule is the backbone of how derivatives are computed for complex, nested functions—exactly what neural networks are! It allows us to efficiently compute how a final output (like a loss) changes with respect to every parameter in a deeply nested function by breaking the computation into simpler steps."
   ]
  },
  {
   "cell_type": "markdown",
   "id": "7b98d16d",
   "metadata": {},
   "source": [
    "### 4.5.1 Single-variable Chain Rule\n",
    "\n",
    "Suppose $y = f(g(x))$. The chain rule states:\n",
    "\n",
    "$$\n",
    "\\frac{dy}{dx} = \\frac{dy}{du} \\cdot \\frac{du}{dx}\n",
    "$$\n",
    "where $u = g(x)$ and $y = f(u)$.\n",
    "\n",
    "**Example:**\n",
    "Let $y = \\sin(x^2)$. Set $u = x^2$, so $y = \\sin(u)$.\n",
    "- $du/dx = 2x$\n",
    "- $dy/du = \\cos(u)$\n",
    "- $dy/dx = \\cos(x^2) \\cdot 2x$"
   ]
  },
  {
   "cell_type": "code",
   "execution_count": 7,
   "id": "e78159e6",
   "metadata": {},
   "outputs": [
    {
     "name": "stdout",
     "output_type": "stream",
     "text": [
      "y = sin(x^2) at x=1.5: 0.7780731968879212\n",
      "dy/dx at x=1.5: -1.8845208681682175\n"
     ]
    }
   ],
   "source": [
    "import numpy as np\n",
    "\n",
    "def chain_rule_example(x):\n",
    "    u = x**2\n",
    "    y = np.sin(u)\n",
    "    dy_du = np.cos(u)\n",
    "    du_dx = 2 * x\n",
    "    dy_dx = dy_du * du_dx\n",
    "    return y, dy_dx\n",
    "\n",
    "x = 1.5\n",
    "result, grad = chain_rule_example(x)\n",
    "print(f\"y = sin(x^2) at x={x}: {result}\")\n",
    "print(f\"dy/dx at x={x}: {grad}\")"
   ]
  },
  {
   "cell_type": "markdown",
   "id": "4c640c6d",
   "metadata": {},
   "source": [
    "### 4.5.2 Single-variable Total-Derivative Chain Rule\n",
    "\n",
    "If an intermediate variable depends on $x$ both directly and indirectly, sum all paths:\n",
    "\n",
    "Let $u_1(x) = x^2$, $y = u_2(x, u_1) = x + u_1$.\n",
    "\n",
    "$$\n",
    "\\frac{dy}{dx} = \\frac{\\partial u_2}{\\partial x} + \\frac{\\partial u_2}{\\partial u_1} \\cdot \\frac{du_1}{dx}\n",
    "$$\n",
    "\n",
    "For $y = x + x^2$:\n",
    "- $\\partial u_2/\\partial x = 1$\n",
    "- $\\partial u_2/\\partial u_1 = 1$\n",
    "- $du_1/dx = 2x$\n",
    "- $dy/dx = 1 + 2x$"
   ]
  },
  {
   "cell_type": "code",
   "execution_count": 8,
   "id": "48e1ccdd",
   "metadata": {},
   "outputs": [
    {
     "name": "stdout",
     "output_type": "stream",
     "text": [
      "y = x + x^2 at x=2.0: 6.0\n",
      "dy/dx at x=2.0: 5.0\n"
     ]
    }
   ],
   "source": [
    "def total_derivative_example(x):\n",
    "    u1 = x**2\n",
    "    y = x + u1\n",
    "    dy_dx = 1 + 2 * x\n",
    "    return y, dy_dx\n",
    "\n",
    "x = 2.0\n",
    "result, grad = total_derivative_example(x)\n",
    "print(f\"y = x + x^2 at x={x}: {result}\")\n",
    "print(f\"dy/dx at x={x}: {grad}\")"
   ]
  },
  {
   "cell_type": "markdown",
   "id": "c282a8db",
   "metadata": {},
   "source": [
    "### 4.5.3 Vector Chain Rule\n",
    "\n",
    "For vector functions, the chain rule generalizes to Jacobians:\n",
    "\n",
    "If $u = g(x)$ and $y = f(u)$, then\n",
    "$$\n",
    "\\frac{\\partial y}{\\partial x} = \\frac{\\partial y}{\\partial u} \\cdot \\frac{\\partial u}{\\partial x}\n",
    "$$\n",
    "where $\\frac{\\partial y}{\\partial u}$ and $\\frac{\\partial u}{\\partial x}$ are Jacobian matrices, and the multiplication is matrix multiplication.\n",
    "\n",
    "**Example:**\n",
    "Let $g(x) = [x^2, \\sin(x)]^T$, $f(u) = [u_1 + u_2, u_1 u_2]^T$.\n",
    "\n",
    "- $u_1 = x^2$, $u_2 = \\sin(x)$\n",
    "- $y_1 = u_1 + u_2$, $y_2 = u_1 u_2$\n",
    "\n",
    "Compute the Jacobians and apply the chain rule."
   ]
  },
  {
   "cell_type": "code",
   "execution_count": 9,
   "id": "08def409",
   "metadata": {},
   "outputs": [
    {
     "name": "stdout",
     "output_type": "stream",
     "text": [
      "y = f(g(x)) at x=1.0: [1.84147098 0.84147098]\n",
      "dy/dx at x=1.0:\n",
      "[[2.54030231]\n",
      " [2.22324428]]\n"
     ]
    }
   ],
   "source": [
    "def vector_chain_rule_example(x):\n",
    "    # Intermediate vector\n",
    "    u1 = x**2\n",
    "    u2 = np.sin(x)\n",
    "    u = np.array([u1, u2])\n",
    "    # Output vector\n",
    "    y1 = u1 + u2\n",
    "    y2 = u1 * u2\n",
    "    y = np.array([y1, y2])\n",
    "    # Jacobian of f with respect to u (2x2)\n",
    "    df_du = np.array([\n",
    "        [1, 1],        # dy1/du1, dy1/du2\n",
    "        [u2, u1]       # dy2/du1, dy2/du2\n",
    "    ])\n",
    "    # Jacobian of u with respect to x (2x1)\n",
    "    du_dx = np.array([[2*x], [np.cos(x)]])\n",
    "    # Chain rule: Jacobian of y with respect to x (2x1)\n",
    "    dy_dx = df_du @ du_dx\n",
    "    return y, dy_dx\n",
    "\n",
    "x = 1.0\n",
    "result, grad = vector_chain_rule_example(x)\n",
    "print(f\"y = f(g(x)) at x={x}: {result}\")\n",
    "print(f\"dy/dx at x={x}:\\n{grad}\")"
   ]
  },
  {
   "cell_type": "markdown",
   "id": "36fd9728",
   "metadata": {},
   "source": [
    "### Key Takeaway\n",
    "\n",
    "The chain rule, in its various forms, is the fundamental mechanism for calculating derivatives of complex, nested functions. In neural networks, the vector chain rule allows us to efficiently compute gradients for backpropagation by chaining together local derivatives (Jacobians) from each layer."
   ]
  },
  {
   "cell_type": "markdown",
   "id": "3b61e603",
   "metadata": {},
   "source": [
    "## Section 5: The Gradient of Neuron Activation\n",
    "\n",
    "Let's apply the chain rule to a single neuron. We'll compute how the neuron's activation changes with respect to its weights and bias, which is fundamental for backpropagation.\n",
    "\n",
    "A typical neuron computes:\n",
    "1. **Affine function:** $z = w \\cdot x + b$\n",
    "2. **Activation function:** $a = A(z)$, e.g., $A(z) = \\max(0, z)$ (ReLU)\n",
    "\n",
    "We want to find $\\frac{\\partial a}{\\partial w}$ and $\\frac{\\partial a}{\\partial b}$."
   ]
  },
  {
   "cell_type": "markdown",
   "id": "3dd41492",
   "metadata": {},
   "source": [
    "### Step 1: Gradients of the Affine Part $z = w \\cdot x + b$\n",
    "\n",
    "- $\\frac{\\partial z}{\\partial w} = x^T$\n",
    "- $\\frac{\\partial z}{\\partial b} = 1$\n",
    "\n",
    "**Intuition:**\n",
    "- Changing $w_j$ changes $z$ by $x_j$.\n",
    "- Changing $b$ changes $z$ by $1$."
   ]
  },
  {
   "cell_type": "code",
   "execution_count": 10,
   "id": "1a38ced3",
   "metadata": {},
   "outputs": [
    {
     "name": "stdout",
     "output_type": "stream",
     "text": [
      "z = w·x + b: 4.6\n",
      "∂z/∂w: [1. 2. 3.]\n",
      "∂z/∂b: 1.0\n"
     ]
    }
   ],
   "source": [
    "import numpy as np\n",
    "\n",
    "# Example input\n",
    "x = np.array([1.0, 2.0, 3.0])\n",
    "w = np.array([0.5, -1.0, 2.0])\n",
    "b = 0.1\n",
    "\n",
    "# Affine part\n",
    "z = np.dot(w, x) + b\n",
    "print(f\"z = w·x + b: {z}\")\n",
    "\n",
    "# Gradients\n",
    "dz_dw = x\n",
    "print(\"∂z/∂w:\", dz_dw)\n",
    "\n",
    "dz_db = 1.0\n",
    "print(\"∂z/∂b:\", dz_db)"
   ]
  },
  {
   "cell_type": "markdown",
   "id": "06798aef",
   "metadata": {},
   "source": [
    "### Step 2: Gradient of the Activation Function (ReLU)\n",
    "\n",
    "Let $a = \\max(0, z)$. The derivative is:\n",
    "- $\\frac{da}{dz} = 0$ if $z \\leq 0$\n",
    "- $\\frac{da}{dz} = 1$ if $z > 0$\n",
    "\n",
    "This is the ReLU derivative."
   ]
  },
  {
   "cell_type": "code",
   "execution_count": 11,
   "id": "293ba5eb",
   "metadata": {},
   "outputs": [
    {
     "name": "stdout",
     "output_type": "stream",
     "text": [
      "a = ReLU(z): 4.6\n",
      "∂a/∂z at z=4.6: 1.0\n"
     ]
    }
   ],
   "source": [
    "def relu(z):\n",
    "    return np.maximum(0, z)\n",
    "\n",
    "def relu_grad(z):\n",
    "    return 1.0 if z > 0 else 0.0\n",
    "\n",
    "# Activation\n",
    "a = relu(z)\n",
    "print(f\"a = ReLU(z): {a}\")\n",
    "\n",
    "# Derivative of activation with respect to z\n",
    "da_dz = relu_grad(z)\n",
    "print(f\"∂a/∂z at z={z}: {da_dz}\")"
   ]
  },
  {
   "cell_type": "markdown",
   "id": "97ca310e",
   "metadata": {},
   "source": [
    "### Step 3: Combine Using the Chain Rule\n",
    "\n",
    "By the chain rule:\n",
    "- $\\frac{\\partial a}{\\partial w} = \\frac{\\partial a}{\\partial z} \\cdot \\frac{\\partial z}{\\partial w}$\n",
    "- $\\frac{\\partial a}{\\partial b} = \\frac{\\partial a}{\\partial z} \\cdot \\frac{\\partial z}{\\partial b}$\n",
    "\n",
    "So:\n",
    "- $\\frac{\\partial a}{\\partial w} = 0^T$ if $z \\leq 0$, $x^T$ if $z > 0$\n",
    "- $\\frac{\\partial a}{\\partial b} = 0$ if $z \\leq 0$, $1$ if $z > 0$"
   ]
  },
  {
   "cell_type": "code",
   "execution_count": 12,
   "id": "3e9644ed",
   "metadata": {},
   "outputs": [
    {
     "name": "stdout",
     "output_type": "stream",
     "text": [
      "∂a/∂w: [1. 2. 3.]\n",
      "∂a/∂b: 1.0\n"
     ]
    }
   ],
   "source": [
    "# Gradients of activation with respect to w and b\n",
    "if da_dz == 0:\n",
    "    da_dw = np.zeros_like(w)\n",
    "    da_db = 0.0\n",
    "else:\n",
    "    da_dw = x\n",
    "    da_db = 1.0\n",
    "\n",
    "print(\"∂a/∂w:\", da_dw)\n",
    "print(\"∂a/∂b:\", da_db)"
   ]
  },
  {
   "cell_type": "markdown",
   "id": "082be5b9",
   "metadata": {},
   "source": [
    "### Key Takeaway\n",
    "\n",
    "For a neuron with $a = \\max(0, w \\cdot x + b)$:\n",
    "- $\\frac{\\partial a}{\\partial w} = x^T$ if $w \\cdot x + b > 0$, $0^T$ otherwise\n",
    "- $\\frac{\\partial a}{\\partial b} = 1$ if $w \\cdot x + b > 0$, $0$ otherwise\n",
    "\n",
    "These local gradients are essential for backpropagation, telling us how to update the neuron's weights and bias."
   ]
  },
  {
   "cell_type": "markdown",
   "id": "6db070dd",
   "metadata": {},
   "source": [
    "## Section 6: The Gradient of the Neural Network Loss Function\n",
    "\n",
    "This section brings together all the matrix calculus concepts to show how a neural network learns by minimizing a loss function. We'll derive the gradients of the Mean Squared Error (MSE) loss with respect to a neuron's weights $w$ and bias $b$ using the chain rule and the neuron's activation gradients from Section 5."
   ]
  },
  {
   "cell_type": "markdown",
   "id": "9925c1c8",
   "metadata": {},
   "source": [
    "### Loss Function Setup\n",
    "\n",
    "Suppose we have $N$ training examples. For each input $x_i$ and target $y_i$:\n",
    "- The neuron computes $z_i = w \\cdot x_i + b$\n",
    "- The activation is $a_i = \\max(0, z_i)$ (ReLU)\n",
    "- The loss for one instance is $L_i = (y_i - a_i)^2$\n",
    "- The total loss is $C(w, b, X, y) = \\frac{1}{N} \\sum_i (y_i - a_i)^2$\n",
    "\n",
    "We want $\\frac{\\partial C}{\\partial w}$ and $\\frac{\\partial C}{\\partial b}$."
   ]
  },
  {
   "cell_type": "code",
   "execution_count": 13,
   "id": "a0b2c9a2",
   "metadata": {},
   "outputs": [
    {
     "name": "stdout",
     "output_type": "stream",
     "text": [
      "Loss: 138.97666666666666\n"
     ]
    }
   ],
   "source": [
    "import numpy as np\n",
    "\n",
    "# Example data: 3 training instances, 3 features\n",
    "X = np.array([\n",
    "    [1.0, 2.0, 3.0],\n",
    "    [4.0, 5.0, 6.0],\n",
    "    [7.0, 8.0, 9.0]\n",
    "])\n",
    "y = np.array([10.0, 20.0, 30.0])\n",
    "w = np.array([0.5, -1.0, 2.0])\n",
    "b = 0.1\n",
    "N = X.shape[0]\n",
    "\n",
    "def relu(z):\n",
    "    return np.maximum(0, z)\n",
    "\n",
    "def relu_grad(z):\n",
    "    return (z > 0).astype(float)\n",
    "\n",
    "# Forward pass\n",
    "z = X @ w + b  # shape (N,)\n",
    "a = relu(z)    # shape (N,)\n",
    "loss = np.mean((y - a) ** 2)\n",
    "print(f\"Loss: {loss}\")"
   ]
  },
  {
   "cell_type": "markdown",
   "id": "7a8ab0e1",
   "metadata": {},
   "source": [
    "### Gradient with Respect to Weights $w$\n",
    "\n",
    "For each instance $i$:\n",
    "- $e_i = (w \\cdot x_i + b) - y_i$\n",
    "- If $z_i > 0$ (neuron active):\n",
    "  - $\\frac{\\partial L_i}{\\partial w} = 2 e_i x_i^T$\n",
    "- If $z_i \\leq 0$ (neuron inactive):\n",
    "  - $\\frac{\\partial L_i}{\\partial w} = 0$\n",
    "\n",
    "Averaging over all $N$ instances:\n",
    "$$\n",
    "\\frac{\\partial C}{\\partial w} = \\frac{2}{N} \\sum_{i: z_i > 0} e_i x_i^T\n",
    "$$"
   ]
  },
  {
   "cell_type": "code",
   "execution_count": 14,
   "id": "5e31e738",
   "metadata": {},
   "outputs": [
    {
     "name": "stdout",
     "output_type": "stream",
     "text": [
      "∂C/∂w: [-109.2 -131.  -152.8]\n"
     ]
    }
   ],
   "source": [
    "# Compute gradients for all instances\n",
    "active = z > 0  # Boolean mask for active neurons\n",
    "errors = (z - y)\n",
    "\n",
    "grad_w = np.zeros_like(w)\n",
    "for i in range(N):\n",
    "    if active[i]:\n",
    "        grad_w += 2 * errors[i] * X[i]\n",
    "grad_w /= N\n",
    "print(\"∂C/∂w:\", grad_w)"
   ]
  },
  {
   "cell_type": "markdown",
   "id": "b770ee25",
   "metadata": {},
   "source": [
    "### Gradient with Respect to Bias $b$\n",
    "\n",
    "For each instance $i$:\n",
    "- If $z_i > 0$:\n",
    "  - $\\frac{\\partial L_i}{\\partial b} = 2 e_i$\n",
    "- If $z_i \\leq 0$:\n",
    "  - $\\frac{\\partial L_i}{\\partial b} = 0$\n",
    "\n",
    "Averaging over all $N$ instances:\n",
    "$$\n",
    "\\frac{\\partial C}{\\partial b} = \\frac{2}{N} \\sum_{i: z_i > 0} e_i\n",
    "$$"
   ]
  },
  {
   "cell_type": "code",
   "execution_count": 15,
   "id": "5414f142",
   "metadata": {},
   "outputs": [
    {
     "name": "stdout",
     "output_type": "stream",
     "text": [
      "∂C/∂b: -21.8\n"
     ]
    }
   ],
   "source": [
    "grad_b = 0.0\n",
    "for i in range(N):\n",
    "    if active[i]:\n",
    "        grad_b += 2 * errors[i]\n",
    "grad_b /= N\n",
    "print(\"∂C/∂b:\", grad_b)"
   ]
  },
  {
   "cell_type": "markdown",
   "id": "97b128ec",
   "metadata": {},
   "source": [
    "### Key Takeaway\n",
    "\n",
    "The gradients $\\frac{\\partial C}{\\partial w}$ and $\\frac{\\partial C}{\\partial b}$ tell us how to update the neuron's weights and bias to reduce the loss. These are the fundamental building blocks for training neural networks using gradient descent."
   ]
  },
  {
   "cell_type": "markdown",
   "id": "365332a0",
   "metadata": {},
   "source": [
    "## Section 7: End-to-End Backpropagation Algorithm for Regression Using Gradient Descent\n",
    "\n",
    "Now that we've derived the gradients for a single neuron, let's put it all together and implement the full backpropagation algorithm for a simple regression task using a single-layer neural network (one neuron) and gradient descent.\n",
    "\n",
    "We'll use Mean Squared Error (MSE) as the loss function and update the weights and bias using the gradients computed in the previous section."
   ]
  },
  {
   "cell_type": "markdown",
   "id": "5aac4074",
   "metadata": {},
   "source": [
    "### Algorithm Steps\n",
    "\n",
    "1. **Initialize parameters:** Randomly initialize weights $w$ and bias $b$.\n",
    "2. **Forward pass:** For each training example, compute the neuron's output $a_i = \\max(0, w \\cdot x_i + b)$.\n",
    "3. **Compute loss:** Calculate the MSE loss $C(w, b, X, y) = \\frac{1}{N} \\sum_i (y_i - a_i)^2$.\n",
    "4. **Backward pass (compute gradients):**\n",
    "    - Compute $\\frac{\\partial C}{\\partial w}$ and $\\frac{\\partial C}{\\partial b}$ as derived previously.\n",
    "5. **Parameter update:** Update $w$ and $b$ using gradient descent:\n",
    "    - $w \\leftarrow w - \\eta \\frac{\\partial C}{\\partial w}$\n",
    "    - $b \\leftarrow b - \\eta \\frac{\\partial C}{\\partial b}$\n",
    "6. **Repeat:** Iterate steps 2-5 for a fixed number of epochs or until convergence."
   ]
  },
  {
   "cell_type": "code",
   "execution_count": 16,
   "id": "6e627fdf",
   "metadata": {},
   "outputs": [
    {
     "name": "stdout",
     "output_type": "stream",
     "text": [
      "Epoch 1: Loss = 252.0780\n",
      "Epoch 10: Loss = 45.8938\n",
      "Epoch 20: Loss = 7.5255\n",
      "Epoch 30: Loss = 1.7175\n",
      "Epoch 40: Loss = 0.7380\n",
      "Epoch 50: Loss = 0.4949\n",
      "Epoch 60: Loss = 0.3805\n",
      "Epoch 70: Loss = 0.3010\n",
      "Epoch 80: Loss = 0.2394\n",
      "Epoch 90: Loss = 0.1907\n",
      "Epoch 100: Loss = 0.1518\n",
      "Final weights: [0.55084591 0.6847681  2.23962159]\n",
      "Final bias: 0.7689006443276262\n"
     ]
    }
   ],
   "source": [
    "import numpy as np\n",
    "\n",
    "# Example data: 3 training instances, 3 features\n",
    "X = np.array([\n",
    "    [1.0, 2.0, 3.0],\n",
    "    [4.0, 5.0, 6.0],\n",
    "    [7.0, 8.0, 9.0]\n",
    "])\n",
    "y = np.array([10.0, 20.0, 30.0])\n",
    "\n",
    "# Hyperparameters\n",
    "learning_rate = 0.01\n",
    "num_epochs = 100\n",
    "\n",
    "# Initialize weights and bias\n",
    "np.random.seed(42)\n",
    "w = np.random.randn(X.shape[1])\n",
    "b = 0.0\n",
    "\n",
    "# ReLU and its gradient\n",
    "def relu(z):\n",
    "    return np.maximum(0, z)\n",
    "\n",
    "def relu_grad(z):\n",
    "    return (z > 0).astype(float)\n",
    "\n",
    "N = X.shape[0]\n",
    "\n",
    "for epoch in range(num_epochs):\n",
    "    # Forward pass\n",
    "    z = X @ w + b  # shape (N,)\n",
    "    a = relu(z)    # shape (N,)\n",
    "    loss = np.mean((y - a) ** 2)\n",
    "\n",
    "    # Gradients\n",
    "    errors = z - y\n",
    "    active = z > 0\n",
    "    grad_w = np.zeros_like(w)\n",
    "    grad_b = 0.0\n",
    "    for i in range(N):\n",
    "        if active[i]:\n",
    "            grad_w += 2 * errors[i] * X[i]\n",
    "            grad_b += 2 * errors[i]\n",
    "    grad_w /= N\n",
    "    grad_b /= N\n",
    "\n",
    "    # Parameter update\n",
    "    w -= learning_rate * grad_w\n",
    "    b -= learning_rate * grad_b\n",
    "\n",
    "    if (epoch + 1) % 10 == 0 or epoch == 0:\n",
    "        print(f\"Epoch {epoch+1}: Loss = {loss:.4f}\")\n",
    "\n",
    "print(\"Final weights:\", w)\n",
    "print(\"Final bias:\", b)"
   ]
  },
  {
   "cell_type": "markdown",
   "id": "092b8de1",
   "metadata": {},
   "source": [
    "### Key Takeaway\n",
    "\n",
    "This is the complete end-to-end backpropagation and gradient descent algorithm for a single neuron (regression with ReLU activation). The same principles extend to deeper networks, where gradients are propagated backward layer by layer using the chain rule."
   ]
  },
  {
   "cell_type": "markdown",
   "id": "74e43301",
   "metadata": {},
   "source": [
    "## Bridge: From Shallow to Deep Networks – Why New Techniques Are Needed\n",
    "\n",
    "So far in this notebook, we've explored the fundamentals of matrix calculus, gradients, and backpropagation for shallow neural networks. We've seen how to compute gradients for a single neuron and how to train it using gradient descent. But as we move to deeper networks (many layers, many neurons per layer), new challenges arise:\n",
    "\n",
    "- Gradients can vanish or explode as they propagate through many layers, making training unstable or ineffective.\n",
    "- The choice of activation function and weight initialization becomes critical for stable learning.\n",
    "- Techniques like Batch Normalization are needed to keep the signal and gradients flowing well through deep architectures.\n",
    "\n",
    "The next sections will address these challenges, starting with the vanishing/exploding gradient problem and how Batch Normalization helps."
   ]
  },
  {
   "cell_type": "markdown",
   "id": "4f026395",
   "metadata": {},
   "source": [
    "## The Vanishing/Exploding Gradients Problems\n",
    "\n",
    "As neural networks become deeper, a critical challenge emerges: gradients can either vanish (become extremely small) or explode (become extremely large) as they are propagated backward through many layers during training. This makes it very difficult for the lower layers to learn effectively.\n",
    "\n",
    "- **Vanishing Gradients:** If the weights and activation derivatives are small, gradients shrink exponentially as they move backward, causing early layers to learn very slowly or not at all.\n",
    "- **Exploding Gradients:** If weights or derivatives are large, gradients can grow exponentially, making training unstable and causing divergence.\n",
    "\n",
    "**Why does this happen?**\n",
    "- Each layer's gradient is a product of many terms (weights and activation derivatives). If these are consistently <1, gradients vanish; if >1, they explode.\n",
    "- This is especially problematic with saturating activation functions (like sigmoid/tanh) and poor weight initialization.\n",
    "\n",
    "**Key insight:** For stable training, the variance of activations and gradients should remain roughly constant across layers. Proper initialization and activation function choice are crucial."
   ]
  },
  {
   "cell_type": "markdown",
   "id": "bda7c04b",
   "metadata": {},
   "source": [
    "## Interactive Visualization of Vanishing/Exploding Gradients and Activation Functions\n",
    "\n",
    "This interactive dashboard helps you build intuition for two of the most important mathematical phenomena in deep learning: the vanishing/exploding gradient problem and the behavior of different activation functions, including modern choices like ELU and SELU.\n",
    "\n",
    "## What the Dashboard Shows\n",
    "\n",
    "**1. Gradient Magnitude Across Layers (Top Left Plot):**\n",
    "- Shows how the magnitude of a gradient changes as it is propagated backward through multiple layers of a deep neural network.\n",
    "- The x-axis is the layer number, and the y-axis (log scale) is the gradient magnitude, computed as $|w|^L$ where $|w|$ is the absolute value of the weight and $L$ is the number of layers.\n",
    "- **Vanishing gradients** occur when $|w| < 1$, causing the gradient to shrink exponentially with depth. **Exploding gradients** occur when $|w| > 1$, causing the gradient to grow exponentially.\n",
    "- Use the **Weight (|w|)** and **Layers** sliders to see how these parameters affect gradient flow.\n",
    "\n",
    "**2. Activation Function Plot (Top Right):**\n",
    "- Shows the shape of the selected activation function (ReLU, Leaky ReLU, ELU, SELU, Sigmoid, or Tanh).\n",
    "- ELU (Exponential Linear Unit) and SELU (Scaled ELU) are modern activations that help maintain nonzero gradients for negative inputs and promote self-normalization.\n",
    "- The x-axis is the input $z$, and the y-axis is the output of the activation function.\n",
    "- Nonsaturating activations (like ReLU, Leaky ReLU, ELU, SELU) help maintain healthy gradients, while saturating activations (like Sigmoid and Tanh) can cause gradients to vanish for large $|z|$.\n",
    "- Use the **Activation Function** dropdown and **Leaky α** slider (for Leaky ReLU/ELU) to explore different behaviors.\n",
    "\n",
    "**3. Activation Derivative Plot (Bottom Right):**\n",
    "- Shows the derivative of the selected activation function, which directly affects how gradients are backpropagated.\n",
    "- For ReLU, the derivative is 1 for $z > 0$ and 0 for $z < 0$. For Leaky ReLU, the derivative is always nonzero, helping prevent \"dead\" neurons.\n",
    "- For ELU and SELU, the derivative is smooth and nonzero for $z < 0$, supporting stable learning and self-normalization.\n",
    "- For Sigmoid and Tanh, the derivative approaches zero for large $|z|$, illustrating why these activations can cause vanishing gradients in deep networks.\n",
    "\n",
    "## How to Use the Dashboard\n",
    "- Adjust the **Weight (|w|)** slider to see how the magnitude of weights affects gradient flow through layers.\n",
    "- Change the **Layers** slider to simulate deeper or shallower networks.\n",
    "- Modify the **Leaky α** slider to see how the slope for negative values in Leaky ReLU and ELU impacts the activation and its derivative.\n",
    "- Switch between activation functions (including ELU and SELU) to compare their shapes and derivatives.\n",
    "\n",
    "## Why This Matters\n",
    "- **Vanishing/exploding gradients** are a core challenge in training deep neural networks. If gradients vanish, early layers learn very slowly; if they explode, training becomes unstable.\n",
    "- **Activation function choice** is critical for stable training. Modern deep learning relies on nonsaturating activations (ReLU, Leaky ReLU, ELU, SELU) and careful initialization to keep gradients healthy.\n",
    "- ELU and SELU are especially useful in deep architectures for their self-normalizing properties and ability to maintain nonzero gradients for all input values.\n",
    "\n",
    "This dashboard provides a hands-on way to experiment with these concepts and see their effects in real time, deepening your understanding of the mathematical foundations of deep learning."
   ]
  },
  {
   "cell_type": "code",
   "execution_count": null,
   "id": "5c30bd0c",
   "metadata": {},
   "outputs": [
    {
     "data": {
      "application/vnd.jupyter.widget-view+json": {
       "model_id": "6ba0eb6d37c640a3933ab76e23e13414",
       "version_major": 2,
       "version_minor": 0
      },
      "text/plain": [
       "interactive(children=(FloatSlider(value=0.8, description='Weight (|w|):', layout=Layout(width='500px'), max=2.…"
      ]
     },
     "metadata": {},
     "output_type": "display_data"
    },
    {
     "data": {
      "text/plain": [
       "<function __main__.update_dashboard(weight, n_layers, alpha, activation)>"
      ]
     },
     "execution_count": 17,
     "metadata": {},
     "output_type": "execute_result"
    }
   ],
   "source": [
    "# Interactive dashboard for Vanishing/Exploding Gradients and Activation Functions\n",
    "import numpy as np\n",
    "import plotly.graph_objects as go\n",
    "from ipywidgets import interact, interactive, fixed, widgets\n",
    "from IPython.display import display, HTML\n",
    "\n",
    "# Helper functions\n",
    "def sigmoid(x):\n",
    "    return 1 / (1 + np.exp(-x))\n",
    "def sigmoid_grad(x):\n",
    "    s = sigmoid(x)\n",
    "    return s * (1 - s)\n",
    "def tanh_grad(x):\n",
    "    return 1 - np.tanh(x) ** 2\n",
    "def relu(x):\n",
    "    return np.maximum(0, x)\n",
    "def relu_grad(x):\n",
    "    return (x > 0).astype(float)\n",
    "def leaky_relu(x, alpha=0.2):\n",
    "    return np.where(x > 0, x, alpha * x)\n",
    "def leaky_relu_grad(x, alpha=0.2):\n",
    "    return np.where(x > 0, 1, alpha)\n",
    "def elu(x, alpha=1.0):\n",
    "    return np.where(x >= 0, x, alpha * (np.exp(x) - 1))\n",
    "def elu_grad(x, alpha=1.0):\n",
    "    return np.where(x >= 0, 1, alpha * np.exp(x))\n",
    "def selu(x):\n",
    "    # Standard SELU parameters\n",
    "    alpha = 1.6732632423543772\n",
    "    scale = 1.0507009873554805\n",
    "    return scale * elu(x, alpha)\n",
    "def selu_grad(x):\n",
    "    alpha = 1.6732632423543772\n",
    "    scale = 1.0507009873554805\n",
    "    return scale * elu_grad(x, alpha)\n",
    "\n",
    "# Create the initial data\n",
    "x = np.linspace(-5, 5, 400)\n",
    "layers = np.arange(1, 21)\n",
    "\n",
    "# Function to create and display the dashboard\n",
    "def create_dashboard(weight=0.8, n_layers=5, alpha=0.2, activation='ReLU'):\n",
    "    # Set up figure with 3 subplots\n",
    "    fig = go.Figure()\n",
    "    \n",
    "    # 1. Gradient magnitude plot\n",
    "    grad_mag = weight ** layers\n",
    "    grad_fig = go.Figure()\n",
    "    grad_fig.add_trace(go.Scatter(\n",
    "        x=layers, \n",
    "        y=grad_mag, \n",
    "        mode='lines+markers', \n",
    "        name='Gradient Magnitude',\n",
    "        line=dict(color='royalblue', width=3),\n",
    "        marker=dict(size=8)\n",
    "    ))\n",
    "    grad_fig.update_layout(\n",
    "        title='Gradient Magnitude Across Layers',\n",
    "        xaxis=dict(title='Layer'),\n",
    "        yaxis=dict(\n",
    "            title='Gradient Magnitude', \n",
    "            type='log',\n",
    "            range=[-5, np.log10(max(10, weight ** 20))],\n",
    "        ),\n",
    "        height=400,\n",
    "        margin=dict(l=50, r=50, b=50, t=80),\n",
    "    )\n",
    "    \n",
    "    # 2. Activation function plot\n",
    "    if activation == 'ReLU':\n",
    "        act_y = relu(x)\n",
    "    elif activation == 'Leaky ReLU':\n",
    "        act_y = leaky_relu(x, alpha)\n",
    "    elif activation == 'Sigmoid':\n",
    "        act_y = sigmoid(x)\n",
    "    elif activation == 'Tanh':\n",
    "        act_y = np.tanh(x)\n",
    "    elif activation == 'ELU':\n",
    "        act_y = elu(x, alpha)\n",
    "    elif activation == 'SELU':\n",
    "        act_y = selu(x)\n",
    "    \n",
    "    act_fig = go.Figure()\n",
    "    act_fig.add_trace(go.Scatter(\n",
    "        x=x, \n",
    "        y=act_y, \n",
    "        mode='lines', \n",
    "        name='Activation',\n",
    "        line=dict(color='forestgreen', width=3)\n",
    "    ))\n",
    "    act_fig.update_layout(\n",
    "        title=f'{activation} Activation Function',\n",
    "        xaxis=dict(title='Input z'),\n",
    "        yaxis=dict(\n",
    "            title='Activation', \n",
    "            range=[-1.5, 5]\n",
    "        ),\n",
    "        height=400,\n",
    "        margin=dict(l=50, r=50, b=50, t=80),\n",
    "    )\n",
    "    \n",
    "    # 3. Activation derivative plot\n",
    "    if activation == 'ReLU':\n",
    "        grad_y = relu_grad(x)\n",
    "    elif activation == 'Leaky ReLU':\n",
    "        grad_y = leaky_relu_grad(x, alpha)\n",
    "    elif activation == 'Sigmoid':\n",
    "        grad_y = sigmoid_grad(x)\n",
    "    elif activation == 'Tanh':\n",
    "        grad_y = tanh_grad(x)\n",
    "    elif activation == 'ELU':\n",
    "        grad_y = elu_grad(x, alpha)\n",
    "    elif activation == 'SELU':\n",
    "        grad_y = selu_grad(x)\n",
    "    \n",
    "    deriv_fig = go.Figure()\n",
    "    deriv_fig.add_trace(go.Scatter(\n",
    "        x=x, \n",
    "        y=grad_y, \n",
    "        mode='lines', \n",
    "        name='Derivative',\n",
    "        line=dict(color='crimson', width=3)\n",
    "    ))\n",
    "    deriv_fig.update_layout(\n",
    "        title=f'{activation} Derivative',\n",
    "        xaxis=dict(title='Input z'),\n",
    "        yaxis=dict(\n",
    "            title='Derivative', \n",
    "            range=[-0.1, 1.1]\n",
    "        ),\n",
    "        height=400,\n",
    "        margin=dict(l=50, r=50, b=50, t=80),\n",
    "    )\n",
    "    \n",
    "    return grad_fig, act_fig, deriv_fig\n",
    "\n",
    "# Create interactive widgets\n",
    "weight_slider = widgets.FloatSlider(\n",
    "    value=0.8,\n",
    "    min=0.1,\n",
    "    max=2.0,\n",
    "    step=0.01,\n",
    "    description='Weight (|w|):',\n",
    "    style={'description_width': 'initial'},\n",
    "    layout=widgets.Layout(width='500px')\n",
    ")\n",
    "\n",
    "layers_slider = widgets.IntSlider(\n",
    "    value=5,\n",
    "    min=1,\n",
    "    max=20,\n",
    "    step=1,\n",
    "    description='Layers:',\n",
    "    style={'description_width': 'initial'},\n",
    "    layout=widgets.Layout(width='500px')\n",
    ")\n",
    "\n",
    "alpha_slider = widgets.FloatSlider(\n",
    "    value=0.2,\n",
    "    min=0.01,\n",
    "    max=0.5,\n",
    "    step=0.01,\n",
    "    description='Leaky/ELU α:',\n",
    "    style={'description_width': 'initial'},\n",
    "    layout=widgets.Layout(width='500px')\n",
    ")\n",
    "\n",
    "activation_dropdown = widgets.Dropdown(\n",
    "    options=['ReLU', 'Leaky ReLU', 'ELU', 'SELU', 'Sigmoid', 'Tanh'],\n",
    "    value='ReLU',\n",
    "    description='Activation:',\n",
    "    style={'description_width': 'initial'},\n",
    "    layout=widgets.Layout(width='500px')\n",
    ")\n",
    "\n",
    "# Function to update the dashboard\n",
    "def update_dashboard(weight, n_layers, alpha, activation):\n",
    "    grad_fig, act_fig, deriv_fig = create_dashboard(weight, n_layers, alpha, activation)\n",
    "    display(HTML(\"<div style='display: flex; flex-direction: column; gap: 20px;'>\"))\n",
    "    display(grad_fig)\n",
    "    display(act_fig)\n",
    "    display(deriv_fig)\n",
    "    display(HTML(\"</div>\"))\n",
    "\n",
    "# Set up the interactive plot\n",
    "interact(update_dashboard,\n",
    "         weight=weight_slider,\n",
    "         n_layers=layers_slider,\n",
    "         alpha=alpha_slider,\n",
    "         activation=activation_dropdown)"
   ]
  },
  {
   "cell_type": "code",
   "execution_count": 18,
   "id": "d68c2fb4",
   "metadata": {},
   "outputs": [
    {
     "data": {
      "application/vnd.plotly.v1+json": {
       "config": {
        "plotlyServerURL": "https://plot.ly"
       },
       "data": [
        {
         "line": {
          "color": "blue",
          "width": 2
         },
         "mode": "lines",
         "name": "Input Connection",
         "type": "scatter",
         "x": [
          null
         ],
         "xaxis": "x",
         "y": [
          null
         ],
         "yaxis": "y"
        },
        {
         "line": {
          "color": "red",
          "width": 2
         },
         "mode": "lines",
         "name": "Output Connection",
         "type": "scatter",
         "x": [
          null
         ],
         "xaxis": "x",
         "y": [
          null
         ],
         "yaxis": "y"
        },
        {
         "line": {
          "color": "green",
          "width": 2
         },
         "mode": "lines",
         "name": "Recurrent Connection",
         "type": "scatter",
         "x": [
          null
         ],
         "xaxis": "x",
         "y": [
          null
         ],
         "yaxis": "y"
        }
       ],
       "layout": {
        "annotations": [
         {
          "font": {
           "size": 16
          },
          "showarrow": false,
          "text": "<b>Recurrent Neuron - Rolled Representation</b>",
          "x": 0.2375,
          "xanchor": "center",
          "xref": "paper",
          "y": 1,
          "yanchor": "bottom",
          "yref": "paper"
         },
         {
          "font": {
           "size": 16
          },
          "showarrow": false,
          "text": "<b>Recurrent Neuron - Unrolled Through Time</b>",
          "x": 0.7625,
          "xanchor": "center",
          "xref": "paper",
          "y": 1,
          "yanchor": "bottom",
          "yref": "paper"
         },
         {
          "font": {
           "color": "black",
           "size": 14
          },
          "showarrow": false,
          "text": "y(t)",
          "x": 0.5,
          "xref": "x",
          "y": 0.5,
          "yref": "y"
         },
         {
          "arrowcolor": "green",
          "arrowhead": 2,
          "arrowsize": 1.5,
          "arrowwidth": 2,
          "ax": 0.35,
          "ay": 0.5,
          "showarrow": true,
          "text": "",
          "x": 0.3,
          "xref": "x",
          "y": 0.5,
          "yref": "y"
         },
         {
          "font": {
           "color": "green",
           "size": 12
          },
          "showarrow": false,
          "text": "y(t-1)",
          "x": 0.5,
          "xref": "x",
          "y": 0.85,
          "yref": "y"
         },
         {
          "arrowcolor": "blue",
          "arrowhead": 2,
          "arrowsize": 1.5,
          "arrowwidth": 2,
          "ax": 0.1,
          "ay": 0.25,
          "showarrow": true,
          "text": "",
          "x": 0.35,
          "xref": "x",
          "y": 0.35,
          "yref": "y"
         },
         {
          "font": {
           "color": "blue",
           "size": 12
          },
          "showarrow": false,
          "text": "x(t)",
          "x": 0.15,
          "xref": "x",
          "y": 0.2,
          "yref": "y"
         },
         {
          "arrowcolor": "red",
          "arrowhead": 2,
          "arrowsize": 1.5,
          "arrowwidth": 2,
          "ax": 0.65,
          "ay": 0.35,
          "showarrow": true,
          "text": "",
          "x": 0.9,
          "xref": "x",
          "y": 0.25,
          "yref": "y"
         },
         {
          "font": {
           "color": "red",
           "size": 12
          },
          "showarrow": false,
          "text": "output",
          "x": 0.9,
          "xref": "x",
          "y": 0.2,
          "yref": "y"
         },
         {
          "font": {
           "size": 11
          },
          "showarrow": false,
          "text": "y(t-3)",
          "x": 0.2,
          "xref": "x2",
          "y": 0.5,
          "yref": "y2"
         },
         {
          "arrowcolor": "blue",
          "arrowhead": 2,
          "arrowsize": 1.5,
          "arrowwidth": 2,
          "ax": 0.2,
          "ay": 0.3,
          "showarrow": true,
          "text": "",
          "x": 0.2,
          "xref": "x2",
          "y": 0.4,
          "yref": "y2"
         },
         {
          "font": {
           "color": "blue",
           "size": 10
          },
          "showarrow": false,
          "text": "x(t-3)",
          "x": 0.2,
          "xref": "x2",
          "y": 0.25,
          "yref": "y2"
         },
         {
          "arrowcolor": "red",
          "arrowhead": 2,
          "arrowsize": 1.5,
          "arrowwidth": 2,
          "ax": 0.2,
          "ay": 0.6,
          "showarrow": true,
          "text": "",
          "x": 0.2,
          "xref": "x2",
          "y": 0.7,
          "yref": "y2"
         },
         {
          "font": {
           "color": "red",
           "size": 10
          },
          "showarrow": false,
          "text": "y(t-3)",
          "x": 0.2,
          "xref": "x2",
          "y": 0.75,
          "yref": "y2"
         },
         {
          "font": {
           "size": 11
          },
          "showarrow": false,
          "text": "y(t-2)",
          "x": 0.4,
          "xref": "x2",
          "y": 0.5,
          "yref": "y2"
         },
         {
          "arrowcolor": "blue",
          "arrowhead": 2,
          "arrowsize": 1.5,
          "arrowwidth": 2,
          "ax": 0.4,
          "ay": 0.3,
          "showarrow": true,
          "text": "",
          "x": 0.4,
          "xref": "x2",
          "y": 0.4,
          "yref": "y2"
         },
         {
          "font": {
           "color": "blue",
           "size": 10
          },
          "showarrow": false,
          "text": "x(t-2)",
          "x": 0.4,
          "xref": "x2",
          "y": 0.25,
          "yref": "y2"
         },
         {
          "arrowcolor": "red",
          "arrowhead": 2,
          "arrowsize": 1.5,
          "arrowwidth": 2,
          "ax": 0.4,
          "ay": 0.6,
          "showarrow": true,
          "text": "",
          "x": 0.4,
          "xref": "x2",
          "y": 0.7,
          "yref": "y2"
         },
         {
          "font": {
           "color": "red",
           "size": 10
          },
          "showarrow": false,
          "text": "y(t-2)",
          "x": 0.4,
          "xref": "x2",
          "y": 0.75,
          "yref": "y2"
         },
         {
          "arrowcolor": "green",
          "arrowhead": 2,
          "arrowsize": 1.5,
          "arrowwidth": 2,
          "ax": 0.2,
          "ay": 0.5,
          "showarrow": true,
          "text": "",
          "x": 0.4,
          "xref": "x2",
          "y": 0.5,
          "yref": "y2"
         },
         {
          "font": {
           "size": 11
          },
          "showarrow": false,
          "text": "y(t-1)",
          "x": 0.6,
          "xref": "x2",
          "y": 0.5,
          "yref": "y2"
         },
         {
          "arrowcolor": "blue",
          "arrowhead": 2,
          "arrowsize": 1.5,
          "arrowwidth": 2,
          "ax": 0.6,
          "ay": 0.3,
          "showarrow": true,
          "text": "",
          "x": 0.6,
          "xref": "x2",
          "y": 0.4,
          "yref": "y2"
         },
         {
          "font": {
           "color": "blue",
           "size": 10
          },
          "showarrow": false,
          "text": "x(t-1)",
          "x": 0.6,
          "xref": "x2",
          "y": 0.25,
          "yref": "y2"
         },
         {
          "arrowcolor": "red",
          "arrowhead": 2,
          "arrowsize": 1.5,
          "arrowwidth": 2,
          "ax": 0.6,
          "ay": 0.6,
          "showarrow": true,
          "text": "",
          "x": 0.6,
          "xref": "x2",
          "y": 0.7,
          "yref": "y2"
         },
         {
          "font": {
           "color": "red",
           "size": 10
          },
          "showarrow": false,
          "text": "y(t-1)",
          "x": 0.6,
          "xref": "x2",
          "y": 0.75,
          "yref": "y2"
         },
         {
          "arrowcolor": "green",
          "arrowhead": 2,
          "arrowsize": 1.5,
          "arrowwidth": 2,
          "ax": 0.4,
          "ay": 0.5,
          "showarrow": true,
          "text": "",
          "x": 0.6,
          "xref": "x2",
          "y": 0.5,
          "yref": "y2"
         },
         {
          "font": {
           "size": 11
          },
          "showarrow": false,
          "text": "y(t)",
          "x": 0.8,
          "xref": "x2",
          "y": 0.5,
          "yref": "y2"
         },
         {
          "arrowcolor": "blue",
          "arrowhead": 2,
          "arrowsize": 1.5,
          "arrowwidth": 2,
          "ax": 0.8,
          "ay": 0.3,
          "showarrow": true,
          "text": "",
          "x": 0.8,
          "xref": "x2",
          "y": 0.4,
          "yref": "y2"
         },
         {
          "font": {
           "color": "blue",
           "size": 10
          },
          "showarrow": false,
          "text": "x(t)",
          "x": 0.8,
          "xref": "x2",
          "y": 0.25,
          "yref": "y2"
         },
         {
          "arrowcolor": "red",
          "arrowhead": 2,
          "arrowsize": 1.5,
          "arrowwidth": 2,
          "ax": 0.8,
          "ay": 0.6,
          "showarrow": true,
          "text": "",
          "x": 0.8,
          "xref": "x2",
          "y": 0.7,
          "yref": "y2"
         },
         {
          "font": {
           "color": "red",
           "size": 10
          },
          "showarrow": false,
          "text": "y(t)",
          "x": 0.8,
          "xref": "x2",
          "y": 0.75,
          "yref": "y2"
         },
         {
          "arrowcolor": "green",
          "arrowhead": 2,
          "arrowsize": 1.5,
          "arrowwidth": 2,
          "ax": 0.6,
          "ay": 0.5,
          "showarrow": true,
          "text": "",
          "x": 0.8,
          "xref": "x2",
          "y": 0.5,
          "yref": "y2"
         },
         {
          "font": {
           "color": "black",
           "size": 12
          },
          "showarrow": false,
          "text": "<b>Unrolling through time</b>",
          "x": 0.5,
          "xref": "x2",
          "y": 0.1,
          "yref": "y2"
         }
        ],
        "height": 500,
        "hoverlabel": {
         "bgcolor": "white",
         "font": {
          "size": 12
         }
        },
        "legend": {
         "orientation": "h",
         "x": 0.5,
         "xanchor": "center",
         "y": -0.1,
         "yanchor": "bottom"
        },
        "margin": {
         "b": 20,
         "l": 20,
         "r": 20,
         "t": 60
        },
        "shapes": [
         {
          "fillcolor": "rgba(173, 216, 230, 0.7)",
          "line": {
           "color": "black",
           "width": 2
          },
          "type": "circle",
          "x0": 0.3,
          "x1": 0.7,
          "xref": "x",
          "y0": 0.3,
          "y1": 0.7,
          "yref": "y"
         },
         {
          "line": {
           "color": "green",
           "width": 3
          },
          "path": "M 0.7 0.5 C 0.8 0.5 0.8 0.9 0.5 0.9 C 0.2 0.9 0.2 0.5 0.3 0.5",
          "type": "path",
          "xref": "x",
          "yref": "y"
         },
         {
          "fillcolor": "rgba(173, 216, 230, 0.7)",
          "line": {
           "color": "black",
           "width": 2
          },
          "type": "circle",
          "x0": 0.15000000000000002,
          "x1": 0.25,
          "xref": "x2",
          "y0": 0.45,
          "y1": 0.55,
          "yref": "y2"
         },
         {
          "fillcolor": "rgba(173, 216, 230, 0.7)",
          "line": {
           "color": "black",
           "width": 2
          },
          "type": "circle",
          "x0": 0.35000000000000003,
          "x1": 0.45,
          "xref": "x2",
          "y0": 0.45,
          "y1": 0.55,
          "yref": "y2"
         },
         {
          "fillcolor": "rgba(173, 216, 230, 0.7)",
          "line": {
           "color": "black",
           "width": 2
          },
          "type": "circle",
          "x0": 0.5499999999999999,
          "x1": 0.65,
          "xref": "x2",
          "y0": 0.45,
          "y1": 0.55,
          "yref": "y2"
         },
         {
          "fillcolor": "rgba(173, 216, 230, 0.7)",
          "line": {
           "color": "black",
           "width": 2
          },
          "type": "circle",
          "x0": 0.75,
          "x1": 0.8500000000000001,
          "xref": "x2",
          "y0": 0.45,
          "y1": 0.55,
          "yref": "y2"
         }
        ],
        "template": {
         "data": {
          "bar": [
           {
            "error_x": {
             "color": "#2a3f5f"
            },
            "error_y": {
             "color": "#2a3f5f"
            },
            "marker": {
             "line": {
              "color": "#E5ECF6",
              "width": 0.5
             },
             "pattern": {
              "fillmode": "overlay",
              "size": 10,
              "solidity": 0.2
             }
            },
            "type": "bar"
           }
          ],
          "barpolar": [
           {
            "marker": {
             "line": {
              "color": "#E5ECF6",
              "width": 0.5
             },
             "pattern": {
              "fillmode": "overlay",
              "size": 10,
              "solidity": 0.2
             }
            },
            "type": "barpolar"
           }
          ],
          "carpet": [
           {
            "aaxis": {
             "endlinecolor": "#2a3f5f",
             "gridcolor": "white",
             "linecolor": "white",
             "minorgridcolor": "white",
             "startlinecolor": "#2a3f5f"
            },
            "baxis": {
             "endlinecolor": "#2a3f5f",
             "gridcolor": "white",
             "linecolor": "white",
             "minorgridcolor": "white",
             "startlinecolor": "#2a3f5f"
            },
            "type": "carpet"
           }
          ],
          "choropleth": [
           {
            "colorbar": {
             "outlinewidth": 0,
             "ticks": ""
            },
            "type": "choropleth"
           }
          ],
          "contour": [
           {
            "colorbar": {
             "outlinewidth": 0,
             "ticks": ""
            },
            "colorscale": [
             [
              0,
              "#0d0887"
             ],
             [
              0.1111111111111111,
              "#46039f"
             ],
             [
              0.2222222222222222,
              "#7201a8"
             ],
             [
              0.3333333333333333,
              "#9c179e"
             ],
             [
              0.4444444444444444,
              "#bd3786"
             ],
             [
              0.5555555555555556,
              "#d8576b"
             ],
             [
              0.6666666666666666,
              "#ed7953"
             ],
             [
              0.7777777777777778,
              "#fb9f3a"
             ],
             [
              0.8888888888888888,
              "#fdca26"
             ],
             [
              1,
              "#f0f921"
             ]
            ],
            "type": "contour"
           }
          ],
          "contourcarpet": [
           {
            "colorbar": {
             "outlinewidth": 0,
             "ticks": ""
            },
            "type": "contourcarpet"
           }
          ],
          "heatmap": [
           {
            "colorbar": {
             "outlinewidth": 0,
             "ticks": ""
            },
            "colorscale": [
             [
              0,
              "#0d0887"
             ],
             [
              0.1111111111111111,
              "#46039f"
             ],
             [
              0.2222222222222222,
              "#7201a8"
             ],
             [
              0.3333333333333333,
              "#9c179e"
             ],
             [
              0.4444444444444444,
              "#bd3786"
             ],
             [
              0.5555555555555556,
              "#d8576b"
             ],
             [
              0.6666666666666666,
              "#ed7953"
             ],
             [
              0.7777777777777778,
              "#fb9f3a"
             ],
             [
              0.8888888888888888,
              "#fdca26"
             ],
             [
              1,
              "#f0f921"
             ]
            ],
            "type": "heatmap"
           }
          ],
          "histogram": [
           {
            "marker": {
             "pattern": {
              "fillmode": "overlay",
              "size": 10,
              "solidity": 0.2
             }
            },
            "type": "histogram"
           }
          ],
          "histogram2d": [
           {
            "colorbar": {
             "outlinewidth": 0,
             "ticks": ""
            },
            "colorscale": [
             [
              0,
              "#0d0887"
             ],
             [
              0.1111111111111111,
              "#46039f"
             ],
             [
              0.2222222222222222,
              "#7201a8"
             ],
             [
              0.3333333333333333,
              "#9c179e"
             ],
             [
              0.4444444444444444,
              "#bd3786"
             ],
             [
              0.5555555555555556,
              "#d8576b"
             ],
             [
              0.6666666666666666,
              "#ed7953"
             ],
             [
              0.7777777777777778,
              "#fb9f3a"
             ],
             [
              0.8888888888888888,
              "#fdca26"
             ],
             [
              1,
              "#f0f921"
             ]
            ],
            "type": "histogram2d"
           }
          ],
          "histogram2dcontour": [
           {
            "colorbar": {
             "outlinewidth": 0,
             "ticks": ""
            },
            "colorscale": [
             [
              0,
              "#0d0887"
             ],
             [
              0.1111111111111111,
              "#46039f"
             ],
             [
              0.2222222222222222,
              "#7201a8"
             ],
             [
              0.3333333333333333,
              "#9c179e"
             ],
             [
              0.4444444444444444,
              "#bd3786"
             ],
             [
              0.5555555555555556,
              "#d8576b"
             ],
             [
              0.6666666666666666,
              "#ed7953"
             ],
             [
              0.7777777777777778,
              "#fb9f3a"
             ],
             [
              0.8888888888888888,
              "#fdca26"
             ],
             [
              1,
              "#f0f921"
             ]
            ],
            "type": "histogram2dcontour"
           }
          ],
          "mesh3d": [
           {
            "colorbar": {
             "outlinewidth": 0,
             "ticks": ""
            },
            "type": "mesh3d"
           }
          ],
          "parcoords": [
           {
            "line": {
             "colorbar": {
              "outlinewidth": 0,
              "ticks": ""
             }
            },
            "type": "parcoords"
           }
          ],
          "pie": [
           {
            "automargin": true,
            "type": "pie"
           }
          ],
          "scatter": [
           {
            "fillpattern": {
             "fillmode": "overlay",
             "size": 10,
             "solidity": 0.2
            },
            "type": "scatter"
           }
          ],
          "scatter3d": [
           {
            "line": {
             "colorbar": {
              "outlinewidth": 0,
              "ticks": ""
             }
            },
            "marker": {
             "colorbar": {
              "outlinewidth": 0,
              "ticks": ""
             }
            },
            "type": "scatter3d"
           }
          ],
          "scattercarpet": [
           {
            "marker": {
             "colorbar": {
              "outlinewidth": 0,
              "ticks": ""
             }
            },
            "type": "scattercarpet"
           }
          ],
          "scattergeo": [
           {
            "marker": {
             "colorbar": {
              "outlinewidth": 0,
              "ticks": ""
             }
            },
            "type": "scattergeo"
           }
          ],
          "scattergl": [
           {
            "marker": {
             "colorbar": {
              "outlinewidth": 0,
              "ticks": ""
             }
            },
            "type": "scattergl"
           }
          ],
          "scattermap": [
           {
            "marker": {
             "colorbar": {
              "outlinewidth": 0,
              "ticks": ""
             }
            },
            "type": "scattermap"
           }
          ],
          "scattermapbox": [
           {
            "marker": {
             "colorbar": {
              "outlinewidth": 0,
              "ticks": ""
             }
            },
            "type": "scattermapbox"
           }
          ],
          "scatterpolar": [
           {
            "marker": {
             "colorbar": {
              "outlinewidth": 0,
              "ticks": ""
             }
            },
            "type": "scatterpolar"
           }
          ],
          "scatterpolargl": [
           {
            "marker": {
             "colorbar": {
              "outlinewidth": 0,
              "ticks": ""
             }
            },
            "type": "scatterpolargl"
           }
          ],
          "scatterternary": [
           {
            "marker": {
             "colorbar": {
              "outlinewidth": 0,
              "ticks": ""
             }
            },
            "type": "scatterternary"
           }
          ],
          "surface": [
           {
            "colorbar": {
             "outlinewidth": 0,
             "ticks": ""
            },
            "colorscale": [
             [
              0,
              "#0d0887"
             ],
             [
              0.1111111111111111,
              "#46039f"
             ],
             [
              0.2222222222222222,
              "#7201a8"
             ],
             [
              0.3333333333333333,
              "#9c179e"
             ],
             [
              0.4444444444444444,
              "#bd3786"
             ],
             [
              0.5555555555555556,
              "#d8576b"
             ],
             [
              0.6666666666666666,
              "#ed7953"
             ],
             [
              0.7777777777777778,
              "#fb9f3a"
             ],
             [
              0.8888888888888888,
              "#fdca26"
             ],
             [
              1,
              "#f0f921"
             ]
            ],
            "type": "surface"
           }
          ],
          "table": [
           {
            "cells": {
             "fill": {
              "color": "#EBF0F8"
             },
             "line": {
              "color": "white"
             }
            },
            "header": {
             "fill": {
              "color": "#C8D4E3"
             },
             "line": {
              "color": "white"
             }
            },
            "type": "table"
           }
          ]
         },
         "layout": {
          "annotationdefaults": {
           "arrowcolor": "#2a3f5f",
           "arrowhead": 0,
           "arrowwidth": 1
          },
          "autotypenumbers": "strict",
          "coloraxis": {
           "colorbar": {
            "outlinewidth": 0,
            "ticks": ""
           }
          },
          "colorscale": {
           "diverging": [
            [
             0,
             "#8e0152"
            ],
            [
             0.1,
             "#c51b7d"
            ],
            [
             0.2,
             "#de77ae"
            ],
            [
             0.3,
             "#f1b6da"
            ],
            [
             0.4,
             "#fde0ef"
            ],
            [
             0.5,
             "#f7f7f7"
            ],
            [
             0.6,
             "#e6f5d0"
            ],
            [
             0.7,
             "#b8e186"
            ],
            [
             0.8,
             "#7fbc41"
            ],
            [
             0.9,
             "#4d9221"
            ],
            [
             1,
             "#276419"
            ]
           ],
           "sequential": [
            [
             0,
             "#0d0887"
            ],
            [
             0.1111111111111111,
             "#46039f"
            ],
            [
             0.2222222222222222,
             "#7201a8"
            ],
            [
             0.3333333333333333,
             "#9c179e"
            ],
            [
             0.4444444444444444,
             "#bd3786"
            ],
            [
             0.5555555555555556,
             "#d8576b"
            ],
            [
             0.6666666666666666,
             "#ed7953"
            ],
            [
             0.7777777777777778,
             "#fb9f3a"
            ],
            [
             0.8888888888888888,
             "#fdca26"
            ],
            [
             1,
             "#f0f921"
            ]
           ],
           "sequentialminus": [
            [
             0,
             "#0d0887"
            ],
            [
             0.1111111111111111,
             "#46039f"
            ],
            [
             0.2222222222222222,
             "#7201a8"
            ],
            [
             0.3333333333333333,
             "#9c179e"
            ],
            [
             0.4444444444444444,
             "#bd3786"
            ],
            [
             0.5555555555555556,
             "#d8576b"
            ],
            [
             0.6666666666666666,
             "#ed7953"
            ],
            [
             0.7777777777777778,
             "#fb9f3a"
            ],
            [
             0.8888888888888888,
             "#fdca26"
            ],
            [
             1,
             "#f0f921"
            ]
           ]
          },
          "colorway": [
           "#636efa",
           "#EF553B",
           "#00cc96",
           "#ab63fa",
           "#FFA15A",
           "#19d3f3",
           "#FF6692",
           "#B6E880",
           "#FF97FF",
           "#FECB52"
          ],
          "font": {
           "color": "#2a3f5f"
          },
          "geo": {
           "bgcolor": "white",
           "lakecolor": "white",
           "landcolor": "#E5ECF6",
           "showlakes": true,
           "showland": true,
           "subunitcolor": "white"
          },
          "hoverlabel": {
           "align": "left"
          },
          "hovermode": "closest",
          "mapbox": {
           "style": "light"
          },
          "paper_bgcolor": "white",
          "plot_bgcolor": "#E5ECF6",
          "polar": {
           "angularaxis": {
            "gridcolor": "white",
            "linecolor": "white",
            "ticks": ""
           },
           "bgcolor": "#E5ECF6",
           "radialaxis": {
            "gridcolor": "white",
            "linecolor": "white",
            "ticks": ""
           }
          },
          "scene": {
           "xaxis": {
            "backgroundcolor": "#E5ECF6",
            "gridcolor": "white",
            "gridwidth": 2,
            "linecolor": "white",
            "showbackground": true,
            "ticks": "",
            "zerolinecolor": "white"
           },
           "yaxis": {
            "backgroundcolor": "#E5ECF6",
            "gridcolor": "white",
            "gridwidth": 2,
            "linecolor": "white",
            "showbackground": true,
            "ticks": "",
            "zerolinecolor": "white"
           },
           "zaxis": {
            "backgroundcolor": "#E5ECF6",
            "gridcolor": "white",
            "gridwidth": 2,
            "linecolor": "white",
            "showbackground": true,
            "ticks": "",
            "zerolinecolor": "white"
           }
          },
          "shapedefaults": {
           "line": {
            "color": "#2a3f5f"
           }
          },
          "ternary": {
           "aaxis": {
            "gridcolor": "white",
            "linecolor": "white",
            "ticks": ""
           },
           "baxis": {
            "gridcolor": "white",
            "linecolor": "white",
            "ticks": ""
           },
           "bgcolor": "#E5ECF6",
           "caxis": {
            "gridcolor": "white",
            "linecolor": "white",
            "ticks": ""
           }
          },
          "title": {
           "x": 0.05
          },
          "xaxis": {
           "automargin": true,
           "gridcolor": "white",
           "linecolor": "white",
           "ticks": "",
           "title": {
            "standoff": 15
           },
           "zerolinecolor": "white",
           "zerolinewidth": 2
          },
          "yaxis": {
           "automargin": true,
           "gridcolor": "white",
           "linecolor": "white",
           "ticks": "",
           "title": {
            "standoff": 15
           },
           "zerolinecolor": "white",
           "zerolinewidth": 2
          }
         }
        },
        "title": {
         "text": "<b>Recurrent Neural Network Structure</b>",
         "x": 0.5
        },
        "width": 900,
        "xaxis": {
         "anchor": "y",
         "domain": [
          0,
          0.475
         ],
         "range": [
          0,
          1
         ],
         "showgrid": false,
         "showticklabels": false,
         "zeroline": false
        },
        "xaxis2": {
         "anchor": "y2",
         "domain": [
          0.525,
          1
         ],
         "range": [
          0,
          1
         ],
         "showgrid": false,
         "showticklabels": false,
         "zeroline": false
        },
        "yaxis": {
         "anchor": "x",
         "domain": [
          0,
          1
         ],
         "range": [
          0,
          1
         ],
         "showgrid": false,
         "showticklabels": false,
         "zeroline": false
        },
        "yaxis2": {
         "anchor": "x2",
         "domain": [
          0,
          1
         ],
         "range": [
          0,
          1
         ],
         "showgrid": false,
         "showticklabels": false,
         "zeroline": false
        }
       }
      }
     },
     "metadata": {},
     "output_type": "display_data"
    }
   ],
   "source": [
    "import plotly.graph_objects as go\n",
    "from plotly.subplots import make_subplots\n",
    "\n",
    "# Create a subplot with 2 side-by-side cells\n",
    "fig = make_subplots(\n",
    "    rows=1, cols=2, \n",
    "    subplot_titles=(\n",
    "        \"<b>Recurrent Neuron - Rolled Representation</b>\", \n",
    "        \"<b>Recurrent Neuron - Unrolled Through Time</b>\"\n",
    "    ),\n",
    "    horizontal_spacing=0.05\n",
    ")\n",
    "\n",
    "# --- Left side - rolled representation ---\n",
    "# Draw the neuron as a circle\n",
    "fig.add_shape(\n",
    "    type=\"circle\",\n",
    "    xref=\"x\", yref=\"y\",\n",
    "    x0=0.3, y0=0.3,\n",
    "    x1=0.7, y1=0.7,\n",
    "    fillcolor=\"rgba(173, 216, 230, 0.7)\",  # lightblue with transparency\n",
    "    line_color=\"black\",\n",
    "    line_width=2,\n",
    "    row=1, col=1\n",
    ")\n",
    "\n",
    "# Add text for the neuron\n",
    "fig.add_annotation(\n",
    "    x=0.5, y=0.5,\n",
    "    text=\"y(t)\",\n",
    "    showarrow=False,\n",
    "    font=dict(size=14, color=\"black\"),\n",
    "    row=1, col=1\n",
    ")\n",
    "\n",
    "# Create a curved self-connection loop using a custom SVG path\n",
    "# First segment - up\n",
    "fig.add_shape(\n",
    "    type=\"path\",\n",
    "    path=\"M 0.7 0.5 C 0.8 0.5 0.8 0.9 0.5 0.9 C 0.2 0.9 0.2 0.5 0.3 0.5\",\n",
    "    line=dict(color=\"green\", width=3),\n",
    "    row=1, col=1\n",
    ")\n",
    "\n",
    "# Add arrow head to the loop\n",
    "fig.add_annotation(\n",
    "    x=0.3, y=0.5,\n",
    "    ax=0.35, ay=0.5,\n",
    "    text=\"\",\n",
    "    showarrow=True,\n",
    "    arrowhead=2,\n",
    "    arrowsize=1.5,\n",
    "    arrowcolor=\"green\",\n",
    "    arrowwidth=2,\n",
    "    row=1, col=1\n",
    ")\n",
    "\n",
    "# Add text for the recurrent connection\n",
    "fig.add_annotation(\n",
    "    x=0.5, y=0.85,\n",
    "    text=\"y(t-1)\",\n",
    "    font=dict(color=\"green\", size=12),\n",
    "    showarrow=False,\n",
    "    row=1, col=1\n",
    ")\n",
    "\n",
    "# Draw the input arrow\n",
    "fig.add_annotation(\n",
    "    x=0.35, y=0.35,\n",
    "    ax=0.1, ay=0.25,\n",
    "    text=\"\",\n",
    "    showarrow=True,\n",
    "    arrowhead=2,\n",
    "    arrowsize=1.5,\n",
    "    arrowcolor=\"blue\",\n",
    "    arrowwidth=2,\n",
    "    row=1, col=1\n",
    ")\n",
    "\n",
    "# Add text for the input\n",
    "fig.add_annotation(\n",
    "    x=0.15, y=0.2,\n",
    "    text=\"x(t)\",\n",
    "    font=dict(color=\"blue\", size=12),\n",
    "    showarrow=False,\n",
    "    row=1, col=1\n",
    ")\n",
    "\n",
    "# Draw the output arrow\n",
    "fig.add_annotation(\n",
    "    x=0.9, y=0.25,\n",
    "    ax=0.65, ay=0.35,\n",
    "    text=\"\",\n",
    "    showarrow=True,\n",
    "    arrowhead=2,\n",
    "    arrowsize=1.5,\n",
    "    arrowcolor=\"red\",\n",
    "    arrowwidth=2,\n",
    "    row=1, col=1\n",
    ")\n",
    "\n",
    "# Add text for the output\n",
    "fig.add_annotation(\n",
    "    x=0.9, y=0.2,\n",
    "    text=\"output\",\n",
    "    font=dict(color=\"red\", size=12),\n",
    "    showarrow=False,\n",
    "    row=1, col=1\n",
    ")\n",
    "\n",
    "# --- Right side - unrolled representation ---\n",
    "# Draw neurons at different time steps\n",
    "t_positions = [0.2, 0.4, 0.6, 0.8]\n",
    "t_labels = ['t-3', 't-2', 't-1', 't']\n",
    "\n",
    "for i, (pos, label) in enumerate(zip(t_positions, t_labels)):\n",
    "    # Draw neuron circle with hover info\n",
    "    fig.add_shape(\n",
    "        type=\"circle\",\n",
    "        xref=\"x2\", yref=\"y2\",\n",
    "        x0=pos-0.05, y0=0.45,\n",
    "        x1=pos+0.05, y1=0.55,\n",
    "        fillcolor=\"rgba(173, 216, 230, 0.7)\",  # lightblue with transparency\n",
    "        line_color=\"black\",\n",
    "        line_width=2,\n",
    "        row=1, col=2\n",
    "    )\n",
    "    \n",
    "    # Add neuron label\n",
    "    fig.add_annotation(\n",
    "        x=pos, y=0.5,\n",
    "        text=f\"y({label})\",\n",
    "        showarrow=False,\n",
    "        font=dict(size=11),\n",
    "        row=1, col=2\n",
    "    )\n",
    "    \n",
    "    # Draw input arrow\n",
    "    fig.add_annotation(\n",
    "        x=pos, y=0.4,\n",
    "        ax=pos, ay=0.3,\n",
    "        text=\"\",\n",
    "        showarrow=True,\n",
    "        arrowhead=2,\n",
    "        arrowsize=1.5,\n",
    "        arrowcolor=\"blue\",\n",
    "        arrowwidth=2,\n",
    "        row=1, col=2\n",
    "    )\n",
    "    \n",
    "    # Add input label\n",
    "    fig.add_annotation(\n",
    "        x=pos, y=0.25,\n",
    "        text=f\"x({label})\",\n",
    "        showarrow=False,\n",
    "        font=dict(size=10, color=\"blue\"),\n",
    "        row=1, col=2\n",
    "    )\n",
    "    \n",
    "    # Draw output arrow\n",
    "    fig.add_annotation(\n",
    "        x=pos, y=0.7,\n",
    "        ax=pos, ay=0.6,\n",
    "        text=\"\",\n",
    "        showarrow=True,\n",
    "        arrowhead=2,\n",
    "        arrowsize=1.5,\n",
    "        arrowcolor=\"red\",\n",
    "        arrowwidth=2,\n",
    "        row=1, col=2\n",
    "    )\n",
    "    \n",
    "    # Add output label\n",
    "    fig.add_annotation(\n",
    "        x=pos, y=0.75,\n",
    "        text=f\"y({label})\",\n",
    "        showarrow=False,\n",
    "        font=dict(size=10, color=\"red\"),\n",
    "        row=1, col=2\n",
    "    )\n",
    "    \n",
    "    # Draw connections between neurons\n",
    "    if i > 0:\n",
    "        fig.add_annotation(\n",
    "            x=pos, y=0.5,\n",
    "            ax=t_positions[i-1], ay=0.5,\n",
    "            text=\"\",\n",
    "            showarrow=True,\n",
    "            arrowhead=2,\n",
    "            arrowsize=1.5,\n",
    "            arrowcolor=\"green\",\n",
    "            arrowwidth=2,\n",
    "            row=1, col=2\n",
    "        )\n",
    "\n",
    "# Add text for unrolling in time\n",
    "fig.add_annotation(\n",
    "    x=0.5, y=0.1,\n",
    "    text=\"<b>Unrolling through time</b>\",\n",
    "    showarrow=False,\n",
    "    font=dict(size=12, color=\"black\"),\n",
    "    row=1, col=2\n",
    ")\n",
    "\n",
    "# Add legend using invisible scatter traces\n",
    "fig.add_trace(\n",
    "    go.Scatter(\n",
    "        x=[None], y=[None],\n",
    "        mode='lines',\n",
    "        line=dict(color='blue', width=2),\n",
    "        name='Input Connection'\n",
    "    ),\n",
    "    row=1, col=1\n",
    ")\n",
    "fig.add_trace(\n",
    "    go.Scatter(\n",
    "        x=[None], y=[None],\n",
    "        mode='lines',\n",
    "        line=dict(color='red', width=2),\n",
    "        name='Output Connection'\n",
    "    ),\n",
    "    row=1, col=1\n",
    ")\n",
    "fig.add_trace(\n",
    "    go.Scatter(\n",
    "        x=[None], y=[None],\n",
    "        mode='lines',\n",
    "        line=dict(color='green', width=2),\n",
    "        name='Recurrent Connection'\n",
    "    ),\n",
    "    row=1, col=1\n",
    ")\n",
    "\n",
    "# Update layout\n",
    "fig.update_xaxes(range=[0, 1], showgrid=False, zeroline=False, showticklabels=False, row=1, col=1)\n",
    "fig.update_yaxes(range=[0, 1], showgrid=False, zeroline=False, showticklabels=False, row=1, col=1)\n",
    "fig.update_xaxes(range=[0, 1], showgrid=False, zeroline=False, showticklabels=False, row=1, col=2)\n",
    "fig.update_yaxes(range=[0, 1], showgrid=False, zeroline=False, showticklabels=False, row=1, col=2)\n",
    "\n",
    "fig.update_layout(\n",
    "    height=500,\n",
    "    width=900,\n",
    "    margin=dict(l=20, r=20, t=60, b=20),\n",
    "    legend=dict(\n",
    "        orientation=\"h\",\n",
    "        yanchor=\"bottom\",\n",
    "        y=-0.1,\n",
    "        xanchor=\"center\",\n",
    "        x=0.5\n",
    "    ),\n",
    "    hoverlabel=dict(\n",
    "        bgcolor=\"white\",\n",
    "        font_size=12\n",
    "    ),\n",
    "    title=dict(\n",
    "        text=\"<b>Recurrent Neural Network Structure</b>\",\n",
    "        x=0.5\n",
    "    )\n",
    ")\n",
    "\n",
    "fig.show()"
   ]
  },
  {
   "cell_type": "code",
   "execution_count": 19,
   "id": "b69597db",
   "metadata": {},
   "outputs": [
    {
     "ename": "NameError",
     "evalue": "name 'steps' is not defined",
     "output_type": "error",
     "traceback": [
      "\u001b[31m---------------------------------------------------------------------------\u001b[39m",
      "\u001b[31mNameError\u001b[39m                                 Traceback (most recent call last)",
      "\u001b[36mCell\u001b[39m\u001b[36m \u001b[39m\u001b[32mIn[19]\u001b[39m\u001b[32m, line 284\u001b[39m\n\u001b[32m    271\u001b[39m         fig.add_annotation(\n\u001b[32m    272\u001b[39m             x=x_pos, y=y_output-\u001b[32m0.05\u001b[39m,\n\u001b[32m    273\u001b[39m             ax=x_pos, ay=y_rnn+\u001b[32m0.05\u001b[39m,\n\u001b[32m   (...)\u001b[39m\u001b[32m    280\u001b[39m             row=row, col=col\n\u001b[32m    281\u001b[39m         )\n\u001b[32m    283\u001b[39m \u001b[38;5;66;03m# Draw the four different configurations\u001b[39;00m\n\u001b[32m--> \u001b[39m\u001b[32m284\u001b[39m \u001b[43mdraw_rnn_config\u001b[49m\u001b[43m(\u001b[49m\u001b[43mfig\u001b[49m\u001b[43m,\u001b[49m\u001b[43m \u001b[49m\u001b[32;43m1\u001b[39;49m\u001b[43m,\u001b[49m\u001b[43m \u001b[49m\u001b[32;43m1\u001b[39;49m\u001b[43m,\u001b[49m\u001b[43m \u001b[49m\u001b[43minput_seq\u001b[49m\u001b[43m=\u001b[49m\u001b[38;5;28;43;01mTrue\u001b[39;49;00m\u001b[43m,\u001b[49m\u001b[43m \u001b[49m\u001b[43moutput_seq\u001b[49m\u001b[43m=\u001b[49m\u001b[38;5;28;43;01mTrue\u001b[39;49;00m\u001b[43m)\u001b[49m\n\u001b[32m    285\u001b[39m draw_rnn_config(fig, \u001b[32m1\u001b[39m, \u001b[32m2\u001b[39m, input_seq=\u001b[38;5;28;01mTrue\u001b[39;00m, output_seq=\u001b[38;5;28;01mFalse\u001b[39;00m)\n\u001b[32m    286\u001b[39m draw_rnn_config(fig, \u001b[32m2\u001b[39m, \u001b[32m1\u001b[39m, input_seq=\u001b[38;5;28;01mFalse\u001b[39;00m, output_seq=\u001b[38;5;28;01mTrue\u001b[39;00m)\n",
      "\u001b[36mCell\u001b[39m\u001b[36m \u001b[39m\u001b[32mIn[19]\u001b[39m\u001b[32m, line 107\u001b[39m, in \u001b[36mdraw_rnn_config\u001b[39m\u001b[34m(fig, row, col, input_seq, output_seq, has_encoder, has_decoder)\u001b[39m\n\u001b[32m     98\u001b[39m     fig.add_annotation(\n\u001b[32m     99\u001b[39m         x=start_x + \u001b[32m2.5\u001b[39m*x_spacing, y=y_rnn+\u001b[32m0.08\u001b[39m,\n\u001b[32m    100\u001b[39m         text=\u001b[33m\"\u001b[39m\u001b[33mcontext vector\u001b[39m\u001b[33m\"\u001b[39m,\n\u001b[32m   (...)\u001b[39m\u001b[32m    103\u001b[39m         row=row, col=col\n\u001b[32m    104\u001b[39m     )\n\u001b[32m    105\u001b[39m \u001b[38;5;28;01melse\u001b[39;00m:    \n\u001b[32m    106\u001b[39m     \u001b[38;5;66;03m# Standard RNN boxes\u001b[39;00m\n\u001b[32m--> \u001b[39m\u001b[32m107\u001b[39m     \u001b[38;5;28;01mfor\u001b[39;00m i \u001b[38;5;129;01min\u001b[39;00m \u001b[38;5;28mrange\u001b[39m(\u001b[43msteps\u001b[49m):\n\u001b[32m    108\u001b[39m         x_pos = start_x + i * x_spacing\n\u001b[32m    109\u001b[39m         fig.add_shape(\n\u001b[32m    110\u001b[39m             \u001b[38;5;28mtype\u001b[39m=\u001b[33m\"\u001b[39m\u001b[33mrect\u001b[39m\u001b[33m\"\u001b[39m,\n\u001b[32m    111\u001b[39m             xref=\u001b[33mf\u001b[39m\u001b[33m\"\u001b[39m\u001b[33mx\u001b[39m\u001b[38;5;132;01m{\u001b[39;00m(row-\u001b[32m1\u001b[39m)*\u001b[32m2\u001b[39m+col\u001b[38;5;132;01m}\u001b[39;00m\u001b[33m\"\u001b[39m, yref=\u001b[33mf\u001b[39m\u001b[33m\"\u001b[39m\u001b[33my\u001b[39m\u001b[38;5;132;01m{\u001b[39;00m(row-\u001b[32m1\u001b[39m)*\u001b[32m2\u001b[39m+col\u001b[38;5;132;01m}\u001b[39;00m\u001b[33m\"\u001b[39m,\n\u001b[32m   (...)\u001b[39m\u001b[32m    116\u001b[39m             row=row, col=col\n\u001b[32m    117\u001b[39m         )\n",
      "\u001b[31mNameError\u001b[39m: name 'steps' is not defined"
     ]
    }
   ],
   "source": [
    "import plotly.graph_objects as go\n",
    "from plotly.subplots import make_subplots\n",
    "\n",
    "# Create a 2x2 subplot for the four RNN configurations\n",
    "fig = make_subplots(\n",
    "    rows=2, cols=2,\n",
    "    subplot_titles=(\n",
    "        '<b>Sequence-to-Sequence</b>', \n",
    "        '<b>Sequence-to-Vector</b>', \n",
    "        '<b>Vector-to-Sequence</b>', \n",
    "        '<b>Encoder-Decoder</b>'\n",
    "    ),\n",
    "    vertical_spacing=0.1,\n",
    "    horizontal_spacing=0.1\n",
    ")\n",
    "\n",
    "# Helper function to draw RNN configurations\n",
    "def draw_rnn_config(fig, row, col, input_seq=True, output_seq=True, has_encoder=False, has_decoder=False):\n",
    "    # Set up coordinates\n",
    "    x_spacing = 0.15\n",
    "    y_input = 0.2\n",
    "    y_rnn = 0.5\n",
    "    y_output = 0.8\n",
    "    start_x = 0.2\n",
    "    \n",
    "    # Draw RNN boxes\n",
    "    if has_encoder and has_decoder:\n",
    "        # Encoder part\n",
    "        for i in range(3):\n",
    "            x_pos = start_x + i * x_spacing\n",
    "            fig.add_shape(\n",
    "                type=\"rect\",\n",
    "                xref=f\"x{(row-1)*2+col}\", yref=f\"y{(row-1)*2+col}\",\n",
    "                x0=x_pos-0.05, y0=y_rnn-0.05, \n",
    "                x1=x_pos+0.05, y1=y_rnn+0.05,\n",
    "                fillcolor=\"rgba(173, 216, 230, 0.7)\",  # Light blue with transparency\n",
    "                line=dict(color=\"black\", width=1.5),\n",
    "                row=row, col=col\n",
    "            )\n",
    "            \n",
    "            # Recurrent connections\n",
    "            if i > 0:\n",
    "                prev_x_pos = start_x + (i-1) * x_spacing\n",
    "                fig.add_annotation(\n",
    "                    x=x_pos-0.05, y=y_rnn,\n",
    "                    ax=prev_x_pos+0.05, ay=y_rnn,\n",
    "                    text=\"\",\n",
    "                    showarrow=True,\n",
    "                    arrowhead=2,\n",
    "                    arrowsize=1,\n",
    "                    arrowcolor=\"green\",\n",
    "                    arrowwidth=1.5,\n",
    "                    row=row, col=col\n",
    "                )\n",
    "        \n",
    "        # Decoder part\n",
    "        for i in range(3, 6):\n",
    "            x_pos = start_x + i * x_spacing\n",
    "            fig.add_shape(\n",
    "                type=\"rect\",\n",
    "                xref=f\"x{(row-1)*2+col}\", yref=f\"y{(row-1)*2+col}\",\n",
    "                x0=x_pos-0.05, y0=y_rnn-0.05, \n",
    "                x1=x_pos+0.05, y1=y_rnn+0.05,\n",
    "                fillcolor=\"rgba(255, 250, 205, 0.7)\",  # Light yellow with transparency\n",
    "                line=dict(color=\"black\", width=1.5),\n",
    "                row=row, col=col\n",
    "            )\n",
    "            \n",
    "            # Recurrent connections\n",
    "            if i > 3:\n",
    "                prev_x_pos = start_x + (i-1) * x_spacing\n",
    "                fig.add_annotation(\n",
    "                    x=x_pos-0.05, y=y_rnn,\n",
    "                    ax=prev_x_pos+0.05, ay=y_rnn,\n",
    "                    text=\"\",\n",
    "                    showarrow=True,\n",
    "                    arrowhead=2,\n",
    "                    arrowsize=1,\n",
    "                    arrowcolor=\"green\",\n",
    "                    arrowwidth=1.5,\n",
    "                    row=row, col=col\n",
    "                )\n",
    "                \n",
    "        # Connection from encoder to decoder\n",
    "        encoder_end_x = start_x + 2*x_spacing\n",
    "        decoder_start_x = start_x + 3*x_spacing\n",
    "        fig.add_annotation(\n",
    "            x=decoder_start_x-0.05, y=y_rnn,\n",
    "            ax=encoder_end_x+0.05, ay=y_rnn,\n",
    "            text=\"\",\n",
    "            showarrow=True,\n",
    "            arrowhead=2,\n",
    "            arrowsize=1.5,\n",
    "            arrowcolor=\"purple\",\n",
    "            arrowwidth=2,\n",
    "            row=row, col=col\n",
    "        )\n",
    "        fig.add_annotation(\n",
    "            x=start_x + 2.5*x_spacing, y=y_rnn+0.08,\n",
    "            text=\"context vector\",\n",
    "            font=dict(size=9, color=\"purple\"),\n",
    "            showarrow=False,\n",
    "            row=row, col=col\n",
    "        )\n",
    "    else:    \n",
    "        # Standard RNN boxes\n",
    "        for i in range(steps):\n",
    "            x_pos = start_x + i * x_spacing\n",
    "            fig.add_shape(\n",
    "                type=\"rect\",\n",
    "                xref=f\"x{(row-1)*2+col}\", yref=f\"y{(row-1)*2+col}\",\n",
    "                x0=x_pos-0.05, y0=y_rnn-0.05, \n",
    "                x1=x_pos+0.05, y1=y_rnn+0.05,\n",
    "                fillcolor=\"rgba(173, 216, 230, 0.7)\",  # Light blue with transparency\n",
    "                line=dict(color=\"black\", width=1.5),\n",
    "                row=row, col=col\n",
    "            )\n",
    "            \n",
    "            # Recurrent connections\n",
    "            if i > 0:\n",
    "                prev_x_pos = start_x + (i-1) * x_spacing\n",
    "                fig.add_annotation(\n",
    "                    x=x_pos-0.05, y=y_rnn,\n",
    "                    ax=prev_x_pos+0.05, ay=y_rnn,\n",
    "                    text=\"\",\n",
    "                    showarrow=True,\n",
    "                    arrowhead=2,\n",
    "                    arrowsize=1,\n",
    "                    arrowcolor=\"green\",\n",
    "                    arrowwidth=1.5,\n",
    "                    row=row, col=col\n",
    "                )\n",
    "    \n",
    "    # Draw inputs\n",
    "    if input_seq:\n",
    "        for i in range(steps if not has_decoder else 3):\n",
    "            x_pos = start_x + i * x_spacing\n",
    "            \n",
    "            # Input arrows\n",
    "            fig.add_annotation(\n",
    "                x=x_pos, y=y_rnn-0.05,\n",
    "                ax=x_pos, ay=y_input+0.01,\n",
    "                text=\"\",\n",
    "                showarrow=True,\n",
    "                arrowhead=2,\n",
    "                arrowsize=1.5,\n",
    "                arrowcolor=\"blue\",\n",
    "                arrowwidth=2,\n",
    "                row=row, col=col\n",
    "            )\n",
    "            fig.add_annotation(\n",
    "                x=x_pos, y=y_input-0.05,\n",
    "                text=f'X(t{i})',\n",
    "                font=dict(size=9, color=\"blue\"),\n",
    "                showarrow=False,\n",
    "                row=row, col=col\n",
    "            )\n",
    "    else:\n",
    "        # Just a single input for vector-to-sequence\n",
    "        fig.add_shape(\n",
    "            type=\"rect\",\n",
    "            xref=f\"x{(row-1)*2+col}\", yref=f\"y{(row-1)*2+col}\",\n",
    "            x0=start_x-0.05, y0=y_input-0.05, \n",
    "            x1=start_x+0.05, y1=y_input+0.05,\n",
    "            fillcolor=\"rgba(144, 238, 144, 0.7)\",  # Light green with transparency\n",
    "            line=dict(color=\"black\", width=1.5),\n",
    "            row=row, col=col\n",
    "        )\n",
    "        fig.add_annotation(\n",
    "            x=start_x, y=y_input,\n",
    "            text='X',\n",
    "            font=dict(size=9),\n",
    "            showarrow=False,\n",
    "            row=row, col=col\n",
    "        )\n",
    "        \n",
    "        # Connect to all RNN cells or just the first for encoder-decoder\n",
    "        if has_decoder:\n",
    "            # Connect to first encoder cell only\n",
    "            fig.add_annotation(\n",
    "                x=start_x, y=y_rnn-0.05,\n",
    "                ax=start_x, ay=y_input+0.05,\n",
    "                text=\"\",\n",
    "                showarrow=True,\n",
    "                arrowhead=2,\n",
    "                arrowsize=1.5,\n",
    "                arrowcolor=\"blue\",\n",
    "                arrowwidth=1.5,\n",
    "                row=row, col=col\n",
    "            )\n",
    "        else:\n",
    "            # Connect to all RNN cells with curved arrows\n",
    "            for i in range(steps):\n",
    "                x_pos = start_x + i * x_spacing\n",
    "                \n",
    "                # Create curved arrow paths\n",
    "                x_mid = (start_x + x_pos)/2\n",
    "                y_mid = y_input + 0.1 + i * 0.02  # Progressively higher curves\n",
    "                \n",
    "                # Add curved trace\n",
    "                fig.add_trace(\n",
    "                    go.Scatter(\n",
    "                        x=[start_x, x_mid, x_pos],\n",
    "                        y=[y_input, y_mid, y_rnn-0.05],\n",
    "                        mode=\"lines\",\n",
    "                        line=dict(color=\"blue\", width=1.5),\n",
    "                        showlegend=False,\n",
    "                    ),\n",
    "                    row=row, col=col\n",
    "                )\n",
    "                \n",
    "                # Add arrowhead\n",
    "                fig.add_annotation(\n",
    "                    x=x_pos, y=y_rnn-0.05,\n",
    "                    ax=x_pos-(x_pos-x_mid)/10, ay=y_rnn-0.05-(y_rnn-0.05-y_mid)/10,\n",
    "                    text=\"\",\n",
    "                    showarrow=True,\n",
    "                    arrowhead=2,\n",
    "                    arrowsize=1,\n",
    "                    arrowcolor=\"blue\",\n",
    "                    arrowwidth=1.5,\n",
    "                    row=row, col=col\n",
    "                )\n",
    "    \n",
    "    # Draw outputs\n",
    "    if output_seq:\n",
    "        output_range = range(steps) if not has_encoder else range(3, 6)\n",
    "        for i in output_range:\n",
    "            x_pos = start_x + i * x_spacing\n",
    "            \n",
    "            # Output arrows\n",
    "            fig.add_annotation(\n",
    "                x=x_pos, y=y_output,\n",
    "                ax=x_pos, ay=y_rnn+0.05,\n",
    "                text=\"\",\n",
    "                showarrow=True,\n",
    "                arrowhead=2,\n",
    "                arrowsize=1.5,\n",
    "                arrowcolor=\"red\",\n",
    "                arrowwidth=2,\n",
    "                row=row, col=col\n",
    "            )\n",
    "            fig.add_annotation(\n",
    "                x=x_pos, y=y_output+0.05,\n",
    "                text=f'Y(t{i-3 if has_encoder else i})',\n",
    "                font=dict(size=9, color=\"red\"),\n",
    "                showarrow=False,\n",
    "                row=row, col=col\n",
    "            )\n",
    "    else:\n",
    "        # Just a single output for sequence-to-vector\n",
    "        x_pos = start_x + (steps-1) * x_spacing\n",
    "        fig.add_shape(\n",
    "            type=\"rect\",\n",
    "            xref=f\"x{(row-1)*2+col}\", yref=f\"y{(row-1)*2+col}\",\n",
    "            x0=x_pos-0.05, y0=y_output-0.05, \n",
    "            x1=x_pos+0.05, y1=y_output+0.05,\n",
    "            fillcolor=\"rgba(250, 128, 114, 0.7)\",  # Salmon with transparency\n",
    "            line=dict(color=\"black\", width=1.5),\n",
    "            row=row, col=col\n",
    "        )\n",
    "        fig.add_annotation(\n",
    "            x=x_pos, y=y_output,\n",
    "            text='Y',\n",
    "            font=dict(size=9),\n",
    "            showarrow=False,\n",
    "            row=row, col=col\n",
    "        )\n",
    "        \n",
    "        # Connect last RNN cell to output\n",
    "        fig.add_annotation(\n",
    "            x=x_pos, y=y_output-0.05,\n",
    "            ax=x_pos, ay=y_rnn+0.05,\n",
    "            text=\"\",\n",
    "            showarrow=True,\n",
    "            arrowhead=2,\n",
    "            arrowsize=1.5,\n",
    "            arrowcolor=\"red\",\n",
    "            arrowwidth=1.5,\n",
    "            row=row, col=col\n",
    "        )\n",
    "\n",
    "# Draw the four different configurations\n",
    "draw_rnn_config(fig, 1, 1, input_seq=True, output_seq=True)\n",
    "draw_rnn_config(fig, 1, 2, input_seq=True, output_seq=False)\n",
    "draw_rnn_config(fig, 2, 1, input_seq=False, output_seq=True)\n",
    "draw_rnn_config(fig, 2, 2, input_seq=True, output_seq=True, has_encoder=True, has_decoder=True)\n",
    "\n",
    "# Add legend using invisible scatter traces\n",
    "fig.add_trace(\n",
    "    go.Scatter(\n",
    "        x=[None], y=[None],\n",
    "        mode='lines',\n",
    "        line=dict(color='blue', width=2),\n",
    "        name='Input Connection'\n",
    "    )\n",
    ")\n",
    "fig.add_trace(\n",
    "    go.Scatter(\n",
    "        x=[None], y=[None],\n",
    "        mode='lines',\n",
    "        line=dict(color='red', width=2),\n",
    "        name='Output Connection'\n",
    "    )\n",
    ")\n",
    "fig.add_trace(\n",
    "    go.Scatter(\n",
    "        x=[None], y=[None],\n",
    "        mode='lines',\n",
    "        line=dict(color='green', width=2),\n",
    "        name='Recurrent Connection'\n",
    "    )\n",
    ")\n",
    "if any([r == 2 and c == 2 for r in range(1, 3) for c in range(1, 3)]):\n",
    "    fig.add_trace(\n",
    "        go.Scatter(\n",
    "            x=[None], y=[None],\n",
    "            mode='lines',\n",
    "            line=dict(color='purple', width=2),\n",
    "            name='Context Vector'\n",
    "        )\n",
    "    )\n",
    "\n",
    "# Update layout for all subplots\n",
    "for i in range(1, 3):\n",
    "    for j in range(1, 3):\n",
    "        fig.update_xaxes(range=[0, 1], showgrid=False, zeroline=False, showticklabels=False, row=i, col=j)\n",
    "        fig.update_yaxes(range=[0, 1], showgrid=False, zeroline=False, showticklabels=False, row=i, col=j)\n",
    "\n",
    "fig.update_layout(\n",
    "    height=800,\n",
    "    width=900,\n",
    "    showlegend=True,\n",
    "    legend=dict(\n",
    "        orientation=\"h\",\n",
    "        yanchor=\"bottom\",\n",
    "        y=-0.1,\n",
    "        xanchor=\"center\",\n",
    "        x=0.5\n",
    "    ),\n",
    "    margin=dict(l=20, r=20, t=60, b=50),\n",
    "    title=dict(\n",
    "        text=\"<b>RNN Sequence Processing Configurations</b>\",\n",
    "        x=0.5\n",
    "    )\n",
    ")\n",
    "\n",
    "fig.show()"
   ]
  },
  {
   "cell_type": "code",
   "execution_count": null,
   "id": "e132cbaf",
   "metadata": {},
   "outputs": [
    {
     "data": {
      "application/vnd.plotly.v1+json": {
       "config": {
        "plotlyServerURL": "https://plot.ly"
       },
       "data": [
        {
         "hovertemplate": "Time Step: %{x}<br>Value: %{y:.4f}<extra></extra>",
         "line": {
          "width": 2
         },
         "marker": {
          "size": 6
         },
         "mode": "lines+markers",
         "name": "Neuron 1",
         "type": "scatter",
         "x": [
          0,
          1,
          2,
          3,
          4,
          5,
          6,
          7,
          8,
          9,
          10,
          11,
          12,
          13,
          14
         ],
         "xaxis": "x",
         "y": {
          "bdata": "UqkTB3Iwjz+cMu7OYmWQP0hNri2DXIE/MLsK0ruscb81zI6su1CQv1e81XXtZ5S/nqnFMT0GjL+4N9cnN64rv+gXg29+ZIs/m+MHVT1flD/DPi4ufJGQP6/qyYfAO3M/tLTaBpC6gL99JJICzk2Qv+88H0LKr4+/",
          "dtype": "f8"
         },
         "yaxis": "y"
        },
        {
         "hovertemplate": "Time Step: %{x}<br>Value: %{y:.4f}<extra></extra>",
         "line": {
          "width": 2
         },
         "marker": {
          "size": 6
         },
         "mode": "lines+markers",
         "name": "Neuron 2",
         "type": "scatter",
         "x": [
          0,
          1,
          2,
          3,
          4,
          5,
          6,
          7,
          8,
          9,
          10,
          11,
          12,
          13,
          14
         ],
         "xaxis": "x",
         "y": {
          "bdata": "OIqWD4suY7+j3/MbanBmv5oF+mxtaF2//jY+DU71OD+xkNuK21RlP6umc4aDwmw/QabFQJQMZD/9HKC/k08KvyIjPOwZ2GS/uNAEteZebb/oE6Rbimxlv3JfzvMlCDO/SNmUnHc6YD/7y4aEFipoP38olbQ2jmI/",
          "dtype": "f8"
         },
         "yaxis": "y"
        },
        {
         "hovertemplate": "Time Step: %{x}<br>Value: %{y:.4f}<extra></extra>",
         "line": {
          "width": 2
         },
         "marker": {
          "size": 6
         },
         "mode": "lines+markers",
         "name": "Neuron 3",
         "type": "scatter",
         "x": [
          0,
          1,
          2,
          3,
          4,
          5,
          6,
          7,
          8,
          9,
          10,
          11,
          12,
          13,
          14
         ],
         "xaxis": "x",
         "y": {
          "bdata": "FXZL6zIuY79bwX+rRlJqP56jyupKP3c/B8c2Y6FIbj/Zi0cm3HFIv2/tFnVyNHC/WSdFzxtVbL8+Um5by30dP8qAvDyhhG0/YaW9ehENcD/6LGBTkTtCP4UiYrHA8W+/moaRzQSKd78kNeqhsG9pv7H3wcl3HmQ/",
          "dtype": "f8"
         },
         "yaxis": "y"
        },
        {
         "hovertemplate": "Time Step: %{x}<br>Value: %{y:.4f}<extra></extra>",
         "line": {
          "dash": "dash",
          "width": 2
         },
         "marker": {
          "size": 5
         },
         "mode": "lines+markers",
         "name": "Input 1",
         "type": "scatter",
         "x": [
          0,
          1,
          2,
          3,
          4,
          5,
          6,
          7,
          8,
          9,
          10,
          11,
          12,
          13,
          14
         ],
         "xaxis": "x2",
         "y": {
          "bdata": "AAAAAAAAAABL3gV1wwTpP2npWAWcMu8/w6txTcDE2z+/q3FNwMTbv2npWAWcMu+/TN4FdcME6b8HXBQzJqaxvEneBXXDBOk/aulYBZwy7z/Hq3FNwMTbP7urcU3AxNu/aOlYBZwy779O3gV1wwTpvwdcFDMmpsG8",
          "dtype": "f8"
         },
         "yaxis": "y2"
        },
        {
         "hovertemplate": "Time Step: %{x}<br>Value: %{y:.4f}<extra></extra>",
         "line": {
          "dash": "dash",
          "width": 2
         },
         "marker": {
          "size": 5
         },
         "mode": "lines+markers",
         "name": "Input 2",
         "type": "scatter",
         "x": [
          0,
          1,
          2,
          3,
          4,
          5,
          6,
          7,
          8,
          9,
          10,
          11,
          12,
          13,
          14
         ],
         "xaxis": "x2",
         "y": {
          "bdata": "AAAAAAAA8D9L3gV1wwTpP4RFAuOQe8w/wKtxTcDE279wXMupvNTsv2npWAWcMu+/0u2L4qDz478Kip5MOXmqvNDti+Kg8+M/aOlYBZwy7z9yXMupvNTsP8arcU3AxNs/d0UC45B7zL9J3gV1wwTpvwAAAAAAAPC/",
          "dtype": "f8"
         },
         "yaxis": "y2"
        }
       ],
       "layout": {
        "annotations": [
         {
          "font": {
           "size": 16
          },
          "showarrow": false,
          "text": "<b>RNN Hidden States Over Time</b>",
          "x": 0.5,
          "xanchor": "center",
          "xref": "paper",
          "y": 1,
          "yanchor": "bottom",
          "yref": "paper"
         },
         {
          "font": {
           "size": 16
          },
          "showarrow": false,
          "text": "<b>Input Sequence</b>",
          "x": 0.5,
          "xanchor": "center",
          "xref": "paper",
          "y": 0.255,
          "yanchor": "bottom",
          "yref": "paper"
         }
        ],
        "height": 700,
        "hovermode": "closest",
        "legend": {
         "orientation": "h",
         "x": 0.5,
         "xanchor": "center",
         "y": -0.2,
         "yanchor": "bottom"
        },
        "margin": {
         "b": 100,
         "l": 60,
         "r": 30,
         "t": 100
        },
        "template": {
         "data": {
          "bar": [
           {
            "error_x": {
             "color": "#2a3f5f"
            },
            "error_y": {
             "color": "#2a3f5f"
            },
            "marker": {
             "line": {
              "color": "#E5ECF6",
              "width": 0.5
             },
             "pattern": {
              "fillmode": "overlay",
              "size": 10,
              "solidity": 0.2
             }
            },
            "type": "bar"
           }
          ],
          "barpolar": [
           {
            "marker": {
             "line": {
              "color": "#E5ECF6",
              "width": 0.5
             },
             "pattern": {
              "fillmode": "overlay",
              "size": 10,
              "solidity": 0.2
             }
            },
            "type": "barpolar"
           }
          ],
          "carpet": [
           {
            "aaxis": {
             "endlinecolor": "#2a3f5f",
             "gridcolor": "white",
             "linecolor": "white",
             "minorgridcolor": "white",
             "startlinecolor": "#2a3f5f"
            },
            "baxis": {
             "endlinecolor": "#2a3f5f",
             "gridcolor": "white",
             "linecolor": "white",
             "minorgridcolor": "white",
             "startlinecolor": "#2a3f5f"
            },
            "type": "carpet"
           }
          ],
          "choropleth": [
           {
            "colorbar": {
             "outlinewidth": 0,
             "ticks": ""
            },
            "type": "choropleth"
           }
          ],
          "contour": [
           {
            "colorbar": {
             "outlinewidth": 0,
             "ticks": ""
            },
            "colorscale": [
             [
              0,
              "#0d0887"
             ],
             [
              0.1111111111111111,
              "#46039f"
             ],
             [
              0.2222222222222222,
              "#7201a8"
             ],
             [
              0.3333333333333333,
              "#9c179e"
             ],
             [
              0.4444444444444444,
              "#bd3786"
             ],
             [
              0.5555555555555556,
              "#d8576b"
             ],
             [
              0.6666666666666666,
              "#ed7953"
             ],
             [
              0.7777777777777778,
              "#fb9f3a"
             ],
             [
              0.8888888888888888,
              "#fdca26"
             ],
             [
              1,
              "#f0f921"
             ]
            ],
            "type": "contour"
           }
          ],
          "contourcarpet": [
           {
            "colorbar": {
             "outlinewidth": 0,
             "ticks": ""
            },
            "type": "contourcarpet"
           }
          ],
          "heatmap": [
           {
            "colorbar": {
             "outlinewidth": 0,
             "ticks": ""
            },
            "colorscale": [
             [
              0,
              "#0d0887"
             ],
             [
              0.1111111111111111,
              "#46039f"
             ],
             [
              0.2222222222222222,
              "#7201a8"
             ],
             [
              0.3333333333333333,
              "#9c179e"
             ],
             [
              0.4444444444444444,
              "#bd3786"
             ],
             [
              0.5555555555555556,
              "#d8576b"
             ],
             [
              0.6666666666666666,
              "#ed7953"
             ],
             [
              0.7777777777777778,
              "#fb9f3a"
             ],
             [
              0.8888888888888888,
              "#fdca26"
             ],
             [
              1,
              "#f0f921"
             ]
            ],
            "type": "heatmap"
           }
          ],
          "histogram": [
           {
            "marker": {
             "pattern": {
              "fillmode": "overlay",
              "size": 10,
              "solidity": 0.2
             }
            },
            "type": "histogram"
           }
          ],
          "histogram2d": [
           {
            "colorbar": {
             "outlinewidth": 0,
             "ticks": ""
            },
            "colorscale": [
             [
              0,
              "#0d0887"
             ],
             [
              0.1111111111111111,
              "#46039f"
             ],
             [
              0.2222222222222222,
              "#7201a8"
             ],
             [
              0.3333333333333333,
              "#9c179e"
             ],
             [
              0.4444444444444444,
              "#bd3786"
             ],
             [
              0.5555555555555556,
              "#d8576b"
             ],
             [
              0.6666666666666666,
              "#ed7953"
             ],
             [
              0.7777777777777778,
              "#fb9f3a"
             ],
             [
              0.8888888888888888,
              "#fdca26"
             ],
             [
              1,
              "#f0f921"
             ]
            ],
            "type": "histogram2d"
           }
          ],
          "histogram2dcontour": [
           {
            "colorbar": {
             "outlinewidth": 0,
             "ticks": ""
            },
            "colorscale": [
             [
              0,
              "#0d0887"
             ],
             [
              0.1111111111111111,
              "#46039f"
             ],
             [
              0.2222222222222222,
              "#7201a8"
             ],
             [
              0.3333333333333333,
              "#9c179e"
             ],
             [
              0.4444444444444444,
              "#bd3786"
             ],
             [
              0.5555555555555556,
              "#d8576b"
             ],
             [
              0.6666666666666666,
              "#ed7953"
             ],
             [
              0.7777777777777778,
              "#fb9f3a"
             ],
             [
              0.8888888888888888,
              "#fdca26"
             ],
             [
              1,
              "#f0f921"
             ]
            ],
            "type": "histogram2dcontour"
           }
          ],
          "mesh3d": [
           {
            "colorbar": {
             "outlinewidth": 0,
             "ticks": ""
            },
            "type": "mesh3d"
           }
          ],
          "parcoords": [
           {
            "line": {
             "colorbar": {
              "outlinewidth": 0,
              "ticks": ""
             }
            },
            "type": "parcoords"
           }
          ],
          "pie": [
           {
            "automargin": true,
            "type": "pie"
           }
          ],
          "scatter": [
           {
            "fillpattern": {
             "fillmode": "overlay",
             "size": 10,
             "solidity": 0.2
            },
            "type": "scatter"
           }
          ],
          "scatter3d": [
           {
            "line": {
             "colorbar": {
              "outlinewidth": 0,
              "ticks": ""
             }
            },
            "marker": {
             "colorbar": {
              "outlinewidth": 0,
              "ticks": ""
             }
            },
            "type": "scatter3d"
           }
          ],
          "scattercarpet": [
           {
            "marker": {
             "colorbar": {
              "outlinewidth": 0,
              "ticks": ""
             }
            },
            "type": "scattercarpet"
           }
          ],
          "scattergeo": [
           {
            "marker": {
             "colorbar": {
              "outlinewidth": 0,
              "ticks": ""
             }
            },
            "type": "scattergeo"
           }
          ],
          "scattergl": [
           {
            "marker": {
             "colorbar": {
              "outlinewidth": 0,
              "ticks": ""
             }
            },
            "type": "scattergl"
           }
          ],
          "scattermap": [
           {
            "marker": {
             "colorbar": {
              "outlinewidth": 0,
              "ticks": ""
             }
            },
            "type": "scattermap"
           }
          ],
          "scattermapbox": [
           {
            "marker": {
             "colorbar": {
              "outlinewidth": 0,
              "ticks": ""
             }
            },
            "type": "scattermapbox"
           }
          ],
          "scatterpolar": [
           {
            "marker": {
             "colorbar": {
              "outlinewidth": 0,
              "ticks": ""
             }
            },
            "type": "scatterpolar"
           }
          ],
          "scatterpolargl": [
           {
            "marker": {
             "colorbar": {
              "outlinewidth": 0,
              "ticks": ""
             }
            },
            "type": "scatterpolargl"
           }
          ],
          "scatterternary": [
           {
            "marker": {
             "colorbar": {
              "outlinewidth": 0,
              "ticks": ""
             }
            },
            "type": "scatterternary"
           }
          ],
          "surface": [
           {
            "colorbar": {
             "outlinewidth": 0,
             "ticks": ""
            },
            "colorscale": [
             [
              0,
              "#0d0887"
             ],
             [
              0.1111111111111111,
              "#46039f"
             ],
             [
              0.2222222222222222,
              "#7201a8"
             ],
             [
              0.3333333333333333,
              "#9c179e"
             ],
             [
              0.4444444444444444,
              "#bd3786"
             ],
             [
              0.5555555555555556,
              "#d8576b"
             ],
             [
              0.6666666666666666,
              "#ed7953"
             ],
             [
              0.7777777777777778,
              "#fb9f3a"
             ],
             [
              0.8888888888888888,
              "#fdca26"
             ],
             [
              1,
              "#f0f921"
             ]
            ],
            "type": "surface"
           }
          ],
          "table": [
           {
            "cells": {
             "fill": {
              "color": "#EBF0F8"
             },
             "line": {
              "color": "white"
             }
            },
            "header": {
             "fill": {
              "color": "#C8D4E3"
             },
             "line": {
              "color": "white"
             }
            },
            "type": "table"
           }
          ]
         },
         "layout": {
          "annotationdefaults": {
           "arrowcolor": "#2a3f5f",
           "arrowhead": 0,
           "arrowwidth": 1
          },
          "autotypenumbers": "strict",
          "coloraxis": {
           "colorbar": {
            "outlinewidth": 0,
            "ticks": ""
           }
          },
          "colorscale": {
           "diverging": [
            [
             0,
             "#8e0152"
            ],
            [
             0.1,
             "#c51b7d"
            ],
            [
             0.2,
             "#de77ae"
            ],
            [
             0.3,
             "#f1b6da"
            ],
            [
             0.4,
             "#fde0ef"
            ],
            [
             0.5,
             "#f7f7f7"
            ],
            [
             0.6,
             "#e6f5d0"
            ],
            [
             0.7,
             "#b8e186"
            ],
            [
             0.8,
             "#7fbc41"
            ],
            [
             0.9,
             "#4d9221"
            ],
            [
             1,
             "#276419"
            ]
           ],
           "sequential": [
            [
             0,
             "#0d0887"
            ],
            [
             0.1111111111111111,
             "#46039f"
            ],
            [
             0.2222222222222222,
             "#7201a8"
            ],
            [
             0.3333333333333333,
             "#9c179e"
            ],
            [
             0.4444444444444444,
             "#bd3786"
            ],
            [
             0.5555555555555556,
             "#d8576b"
            ],
            [
             0.6666666666666666,
             "#ed7953"
            ],
            [
             0.7777777777777778,
             "#fb9f3a"
            ],
            [
             0.8888888888888888,
             "#fdca26"
            ],
            [
             1,
             "#f0f921"
            ]
           ],
           "sequentialminus": [
            [
             0,
             "#0d0887"
            ],
            [
             0.1111111111111111,
             "#46039f"
            ],
            [
             0.2222222222222222,
             "#7201a8"
            ],
            [
             0.3333333333333333,
             "#9c179e"
            ],
            [
             0.4444444444444444,
             "#bd3786"
            ],
            [
             0.5555555555555556,
             "#d8576b"
            ],
            [
             0.6666666666666666,
             "#ed7953"
            ],
            [
             0.7777777777777778,
             "#fb9f3a"
            ],
            [
             0.8888888888888888,
             "#fdca26"
            ],
            [
             1,
             "#f0f921"
            ]
           ]
          },
          "colorway": [
           "#636efa",
           "#EF553B",
           "#00cc96",
           "#ab63fa",
           "#FFA15A",
           "#19d3f3",
           "#FF6692",
           "#B6E880",
           "#FF97FF",
           "#FECB52"
          ],
          "font": {
           "color": "#2a3f5f"
          },
          "geo": {
           "bgcolor": "white",
           "lakecolor": "white",
           "landcolor": "#E5ECF6",
           "showlakes": true,
           "showland": true,
           "subunitcolor": "white"
          },
          "hoverlabel": {
           "align": "left"
          },
          "hovermode": "closest",
          "mapbox": {
           "style": "light"
          },
          "paper_bgcolor": "white",
          "plot_bgcolor": "#E5ECF6",
          "polar": {
           "angularaxis": {
            "gridcolor": "white",
            "linecolor": "white",
            "ticks": ""
           },
           "bgcolor": "#E5ECF6",
           "radialaxis": {
            "gridcolor": "white",
            "linecolor": "white",
            "ticks": ""
           }
          },
          "scene": {
           "xaxis": {
            "backgroundcolor": "#E5ECF6",
            "gridcolor": "white",
            "gridwidth": 2,
            "linecolor": "white",
            "showbackground": true,
            "ticks": "",
            "zerolinecolor": "white"
           },
           "yaxis": {
            "backgroundcolor": "#E5ECF6",
            "gridcolor": "white",
            "gridwidth": 2,
            "linecolor": "white",
            "showbackground": true,
            "ticks": "",
            "zerolinecolor": "white"
           },
           "zaxis": {
            "backgroundcolor": "#E5ECF6",
            "gridcolor": "white",
            "gridwidth": 2,
            "linecolor": "white",
            "showbackground": true,
            "ticks": "",
            "zerolinecolor": "white"
           }
          },
          "shapedefaults": {
           "line": {
            "color": "#2a3f5f"
           }
          },
          "ternary": {
           "aaxis": {
            "gridcolor": "white",
            "linecolor": "white",
            "ticks": ""
           },
           "baxis": {
            "gridcolor": "white",
            "linecolor": "white",
            "ticks": ""
           },
           "bgcolor": "#E5ECF6",
           "caxis": {
            "gridcolor": "white",
            "linecolor": "white",
            "ticks": ""
           }
          },
          "title": {
           "x": 0.05
          },
          "xaxis": {
           "automargin": true,
           "gridcolor": "white",
           "linecolor": "white",
           "ticks": "",
           "title": {
            "standoff": 15
           },
           "zerolinecolor": "white",
           "zerolinewidth": 2
          },
          "yaxis": {
           "automargin": true,
           "gridcolor": "white",
           "linecolor": "white",
           "ticks": "",
           "title": {
            "standoff": 15
           },
           "zerolinecolor": "white",
           "zerolinewidth": 2
          }
         }
        },
        "title": {
         "font": {
          "size": 18
         },
         "text": "<b>RNN Hidden States Visualization</b>",
         "x": 0.5
        },
        "width": 900,
        "xaxis": {
         "anchor": "y",
         "domain": [
          0,
          1
         ]
        },
        "xaxis2": {
         "anchor": "y2",
         "domain": [
          0,
          1
         ],
         "title": {
          "text": "Time Step"
         }
        },
        "yaxis": {
         "anchor": "x",
         "domain": [
          0.405,
          1
         ],
         "title": {
          "text": "Hidden State Values"
         }
        },
        "yaxis2": {
         "anchor": "x2",
         "domain": [
          0,
          0.255
         ],
         "title": {
          "text": "Input Values"
         }
        }
       }
      }
     },
     "metadata": {},
     "output_type": "display_data"
    },
    {
     "data": {
      "application/vnd.plotly.v1+json": {
       "config": {
        "plotlyServerURL": "https://plot.ly"
       },
       "data": [
        {
         "hovertemplate": "Spike value: %{y:.2f}<extra></extra>",
         "marker": {
          "color": "rgba(255, 0, 0, 0.7)"
         },
         "name": "Input Spike",
         "type": "bar",
         "width": 0.3,
         "x": [
          0
         ],
         "xaxis": "x",
         "y": [
          3
         ],
         "yaxis": "y"
        },
        {
         "hoverinfo": "skip",
         "marker": {
          "color": "rgba(200, 200, 200, 0.4)"
         },
         "name": "No Input",
         "showlegend": false,
         "type": "bar",
         "x": [
          1,
          2,
          3,
          4,
          5,
          6,
          7,
          8,
          9,
          10,
          11,
          12,
          13,
          14
         ],
         "xaxis": "x",
         "y": {
          "bdata": "AAAAAAAAAAAAAAAAAAAAAAAAAAAAAAAAAAAAAAAAAAAAAAAAAAAAAAAAAAAAAAAAAAAAAAAAAAAAAAAAAAAAAAAAAAAAAAAAAAAAAAAAAAAAAAAAAAAAAAAAAAAAAAAAAAAAAAAAAAAAAAAAAAAAAA==",
          "dtype": "f8"
         },
         "yaxis": "y"
        },
        {
         "hovertemplate": "Time: %{x}<br>Activation: %{y:.4f}<extra></extra>",
         "line": {
          "color": "rgb(31, 119, 180)",
          "width": 2
         },
         "marker": {
          "color": "rgb(31, 119, 180)",
          "size": 6
         },
         "mode": "lines+markers",
         "name": "Neuron 1",
         "type": "scatter",
         "x": [
          0,
          1,
          2,
          3,
          4,
          5,
          6,
          7,
          8,
          9,
          10,
          11,
          12,
          13,
          14
         ],
         "xaxis": "x2",
         "y": {
          "bdata": "imT6Uw+Ejj+HcuFk6wYxPwVihj/pf78+1BcEAzp4ez5GY7EBO0z3PdZY9QkoesU9wE0bEWWJDb1mIvmfqWARPQLsKo0OLZK8jTMF7jQfXTwC4aAnSaTsu1RhVYfkNKk7M1GBu/WZQbsJSMyLTXH2OmITY9ZtlZO6",
          "dtype": "f8"
         },
         "yaxis": "y2"
        },
        {
         "hovertemplate": "Time: %{x}<br>Activation: %{y:.4f}<extra></extra>",
         "line": {
          "color": "rgb(255, 127, 14)",
          "width": 2
         },
         "marker": {
          "color": "rgb(255, 127, 14)",
          "size": 6
         },
         "mode": "lines+markers",
         "name": "Neuron 2",
         "type": "scatter",
         "x": [
          0,
          1,
          2,
          3,
          4,
          5,
          6,
          7,
          8,
          9,
          10,
          11,
          12,
          13,
          14
         ],
         "xaxis": "x2",
         "y": {
          "bdata": "7t0W1mT9cL/y8tM+xzYvv+CgreJf+eU+4DTiTudihb4K2Ncavo00PgpV3Q7xONa991u8Klw/gz12cuS+SosmvWosLnTOOtI8DtICSQyPdrz6bszhGmkhPKZOtvK7X8a77Y4Rp0u6cDvywk7Qmw8Wu66irmOwI8A6",
          "dtype": "f8"
         },
         "yaxis": "y2"
        },
        {
         "hovertemplate": "Time: %{x}<br>Activation: %{y:.4f}<extra></extra>",
         "line": {
          "color": "rgb(44, 160, 44)",
          "width": 2
         },
         "marker": {
          "color": "rgb(44, 160, 44)",
          "size": 6
         },
         "mode": "lines+markers",
         "name": "Neuron 3",
         "type": "scatter",
         "x": [
          0,
          1,
          2,
          3,
          4,
          5,
          6,
          7,
          8,
          9,
          10,
          11,
          12,
          13,
          14
         ],
         "xaxis": "x2",
         "y": {
          "bdata": "aUw8Lv3kkz9AI82m6Ec5v7mfNBjYcds+5MF1F6/hhr767c/P/4ErPjXirkVav9W9yPouqcBnez3+o83jUdQkvb/aKIeAGss8JBRiI4MNdLwY0fV2eawaPDIiEi/2X8O7kk3YHRIqajtcGnHiVcQSu1IRmz+Jm7k6",
          "dtype": "f8"
         },
         "yaxis": "y2"
        }
       ],
       "layout": {
        "annotations": [
         {
          "font": {
           "size": 16
          },
          "showarrow": false,
          "text": "<b>Input with Spike at Time 0</b>",
          "x": 0.5,
          "xanchor": "center",
          "xref": "paper",
          "y": 1,
          "yanchor": "bottom",
          "yref": "paper"
         },
         {
          "font": {
           "size": 16
          },
          "showarrow": false,
          "text": "<b>RNN Response to Spike Input (Memory Effect)</b>",
          "x": 0.5,
          "xanchor": "center",
          "xref": "paper",
          "y": 0.595,
          "yanchor": "bottom",
          "yref": "paper"
         },
         {
          "arrowhead": 2,
          "ax": 20,
          "ay": -40,
          "showarrow": true,
          "text": "Initial Response",
          "x": 0,
          "y": 0.01490032172232449
         },
         {
          "arrowhead": 2,
          "ax": -30,
          "ay": -40,
          "showarrow": true,
          "text": "Fading Memory",
          "x": 13,
          "y": -1.5819592722580206e-26
         }
        ],
        "height": 700,
        "hovermode": "closest",
        "legend": {
         "orientation": "h",
         "x": 0.5,
         "xanchor": "center",
         "y": -0.15,
         "yanchor": "bottom"
        },
        "margin": {
         "b": 100,
         "l": 60,
         "r": 30,
         "t": 100
        },
        "template": {
         "data": {
          "bar": [
           {
            "error_x": {
             "color": "#2a3f5f"
            },
            "error_y": {
             "color": "#2a3f5f"
            },
            "marker": {
             "line": {
              "color": "#E5ECF6",
              "width": 0.5
             },
             "pattern": {
              "fillmode": "overlay",
              "size": 10,
              "solidity": 0.2
             }
            },
            "type": "bar"
           }
          ],
          "barpolar": [
           {
            "marker": {
             "line": {
              "color": "#E5ECF6",
              "width": 0.5
             },
             "pattern": {
              "fillmode": "overlay",
              "size": 10,
              "solidity": 0.2
             }
            },
            "type": "barpolar"
           }
          ],
          "carpet": [
           {
            "aaxis": {
             "endlinecolor": "#2a3f5f",
             "gridcolor": "white",
             "linecolor": "white",
             "minorgridcolor": "white",
             "startlinecolor": "#2a3f5f"
            },
            "baxis": {
             "endlinecolor": "#2a3f5f",
             "gridcolor": "white",
             "linecolor": "white",
             "minorgridcolor": "white",
             "startlinecolor": "#2a3f5f"
            },
            "type": "carpet"
           }
          ],
          "choropleth": [
           {
            "colorbar": {
             "outlinewidth": 0,
             "ticks": ""
            },
            "type": "choropleth"
           }
          ],
          "contour": [
           {
            "colorbar": {
             "outlinewidth": 0,
             "ticks": ""
            },
            "colorscale": [
             [
              0,
              "#0d0887"
             ],
             [
              0.1111111111111111,
              "#46039f"
             ],
             [
              0.2222222222222222,
              "#7201a8"
             ],
             [
              0.3333333333333333,
              "#9c179e"
             ],
             [
              0.4444444444444444,
              "#bd3786"
             ],
             [
              0.5555555555555556,
              "#d8576b"
             ],
             [
              0.6666666666666666,
              "#ed7953"
             ],
             [
              0.7777777777777778,
              "#fb9f3a"
             ],
             [
              0.8888888888888888,
              "#fdca26"
             ],
             [
              1,
              "#f0f921"
             ]
            ],
            "type": "contour"
           }
          ],
          "contourcarpet": [
           {
            "colorbar": {
             "outlinewidth": 0,
             "ticks": ""
            },
            "type": "contourcarpet"
           }
          ],
          "heatmap": [
           {
            "colorbar": {
             "outlinewidth": 0,
             "ticks": ""
            },
            "colorscale": [
             [
              0,
              "#0d0887"
             ],
             [
              0.1111111111111111,
              "#46039f"
             ],
             [
              0.2222222222222222,
              "#7201a8"
             ],
             [
              0.3333333333333333,
              "#9c179e"
             ],
             [
              0.4444444444444444,
              "#bd3786"
             ],
             [
              0.5555555555555556,
              "#d8576b"
             ],
             [
              0.6666666666666666,
              "#ed7953"
             ],
             [
              0.7777777777777778,
              "#fb9f3a"
             ],
             [
              0.8888888888888888,
              "#fdca26"
             ],
             [
              1,
              "#f0f921"
             ]
            ],
            "type": "heatmap"
           }
          ],
          "histogram": [
           {
            "marker": {
             "pattern": {
              "fillmode": "overlay",
              "size": 10,
              "solidity": 0.2
             }
            },
            "type": "histogram"
           }
          ],
          "histogram2d": [
           {
            "colorbar": {
             "outlinewidth": 0,
             "ticks": ""
            },
            "colorscale": [
             [
              0,
              "#0d0887"
             ],
             [
              0.1111111111111111,
              "#46039f"
             ],
             [
              0.2222222222222222,
              "#7201a8"
             ],
             [
              0.3333333333333333,
              "#9c179e"
             ],
             [
              0.4444444444444444,
              "#bd3786"
             ],
             [
              0.5555555555555556,
              "#d8576b"
             ],
             [
              0.6666666666666666,
              "#ed7953"
             ],
             [
              0.7777777777777778,
              "#fb9f3a"
             ],
             [
              0.8888888888888888,
              "#fdca26"
             ],
             [
              1,
              "#f0f921"
             ]
            ],
            "type": "histogram2d"
           }
          ],
          "histogram2dcontour": [
           {
            "colorbar": {
             "outlinewidth": 0,
             "ticks": ""
            },
            "colorscale": [
             [
              0,
              "#0d0887"
             ],
             [
              0.1111111111111111,
              "#46039f"
             ],
             [
              0.2222222222222222,
              "#7201a8"
             ],
             [
              0.3333333333333333,
              "#9c179e"
             ],
             [
              0.4444444444444444,
              "#bd3786"
             ],
             [
              0.5555555555555556,
              "#d8576b"
             ],
             [
              0.6666666666666666,
              "#ed7953"
             ],
             [
              0.7777777777777778,
              "#fb9f3a"
             ],
             [
              0.8888888888888888,
              "#fdca26"
             ],
             [
              1,
              "#f0f921"
             ]
            ],
            "type": "histogram2dcontour"
           }
          ],
          "mesh3d": [
           {
            "colorbar": {
             "outlinewidth": 0,
             "ticks": ""
            },
            "type": "mesh3d"
           }
          ],
          "parcoords": [
           {
            "line": {
             "colorbar": {
              "outlinewidth": 0,
              "ticks": ""
             }
            },
            "type": "parcoords"
           }
          ],
          "pie": [
           {
            "automargin": true,
            "type": "pie"
           }
          ],
          "scatter": [
           {
            "fillpattern": {
             "fillmode": "overlay",
             "size": 10,
             "solidity": 0.2
            },
            "type": "scatter"
           }
          ],
          "scatter3d": [
           {
            "line": {
             "colorbar": {
              "outlinewidth": 0,
              "ticks": ""
             }
            },
            "marker": {
             "colorbar": {
              "outlinewidth": 0,
              "ticks": ""
             }
            },
            "type": "scatter3d"
           }
          ],
          "scattercarpet": [
           {
            "marker": {
             "colorbar": {
              "outlinewidth": 0,
              "ticks": ""
             }
            },
            "type": "scattercarpet"
           }
          ],
          "scattergeo": [
           {
            "marker": {
             "colorbar": {
              "outlinewidth": 0,
              "ticks": ""
             }
            },
            "type": "scattergeo"
           }
          ],
          "scattergl": [
           {
            "marker": {
             "colorbar": {
              "outlinewidth": 0,
              "ticks": ""
             }
            },
            "type": "scattergl"
           }
          ],
          "scattermap": [
           {
            "marker": {
             "colorbar": {
              "outlinewidth": 0,
              "ticks": ""
             }
            },
            "type": "scattermap"
           }
          ],
          "scattermapbox": [
           {
            "marker": {
             "colorbar": {
              "outlinewidth": 0,
              "ticks": ""
             }
            },
            "type": "scattermapbox"
           }
          ],
          "scatterpolar": [
           {
            "marker": {
             "colorbar": {
              "outlinewidth": 0,
              "ticks": ""
             }
            },
            "type": "scatterpolar"
           }
          ],
          "scatterpolargl": [
           {
            "marker": {
             "colorbar": {
              "outlinewidth": 0,
              "ticks": ""
             }
            },
            "type": "scatterpolargl"
           }
          ],
          "scatterternary": [
           {
            "marker": {
             "colorbar": {
              "outlinewidth": 0,
              "ticks": ""
             }
            },
            "type": "scatterternary"
           }
          ],
          "surface": [
           {
            "colorbar": {
             "outlinewidth": 0,
             "ticks": ""
            },
            "colorscale": [
             [
              0,
              "#0d0887"
             ],
             [
              0.1111111111111111,
              "#46039f"
             ],
             [
              0.2222222222222222,
              "#7201a8"
             ],
             [
              0.3333333333333333,
              "#9c179e"
             ],
             [
              0.4444444444444444,
              "#bd3786"
             ],
             [
              0.5555555555555556,
              "#d8576b"
             ],
             [
              0.6666666666666666,
              "#ed7953"
             ],
             [
              0.7777777777777778,
              "#fb9f3a"
             ],
             [
              0.8888888888888888,
              "#fdca26"
             ],
             [
              1,
              "#f0f921"
             ]
            ],
            "type": "surface"
           }
          ],
          "table": [
           {
            "cells": {
             "fill": {
              "color": "#EBF0F8"
             },
             "line": {
              "color": "white"
             }
            },
            "header": {
             "fill": {
              "color": "#C8D4E3"
             },
             "line": {
              "color": "white"
             }
            },
            "type": "table"
           }
          ]
         },
         "layout": {
          "annotationdefaults": {
           "arrowcolor": "#2a3f5f",
           "arrowhead": 0,
           "arrowwidth": 1
          },
          "autotypenumbers": "strict",
          "coloraxis": {
           "colorbar": {
            "outlinewidth": 0,
            "ticks": ""
           }
          },
          "colorscale": {
           "diverging": [
            [
             0,
             "#8e0152"
            ],
            [
             0.1,
             "#c51b7d"
            ],
            [
             0.2,
             "#de77ae"
            ],
            [
             0.3,
             "#f1b6da"
            ],
            [
             0.4,
             "#fde0ef"
            ],
            [
             0.5,
             "#f7f7f7"
            ],
            [
             0.6,
             "#e6f5d0"
            ],
            [
             0.7,
             "#b8e186"
            ],
            [
             0.8,
             "#7fbc41"
            ],
            [
             0.9,
             "#4d9221"
            ],
            [
             1,
             "#276419"
            ]
           ],
           "sequential": [
            [
             0,
             "#0d0887"
            ],
            [
             0.1111111111111111,
             "#46039f"
            ],
            [
             0.2222222222222222,
             "#7201a8"
            ],
            [
             0.3333333333333333,
             "#9c179e"
            ],
            [
             0.4444444444444444,
             "#bd3786"
            ],
            [
             0.5555555555555556,
             "#d8576b"
            ],
            [
             0.6666666666666666,
             "#ed7953"
            ],
            [
             0.7777777777777778,
             "#fb9f3a"
            ],
            [
             0.8888888888888888,
             "#fdca26"
            ],
            [
             1,
             "#f0f921"
            ]
           ],
           "sequentialminus": [
            [
             0,
             "#0d0887"
            ],
            [
             0.1111111111111111,
             "#46039f"
            ],
            [
             0.2222222222222222,
             "#7201a8"
            ],
            [
             0.3333333333333333,
             "#9c179e"
            ],
            [
             0.4444444444444444,
             "#bd3786"
            ],
            [
             0.5555555555555556,
             "#d8576b"
            ],
            [
             0.6666666666666666,
             "#ed7953"
            ],
            [
             0.7777777777777778,
             "#fb9f3a"
            ],
            [
             0.8888888888888888,
             "#fdca26"
            ],
            [
             1,
             "#f0f921"
            ]
           ]
          },
          "colorway": [
           "#636efa",
           "#EF553B",
           "#00cc96",
           "#ab63fa",
           "#FFA15A",
           "#19d3f3",
           "#FF6692",
           "#B6E880",
           "#FF97FF",
           "#FECB52"
          ],
          "font": {
           "color": "#2a3f5f"
          },
          "geo": {
           "bgcolor": "white",
           "lakecolor": "white",
           "landcolor": "#E5ECF6",
           "showlakes": true,
           "showland": true,
           "subunitcolor": "white"
          },
          "hoverlabel": {
           "align": "left"
          },
          "hovermode": "closest",
          "mapbox": {
           "style": "light"
          },
          "paper_bgcolor": "white",
          "plot_bgcolor": "#E5ECF6",
          "polar": {
           "angularaxis": {
            "gridcolor": "white",
            "linecolor": "white",
            "ticks": ""
           },
           "bgcolor": "#E5ECF6",
           "radialaxis": {
            "gridcolor": "white",
            "linecolor": "white",
            "ticks": ""
           }
          },
          "scene": {
           "xaxis": {
            "backgroundcolor": "#E5ECF6",
            "gridcolor": "white",
            "gridwidth": 2,
            "linecolor": "white",
            "showbackground": true,
            "ticks": "",
            "zerolinecolor": "white"
           },
           "yaxis": {
            "backgroundcolor": "#E5ECF6",
            "gridcolor": "white",
            "gridwidth": 2,
            "linecolor": "white",
            "showbackground": true,
            "ticks": "",
            "zerolinecolor": "white"
           },
           "zaxis": {
            "backgroundcolor": "#E5ECF6",
            "gridcolor": "white",
            "gridwidth": 2,
            "linecolor": "white",
            "showbackground": true,
            "ticks": "",
            "zerolinecolor": "white"
           }
          },
          "shapedefaults": {
           "line": {
            "color": "#2a3f5f"
           }
          },
          "ternary": {
           "aaxis": {
            "gridcolor": "white",
            "linecolor": "white",
            "ticks": ""
           },
           "baxis": {
            "gridcolor": "white",
            "linecolor": "white",
            "ticks": ""
           },
           "bgcolor": "#E5ECF6",
           "caxis": {
            "gridcolor": "white",
            "linecolor": "white",
            "ticks": ""
           }
          },
          "title": {
           "x": 0.05
          },
          "xaxis": {
           "automargin": true,
           "gridcolor": "white",
           "linecolor": "white",
           "ticks": "",
           "title": {
            "standoff": 15
           },
           "zerolinecolor": "white",
           "zerolinewidth": 2
          },
          "yaxis": {
           "automargin": true,
           "gridcolor": "white",
           "linecolor": "white",
           "ticks": "",
           "title": {
            "standoff": 15
           },
           "zerolinecolor": "white",
           "zerolinewidth": 2
          }
         }
        },
        "title": {
         "font": {
          "size": 18
         },
         "text": "<b>Memory Effect in RNN</b>",
         "x": 0.5
        },
        "width": 900,
        "xaxis": {
         "anchor": "y",
         "domain": [
          0,
          1
         ],
         "range": [
          -0.5,
          14.5
         ],
         "title": {
          "text": "Time Step"
         }
        },
        "xaxis2": {
         "anchor": "y2",
         "domain": [
          0,
          1
         ],
         "range": [
          -0.5,
          14.5
         ],
         "title": {
          "text": "Time Step"
         }
        },
        "yaxis": {
         "anchor": "x",
         "domain": [
          0.745,
          1
         ],
         "title": {
          "text": "Input Value"
         }
        },
        "yaxis2": {
         "anchor": "x2",
         "domain": [
          0,
          0.595
         ],
         "title": {
          "text": "Hidden State Values"
         }
        }
       }
      }
     },
     "metadata": {},
     "output_type": "display_data"
    }
   ],
   "source": [
    "import numpy as np\n",
    "import plotly.graph_objects as go\n",
    "from plotly.subplots import make_subplots\n",
    "\n",
    "# Define a simple RNN class\n",
    "class SimpleRNN:\n",
    "    def __init__(self, input_size, hidden_size):\n",
    "        # Initialize weights and biases with controlled values for better visualization\n",
    "        np.random.seed(42)  # For reproducibility\n",
    "        self.Wx = np.random.randn(input_size, hidden_size) * 0.01  # Input weights\n",
    "        self.Wy = np.random.randn(hidden_size, hidden_size) * 0.01  # Recurrent weights\n",
    "        self.b = np.zeros((1, hidden_size))  # Bias\n",
    "        \n",
    "        self.hidden_size = hidden_size\n",
    "        \n",
    "    def forward(self, x_sequence):\n",
    "        # x_sequence shape: (seq_length, input_size)\n",
    "        seq_length = len(x_sequence)\n",
    "        # Initialize states and outputs\n",
    "        h = np.zeros((seq_length + 1, self.hidden_size))\n",
    "        \n",
    "        # Forward pass through time\n",
    "        for t in range(seq_length):\n",
    "            # Current input\n",
    "            x_t = x_sequence[t:t+1]\n",
    "            # Previous hidden state\n",
    "            h_prev = h[t:t+1]\n",
    "            \n",
    "            # Calculate current hidden state (which is also the output for SimpleRNN)\n",
    "            h[t+1] = np.tanh(np.dot(x_t, self.Wx) + np.dot(h_prev, self.Wy) + self.b)\n",
    "        \n",
    "        return h[1:]  # Return all states except initial state h[-1]\n",
    "\n",
    "# Example: Generate a sequence with specific pattern for better visualization\n",
    "seq_length = 15  # Longer sequence for better visualization\n",
    "input_size = 2\n",
    "hidden_size = 3\n",
    "\n",
    "# Create input sequence with a pattern\n",
    "x_sequence = np.zeros((seq_length, input_size))\n",
    "# Add a sine wave pattern to first dimension\n",
    "x_sequence[:, 0] = np.sin(np.linspace(0, 4*np.pi, seq_length))\n",
    "# Add a cosine wave pattern to second dimension (out of phase)\n",
    "x_sequence[:, 1] = np.cos(np.linspace(0, 3*np.pi, seq_length))\n",
    "\n",
    "# Initialize RNN and run forward pass\n",
    "rnn = SimpleRNN(input_size, hidden_size)\n",
    "outputs = rnn.forward(x_sequence)\n",
    "\n",
    "# Visualize the outputs with Plotly - improved version\n",
    "fig = make_subplots(rows=2, cols=1, \n",
    "                   subplot_titles=('<b>RNN Hidden States Over Time</b>', \n",
    "                                  '<b>Input Sequence</b>'),\n",
    "                   vertical_spacing=0.15,\n",
    "                   row_heights=[0.7, 0.3])\n",
    "\n",
    "# Plot hidden states\n",
    "for i in range(hidden_size):\n",
    "    fig.add_trace(\n",
    "        go.Scatter(\n",
    "            x=list(range(seq_length)),\n",
    "            y=outputs[:, i],\n",
    "            mode='lines+markers',\n",
    "            name=f'Neuron {i+1}',\n",
    "            line=dict(width=2),\n",
    "            marker=dict(size=6),\n",
    "            hovertemplate='Time Step: %{x}<br>Value: %{y:.4f}<extra></extra>'\n",
    "        ),\n",
    "        row=1, col=1\n",
    "    )\n",
    "\n",
    "# Plot input sequence\n",
    "for i in range(input_size):\n",
    "    fig.add_trace(\n",
    "        go.Scatter(\n",
    "            x=list(range(seq_length)),\n",
    "            y=x_sequence[:, i],\n",
    "            mode='lines+markers',\n",
    "            name=f'Input {i+1}',\n",
    "            line=dict(dash='dash', width=2),\n",
    "            marker=dict(size=5),\n",
    "            hovertemplate='Time Step: %{x}<br>Value: %{y:.4f}<extra></extra>'\n",
    "        ),\n",
    "        row=2, col=1\n",
    "    )\n",
    "\n",
    "# Update layout\n",
    "fig.update_layout(\n",
    "    height=700,\n",
    "    width=900,\n",
    "    title=dict(\n",
    "        text='<b>RNN Hidden States Visualization</b>',\n",
    "        x=0.5,\n",
    "        font=dict(size=18)\n",
    "    ),\n",
    "    legend=dict(\n",
    "        orientation=\"h\",\n",
    "        yanchor=\"bottom\",\n",
    "        y=-0.2,\n",
    "        xanchor=\"center\",\n",
    "        x=0.5\n",
    "    ),\n",
    "    margin=dict(l=60, r=30, t=100, b=100),\n",
    "    hovermode='closest'\n",
    ")\n",
    "\n",
    "# Update axes\n",
    "fig.update_xaxes(title_text='Time Step', row=2, col=1)\n",
    "fig.update_yaxes(title_text='Hidden State Values', row=1, col=1)\n",
    "fig.update_yaxes(title_text='Input Values', row=2, col=1)\n",
    "\n",
    "fig.show()\n",
    "\n",
    "# Visualize how recurrent connections carry information forward using Plotly - improved version\n",
    "# Choose one dimension to visualize\n",
    "dim_to_visualize = 0\n",
    "\n",
    "# Create a new sequence with a spike in the first time step\n",
    "spike_sequence = np.zeros((seq_length, input_size))\n",
    "spike_sequence[0, dim_to_visualize] = 3.0  # Strong initial signal\n",
    "\n",
    "# Run the RNN\n",
    "spike_outputs = rnn.forward(spike_sequence)\n",
    "\n",
    "# Create subplots\n",
    "fig = make_subplots(\n",
    "    rows=2, cols=1, \n",
    "    subplot_titles=(\"<b>Input with Spike at Time 0</b>\", \n",
    "                   \"<b>RNN Response to Spike Input (Memory Effect)</b>\"),\n",
    "    vertical_spacing=0.15,\n",
    "    row_heights=[0.3, 0.7]\n",
    ")\n",
    "\n",
    "# Add spike input plot - improved visual\n",
    "fig.add_trace(\n",
    "    go.Bar(\n",
    "        x=[0],\n",
    "        y=[spike_sequence[0, dim_to_visualize]],\n",
    "        name='Input Spike',\n",
    "        marker=dict(color='rgba(255, 0, 0, 0.7)'),\n",
    "        width=0.3,\n",
    "        hovertemplate='Spike value: %{y:.2f}<extra></extra>'\n",
    "    ),\n",
    "    row=1, col=1\n",
    ")\n",
    "\n",
    "# Add zero values for other time steps for clear visualization\n",
    "fig.add_trace(\n",
    "    go.Bar(\n",
    "        x=list(range(1, seq_length)),\n",
    "        y=np.zeros(seq_length-1),\n",
    "        name='No Input',\n",
    "        marker=dict(color='rgba(200, 200, 200, 0.4)'),\n",
    "        hoverinfo='skip',\n",
    "        showlegend=False\n",
    "    ),\n",
    "    row=1, col=1\n",
    ")\n",
    "\n",
    "# Add neuron output traces with better styling\n",
    "colors = ['rgb(31, 119, 180)', 'rgb(255, 127, 14)', 'rgb(44, 160, 44)']\n",
    "for i in range(hidden_size):\n",
    "    fig.add_trace(\n",
    "        go.Scatter(\n",
    "            x=list(range(seq_length)),\n",
    "            y=spike_outputs[:, i],\n",
    "            mode='lines+markers',\n",
    "            name=f'Neuron {i+1}',\n",
    "            line=dict(color=colors[i], width=2),\n",
    "            marker=dict(size=6, color=colors[i]),\n",
    "            hovertemplate='Time: %{x}<br>Activation: %{y:.4f}<extra></extra>'\n",
    "        ),\n",
    "        row=2, col=1\n",
    "    )\n",
    "\n",
    "# Update layout\n",
    "fig.update_layout(\n",
    "    height=700,\n",
    "    width=900,\n",
    "    title=dict(\n",
    "        text='<b>Memory Effect in RNN</b>',\n",
    "        x=0.5,\n",
    "        font=dict(size=18)\n",
    "    ),\n",
    "    legend=dict(\n",
    "        orientation=\"h\",\n",
    "        yanchor=\"bottom\",\n",
    "        y=-0.15,\n",
    "        xanchor=\"center\",\n",
    "        x=0.5\n",
    "    ),\n",
    "    margin=dict(l=60, r=30, t=100, b=100),\n",
    "    hovermode='closest'\n",
    ")\n",
    "\n",
    "# Update axes\n",
    "fig.update_xaxes(title_text=\"Time Step\", range=[-0.5, seq_length-0.5], row=2, col=1)\n",
    "fig.update_xaxes(title_text=\"Time Step\", range=[-0.5, seq_length-0.5], row=1, col=1)\n",
    "fig.update_yaxes(title_text=\"Input Value\", row=1, col=1)\n",
    "fig.update_yaxes(title_text=\"Hidden State Values\", row=2, col=1)\n",
    "\n",
    "# Add annotations to highlight the decay phenomenon\n",
    "max_idx = np.argmax(spike_outputs[:, 0])\n",
    "max_val = spike_outputs[max_idx, 0]\n",
    "last_val = spike_outputs[-1, 0]\n",
    "\n",
    "fig.add_annotation(\n",
    "    x=max_idx,\n",
    "    y=max_val,\n",
    "    text=\"Initial Response\",\n",
    "    showarrow=True,\n",
    "    arrowhead=2,\n",
    "    ax=20,\n",
    "    ay=-40\n",
    ")\n",
    "\n",
    "fig.add_annotation(\n",
    "    x=seq_length-2,\n",
    "    y=last_val,\n",
    "    text=\"Fading Memory\",\n",
    "    showarrow=True,\n",
    "    arrowhead=2,\n",
    "    ax=-30,\n",
    "    ay=-40\n",
    ")\n",
    "\n",
    "fig.show()"
   ]
  },
  {
   "cell_type": "code",
   "execution_count": null,
   "id": "4bcddaea",
   "metadata": {},
   "outputs": [
    {
     "name": "stdout",
     "output_type": "stream",
     "text": [
      "Epoch 0, Loss: 0.2760\n",
      "Epoch 30, Loss: 0.0489\n",
      "Epoch 60, Loss: 0.0180\n",
      "Epoch 90, Loss: 0.0002\n",
      "Epoch 120, Loss: 0.0001\n",
      "Epoch 150, Loss: 0.0001\n",
      "Epoch 180, Loss: 0.0000\n",
      "Epoch 210, Loss: 0.0000\n",
      "Epoch 240, Loss: 0.0000\n",
      "Epoch 270, Loss: 0.0000\n",
      "Epoch 210, Loss: 0.0000\n",
      "Epoch 240, Loss: 0.0000\n",
      "Epoch 270, Loss: 0.0000\n"
     ]
    },
    {
     "data": {
      "application/vnd.plotly.v1+json": {
       "config": {
        "plotlyServerURL": "https://plot.ly"
       },
       "data": [
        {
         "hovertemplate": "Epoch: %{x}<br>Loss: %{y:.6f}<extra></extra>",
         "line": {
          "color": "rgb(31, 119, 180)",
          "width": 2
         },
         "mode": "lines",
         "name": "Training Loss",
         "type": "scatter",
         "x": [
          0,
          1,
          2,
          3,
          4,
          5,
          6,
          7,
          8,
          9,
          10,
          11,
          12,
          13,
          14,
          15,
          16,
          17,
          18,
          19,
          20,
          21,
          22,
          23,
          24,
          25,
          26,
          27,
          28,
          29,
          30,
          31,
          32,
          33,
          34,
          35,
          36,
          37,
          38,
          39,
          40,
          41,
          42,
          43,
          44,
          45,
          46,
          47,
          48,
          49,
          50,
          51,
          52,
          53,
          54,
          55,
          56,
          57,
          58,
          59,
          60,
          61,
          62,
          63,
          64,
          65,
          66,
          67,
          68,
          69,
          70,
          71,
          72,
          73,
          74,
          75,
          76,
          77,
          78,
          79,
          80,
          81,
          82,
          83,
          84,
          85,
          86,
          87,
          88,
          89,
          90,
          91,
          92,
          93,
          94,
          95,
          96,
          97,
          98,
          99,
          100,
          101,
          102,
          103,
          104,
          105,
          106,
          107,
          108,
          109,
          110,
          111,
          112,
          113,
          114,
          115,
          116,
          117,
          118,
          119,
          120,
          121,
          122,
          123,
          124,
          125,
          126,
          127,
          128,
          129,
          130,
          131,
          132,
          133,
          134,
          135,
          136,
          137,
          138,
          139,
          140,
          141,
          142,
          143,
          144,
          145,
          146,
          147,
          148,
          149,
          150,
          151,
          152,
          153,
          154,
          155,
          156,
          157,
          158,
          159,
          160,
          161,
          162,
          163,
          164,
          165,
          166,
          167,
          168,
          169,
          170,
          171,
          172,
          173,
          174,
          175,
          176,
          177,
          178,
          179,
          180,
          181,
          182,
          183,
          184,
          185,
          186,
          187,
          188,
          189,
          190,
          191,
          192,
          193,
          194,
          195,
          196,
          197,
          198,
          199,
          200,
          201,
          202,
          203,
          204,
          205,
          206,
          207,
          208,
          209,
          210,
          211,
          212,
          213,
          214,
          215,
          216,
          217,
          218,
          219,
          220,
          221,
          222,
          223,
          224,
          225,
          226,
          227,
          228,
          229,
          230,
          231,
          232,
          233,
          234,
          235,
          236,
          237,
          238,
          239,
          240,
          241,
          242,
          243,
          244,
          245,
          246,
          247,
          248,
          249,
          250,
          251,
          252,
          253,
          254,
          255,
          256,
          257,
          258,
          259,
          260,
          261,
          262,
          263,
          264,
          265,
          266,
          267,
          268,
          269,
          270,
          271,
          272,
          273,
          274,
          275,
          276,
          277,
          278,
          279,
          280,
          281,
          282,
          283,
          284,
          285,
          286,
          287,
          288,
          289,
          290,
          291,
          292,
          293,
          294,
          295,
          296,
          297,
          298,
          299
         ],
         "y": [
          0.2759597509185759,
          0.2528178410082143,
          0.23087283204647066,
          0.21002367608406655,
          0.1902004729759047,
          0.17135599295570828,
          0.15347104680218895,
          0.1365674388868977,
          0.12072373551016799,
          0.10608775880176843,
          0.09287755779161021,
          0.08136197429554878,
          0.07181580457236819,
          0.06445484969584278,
          0.05937017194131342,
          0.056489536177859685,
          0.055594971071510325,
          0.055148156558859185,
          0.054769577944258734,
          0.05438916555147474,
          0.053993705497890475,
          0.05358017893531146,
          0.05314737158503619,
          0.05269438777742691,
          0.052220389405883874,
          0.05172455111054004,
          0.05120605435680822,
          0.050664089158196764,
          0.050097857786698376,
          0.04950657937414588,
          0.048889495170471475,
          0.04824587441127285,
          0.04757502079625641,
          0.04687627959535184,
          0.046149045403693724,
          0.045392770566651065,
          0.04460697429374939,
          0.0437912524763652,
          0.042945288218607575,
          0.042068863083713694,
          0.0411618690493042,
          0.040224321153597045,
          0.0392563708007026,
          0.038258319675862434,
          0.03723063420030538,
          0.03617396042954168,
          0.0350891392675831,
          0.033977221831889406,
          0.032839484758899466,
          0.031677445186950294,
          0.030492875091489388,
          0.029287814576280758,
          0.028064583643774933,
          0.0268257918786309,
          0.025574345382215764,
          0.02431345019581915,
          0.023046611351174705,
          0.021777626595850155,
          0.0205105737680835,
          0.019249790753776818,
          0.017999846963980087,
          0.016765505343737344,
          0.015551674084286028,
          0.01436334748248342,
          0.013205535793912353,
          0.01208318447303119,
          0.011001083887114675,
          0.009963771415165898,
          0.008975428759502782,
          0.008039778239264496,
          0.007159982705257048,
          0.006338554392944848,
          0.005577278380116704,
          0.004877156208971902,
          0.004238374572287784,
          0.0036603027135579712,
          0.003141520399598453,
          0.002679876135289,
          0.0022725729364407635,
          0.0019162767491617868,
          0.0016072408026281224,
          0.0013414380581340335,
          0.0011146936209360156,
          0.0009228095301993197,
          0.0007616756191431567,
          0.000627361918982186,
          0.0005161900873318026,
          0.0004247832968080365,
          0.00035009569605235326,
          0.0002894238084648656,
          0.00024040300844469997,
          0.00020099253424409917,
          0.00016945243889855523,
          0.00014431555206341666,
          0.00012435703551862007,
          0.00010856355960648472,
          0.00009610358025471994,
          0.0000862997048283946,
          0.0000786037256097287,
          0.00007257458032777985,
          0.00006785926587192222,
          0.00006417657311638202,
          0.00006130341358967593,
          0.000059063458153706386,
          0.000057317790848385775,
          0.00005595728666806918,
          0.000054896441664075244,
          0.00005406841101527779,
          0.00005342104106815674,
          0.00005291371182620461,
          0.000052514835124095724,
          0.00005219987974403751,
          0.00005194981758229024,
          0.00005174990458783245,
          0.000051588726733983337,
          0.00005145745503213889,
          0.000051349264893375,
          0.000051258884337021746,
          0.00005118224296723755,
          0.000051116199590117305,
          0.00005105833108904876,
          0.00005100676894100156,
          0.00005096007273125752,
          0.00005091713236617097,
          0.00005087709252183214,
          0.0000508392943054846,
          0.00005080323023042522,
          0.000050768509481080926,
          0.000050734831126577757,
          0.00005070196347067207,
          0.00005066972813682105,
          0.00005063798780562516,
          0.00005060663676847427,
          0.00005057559365197301,
          0.000050544795815196506,
          0.00005051419503574749,
          0.00005048375418854335,
          0.000050453444689147735,
          0.000050423244525816196,
          0.00005039313674480884,
          0.000050363108284645,
          0.00005033314907896012,
          0.000050303251366106237,
          0.00005027340915787254,
          0.000050243617830665067,
          0.00005021387381092708,
          0.00005018417433308037,
          0.00005015451725327129,
          0.00005012490090606023,
          0.00005009532399415098,
          0.00005006578550354729,
          0.000050036284638269694,
          0.00005000682077012729,
          0.0000499773934000678,
          0.00004994800212844392,
          0.00004991864663213005,
          0.000049889326646921394,
          0.000049860041953985994,
          0.00004983079236944389,
          0.00004980157773634924,
          0.000049772397918518947,
          0.000049743252795786624,
          0.00004971414226034979,
          0.000049685066213958825,
          0.000049656024565755815,
          0.000049627017230609854,
          0.000049598044127838565,
          0.0000495691051802215,
          0.00004954020031324298,
          0.00004951132945451002,
          0.0000494824925333018,
          0.00004945368948022672,
          0.000049424920226954784,
          0.00004939618470601494,
          0.00004936748285063618,
          0.00004933881459462807,
          0.00004931017987228583,
          0.00004928157861832018,
          0.00004925301076780069,
          0.00004922447625611399,
          0.00004919597501893067,
          0.00004916750699217975,
          0.000049139072112028925,
          0.00004911067031486989,
          0.000049082301537306126,
          0.000049053965716143046,
          0.0000490256627883828,
          0.00004899739269121598,
          0.000048969155362019675,
          0.00004894095073835206,
          0.000048912778757950706,
          0.00004888463935872921,
          0.000048856532478776086,
          0.00004882845805635349,
          0.00004880041602989463,
          0.00004877240633800361,
          0.00004874442891945394,
          0.00004871648371318783,
          0.000048688570658315495,
          0.000048660689694113607,
          0.00004863284076002567,
          0.00004860502379566041,
          0.000048577238740791655,
          0.000048549485535357795,
          0.000048521764119460135,
          0.00004849407443336386,
          0.000048466416417496134,
          0.00004843879001244598,
          0.000048411195158964206,
          0.000048383631797961835,
          0.00004835609987051027,
          0.00004832859931784066,
          0.00004830113008134296,
          0.00004827369210256534,
          0.00004824628532321442,
          0.000048218909685153734,
          0.00004819156513040406,
          0.00004816425160114199,
          0.00004813696903970002,
          0.000048109717388565744,
          0.000048082496590381634,
          0.00004805530658794402,
          0.000048028147324202074,
          0.00004800101874225928,
          0.000047973920785370995,
          0.00004794685339694383,
          0.00004791981652053714,
          0.00004789281009985981,
          0.000047865834078772144,
          0.0000478388884012835,
          0.00004781197301155299,
          0.00004778508785388809,
          0.000047758232872745066,
          0.000047731408012727514,
          0.00004770461321858616,
          0.00004767784843521912,
          0.00004765111360766986,
          0.00004762440868112801,
          0.00004759773360092849,
          0.000047571088312550695,
          0.00004754447276161796,
          0.00004751788689389819,
          0.000047491330655301306,
          0.000047464803991880855,
          0.00004743830684983223,
          0.000047411839175492635,
          0.000047385400915340126,
          0.00004735899201599417,
          0.00004733261242421387,
          0.00004730626208689844,
          0.00004727994095108614,
          0.00004725364896395466,
          0.000047227386072819,
          0.000047201152225133104,
          0.000047174947368487375,
          0.00004714877145060985,
          0.0000471226244193646,
          0.00004709650622275171,
          0.000047070416808907174,
          0.000047044356126101494,
          0.00004701832412273999,
          0.00004699232074736221,
          0.00004696634594864137,
          0.00004694039967538384,
          0.00004691448187652874,
          0.00004688859250114756,
          0.000046862731498443544,
          0.00004683689881775201,
          0.000046811094408537895,
          0.00004678531822039796,
          0.000046759570203058175,
          0.00004673385030637506,
          0.00004670815848033361,
          0.00004668249467504786,
          0.000046656858840759885,
          0.00004663125092784025,
          0.00004660567088678678,
          0.000046580118668223934,
          0.00004655459422290317,
          0.00004652909750170202,
          0.000046503628455624074,
          0.00004647818703579774,
          0.00004645277319347674,
          0.00004642738688003928,
          0.00004640202804698731,
          0.00004637669664594688,
          0.000046351392628667125,
          0.000046326115947020157,
          0.00004630086655300004,
          0.000046275644398723516,
          0.0000462504494364283,
          0.00004622528161847393,
          0.00004620014089734053,
          0.000046175027225628474,
          0.00004614994055605803,
          0.00004612488084146971,
          0.00004609984803482259,
          0.00004607484208919487,
          0.000046049862957783024,
          0.000046024910593901475
         ]
        },
        {
         "hovertemplate": "Epoch: %{x}<br>Loss: %{y:.6f}<extra></extra>",
         "marker": {
          "color": "red",
          "line": {
           "color": "darkred",
           "width": 1.5
          },
          "size": 8
         },
         "mode": "markers",
         "name": "Highlighted Points",
         "type": "scatter",
         "x": [
          0,
          50,
          100,
          200,
          299
         ],
         "y": [
          0.2759597509185759,
          0.030492875091489388,
          0.00006785926587192222,
          0.00004863284076002567,
          0.000046024910593901475
         ]
        }
       ],
       "layout": {
        "annotations": [
         {
          "font": {
           "color": "green"
          },
          "showarrow": false,
          "text": "Convergence Region",
          "x": 240,
          "y": 0.00005983238377207192
         }
        ],
        "height": 500,
        "hovermode": "closest",
        "legend": {
         "bgcolor": "rgba(255,255,255,0.8)",
         "x": 0.99,
         "xanchor": "right",
         "y": 0.99,
         "yanchor": "top"
        },
        "margin": {
         "b": 60,
         "l": 60,
         "r": 30,
         "t": 80
        },
        "shapes": [
         {
          "line": {
           "color": "green",
           "dash": "dot",
           "width": 2
          },
          "type": "line",
          "x0": 180,
          "x1": 299,
          "xref": "x",
          "y0": 0.00005522989271268177,
          "y1": 0.00005522989271268177,
          "yref": "y"
         }
        ],
        "template": {
         "data": {
          "bar": [
           {
            "error_x": {
             "color": "#2a3f5f"
            },
            "error_y": {
             "color": "#2a3f5f"
            },
            "marker": {
             "line": {
              "color": "#E5ECF6",
              "width": 0.5
             },
             "pattern": {
              "fillmode": "overlay",
              "size": 10,
              "solidity": 0.2
             }
            },
            "type": "bar"
           }
          ],
          "barpolar": [
           {
            "marker": {
             "line": {
              "color": "#E5ECF6",
              "width": 0.5
             },
             "pattern": {
              "fillmode": "overlay",
              "size": 10,
              "solidity": 0.2
             }
            },
            "type": "barpolar"
           }
          ],
          "carpet": [
           {
            "aaxis": {
             "endlinecolor": "#2a3f5f",
             "gridcolor": "white",
             "linecolor": "white",
             "minorgridcolor": "white",
             "startlinecolor": "#2a3f5f"
            },
            "baxis": {
             "endlinecolor": "#2a3f5f",
             "gridcolor": "white",
             "linecolor": "white",
             "minorgridcolor": "white",
             "startlinecolor": "#2a3f5f"
            },
            "type": "carpet"
           }
          ],
          "choropleth": [
           {
            "colorbar": {
             "outlinewidth": 0,
             "ticks": ""
            },
            "type": "choropleth"
           }
          ],
          "contour": [
           {
            "colorbar": {
             "outlinewidth": 0,
             "ticks": ""
            },
            "colorscale": [
             [
              0,
              "#0d0887"
             ],
             [
              0.1111111111111111,
              "#46039f"
             ],
             [
              0.2222222222222222,
              "#7201a8"
             ],
             [
              0.3333333333333333,
              "#9c179e"
             ],
             [
              0.4444444444444444,
              "#bd3786"
             ],
             [
              0.5555555555555556,
              "#d8576b"
             ],
             [
              0.6666666666666666,
              "#ed7953"
             ],
             [
              0.7777777777777778,
              "#fb9f3a"
             ],
             [
              0.8888888888888888,
              "#fdca26"
             ],
             [
              1,
              "#f0f921"
             ]
            ],
            "type": "contour"
           }
          ],
          "contourcarpet": [
           {
            "colorbar": {
             "outlinewidth": 0,
             "ticks": ""
            },
            "type": "contourcarpet"
           }
          ],
          "heatmap": [
           {
            "colorbar": {
             "outlinewidth": 0,
             "ticks": ""
            },
            "colorscale": [
             [
              0,
              "#0d0887"
             ],
             [
              0.1111111111111111,
              "#46039f"
             ],
             [
              0.2222222222222222,
              "#7201a8"
             ],
             [
              0.3333333333333333,
              "#9c179e"
             ],
             [
              0.4444444444444444,
              "#bd3786"
             ],
             [
              0.5555555555555556,
              "#d8576b"
             ],
             [
              0.6666666666666666,
              "#ed7953"
             ],
             [
              0.7777777777777778,
              "#fb9f3a"
             ],
             [
              0.8888888888888888,
              "#fdca26"
             ],
             [
              1,
              "#f0f921"
             ]
            ],
            "type": "heatmap"
           }
          ],
          "histogram": [
           {
            "marker": {
             "pattern": {
              "fillmode": "overlay",
              "size": 10,
              "solidity": 0.2
             }
            },
            "type": "histogram"
           }
          ],
          "histogram2d": [
           {
            "colorbar": {
             "outlinewidth": 0,
             "ticks": ""
            },
            "colorscale": [
             [
              0,
              "#0d0887"
             ],
             [
              0.1111111111111111,
              "#46039f"
             ],
             [
              0.2222222222222222,
              "#7201a8"
             ],
             [
              0.3333333333333333,
              "#9c179e"
             ],
             [
              0.4444444444444444,
              "#bd3786"
             ],
             [
              0.5555555555555556,
              "#d8576b"
             ],
             [
              0.6666666666666666,
              "#ed7953"
             ],
             [
              0.7777777777777778,
              "#fb9f3a"
             ],
             [
              0.8888888888888888,
              "#fdca26"
             ],
             [
              1,
              "#f0f921"
             ]
            ],
            "type": "histogram2d"
           }
          ],
          "histogram2dcontour": [
           {
            "colorbar": {
             "outlinewidth": 0,
             "ticks": ""
            },
            "colorscale": [
             [
              0,
              "#0d0887"
             ],
             [
              0.1111111111111111,
              "#46039f"
             ],
             [
              0.2222222222222222,
              "#7201a8"
             ],
             [
              0.3333333333333333,
              "#9c179e"
             ],
             [
              0.4444444444444444,
              "#bd3786"
             ],
             [
              0.5555555555555556,
              "#d8576b"
             ],
             [
              0.6666666666666666,
              "#ed7953"
             ],
             [
              0.7777777777777778,
              "#fb9f3a"
             ],
             [
              0.8888888888888888,
              "#fdca26"
             ],
             [
              1,
              "#f0f921"
             ]
            ],
            "type": "histogram2dcontour"
           }
          ],
          "mesh3d": [
           {
            "colorbar": {
             "outlinewidth": 0,
             "ticks": ""
            },
            "type": "mesh3d"
           }
          ],
          "parcoords": [
           {
            "line": {
             "colorbar": {
              "outlinewidth": 0,
              "ticks": ""
             }
            },
            "type": "parcoords"
           }
          ],
          "pie": [
           {
            "automargin": true,
            "type": "pie"
           }
          ],
          "scatter": [
           {
            "fillpattern": {
             "fillmode": "overlay",
             "size": 10,
             "solidity": 0.2
            },
            "type": "scatter"
           }
          ],
          "scatter3d": [
           {
            "line": {
             "colorbar": {
              "outlinewidth": 0,
              "ticks": ""
             }
            },
            "marker": {
             "colorbar": {
              "outlinewidth": 0,
              "ticks": ""
             }
            },
            "type": "scatter3d"
           }
          ],
          "scattercarpet": [
           {
            "marker": {
             "colorbar": {
              "outlinewidth": 0,
              "ticks": ""
             }
            },
            "type": "scattercarpet"
           }
          ],
          "scattergeo": [
           {
            "marker": {
             "colorbar": {
              "outlinewidth": 0,
              "ticks": ""
             }
            },
            "type": "scattergeo"
           }
          ],
          "scattergl": [
           {
            "marker": {
             "colorbar": {
              "outlinewidth": 0,
              "ticks": ""
             }
            },
            "type": "scattergl"
           }
          ],
          "scattermap": [
           {
            "marker": {
             "colorbar": {
              "outlinewidth": 0,
              "ticks": ""
             }
            },
            "type": "scattermap"
           }
          ],
          "scattermapbox": [
           {
            "marker": {
             "colorbar": {
              "outlinewidth": 0,
              "ticks": ""
             }
            },
            "type": "scattermapbox"
           }
          ],
          "scatterpolar": [
           {
            "marker": {
             "colorbar": {
              "outlinewidth": 0,
              "ticks": ""
             }
            },
            "type": "scatterpolar"
           }
          ],
          "scatterpolargl": [
           {
            "marker": {
             "colorbar": {
              "outlinewidth": 0,
              "ticks": ""
             }
            },
            "type": "scatterpolargl"
           }
          ],
          "scatterternary": [
           {
            "marker": {
             "colorbar": {
              "outlinewidth": 0,
              "ticks": ""
             }
            },
            "type": "scatterternary"
           }
          ],
          "surface": [
           {
            "colorbar": {
             "outlinewidth": 0,
             "ticks": ""
            },
            "colorscale": [
             [
              0,
              "#0d0887"
             ],
             [
              0.1111111111111111,
              "#46039f"
             ],
             [
              0.2222222222222222,
              "#7201a8"
             ],
             [
              0.3333333333333333,
              "#9c179e"
             ],
             [
              0.4444444444444444,
              "#bd3786"
             ],
             [
              0.5555555555555556,
              "#d8576b"
             ],
             [
              0.6666666666666666,
              "#ed7953"
             ],
             [
              0.7777777777777778,
              "#fb9f3a"
             ],
             [
              0.8888888888888888,
              "#fdca26"
             ],
             [
              1,
              "#f0f921"
             ]
            ],
            "type": "surface"
           }
          ],
          "table": [
           {
            "cells": {
             "fill": {
              "color": "#EBF0F8"
             },
             "line": {
              "color": "white"
             }
            },
            "header": {
             "fill": {
              "color": "#C8D4E3"
             },
             "line": {
              "color": "white"
             }
            },
            "type": "table"
           }
          ]
         },
         "layout": {
          "annotationdefaults": {
           "arrowcolor": "#2a3f5f",
           "arrowhead": 0,
           "arrowwidth": 1
          },
          "autotypenumbers": "strict",
          "coloraxis": {
           "colorbar": {
            "outlinewidth": 0,
            "ticks": ""
           }
          },
          "colorscale": {
           "diverging": [
            [
             0,
             "#8e0152"
            ],
            [
             0.1,
             "#c51b7d"
            ],
            [
             0.2,
             "#de77ae"
            ],
            [
             0.3,
             "#f1b6da"
            ],
            [
             0.4,
             "#fde0ef"
            ],
            [
             0.5,
             "#f7f7f7"
            ],
            [
             0.6,
             "#e6f5d0"
            ],
            [
             0.7,
             "#b8e186"
            ],
            [
             0.8,
             "#7fbc41"
            ],
            [
             0.9,
             "#4d9221"
            ],
            [
             1,
             "#276419"
            ]
           ],
           "sequential": [
            [
             0,
             "#0d0887"
            ],
            [
             0.1111111111111111,
             "#46039f"
            ],
            [
             0.2222222222222222,
             "#7201a8"
            ],
            [
             0.3333333333333333,
             "#9c179e"
            ],
            [
             0.4444444444444444,
             "#bd3786"
            ],
            [
             0.5555555555555556,
             "#d8576b"
            ],
            [
             0.6666666666666666,
             "#ed7953"
            ],
            [
             0.7777777777777778,
             "#fb9f3a"
            ],
            [
             0.8888888888888888,
             "#fdca26"
            ],
            [
             1,
             "#f0f921"
            ]
           ],
           "sequentialminus": [
            [
             0,
             "#0d0887"
            ],
            [
             0.1111111111111111,
             "#46039f"
            ],
            [
             0.2222222222222222,
             "#7201a8"
            ],
            [
             0.3333333333333333,
             "#9c179e"
            ],
            [
             0.4444444444444444,
             "#bd3786"
            ],
            [
             0.5555555555555556,
             "#d8576b"
            ],
            [
             0.6666666666666666,
             "#ed7953"
            ],
            [
             0.7777777777777778,
             "#fb9f3a"
            ],
            [
             0.8888888888888888,
             "#fdca26"
            ],
            [
             1,
             "#f0f921"
            ]
           ]
          },
          "colorway": [
           "#636efa",
           "#EF553B",
           "#00cc96",
           "#ab63fa",
           "#FFA15A",
           "#19d3f3",
           "#FF6692",
           "#B6E880",
           "#FF97FF",
           "#FECB52"
          ],
          "font": {
           "color": "#2a3f5f"
          },
          "geo": {
           "bgcolor": "white",
           "lakecolor": "white",
           "landcolor": "#E5ECF6",
           "showlakes": true,
           "showland": true,
           "subunitcolor": "white"
          },
          "hoverlabel": {
           "align": "left"
          },
          "hovermode": "closest",
          "mapbox": {
           "style": "light"
          },
          "paper_bgcolor": "white",
          "plot_bgcolor": "#E5ECF6",
          "polar": {
           "angularaxis": {
            "gridcolor": "white",
            "linecolor": "white",
            "ticks": ""
           },
           "bgcolor": "#E5ECF6",
           "radialaxis": {
            "gridcolor": "white",
            "linecolor": "white",
            "ticks": ""
           }
          },
          "scene": {
           "xaxis": {
            "backgroundcolor": "#E5ECF6",
            "gridcolor": "white",
            "gridwidth": 2,
            "linecolor": "white",
            "showbackground": true,
            "ticks": "",
            "zerolinecolor": "white"
           },
           "yaxis": {
            "backgroundcolor": "#E5ECF6",
            "gridcolor": "white",
            "gridwidth": 2,
            "linecolor": "white",
            "showbackground": true,
            "ticks": "",
            "zerolinecolor": "white"
           },
           "zaxis": {
            "backgroundcolor": "#E5ECF6",
            "gridcolor": "white",
            "gridwidth": 2,
            "linecolor": "white",
            "showbackground": true,
            "ticks": "",
            "zerolinecolor": "white"
           }
          },
          "shapedefaults": {
           "line": {
            "color": "#2a3f5f"
           }
          },
          "ternary": {
           "aaxis": {
            "gridcolor": "white",
            "linecolor": "white",
            "ticks": ""
           },
           "baxis": {
            "gridcolor": "white",
            "linecolor": "white",
            "ticks": ""
           },
           "bgcolor": "#E5ECF6",
           "caxis": {
            "gridcolor": "white",
            "linecolor": "white",
            "ticks": ""
           }
          },
          "title": {
           "x": 0.05
          },
          "xaxis": {
           "automargin": true,
           "gridcolor": "white",
           "linecolor": "white",
           "ticks": "",
           "title": {
            "standoff": 15
           },
           "zerolinecolor": "white",
           "zerolinewidth": 2
          },
          "yaxis": {
           "automargin": true,
           "gridcolor": "white",
           "linecolor": "white",
           "ticks": "",
           "title": {
            "standoff": 15
           },
           "zerolinecolor": "white",
           "zerolinewidth": 2
          }
         }
        },
        "title": {
         "font": {
          "size": 18
         },
         "text": "<b>RNN Training Loss Over Time</b>",
         "x": 0.5
        },
        "width": 900,
        "xaxis": {
         "title": {
          "text": "Epoch"
         }
        },
        "yaxis": {
         "gridcolor": "lightgray",
         "gridwidth": 0.5,
         "showgrid": true,
         "title": {
          "text": "MSE Loss"
         },
         "type": "log"
        }
       }
      }
     },
     "metadata": {},
     "output_type": "display_data"
    },
    {
     "data": {
      "application/vnd.plotly.v1+json": {
       "config": {
        "plotlyServerURL": "https://plot.ly"
       },
       "data": [
        {
         "hovertemplate": "Time Step: %{x}<br>True Value: %{y:.4f}<extra></extra>",
         "line": {
          "color": "blue",
          "width": 2.5
         },
         "mode": "lines",
         "name": "True Values",
         "type": "scatter",
         "x": [
          0,
          1,
          2,
          3,
          4,
          5,
          6,
          7,
          8,
          9,
          10,
          11,
          12,
          13,
          14,
          15,
          16,
          17,
          18,
          19,
          20,
          21,
          22,
          23,
          24,
          25,
          26,
          27,
          28,
          29,
          30,
          31,
          32,
          33,
          34,
          35,
          36,
          37,
          38,
          39,
          40,
          41,
          42,
          43,
          44,
          45,
          46,
          47,
          48,
          49,
          50,
          51,
          52,
          53,
          54,
          55,
          56,
          57,
          58,
          59,
          60,
          61,
          62,
          63,
          64,
          65,
          66,
          67,
          68,
          69,
          70,
          71,
          72,
          73,
          74,
          75,
          76,
          77,
          78,
          79,
          80,
          81,
          82,
          83,
          84,
          85,
          86,
          87,
          88,
          89,
          90,
          91,
          92,
          93,
          94,
          95,
          96,
          97,
          98,
          99
         ],
         "xaxis": "x",
         "y": {
          "bdata": "COgV6cp6hD9oWKXNh3qUP8hnlvEjt54//HIKZXt5pD88ZP+i3papP5heiC2as64/AWHnQcbnsT8XRBEVSnW0P7bZatVHArc/LMuLy66OuT8s9+dDbhq8P8/lPI91pb4/PJB/AdqXwD9vteN8jNzBPyPt3+nJIMM/MGSI+4lkxD9lzyZoxKfFP0a8cOlw6sY/Xsu9PIcsyD+80j0j/23JP0jnLmLQrso/eEsTw/Luyz8ZQucTXi7NP77DVicKbc4/dxXz1O6qzz+9H7T8AXTQPyQxWbsgEtE/inQpms+v0T/3y8KPCk3SPzS6upXN6dI/sMO4qBSG0z87u5DI2yHUPwL6XPgevdQ/CYKYPtpX1T+MCjmlCfLVP4r1yDmpi9Y/4C2BDbUk1z867WI1Kb3XP0ZpUcoBVdg/a2cr6Trs2D9ttuSy0ILZP0SNn0y/GNo/pc7F3wKu2j9iMCKal0LbPyVG+a151ts/4W4iUqVp3D8xpCDCFvzcPzYrOz7Kjd0/ISaWC7we3j/wBUt06K7eP6XbgMdLPt8/VoiEWeLM3z/OZfBBVC3gP8IXu1LNc+A/1GhJkdq54D9SBIUyev/gP7PyJW6qROE/1Ue+fmmJ4T+TvsWhtc3hP1pBpReNEeI/dV/CI+5U4j/IrooM15fiP60ZfxtG2uI/qBg/nTkc4z+r15Phr13jP6FGezunnuM/7BQzAR7f4z+tl0OMEh/kP2GaijmDXuQ/uRlGaW6d5D9E6B5/0tvkP788M+KtGeU/sikh/f5W5T8h/hA+xJPlPw2Pvxb8z+U/fmmI/KQL5j/H7G9ovUbmP+VMLddDgeY/jnw0yTa75j/N/r/ClPTmP9ef2ktcLec/6hRp8Itl5z/ngjNAIp3nP3zr7s4d1Oc/g4BGNH0K6D9+3eQLP0DoP9EmffVhdeg/kQ7UlOSp6D+xvsiRxd3oP0GoXZgDEek/lDfBWJ1D6T8LbVaHkXXpP1Vavdzepuk/5YPbFYTX6T9vJuTzfwfqPylgYDzRNuo/pD03uXZl6j8OqrU4b5PqP51Clo25wOo/7gwJj1Tt6j8=",
          "dtype": "f8"
         },
         "yaxis": "y"
        },
        {
         "hovertemplate": "Time Step: %{x}<br>Prediction: %{y:.4f}<extra></extra>",
         "line": {
          "color": "red",
          "dash": "dot",
          "width": 2
         },
         "mode": "lines",
         "name": "Predicted Values",
         "type": "scatter",
         "x": [
          0,
          1,
          2,
          3,
          4,
          5,
          6,
          7,
          8,
          9,
          10,
          11,
          12,
          13,
          14,
          15,
          16,
          17,
          18,
          19,
          20,
          21,
          22,
          23,
          24,
          25,
          26,
          27,
          28,
          29,
          30,
          31,
          32,
          33,
          34,
          35,
          36,
          37,
          38,
          39,
          40,
          41,
          42,
          43,
          44,
          45,
          46,
          47,
          48,
          49,
          50,
          51,
          52,
          53,
          54,
          55,
          56,
          57,
          58,
          59,
          60,
          61,
          62,
          63,
          64,
          65,
          66,
          67,
          68,
          69,
          70,
          71,
          72,
          73,
          74,
          75,
          76,
          77,
          78,
          79,
          80,
          81,
          82,
          83,
          84,
          85,
          86,
          87,
          88,
          89,
          90,
          91,
          92,
          93,
          94,
          95,
          96,
          97,
          98,
          99
         ],
         "xaxis": "x",
         "y": {
          "bdata": "Gld1zQwNpj/sRXVZYx2aP2htNRSlvJk/pgluE9cVoD84GB0lSp6kPzpXy6QRqak/hGDJ9Uzmrj/qv3KdfhuyP5J5y1OAx7Q/BEMN9750tz+qzyUANiK6P9rOQRpsz7w/QF0Vyx18vz+kXio9DhTBP7ZNJNugacI/0NCwJbW+wz9M+zExOhPFP8TfFWUfZ8Y/utSmWlS6xz9E+DzSyAzJPy7EDbFsXso/XtZEAjCvyz/Ad1T5Av/MPxLcr/TVTc4/2luegJmbzz+nvQMtH3TQP5M4lbjaGdE/66Ad9ve+0T9XOfGUb2PSP8rHzmE6B9M/I6X/R1Gq0z/QImdSrUzUP17ogKxH7tQ/8f5NoxmP1T9qUjCmHC/WPxGBtEdKztY/6eJJPpxs1z/UwehkDArYP+bKpruUptg/cdA5aC9C2T8vAmm21tzZP93ObBiFdto/Na89JzUP2z+NJtKi4abbP21QTHKFPdw/K10XpBvT3D8XafVtn2fdP5Ai/iwM+90/QbuOZV2N3j/RpyvDjh7fP2i3VBicrt8/5ggmr8Ae4D+WV2hanWXgPzlw5jDiq+A/1sB8aI3x4D8YObtJnTbhP7t3rC8Qe+E/IziYh+S+4T/MTsHQGALiPxqDH5yrROI/QZQVjJuG4j8gtiNU58fiP+nRlriNCOM/yNQ0jo1I4z9rVea55YfjP1/XXTCVxuM/RvG89ZoE5D/kmDcd9kHkP9nVtcilfuQ/Vxl0KKm65D8Dd6J6//XkP4L4AguoMOU/0UKHMqJq5T/fwe1W7aPlP1OMXuqI3OU/5y4Ia3QU5j/9i7xir0vmP6T5jWY5guY/qcVsFhK45j/bRMUcOe3mPw6QHi6uIec/HQ+6CHFV5z/E7zN0gYjnP9mjJEHfuuc/N4DDSIrs5z9vk4psgh3oP2jJ25XHTeg/426ntVl96D8LJhTEOKzoP0tbKMBk2ug/E0h1r90H6T8Zj8OdozTpP6R8wZy2YOk/UfOywxaM6T/TDCMvxLbpP3p0lwC/4Ok/RIBFXgcK6j/fC8lynTLqPxcY3WyBWuo/3i8Wf7OB6j8=",
          "dtype": "f8"
         },
         "yaxis": "y"
        },
        {
         "hovertemplate": "Time Step: %{x}<br>Error: %{y:.4f}<extra></extra>",
         "marker": {
          "color": "rgba(255, 165, 0, 0.5)"
         },
         "name": "Absolute Error",
         "type": "bar",
         "x": [
          0,
          1,
          2,
          3,
          4,
          5,
          6,
          7,
          8,
          9,
          10,
          11,
          12,
          13,
          14,
          15,
          16,
          17,
          18,
          19,
          20,
          21,
          22,
          23,
          24,
          25,
          26,
          27,
          28,
          29,
          30,
          31,
          32,
          33,
          34,
          35,
          36,
          37,
          38,
          39,
          40,
          41,
          42,
          43,
          44,
          45,
          46,
          47,
          48,
          49,
          50,
          51,
          52,
          53,
          54,
          55,
          56,
          57,
          58,
          59,
          60,
          61,
          62,
          63,
          64,
          65,
          66,
          67,
          68,
          69,
          70,
          71,
          72,
          73,
          74,
          75,
          76,
          77,
          78,
          79,
          80,
          81,
          82,
          83,
          84,
          85,
          86,
          87,
          88,
          89,
          90,
          91,
          92,
          93,
          94,
          95,
          96,
          97,
          98,
          99
         ],
         "xaxis": "x2",
         "y": {
          "bdata": "GN0vE1ruoD8Qtj8vbot2P4Dpg3X76XM/WKVxRpGOgT8QMIn3UeKDP3gd9CIiKoQ/+IUVOP6kgz9oIfS8W86CPyAB+ww81oE/QEH0o37PgD8geCI8hIN/P1BvsU+XYH0/gDOcfmM5ez9g2Sr3xw95P6Dtc9ch5XY/AGzyupq6dD8gg5reRpFyP0CQW4swanA/AKm9hbiMbD8AnjZAlE1oP4DGSEjsGGQ/AI06Z2DhXz+ALGVJja1XPwCs56YyNE8/ADpzqaiqPj8AAOqdTzDdPgC8HfD05z4/AMJY6LdQTj8AYG0uBWVWPwCWDRTMbF0/gLlwo08eYj+AyjPrxGhlPwAu9xFalGg/AHS+WrKfaz8A76N7gIluP8Dh4npDqHA/QEItMsz5cT+AJnXhyzhzPwBoWFW8ZHQ/gEGawx99dT+A8BLhgIF2P0BmUPNycXc/ACT43ZFMeD/Aiv0rghJ5PwCSwhTxwnk/gJI7fZRdej+AOTH1KuJ6P4DWvbB7UHs/AEglflaoez9AeCi4k+l7P8Dw9jQUFHw/gF3iMcEnfD8A5Pg7jCR8P4A7rBVvCnw/AAGsmWvZez8AYxqbi5F7PwCEQsPgMns/ACf4bIS9ej+AHMh9lzF6PwDgID1Cj3k/AGaaKbTWeD8ArIPMIwh4PwAe3IvOI3c/ABDeevgpdj8A4D4p7Bp1PwBfSHH69nM/AC3uRHq+cj+AmwB6yHFxPwC8nZVHEXA/AJ7/Lb86bT8Av46D+yxqPwDDu88o+mY/AB8ZZjWjYz8AvsPcGClgPwCM+j2nGVk/ANKK/9yeUT8A2Hwy6cdDPwDglxXssR4/ACi3PZYlOT8AyOfql25NPwCSH3g7XFc/AM0Fr+caYD8AI5P/y6BkPwCjR8qNPmk/AEwAg+vybT+AByWtT15xP4C0rtAvzXM/ANdPlm9Fdj8AU0zaZsZ4PwB7phpsT3s/gMD3pdTffT+AfLdkejuAP0Bs9/4PioE/ACUkilTbgj8AZ0Yw8S6EP8DrOvKOhIU/AFhvvNbbhj/Aiyd7cTSIP4ChSi4Ijok/AES3/EPoij8=",
          "dtype": "f8"
         },
         "yaxis": "y2"
        },
        {
         "hovertemplate": "Initial<br>Time: %{x}<br>Value: %{y:.4f}<extra></extra>",
         "line": {
          "color": "rgba(128,128,128,0.7)",
          "dash": "dot",
          "width": 2
         },
         "mode": "lines",
         "name": "Initial (Epoch 0)",
         "type": "scatter",
         "visible": false,
         "x": {
          "bdata": "AAMGCQwPEhUYGx4hJCcqLTAzNjk8P0JFSEtOUVRXWl1gYw==",
          "dtype": "i1"
         },
         "xaxis": "x",
         "y": {
          "bdata": "AAAAAAAAAAB51sNT/ovuPs284xTkev4+gX4ueGHUBj9MVfCXDWYOP5jEkN1b+BI//MZpaVG5Fj8hOGvrCXUaP5WwKBapKh4//D7xAqrsID8Ur5e5GMAiP8RUofI0jyQ/hHLh8ZNZJj/BaxIUzB4oPxmzP+d03ik/slPmQieYKz9mZMZffUstPwnMX+8S+C4/lGyKmcJOMD9EpXaJuR0xP6lB+pm+6DE/HeIWB6OvMj82sQwBOXIzP78K47ZTMDQ/CMy0YMfpND8V/L1JaZ41P7eMKNoPTjY/1QaWoJL4Nj9wB2Rbyp03P+WEqQGRPTg/iefqy8HXOD+LE4M8OWw5P3WVvyfV+jk/WTauu3SDOj8=",
          "dtype": "f8"
         },
         "yaxis": "y"
        },
        {
         "hovertemplate": "After 50 epochs<br>Time: %{x}<br>Value: %{y:.4f}<extra></extra>",
         "line": {
          "color": "rgba(250,128,114,0.7)",
          "dash": "dot",
          "width": 2
         },
         "mode": "lines",
         "name": "After 50 epochs (Epoch 50)",
         "type": "scatter",
         "visible": false,
         "x": {
          "bdata": "AAMGCQwPEhUYGx4hJCcqLTAzNjk8P0JFSEtOUVRXWl1gYw==",
          "dtype": "i1"
         },
         "xaxis": "x",
         "y": {
          "bdata": "go7Q+xMa1T+QVbplW1/WP8ZM5miU89Y/iXinUq+G1z8Co12pLxnYPzsqne/vqtg/jiWFf8o72T/00r4/msvZP1xbTLU6Wto/oMq3E4jn2j99CyhMX3PbPzM2Shue/ds/XF8AFiOG3D+2mMq0zQzdP5pc4l1+kd0/ExgEbhYU3j9s6eU/eJTeP+zlXTKHEt8/s0Y9rSeO3z+yWHSSnwPgPzkzXA7aPuA/fLcWFLd44D+9dYX1KrHgP64wMowq6OA/TKtZOKsd4T/62IPfolHhP4Kas+oHhOE/sH84RNG04T+6MS1V9uPhP2A5rQJvEeI/CsfMqjM94j8Q/lwhPWfiP6wJh6yEj+I/QPVHAQS24j8=",
          "dtype": "f8"
         },
         "yaxis": "y"
        },
        {
         "hovertemplate": "After 100 epochs<br>Time: %{x}<br>Value: %{y:.4f}<extra></extra>",
         "line": {
          "color": "rgba(255,165,0,0.7)",
          "dash": "dot",
          "width": 2
         },
         "mode": "lines",
         "name": "After 100 epochs (Epoch 100)",
         "type": "scatter",
         "visible": false,
         "x": {
          "bdata": "AAMGCQwPEhUYGx4hJCcqLTAzNjk8P0JFSEtOUVRXWl1gYw==",
          "dtype": "i1"
         },
         "xaxis": "x",
         "y": {
          "bdata": "QkqZ5j5bqT+ccuRjDLijP/OqLHeUJ7E/sc25H6UNuT8PIOj+23zAPyaPsyrLb8Q/jNdBzptdyD+fvgQJkETMPznd43J8EdA/NJEP8Jr70T+hvS6329/TP1D+pLKAvdU/QYorftaT1z+S8uA0NWLZP38QJgoBKNs/Wbfjrark3D8acFR+r5fePyQHV8VMIOA/0HmAtX/v4D90yCn5QbnhPy4ZNeBqfeI/4bRpXNc74z9HmWCyafTjPxhNfCIJp+Q/eR1gjKFT5T9o7R0PI/rlPyZhDaiBmuY/9qf30bQ05z9Z6fslt8jnPz8STP+FVug/MVaiIiHe6D95bxZqil/pPyswx3XF2uk/gIehYddP6j8=",
          "dtype": "f8"
         },
         "yaxis": "y"
        },
        {
         "hovertemplate": "After 150 epochs<br>Time: %{x}<br>Value: %{y:.4f}<extra></extra>",
         "line": {
          "color": "rgba(107,142,35,0.7)",
          "dash": "dot",
          "width": 2
         },
         "mode": "lines",
         "name": "After 150 epochs (Epoch 150)",
         "type": "scatter",
         "visible": false,
         "x": {
          "bdata": "AAMGCQwPEhUYGx4hJCcqLTAzNjk8P0JFSEtOUVRXWl1gYw==",
          "dtype": "i1"
         },
         "xaxis": "x",
         "y": {
          "bdata": "NgfErDSHpj9gsgBhFtyfP4SuZvMUra4/xQc87RBctz+GAaShr2i/P+vmW96qt8M/ElTGpOu1xz9R34AQUa3LP1oDS3IhnM8/CVWS2ljA0T+ylKn/s6zTPxrWCBlfktU/hBaaA6Jw1z9m+Y9h0EbZP7zGMDxKFNs/DGvybnzY3D+INADe4JLeP27dyz1/IeA/AptakDT04D/3miKfYMHhP/wLQrbZiOI/wnIw73tK4z8qTlXfKAbkP5+VRz7Hu+Q/6x9HhkJr5T9QVUGRihTmP1H+ajSTt+Y/TwQu3FNU5z8aPt8px+rnP1q+aJTqeug/i5XSDL4E6T/Y6VenQ4jpP0plgUl/Beo/NYWQXXZ86j8=",
          "dtype": "f8"
         },
         "yaxis": "y"
        },
        {
         "hovertemplate": "After 200 epochs<br>Time: %{x}<br>Value: %{y:.4f}<extra></extra>",
         "line": {
          "color": "rgba(65,105,225,0.7)",
          "dash": "dot",
          "width": 2
         },
         "mode": "lines",
         "name": "After 200 epochs (Epoch 200)",
         "type": "scatter",
         "visible": false,
         "x": {
          "bdata": "AAMGCQwPEhUYGx4hJCcqLTAzNjk8P0JFSEtOUVRXWl1gYw==",
          "dtype": "i1"
         },
         "xaxis": "x",
         "y": {
          "bdata": "CD1FLG9epj8snaXuM/afPzLfNiIpwK4/4YXntEBktz/eTcVtDm+/P5UFGWntucM/tI/GgUW3xz+CiCDWyq3LPzhDmJXHm88/beCaG8q/0T+UzPkHzavTPyIv4uIqkdU/TkTNsSxv1z/406UCJ0XZP/GrR4x6Ets/U2/1mZTW3D+twLND75DePxfxYLuIIOA/ZLw1aUfz4D/D2RSvg8DhP6yQPo8TiOI/dDwNx9JJ4z/Z8H2AogXkPw4IWPtou+Q/sM1xMBFr5T/0BFVxihTmP26DQgbIt+Y/zdFMzMBU5z+BR/rUbuvnP9YrmgjPe+g/oxQ4zOAF6T/HWd6rpYnpPx/KpAkhB+o/XCfc0Vd+6j8=",
          "dtype": "f8"
         },
         "yaxis": "y"
        },
        {
         "hovertemplate": "After 250 epochs<br>Time: %{x}<br>Value: %{y:.4f}<extra></extra>",
         "line": {
          "color": "rgba(186,85,211,0.7)",
          "dash": "dot",
          "width": 2
         },
         "mode": "lines",
         "name": "After 250 epochs (Epoch 250)",
         "type": "scatter",
         "visible": false,
         "x": {
          "bdata": "AAMGCQwPEhUYGx4hJCcqLTAzNjk8P0JFSEtOUVRXWl1gYw==",
          "dtype": "i1"
         },
         "xaxis": "x",
         "y": {
          "bdata": "mBZXzf01pj90nkHQ0gigP/YLl1+s064/sPW5ha9stz/uOdPCuXW/Pw6pJwddvMM/RR1AzNK4xz9k2pO2fa7LP9fGK6erm88/FDrDPFy/0T9MZ8hHCKvTP6C0SpwZkNU/BnoGXtpt1z/m6Mn/n0PZP7gOoOLLENs/Yp19wcvU3D8swDjrGY/ePxGx6aaeH+A/8u2Nq2Ty4D+ns6/Xrr/hP5CCrulSh+I/bMxtSSxJ4z++SaG8GwXkP6KDsRIHu+Q/es6kythq5T9LXUG1fxTmP/BRXZXut+Y/wNsNwBtV5z+XByK+AOznP0yPE/CZfOg/xr1ZNeYG6T+UvNGX5orpP8MmvfudCOo/feSr1BCA6j8=",
          "dtype": "f8"
         },
         "yaxis": "y"
        },
        {
         "hovertemplate": "Final<br>Time: %{x}<br>Value: %{y:.4f}<extra></extra>",
         "line": {
          "color": "rgba(255,0,0,0.7)",
          "dash": "solid",
          "width": 2
         },
         "mode": "lines",
         "name": "Final (Epoch 300)",
         "type": "scatter",
         "visible": true,
         "x": {
          "bdata": "AAMGCQwPEhUYGx4hJCcqLTAzNjk8P0JFSEtOUVRXWl1gYw==",
          "dtype": "i1"
         },
         "xaxis": "x",
         "y": {
          "bdata": "Gld1zQwNpj+mCW4T1xWgP4RgyfVM5q4/BEMN9750tz9AXRXLHXy/P9DQsCW1vsM/utSmWlS6xz9e1kQCMK/LP9pbnoCZm88/66Ad9ve+0T8jpf9HUarTP/H+TaMZj9U/6eJJPpxs1z9x0DloL0LZPzWvPSc1D9s/K10XpBvT3D9Bu45lXY3eP+YIJq/AHuA/1sB8aI3x4D8jOJiH5L7hP0GUFYybhuI/yNQ0jo1I4z9G8bz1mgTkP1cZdCipuuQ/0UKHMqJq5T/nLghrdBTmP6nFbBYSuOY/HQ+6CHFV5z83gMNIiuznP+Nup7VZfeg/E0h1r90H6T9R87LDFozpP0SARV4HCuo/3i8Wf7OB6j8=",
          "dtype": "f8"
         },
         "yaxis": "y"
        }
       ],
       "layout": {
        "annotations": [
         {
          "font": {
           "size": 16
          },
          "showarrow": false,
          "text": "<b>RNN Sine Wave Prediction (Final Result)</b>",
          "x": 0.5,
          "xanchor": "center",
          "xref": "paper",
          "y": 1,
          "yanchor": "bottom",
          "yref": "paper"
         },
         {
          "font": {
           "size": 16
          },
          "showarrow": false,
          "text": "<b>Training Progress Comparison</b>",
          "x": 0.5,
          "xanchor": "center",
          "xref": "paper",
          "y": 0.34,
          "yanchor": "bottom",
          "yref": "paper"
         }
        ],
        "height": 800,
        "hovermode": "closest",
        "legend": {
         "orientation": "h",
         "x": 0.5,
         "xanchor": "center",
         "y": -0.2,
         "yanchor": "bottom"
        },
        "margin": {
         "b": 100,
         "l": 60,
         "r": 30,
         "t": 80
        },
        "sliders": [
         {
          "active": 6,
          "currentvalue": {
           "prefix": "Showing: "
          },
          "pad": {
           "t": 50
          },
          "steps": [
           {
            "args": [
             {
              "visible": [
               true,
               true,
               true,
               true,
               false,
               false,
               false,
               false,
               false,
               false
              ]
             }
            ],
            "label": "Initial",
            "method": "update"
           },
           {
            "args": [
             {
              "visible": [
               true,
               true,
               true,
               false,
               true,
               false,
               false,
               false,
               false,
               false
              ]
             }
            ],
            "label": "After 50 epochs",
            "method": "update"
           },
           {
            "args": [
             {
              "visible": [
               true,
               true,
               true,
               false,
               false,
               true,
               false,
               false,
               false,
               false
              ]
             }
            ],
            "label": "After 100 epochs",
            "method": "update"
           },
           {
            "args": [
             {
              "visible": [
               true,
               true,
               true,
               false,
               false,
               false,
               true,
               false,
               false,
               false
              ]
             }
            ],
            "label": "After 150 epochs",
            "method": "update"
           },
           {
            "args": [
             {
              "visible": [
               true,
               true,
               true,
               false,
               false,
               false,
               false,
               true,
               false,
               false
              ]
             }
            ],
            "label": "After 200 epochs",
            "method": "update"
           },
           {
            "args": [
             {
              "visible": [
               true,
               true,
               true,
               false,
               false,
               false,
               false,
               false,
               true,
               false
              ]
             }
            ],
            "label": "After 250 epochs",
            "method": "update"
           },
           {
            "args": [
             {
              "visible": [
               true,
               true,
               true,
               false,
               false,
               false,
               false,
               false,
               false,
               true
              ]
             }
            ],
            "label": "Final",
            "method": "update"
           }
          ]
         }
        ],
        "template": {
         "data": {
          "bar": [
           {
            "error_x": {
             "color": "#2a3f5f"
            },
            "error_y": {
             "color": "#2a3f5f"
            },
            "marker": {
             "line": {
              "color": "#E5ECF6",
              "width": 0.5
             },
             "pattern": {
              "fillmode": "overlay",
              "size": 10,
              "solidity": 0.2
             }
            },
            "type": "bar"
           }
          ],
          "barpolar": [
           {
            "marker": {
             "line": {
              "color": "#E5ECF6",
              "width": 0.5
             },
             "pattern": {
              "fillmode": "overlay",
              "size": 10,
              "solidity": 0.2
             }
            },
            "type": "barpolar"
           }
          ],
          "carpet": [
           {
            "aaxis": {
             "endlinecolor": "#2a3f5f",
             "gridcolor": "white",
             "linecolor": "white",
             "minorgridcolor": "white",
             "startlinecolor": "#2a3f5f"
            },
            "baxis": {
             "endlinecolor": "#2a3f5f",
             "gridcolor": "white",
             "linecolor": "white",
             "minorgridcolor": "white",
             "startlinecolor": "#2a3f5f"
            },
            "type": "carpet"
           }
          ],
          "choropleth": [
           {
            "colorbar": {
             "outlinewidth": 0,
             "ticks": ""
            },
            "type": "choropleth"
           }
          ],
          "contour": [
           {
            "colorbar": {
             "outlinewidth": 0,
             "ticks": ""
            },
            "colorscale": [
             [
              0,
              "#0d0887"
             ],
             [
              0.1111111111111111,
              "#46039f"
             ],
             [
              0.2222222222222222,
              "#7201a8"
             ],
             [
              0.3333333333333333,
              "#9c179e"
             ],
             [
              0.4444444444444444,
              "#bd3786"
             ],
             [
              0.5555555555555556,
              "#d8576b"
             ],
             [
              0.6666666666666666,
              "#ed7953"
             ],
             [
              0.7777777777777778,
              "#fb9f3a"
             ],
             [
              0.8888888888888888,
              "#fdca26"
             ],
             [
              1,
              "#f0f921"
             ]
            ],
            "type": "contour"
           }
          ],
          "contourcarpet": [
           {
            "colorbar": {
             "outlinewidth": 0,
             "ticks": ""
            },
            "type": "contourcarpet"
           }
          ],
          "heatmap": [
           {
            "colorbar": {
             "outlinewidth": 0,
             "ticks": ""
            },
            "colorscale": [
             [
              0,
              "#0d0887"
             ],
             [
              0.1111111111111111,
              "#46039f"
             ],
             [
              0.2222222222222222,
              "#7201a8"
             ],
             [
              0.3333333333333333,
              "#9c179e"
             ],
             [
              0.4444444444444444,
              "#bd3786"
             ],
             [
              0.5555555555555556,
              "#d8576b"
             ],
             [
              0.6666666666666666,
              "#ed7953"
             ],
             [
              0.7777777777777778,
              "#fb9f3a"
             ],
             [
              0.8888888888888888,
              "#fdca26"
             ],
             [
              1,
              "#f0f921"
             ]
            ],
            "type": "heatmap"
           }
          ],
          "histogram": [
           {
            "marker": {
             "pattern": {
              "fillmode": "overlay",
              "size": 10,
              "solidity": 0.2
             }
            },
            "type": "histogram"
           }
          ],
          "histogram2d": [
           {
            "colorbar": {
             "outlinewidth": 0,
             "ticks": ""
            },
            "colorscale": [
             [
              0,
              "#0d0887"
             ],
             [
              0.1111111111111111,
              "#46039f"
             ],
             [
              0.2222222222222222,
              "#7201a8"
             ],
             [
              0.3333333333333333,
              "#9c179e"
             ],
             [
              0.4444444444444444,
              "#bd3786"
             ],
             [
              0.5555555555555556,
              "#d8576b"
             ],
             [
              0.6666666666666666,
              "#ed7953"
             ],
             [
              0.7777777777777778,
              "#fb9f3a"
             ],
             [
              0.8888888888888888,
              "#fdca26"
             ],
             [
              1,
              "#f0f921"
             ]
            ],
            "type": "histogram2d"
           }
          ],
          "histogram2dcontour": [
           {
            "colorbar": {
             "outlinewidth": 0,
             "ticks": ""
            },
            "colorscale": [
             [
              0,
              "#0d0887"
             ],
             [
              0.1111111111111111,
              "#46039f"
             ],
             [
              0.2222222222222222,
              "#7201a8"
             ],
             [
              0.3333333333333333,
              "#9c179e"
             ],
             [
              0.4444444444444444,
              "#bd3786"
             ],
             [
              0.5555555555555556,
              "#d8576b"
             ],
             [
              0.6666666666666666,
              "#ed7953"
             ],
             [
              0.7777777777777778,
              "#fb9f3a"
             ],
             [
              0.8888888888888888,
              "#fdca26"
             ],
             [
              1,
              "#f0f921"
             ]
            ],
            "type": "histogram2dcontour"
           }
          ],
          "mesh3d": [
           {
            "colorbar": {
             "outlinewidth": 0,
             "ticks": ""
            },
            "type": "mesh3d"
           }
          ],
          "parcoords": [
           {
            "line": {
             "colorbar": {
              "outlinewidth": 0,
              "ticks": ""
             }
            },
            "type": "parcoords"
           }
          ],
          "pie": [
           {
            "automargin": true,
            "type": "pie"
           }
          ],
          "scatter": [
           {
            "fillpattern": {
             "fillmode": "overlay",
             "size": 10,
             "solidity": 0.2
            },
            "type": "scatter"
           }
          ],
          "scatter3d": [
           {
            "line": {
             "colorbar": {
              "outlinewidth": 0,
              "ticks": ""
             }
            },
            "marker": {
             "colorbar": {
              "outlinewidth": 0,
              "ticks": ""
             }
            },
            "type": "scatter3d"
           }
          ],
          "scattercarpet": [
           {
            "marker": {
             "colorbar": {
              "outlinewidth": 0,
              "ticks": ""
             }
            },
            "type": "scattercarpet"
           }
          ],
          "scattergeo": [
           {
            "marker": {
             "colorbar": {
              "outlinewidth": 0,
              "ticks": ""
             }
            },
            "type": "scattergeo"
           }
          ],
          "scattergl": [
           {
            "marker": {
             "colorbar": {
              "outlinewidth": 0,
              "ticks": ""
             }
            },
            "type": "scattergl"
           }
          ],
          "scattermap": [
           {
            "marker": {
             "colorbar": {
              "outlinewidth": 0,
              "ticks": ""
             }
            },
            "type": "scattermap"
           }
          ],
          "scattermapbox": [
           {
            "marker": {
             "colorbar": {
              "outlinewidth": 0,
              "ticks": ""
             }
            },
            "type": "scattermapbox"
           }
          ],
          "scatterpolar": [
           {
            "marker": {
             "colorbar": {
              "outlinewidth": 0,
              "ticks": ""
             }
            },
            "type": "scatterpolar"
           }
          ],
          "scatterpolargl": [
           {
            "marker": {
             "colorbar": {
              "outlinewidth": 0,
              "ticks": ""
             }
            },
            "type": "scatterpolargl"
           }
          ],
          "scatterternary": [
           {
            "marker": {
             "colorbar": {
              "outlinewidth": 0,
              "ticks": ""
             }
            },
            "type": "scatterternary"
           }
          ],
          "surface": [
           {
            "colorbar": {
             "outlinewidth": 0,
             "ticks": ""
            },
            "colorscale": [
             [
              0,
              "#0d0887"
             ],
             [
              0.1111111111111111,
              "#46039f"
             ],
             [
              0.2222222222222222,
              "#7201a8"
             ],
             [
              0.3333333333333333,
              "#9c179e"
             ],
             [
              0.4444444444444444,
              "#bd3786"
             ],
             [
              0.5555555555555556,
              "#d8576b"
             ],
             [
              0.6666666666666666,
              "#ed7953"
             ],
             [
              0.7777777777777778,
              "#fb9f3a"
             ],
             [
              0.8888888888888888,
              "#fdca26"
             ],
             [
              1,
              "#f0f921"
             ]
            ],
            "type": "surface"
           }
          ],
          "table": [
           {
            "cells": {
             "fill": {
              "color": "#EBF0F8"
             },
             "line": {
              "color": "white"
             }
            },
            "header": {
             "fill": {
              "color": "#C8D4E3"
             },
             "line": {
              "color": "white"
             }
            },
            "type": "table"
           }
          ]
         },
         "layout": {
          "annotationdefaults": {
           "arrowcolor": "#2a3f5f",
           "arrowhead": 0,
           "arrowwidth": 1
          },
          "autotypenumbers": "strict",
          "coloraxis": {
           "colorbar": {
            "outlinewidth": 0,
            "ticks": ""
           }
          },
          "colorscale": {
           "diverging": [
            [
             0,
             "#8e0152"
            ],
            [
             0.1,
             "#c51b7d"
            ],
            [
             0.2,
             "#de77ae"
            ],
            [
             0.3,
             "#f1b6da"
            ],
            [
             0.4,
             "#fde0ef"
            ],
            [
             0.5,
             "#f7f7f7"
            ],
            [
             0.6,
             "#e6f5d0"
            ],
            [
             0.7,
             "#b8e186"
            ],
            [
             0.8,
             "#7fbc41"
            ],
            [
             0.9,
             "#4d9221"
            ],
            [
             1,
             "#276419"
            ]
           ],
           "sequential": [
            [
             0,
             "#0d0887"
            ],
            [
             0.1111111111111111,
             "#46039f"
            ],
            [
             0.2222222222222222,
             "#7201a8"
            ],
            [
             0.3333333333333333,
             "#9c179e"
            ],
            [
             0.4444444444444444,
             "#bd3786"
            ],
            [
             0.5555555555555556,
             "#d8576b"
            ],
            [
             0.6666666666666666,
             "#ed7953"
            ],
            [
             0.7777777777777778,
             "#fb9f3a"
            ],
            [
             0.8888888888888888,
             "#fdca26"
            ],
            [
             1,
             "#f0f921"
            ]
           ],
           "sequentialminus": [
            [
             0,
             "#0d0887"
            ],
            [
             0.1111111111111111,
             "#46039f"
            ],
            [
             0.2222222222222222,
             "#7201a8"
            ],
            [
             0.3333333333333333,
             "#9c179e"
            ],
            [
             0.4444444444444444,
             "#bd3786"
            ],
            [
             0.5555555555555556,
             "#d8576b"
            ],
            [
             0.6666666666666666,
             "#ed7953"
            ],
            [
             0.7777777777777778,
             "#fb9f3a"
            ],
            [
             0.8888888888888888,
             "#fdca26"
            ],
            [
             1,
             "#f0f921"
            ]
           ]
          },
          "colorway": [
           "#636efa",
           "#EF553B",
           "#00cc96",
           "#ab63fa",
           "#FFA15A",
           "#19d3f3",
           "#FF6692",
           "#B6E880",
           "#FF97FF",
           "#FECB52"
          ],
          "font": {
           "color": "#2a3f5f"
          },
          "geo": {
           "bgcolor": "white",
           "lakecolor": "white",
           "landcolor": "#E5ECF6",
           "showlakes": true,
           "showland": true,
           "subunitcolor": "white"
          },
          "hoverlabel": {
           "align": "left"
          },
          "hovermode": "closest",
          "mapbox": {
           "style": "light"
          },
          "paper_bgcolor": "white",
          "plot_bgcolor": "#E5ECF6",
          "polar": {
           "angularaxis": {
            "gridcolor": "white",
            "linecolor": "white",
            "ticks": ""
           },
           "bgcolor": "#E5ECF6",
           "radialaxis": {
            "gridcolor": "white",
            "linecolor": "white",
            "ticks": ""
           }
          },
          "scene": {
           "xaxis": {
            "backgroundcolor": "#E5ECF6",
            "gridcolor": "white",
            "gridwidth": 2,
            "linecolor": "white",
            "showbackground": true,
            "ticks": "",
            "zerolinecolor": "white"
           },
           "yaxis": {
            "backgroundcolor": "#E5ECF6",
            "gridcolor": "white",
            "gridwidth": 2,
            "linecolor": "white",
            "showbackground": true,
            "ticks": "",
            "zerolinecolor": "white"
           },
           "zaxis": {
            "backgroundcolor": "#E5ECF6",
            "gridcolor": "white",
            "gridwidth": 2,
            "linecolor": "white",
            "showbackground": true,
            "ticks": "",
            "zerolinecolor": "white"
           }
          },
          "shapedefaults": {
           "line": {
            "color": "#2a3f5f"
           }
          },
          "ternary": {
           "aaxis": {
            "gridcolor": "white",
            "linecolor": "white",
            "ticks": ""
           },
           "baxis": {
            "gridcolor": "white",
            "linecolor": "white",
            "ticks": ""
           },
           "bgcolor": "#E5ECF6",
           "caxis": {
            "gridcolor": "white",
            "linecolor": "white",
            "ticks": ""
           }
          },
          "title": {
           "x": 0.05
          },
          "xaxis": {
           "automargin": true,
           "gridcolor": "white",
           "linecolor": "white",
           "ticks": "",
           "title": {
            "standoff": 15
           },
           "zerolinecolor": "white",
           "zerolinewidth": 2
          },
          "yaxis": {
           "automargin": true,
           "gridcolor": "white",
           "linecolor": "white",
           "ticks": "",
           "title": {
            "standoff": 15
           },
           "zerolinecolor": "white",
           "zerolinewidth": 2
          }
         }
        },
        "title": {
         "font": {
          "size": 18
         },
         "text": "<b>RNN Sine Wave Prediction</b>",
         "x": 0.5
        },
        "width": 900,
        "xaxis": {
         "anchor": "y",
         "domain": [
          0,
          1
         ],
         "title": {
          "text": "Time Step"
         }
        },
        "xaxis2": {
         "anchor": "y2",
         "domain": [
          0,
          1
         ],
         "title": {
          "text": "Time Step"
         }
        },
        "yaxis": {
         "anchor": "x",
         "domain": [
          0.49,
          1
         ],
         "title": {
          "text": "Value"
         }
        },
        "yaxis2": {
         "anchor": "x2",
         "domain": [
          0,
          0.34
         ],
         "title": {
          "text": "Absolute Error"
         }
        }
       }
      }
     },
     "metadata": {},
     "output_type": "display_data"
    }
   ],
   "source": [
    "import numpy as np\n",
    "import plotly.graph_objects as go\n",
    "from plotly.subplots import make_subplots\n",
    "\n",
    "# Define a simple RNN with BPTT\n",
    "class SimpleRNNWithBPTT:\n",
    "    def __init__(self, input_size, hidden_size, output_size, learning_rate=0.01):\n",
    "        np.random.seed(42)  # For reproducible results\n",
    "        # Initialize weights and biases\n",
    "        self.Wx = np.random.randn(input_size, hidden_size) * 0.01\n",
    "        self.Wy = np.random.randn(hidden_size, hidden_size) * 0.01\n",
    "        self.Wo = np.random.randn(hidden_size, output_size) * 0.01\n",
    "        self.bh = np.zeros((1, hidden_size))\n",
    "        self.bo = np.zeros((1, output_size))\n",
    "        \n",
    "        self.learning_rate = learning_rate\n",
    "        self.hidden_size = hidden_size\n",
    "        self.input_size = input_size\n",
    "        self.output_size = output_size\n",
    "        \n",
    "    def forward(self, x_sequence):\n",
    "        # x_sequence shape: (seq_length, input_size)\n",
    "        seq_length = len(x_sequence)\n",
    "        # Initialize states and outputs\n",
    "        h = np.zeros((seq_length + 1, self.hidden_size))  # +1 for initial state h[-1]\n",
    "        y = np.zeros((seq_length, self.output_size))\n",
    "        \n",
    "        # Forward pass through time\n",
    "        for t in range(seq_length):\n",
    "            # Current input\n",
    "            x_t = x_sequence[t:t+1]\n",
    "            # Previous hidden state\n",
    "            h_prev = h[t:t+1]\n",
    "            \n",
    "            # Calculate current hidden state\n",
    "            h[t+1] = np.tanh(np.dot(x_t, self.Wx) + np.dot(h_prev, self.Wy) + self.bh)\n",
    "            # Calculate output\n",
    "            y[t] = np.dot(h[t+1], self.Wo) + self.bo\n",
    "        \n",
    "        return h[1:], y  # Return hidden states and outputs\n",
    "    \n",
    "    def backprop(self, x, targets, h, outputs):\n",
    "        # Initialize gradients\n",
    "        dWx = np.zeros_like(self.Wx)\n",
    "        dWy = np.zeros_like(self.Wy)\n",
    "        dWo = np.zeros_like(self.Wo)\n",
    "        dbh = np.zeros_like(self.bh)\n",
    "        dbo = np.zeros_like(self.bo)\n",
    "        \n",
    "        # Initial gradient of hidden state\n",
    "        dh_next = np.zeros((1, self.hidden_size))\n",
    "        \n",
    "        seq_length = len(x)\n",
    "        \n",
    "        # Backpropagation through time\n",
    "        for t in reversed(range(seq_length)):\n",
    "            # Gradient from output (MSE loss)\n",
    "            dy = outputs[t] - targets[t:t+1]\n",
    "            \n",
    "            # Gradient of output weights\n",
    "            h_t_reshaped = h[t].reshape(1, -1)\n",
    "            dWo += np.dot(h_t_reshaped.T, dy)\n",
    "            dbo += dy\n",
    "            \n",
    "            # Gradient into hidden layer\n",
    "            dh = np.dot(dy, self.Wo.T) + dh_next\n",
    "            \n",
    "            # Gradient through tanh\n",
    "            dh_raw = (1 - h[t] ** 2) * dh\n",
    "            \n",
    "            # Gradient of hidden weights, biases, and recurrent weights\n",
    "            dbh += dh_raw\n",
    "            dWx += np.dot(x[t].reshape(-1, 1), dh_raw)\n",
    "            \n",
    "            # We need the previous hidden state\n",
    "            prev_h = np.zeros((1, self.hidden_size)) if t == 0 else h[t-1:t]\n",
    "            dWy += np.dot(prev_h.T, dh_raw)\n",
    "            \n",
    "            # Gradient for next iteration\n",
    "            dh_next = np.dot(dh_raw, self.Wy.T)\n",
    "        \n",
    "        # Clip gradients to prevent exploding gradients\n",
    "        for grad in [dWx, dWy, dWo, dbh, dbo]:\n",
    "            np.clip(grad, -5, 5, out=grad)\n",
    "        \n",
    "        # Update weights\n",
    "        self.Wx -= self.learning_rate * dWx\n",
    "        self.Wy -= self.learning_rate * dWy\n",
    "        self.Wo -= self.learning_rate * dWo\n",
    "        self.bh -= self.learning_rate * dbh\n",
    "        self.bo -= self.learning_rate * dbo\n",
    "\n",
    "# Create a simple sequence prediction task\n",
    "# We'll create a sine wave and have the RNN predict the next value\n",
    "def generate_sine_wave(seq_length, frequency=0.1):\n",
    "    x = np.linspace(0, 10, seq_length)\n",
    "    sine_wave = np.sin(x * frequency)\n",
    "    return sine_wave.reshape(-1, 1)\n",
    "\n",
    "# Generate data\n",
    "seq_length = 100\n",
    "sine_wave = generate_sine_wave(seq_length + 1)  # +1 to allow for targets\n",
    "\n",
    "# Create training data and targets\n",
    "x_train = sine_wave[:-1]  # All but the last point\n",
    "y_train = sine_wave[1:]   # All but the first point (shifted by 1)\n",
    "\n",
    "# Initialize RNN with smaller learning rate for smoother convergence\n",
    "rnn = SimpleRNNWithBPTT(input_size=1, hidden_size=16, output_size=1, learning_rate=0.005)\n",
    "\n",
    "# Training loop with logging for visualization\n",
    "epochs = 300\n",
    "loss_history = []\n",
    "predictions_over_time = []\n",
    "\n",
    "# Store initial predictions\n",
    "_, initial_preds = rnn.forward(x_train)\n",
    "predictions_over_time.append(initial_preds.copy())\n",
    "\n",
    "# Training epochs\n",
    "for epoch in range(epochs):\n",
    "    # Forward pass\n",
    "    h, y_pred = rnn.forward(x_train)\n",
    "    \n",
    "    # Calculate loss (MSE)\n",
    "    loss = np.mean((y_pred - y_train) ** 2)\n",
    "    loss_history.append(loss)\n",
    "    \n",
    "    # Save predictions periodically\n",
    "    if epoch % 50 == 0 and epoch > 0:\n",
    "        predictions_over_time.append(y_pred.copy())\n",
    "    \n",
    "    # Backpropagation\n",
    "    rnn.backprop(x_train, y_train, h, y_pred)\n",
    "    \n",
    "    # Print progress\n",
    "    if epoch % 30 == 0:\n",
    "        print(f\"Epoch {epoch}, Loss: {loss:.4f}\")\n",
    "\n",
    "# Get final predictions\n",
    "_, final_predictions = rnn.forward(x_train)\n",
    "predictions_over_time.append(final_predictions)\n",
    "\n",
    "# Visualize training loss history with improved Plotly visualization\n",
    "fig_loss = go.Figure()\n",
    "fig_loss.add_trace(\n",
    "    go.Scatter(\n",
    "        x=list(range(epochs)),\n",
    "        y=loss_history,\n",
    "        mode='lines',\n",
    "        name='Training Loss',\n",
    "        line=dict(\n",
    "            color='rgb(31, 119, 180)',\n",
    "            width=2\n",
    "        ),\n",
    "        hovertemplate='Epoch: %{x}<br>Loss: %{y:.6f}<extra></extra>'\n",
    "    )\n",
    ")\n",
    "\n",
    "# Add markers at specific loss values\n",
    "marker_epochs = [0, 50, 100, 200, epochs-1]\n",
    "marker_losses = [loss_history[e] for e in marker_epochs]\n",
    "\n",
    "fig_loss.add_trace(\n",
    "    go.Scatter(\n",
    "        x=marker_epochs,\n",
    "        y=marker_losses,\n",
    "        mode='markers',\n",
    "        marker=dict(\n",
    "            color='red',\n",
    "            size=8,\n",
    "            line=dict(\n",
    "                color='darkred',\n",
    "                width=1.5\n",
    "            )\n",
    "        ),\n",
    "        name='Highlighted Points',\n",
    "        hovertemplate='Epoch: %{x}<br>Loss: %{y:.6f}<extra></extra>'\n",
    "    )\n",
    ")\n",
    "\n",
    "fig_loss.update_layout(\n",
    "    title=dict(\n",
    "        text='<b>RNN Training Loss Over Time</b>',\n",
    "        x=0.5,\n",
    "        font=dict(size=18)\n",
    "    ),\n",
    "    xaxis_title='Epoch',\n",
    "    yaxis_title='MSE Loss',\n",
    "    yaxis=dict(\n",
    "        type='log',\n",
    "        showgrid=True,\n",
    "        gridwidth=0.5,\n",
    "        gridcolor='lightgray'\n",
    "    ),\n",
    "    width=900,\n",
    "    height=500,\n",
    "    margin=dict(l=60, r=30, t=80, b=60),\n",
    "    hovermode='closest',\n",
    "    legend=dict(\n",
    "        yanchor=\"top\",\n",
    "        y=0.99,\n",
    "        xanchor=\"right\",\n",
    "        x=0.99,\n",
    "        bgcolor=\"rgba(255,255,255,0.8)\"\n",
    "    ),\n",
    "    shapes=[\n",
    "        # Annotation line for convergence region\n",
    "        dict(\n",
    "            type=\"line\",\n",
    "            yref=\"y\",\n",
    "            y0=loss_history[-1]*1.2,\n",
    "            y1=loss_history[-1]*1.2,\n",
    "            xref=\"x\",\n",
    "            x0=epochs*0.6,\n",
    "            x1=epochs-1,\n",
    "            line=dict(\n",
    "                color=\"green\",\n",
    "                width=2,\n",
    "                dash=\"dot\",\n",
    "            ),\n",
    "        ),\n",
    "    ],\n",
    "    annotations=[\n",
    "        dict(\n",
    "            x=epochs*0.8,\n",
    "            y=loss_history[-1]*1.3,\n",
    "            text=\"Convergence Region\",\n",
    "            showarrow=False,\n",
    "            font=dict(color=\"green\")\n",
    "        )\n",
    "    ]\n",
    ")\n",
    "\n",
    "# Show the loss curve\n",
    "fig_loss.show()\n",
    "\n",
    "# Visualize predictions with interactive Plotly\n",
    "# Create a subplot with 2 rows\n",
    "fig_pred = make_subplots(\n",
    "    rows=2, \n",
    "    cols=1,\n",
    "    subplot_titles=(\n",
    "        '<b>RNN Sine Wave Prediction (Final Result)</b>', \n",
    "        '<b>Training Progress Comparison</b>'\n",
    "    ),\n",
    "    vertical_spacing=0.15,\n",
    "    row_heights=[0.6, 0.4]\n",
    ")\n",
    "\n",
    "# Plot the final predictions vs true values\n",
    "fig_pred.add_trace(\n",
    "    go.Scatter(\n",
    "        x=list(range(seq_length)),\n",
    "        y=y_train.flatten(),\n",
    "        mode='lines',\n",
    "        name='True Values',\n",
    "        line=dict(color='blue', width=2.5),\n",
    "        hovertemplate='Time Step: %{x}<br>True Value: %{y:.4f}<extra></extra>'\n",
    "    ),\n",
    "    row=1, col=1\n",
    ")\n",
    "fig_pred.add_trace(\n",
    "    go.Scatter(\n",
    "        x=list(range(seq_length)),\n",
    "        y=final_predictions.flatten(),\n",
    "        mode='lines',\n",
    "        name='Predicted Values',\n",
    "        line=dict(color='red', width=2, dash='dot'),\n",
    "        hovertemplate='Time Step: %{x}<br>Prediction: %{y:.4f}<extra></extra>'\n",
    "    ),\n",
    "    row=1, col=1\n",
    ")\n",
    "\n",
    "# Calculate and plot error\n",
    "error = np.abs(y_train.flatten() - final_predictions.flatten())\n",
    "fig_pred.add_trace(\n",
    "    go.Bar(\n",
    "        x=list(range(seq_length)),\n",
    "        y=error,\n",
    "        name='Absolute Error',\n",
    "        marker_color='rgba(255, 165, 0, 0.5)',\n",
    "        hovertemplate='Time Step: %{x}<br>Error: %{y:.4f}<extra></extra>'\n",
    "    ),\n",
    "    row=2, col=1\n",
    ")\n",
    "\n",
    "# Show predictions at different stages of training\n",
    "stages = ['Initial', 'After 50 epochs', 'After 100 epochs', \n",
    "          'After 150 epochs', 'After 200 epochs', 'After 250 epochs', 'Final']\n",
    "colors = ['rgba(128,128,128,0.7)', 'rgba(250,128,114,0.7)', 'rgba(255,165,0,0.7)', \n",
    "          'rgba(107,142,35,0.7)', 'rgba(65,105,225,0.7)', 'rgba(186,85,211,0.7)', 'rgba(255,0,0,0.7)']\n",
    "\n",
    "# Select subset of time steps for clarity\n",
    "time_steps = np.arange(0, 100, 3)\n",
    "\n",
    "# Add button for each epoch's predictions\n",
    "buttons = []\n",
    "for i, preds in enumerate(predictions_over_time):\n",
    "    opacity = 0.4 if i < len(predictions_over_time)-1 else 0.8\n",
    "    epoch_num = 0 if i == 0 else (50*i if i < len(predictions_over_time)-1 else epochs)\n",
    "    \n",
    "    trace = go.Scatter(\n",
    "        x=time_steps,\n",
    "        y=preds.flatten()[time_steps],\n",
    "        mode='lines',\n",
    "        name=f'{stages[i]} (Epoch {epoch_num})',\n",
    "        line=dict(color=colors[i], width=2, dash='dot' if i < len(predictions_over_time)-1 else 'solid'),\n",
    "        visible=(i == len(predictions_over_time)-1),  # Only show final prediction by default\n",
    "        hovertemplate=f'{stages[i]}<br>Time: %{{x}}<br>Value: %{{y:.4f}}<extra></extra>'\n",
    "    )\n",
    "    fig_pred.add_trace(trace, row=1, col=1)\n",
    "    \n",
    "    # Create button for this epoch's visibility\n",
    "    visible_list = [False] * len(predictions_over_time)\n",
    "    visible_list[i] = True  # Make this prediction visible\n",
    "    buttons.append(dict(\n",
    "        method=\"update\",\n",
    "        label=stages[i],\n",
    "        args=[{\"visible\": [True, True, True] + visible_list}],  # Keep true/pred/error traces visible\n",
    "    ))\n",
    "\n",
    "# Add slider for prediction over time\n",
    "sliders = [dict(\n",
    "    active=len(predictions_over_time)-1,\n",
    "    currentvalue={\"prefix\": \"Showing: \"},\n",
    "    pad={\"t\": 50},\n",
    "    steps=[dict(\n",
    "        method=\"update\",\n",
    "        label=stages[i],\n",
    "        args=[{\"visible\": [True, True, True] + [i==j for j in range(len(predictions_over_time))]}],\n",
    "    ) for i in range(len(predictions_over_time))]\n",
    ")]\n",
    "\n",
    "# Configure the layout\n",
    "fig_pred.update_layout(\n",
    "    height=800,\n",
    "    width=900,\n",
    "    title=dict(\n",
    "        text='<b>RNN Sine Wave Prediction</b>',\n",
    "        x=0.5,\n",
    "        font=dict(size=18)\n",
    "    ),\n",
    "    sliders=sliders,\n",
    "    legend=dict(\n",
    "        orientation=\"h\",\n",
    "        yanchor=\"bottom\",\n",
    "        y=-0.2,\n",
    "        xanchor=\"center\",\n",
    "        x=0.5\n",
    "    ),\n",
    "    margin=dict(l=60, r=30, t=80, b=100),\n",
    "    hovermode='closest'\n",
    ")\n",
    "\n",
    "# Update axes\n",
    "fig_pred.update_xaxes(title_text=\"Time Step\", row=1, col=1)\n",
    "fig_pred.update_xaxes(title_text=\"Time Step\", row=2, col=1)\n",
    "fig_pred.update_yaxes(title_text=\"Value\", row=1, col=1)\n",
    "fig_pred.update_yaxes(title_text=\"Absolute Error\", row=2, col=1)\n",
    "\n",
    "# Show the figure\n",
    "fig_pred.show()"
   ]
  },
  {
   "cell_type": "markdown",
   "id": "d872ab9f",
   "metadata": {},
   "source": [
    "## Limitations of Basic RNNs: Vanishing and Exploding Gradients\n",
    "\n",
    "While the basic RNN structure we've explored can theoretically process sequences of arbitrary length, in practice they struggle to learn long-range dependencies. This is due to two major problems:\n",
    "\n",
    "### 1. Vanishing Gradients\n",
    "\n",
    "During BPTT, gradients are multiplied by the recurrent weight matrix Wy many times as they flow backward through time. If these weights have values less than 1, the gradients shrink exponentially with each time step, becoming effectively zero for steps far in the past. This means:\n",
    "\n",
    "- The network cannot learn long-term dependencies\n",
    "- Only recent inputs influence predictions\n",
    "- Training becomes extremely slow for earlier time steps\n",
    "\n",
    "### 2. Exploding Gradients\n",
    "\n",
    "Conversely, if recurrent weights have values greater than 1, gradients grow exponentially during backpropagation, leading to:\n",
    "\n",
    "- Numerical instability\n",
    "- Extremely large weight updates\n",
    "- Training divergence\n",
    "\n",
    "### Solutions\n",
    "\n",
    "To address these problems, several improved RNN architectures have been developed:\n",
    "\n",
    "1. **Long Short-Term Memory (LSTM)** - Introduces gates to control information flow and maintain gradients\n",
    "2. **Gated Recurrent Unit (GRU)** - A simplified version of LSTM with fewer parameters\n",
    "3. **Gradient clipping** - Prevents exploding gradients by limiting their magnitude\n",
    "4. **Skip connections** - Creates shortcuts for gradient flow across multiple time steps\n",
    "\n",
    "These advanced architectures have largely replaced simple RNNs in practical applications that require learning long-range dependencies."
   ]
  },
  {
   "cell_type": "markdown",
   "id": "1a4d5e42",
   "metadata": {},
   "source": [
    "## Summary: Key Concepts in Recurrent Neural Networks\n",
    "\n",
    "1. **Structure of RNNs**:\n",
    "   - Recurrent neurons have connections pointing backward, forming loops\n",
    "   - These loops create a form of memory allowing the network to consider past inputs\n",
    "   - Mathematically represented as: $y(t) = \\phi(W_x^T x(t) + W_y^T y(t-1) + b)$\n",
    "\n",
    "2. **Unrolling through time**:\n",
    "   - An RNN can be visualized by unrolling it through time\n",
    "   - Each time step becomes a layer in a very deep network that shares weights\n",
    "\n",
    "3. **Sequence Processing Configurations**:\n",
    "   - Sequence-to-Sequence: Maps input sequences to output sequences\n",
    "   - Sequence-to-Vector: Summarizes a sequence into a single vector\n",
    "   - Vector-to-Sequence: Generates a sequence from a static input\n",
    "   - Encoder-Decoder: Combines the above for complex tasks like translation\n",
    "\n",
    "4. **Training via BPTT**:\n",
    "   - Forward pass processes the sequence step by step\n",
    "   - Cost function evaluates selected outputs\n",
    "   - Gradients flow backward through time\n",
    "   - Shared weights result in summing gradients across time steps\n",
    "\n",
    "5. **Limitations**:\n",
    "   - Basic RNNs struggle with long sequences due to vanishing/exploding gradients\n",
    "   - Advanced architectures like LSTM and GRU address these limitations\n",
    "\n",
    "Understanding these concepts provides the foundation for working with sequential data in deep learning, from natural language processing to time series forecasting and beyond."
   ]
  },
  {
   "cell_type": "markdown",
   "id": "83e368f9",
   "metadata": {},
   "source": [
    "# Long Short-Term Memory (LSTM) Networks: Overcoming RNN Limitations\n",
    "\n",
    "LSTMs were introduced to address the vanishing and exploding gradient problems that plague basic RNNs, enabling the learning of long-range dependencies in sequential data. They achieve this by introducing a memory cell and a set of gates that control the flow of information.\n",
    "\n",
    "## Motivation: Why LSTMs?\n",
    "- **Vanishing gradients** in RNNs make it hard to learn dependencies over long sequences.\n",
    "- LSTMs use a memory cell and gating mechanisms to allow gradients to flow unchanged over many time steps, preserving information and enabling learning of long-term dependencies.\n",
    "\n",
    "## LSTM Architecture and Gating Mechanisms\n",
    "An LSTM cell consists of:\n",
    "- **Cell state ($c_t$):** The memory of the network, running through the cell with only minor linear interactions.\n",
    "- **Hidden state ($h_t$):** The output at each time step.\n",
    "- **Gates:** Neural network layers that control the flow of information:\n",
    "    - **Forget gate ($f_t$):** Decides what information to discard from the cell state.\n",
    "    - **Input gate ($i_t$):** Decides what new information to add to the cell state.\n",
    "    - **Output gate ($o_t$):** Decides what part of the cell state to output.\n",
    "\n",
    "### LSTM Equations\n",
    "Given input $x_t$, previous hidden state $h_{t-1}$, and previous cell state $c_{t-1}$:\n",
    "\n",
    "$$\n",
    "\\begin{align*}\n",
    "f_t &= \\sigma(W_f x_t + U_f h_{t-1} + b_f) &\\text{(forget gate)} \\\\\n",
    "i_t &= \\sigma(W_i x_t + U_i h_{t-1} + b_i) &\\text{(input gate)} \\\\\n",
    "\\tilde{c}_t &= \\tanh(W_c x_t + U_c h_{t-1} + b_c) &\\text{(candidate cell state)} \\\\\n",
    "c_t &= f_t \\odot c_{t-1} + i_t \\odot \\tilde{c}_t &\\text{(new cell state)} \\\\\n",
    "o_t &= \\sigma(W_o x_t + U_o h_{t-1} + b_o) &\\text{(output gate)} \\\\\n",
    "h_t &= o_t \\odot \\tanh(c_t) &\\text{(new hidden state)}\n",
    "\\end{align*}\n",
    "$$\n",
    "\n",
    "Where $\\sigma$ is the sigmoid function, $\\tanh$ is the hyperbolic tangent, and $\\odot$ denotes element-wise multiplication.\n",
    "\n",
    "### LSTM Cell Diagram\n",
    "Below is a schematic of the LSTM cell, showing the flow of information and the gating mechanisms:\n",
    "\n",
    "![LSTM Cell Diagram](https://colah.github.io/posts/2015-08-Understanding-LSTMs/img/LSTM3-chain.png)\n",
    "\n",
    "*Source: Chris Olah's blog*\n",
    "\n",
    "## LSTM vs. RNN: Key Differences\n",
    "- **Memory cell:** LSTMs have an explicit memory cell, RNNs do not.\n",
    "- **Gating:** LSTMs use gates to control information flow, RNNs use a single activation.\n",
    "- **Gradient flow:** LSTMs preserve gradients over long sequences, RNNs do not.\n",
    "\n",
    "## LSTM Implementation and Visualization\n",
    "Let's implement a simple LSTM from scratch (no deep learning frameworks) and visualize its hidden and cell states over time."
   ]
  },
  {
   "cell_type": "code",
   "execution_count": null,
   "id": "072f43dd",
   "metadata": {},
   "outputs": [],
   "source": [
    "import numpy as np\n",
    "import plotly.graph_objects as go\n",
    "from plotly.subplots import make_subplots\n",
    "\n",
    "class SimpleLSTM:\n",
    "    def __init__(self, input_size, hidden_size):\n",
    "        np.random.seed(42)\n",
    "        self.input_size = input_size\n",
    "        self.hidden_size = hidden_size\n",
    "        # Weights for gates and cell\n",
    "        self.Wf = np.random.randn(input_size, hidden_size) * 0.1\n",
    "        self.Uf = np.random.randn(hidden_size, hidden_size) * 0.1\n",
    "        self.bf = np.zeros((1, hidden_size))\n",
    "        \n",
    "        self.Wi = np.random.randn(input_size, hidden_size) * 0.1\n",
    "        self.Ui = np.random.randn(hidden_size, hidden_size) * 0.1\n",
    "        self.bi = np.zeros((1, hidden_size))\n",
    "        \n",
    "        self.Wc = np.random.randn(input_size, hidden_size) * 0.1\n",
    "        self.Uc = np.random.randn(hidden_size, hidden_size) * 0.1\n",
    "        self.bc = np.zeros((1, hidden_size))\n",
    "        \n",
    "        self.Wo = np.random.randn(input_size, hidden_size) * 0.1\n",
    "        self.Uo = np.random.randn(hidden_size, hidden_size) * 0.1\n",
    "        self.bo = np.zeros((1, hidden_size))\n",
    "    \n",
    "    def sigmoid(self, x):\n",
    "        return 1 / (1 + np.exp(-x))\n",
    "    \n",
    "    def forward(self, x_sequence):\n",
    "        seq_length = len(x_sequence)\n",
    "        h = np.zeros((seq_length + 1, self.hidden_size))\n",
    "        c = np.zeros((seq_length + 1, self.hidden_size))\n",
    "        f_s, i_s, o_s = [], [], []\n",
    "        for t in range(seq_length):\n",
    "            x_t = x_sequence[t:t+1]\n",
    "            h_prev = h[t:t+1]\n",
    "            c_prev = c[t:t+1]\n",
    "            f_t = self.sigmoid(x_t @ self.Wf + h_prev @ self.Uf + self.bf)\n",
    "            i_t = self.sigmoid(x_t @ self.Wi + h_prev @ self.Ui + self.bi)\n",
    "            c_hat_t = np.tanh(x_t @ self.Wc + h_prev @ self.Uc + self.bc)\n",
    "            c[t+1] = f_t * c_prev + i_t * c_hat_t\n",
    "            o_t = self.sigmoid(x_t @ self.Wo + h_prev @ self.Uo + self.bo)\n",
    "            h[t+1] = o_t * np.tanh(c[t+1])\n",
    "            f_s.append(f_t.squeeze())\n",
    "            i_s.append(i_t.squeeze())\n",
    "            o_s.append(o_t.squeeze())\n",
    "        return h[1:], c[1:], np.array(f_s), np.array(i_s), np.array(o_s)\n",
    "\n",
    "# Example sequence\n",
    "seq_length = 15\n",
    "input_size = 2\n",
    "hidden_size = 3\n",
    "x_sequence = np.zeros((seq_length, input_size))\n",
    "x_sequence[:, 0] = np.sin(np.linspace(0, 4*np.pi, seq_length))\n",
    "x_sequence[:, 1] = np.cos(np.linspace(0, 3*np.pi, seq_length))\n",
    "lstm = SimpleLSTM(input_size, hidden_size)\n",
    "h, c, f_s, i_s, o_s = lstm.forward(x_sequence)\n",
    "\n",
    "# Visualization\n",
    "fig = make_subplots(rows=3, cols=1, subplot_titles=(\n",
    "    '<b>LSTM Hidden States Over Time</b>',\n",
    "    '<b>LSTM Cell States Over Time</b>',\n",
    "    '<b>LSTM Gate Activations (Forget, Input, Output)</b>'),\n",
    "    vertical_spacing=0.12, row_heights=[0.33, 0.33, 0.34])\n",
    "\n",
    "# Hidden states\n",
    "for i in range(hidden_size):\n",
    "    fig.add_trace(go.Scatter(x=list(range(seq_length)), y=h[:, i], mode='lines+markers',\n",
    "                             name=f'hidden {i+1}', legendgroup='h', showlegend=(i==0)), row=1, col=1)\n",
    "# Cell states\n",
    "for i in range(hidden_size):\n",
    "    fig.add_trace(go.Scatter(x=list(range(seq_length)), y=c[:, i], mode='lines+markers',\n",
    "                             name=f'cell {i+1}', legendgroup='c', showlegend=(i==0)), row=2, col=1)\n",
    "# Gates (average across hidden units)\n",
    "fig.add_trace(go.Scatter(x=list(range(seq_length)), y=f_s.mean(axis=1), mode='lines+markers',\n",
    "                         name='Forget Gate (avg)', line=dict(color='blue')), row=3, col=1)\n",
    "fig.add_trace(go.Scatter(x=list(range(seq_length)), y=i_s.mean(axis=1), mode='lines+markers',\n",
    "                         name='Input Gate (avg)', line=dict(color='green')), row=3, col=1)\n",
    "fig.add_trace(go.Scatter(x=list(range(seq_length)), y=o_s.mean(axis=1), mode='lines+markers',\n",
    "                         name='Output Gate (avg)', line=dict(color='red')), row=3, col=1)\n",
    "\n",
    "fig.update_layout(height=900, width=900, title='<b>LSTM Dynamics Visualization</b>',\n",
    "                  legend=dict(orientation='h', yanchor='bottom', y=-0.15, xanchor='center', x=0.5),\n",
    "                  margin=dict(l=60, r=30, t=100, b=100), hovermode='closest')\n",
    "fig.update_xaxes(title_text='Time Step', row=1, col=1)\n",
    "fig.update_xaxes(title_text='Time Step', row=2, col=1)\n",
    "fig.update_xaxes(title_text='Time Step', row=3, col=1)\n",
    "fig.update_yaxes(title_text='Hidden State', row=1, col=1)\n",
    "fig.update_yaxes(title_text='Cell State', row=2, col=1)\n",
    "fig.update_yaxes(title_text='Gate Activation', row=3, col=1)\n",
    "fig.show()\n"
   ]
  },
  {
   "cell_type": "markdown",
   "id": "7a8c32ba",
   "metadata": {},
   "source": [
    "# Deep Dive: Interactive Visualization of Vanishing/Exploding Gradients and Activation Functions\n",
    "\n",
    "(See interactive dashboard below for details.)"
   ]
  },
  {
   "cell_type": "markdown",
   "id": "e7865232",
   "metadata": {},
   "source": [
    "# Transformers: The Basics\n",
    "Transformers are a foundational architecture in modern deep learning, especially for natural language processing. Unlike RNNs, Transformers process all tokens in a sequence simultaneously, using self-attention to model relationships between tokens. However, this parallelism means they lack an inherent sense of order, making positional encoding essential."
   ]
  },
  {
   "cell_type": "markdown",
   "id": "f8ef3b0c",
   "metadata": {},
   "source": [
    "## Self-Attention and Permutation Invariance\n",
    "The self-attention mechanism allows each token to attend to every other token in the sequence. However, without positional information, the model is permutation-invariant: shuffling the input tokens does not change the attention scores. This is problematic for language, where word order matters."
   ]
  },
  {
   "cell_type": "markdown",
   "id": "f65c03a6",
   "metadata": {},
   "source": [
    "## Positional Encoding: The Traditional Approach\n",
    "To address the lack of order, the original Transformer paper introduced positional encodings—vectors added to token embeddings to inject position information. These encodings are typically sinusoidal functions of the position index, allowing the model to distinguish between different positions in the sequence."
   ]
  },
  {
   "cell_type": "markdown",
   "id": "3ec00318",
   "metadata": {},
   "source": [
    "## Traditional Positional Encoding: A Deeper Dive\n",
    "\n",
    "In the original Transformer paper \"Attention Is All You Need,\" the authors faced a critical challenge: how to inject information about token positions into a model that processes all tokens simultaneously. Their solution was elegantly simple yet effective.\n",
    "\n",
    "### Fixed Sinusoidal Positional Encoding\n",
    "\n",
    "Unlike token embeddings which are learned during training, positional encodings were **fixed** using carefully designed sinusoidal functions:\n",
    "\n",
    "$$PE_{(pos, 2i)} = \\sin(pos / 10000^{2i/d_{model}})$$\n",
    "$$PE_{(pos, 2i+1)} = \\cos(pos / 10000^{2i/d_{model}})$$\n",
    "\n",
    "Where:\n",
    "- $pos$ is the position in the sequence (0, 1, 2, ...)\n",
    "- $i$ is the dimension index (paired across even/odd dimensions)\n",
    "- $d_{model}$ is the embedding dimension\n",
    "\n",
    "### Why This Approach Works\n",
    "\n",
    "1. **Unique positional signature**: Each position gets a unique vector through the $pos$ term\n",
    "\n",
    "2. **Multi-scale representation**: Different dimensions oscillate at different frequencies:\n",
    "   - Early dimensions change rapidly with position (high frequency)\n",
    "   - Later dimensions change slowly (low frequency)\n",
    "   - This creates a multi-resolution representation of position\n",
    "\n",
    "3. **Extrapolation**: The sinusoidal pattern allows the model to potentially handle sequences longer than those seen during training\n",
    "\n",
    "4. **Zero additional parameters**: Unlike learned position embeddings, this approach requires no additional trainable weights\n",
    "\n",
    "5. **Relative position encoding**: For any fixed offset $k$, $PE_{(pos+k)}$ can be expressed as a linear function of $PE_{(pos)}$, making it easier for the model to learn to attend by relative positions\n",
    "\n",
    "### How It's Applied\n",
    "\n",
    "The positional encoding is simply added to the token embedding before the first layer of the Transformer:\n",
    "\n",
    "$$Input\\_Representation = Token\\_Embedding + Positional\\_Encoding$$\n",
    "\n",
    "This element-wise addition combines semantic information (from token embeddings) with positional information (from positional encodings) into a single representation that preserves the dimensionality of the original embeddings."
   ]
  },
  {
   "cell_type": "code",
   "execution_count": null,
   "id": "73519d05",
   "metadata": {},
   "outputs": [
    {
     "data": {
      "application/vnd.plotly.v1+json": {
       "config": {
        "plotlyServerURL": "https://plot.ly"
       },
       "data": [
        {
         "mode": "lines",
         "name": "Position 0",
         "type": "scatter",
         "x": [
          0,
          1,
          2,
          3,
          4,
          5,
          6,
          7,
          8,
          9,
          10,
          11,
          12,
          13,
          14,
          15,
          16,
          17,
          18,
          19,
          20,
          21,
          22,
          23,
          24,
          25,
          26,
          27,
          28,
          29,
          30,
          31,
          32,
          33,
          34,
          35,
          36,
          37,
          38,
          39,
          40,
          41,
          42,
          43,
          44,
          45,
          46,
          47,
          48,
          49,
          50,
          51,
          52,
          53,
          54,
          55,
          56,
          57,
          58,
          59,
          60,
          61,
          62,
          63
         ],
         "y": {
          "bdata": "AAAAAAAAgD8AAAAAAACAPwAAAAAAAIA/AAAAAAAAgD8AAAAAAACAPwAAAAAAAIA/AAAAAAAAgD8AAAAAAACAPwAAAAAAAIA/AAAAAAAAgD8AAAAAAACAPwAAAAAAAIA/AAAAAAAAgD8AAAAAAACAPwAAAAAAAIA/AAAAAAAAgD8AAAAAAACAPwAAAAAAAIA/AAAAAAAAgD8AAAAAAACAPwAAAAAAAIA/AAAAAAAAgD8AAAAAAACAPwAAAAAAAIA/AAAAAAAAgD8AAAAAAACAPwAAAAAAAIA/AAAAAAAAgD8AAAAAAACAPwAAAAAAAIA/AAAAAAAAgD8AAAAAAACAPw==",
          "dtype": "f4"
         }
        },
        {
         "mode": "lines",
         "name": "Position 1",
         "type": "scatter",
         "x": [
          0,
          1,
          2,
          3,
          4,
          5,
          6,
          7,
          8,
          9,
          10,
          11,
          12,
          13,
          14,
          15,
          16,
          17,
          18,
          19,
          20,
          21,
          22,
          23,
          24,
          25,
          26,
          27,
          28,
          29,
          30,
          31,
          32,
          33,
          34,
          35,
          36,
          37,
          38,
          39,
          40,
          41,
          42,
          43,
          44,
          45,
          46,
          47,
          48,
          49,
          50,
          51,
          52,
          53,
          54,
          55,
          56,
          57,
          58,
          59,
          60,
          61,
          62,
          63
         ],
         "y": {
          "bdata": "pGpXP0FRCj/Oei4/sFQ7P7p9CD8OlFg/8JDRPseSaT8+OZ8+a05zPyWPcD7x1Xg/OiM1PoP2ez/zJQg+KLp9P3Z1zD2YuH4/Nm+ZPdFHfz+uNmY9aJh/P/usLD29xX8/W4EBPTzffz+lPsI8k+1/P0OrkTyj9X8/SXpaPCz6fz9X1iM8ufx/Pxa59Tso/n8/WkS4O/f+fz9aLoo7a/9/Pxw+Tzus/38/BGkbO9H/fz8gFek65v9/P4vJrjrx/38/bRKDOvj/fz+JlEQ6+/9/PxNqEzr+/38/IhfdOf//fz9gy6U5//9/Pw2oeDkAAIA/U3c6OQAAgD9t1As5AACAPw==",
          "dtype": "f4"
         }
        },
        {
         "mode": "lines",
         "name": "Position 10",
         "type": "scatter",
         "x": [
          0,
          1,
          2,
          3,
          4,
          5,
          6,
          7,
          8,
          9,
          10,
          11,
          12,
          13,
          14,
          15,
          16,
          17,
          18,
          19,
          20,
          21,
          22,
          23,
          24,
          25,
          26,
          27,
          28,
          29,
          30,
          31,
          32,
          33,
          34,
          35,
          36,
          37,
          38,
          39,
          40,
          41,
          42,
          43,
          44,
          45,
          46,
          47,
          48,
          49,
          50,
          51,
          52,
          53,
          54,
          55,
          56,
          57,
          58,
          59,
          60,
          61,
          62,
          63
         ],
         "y": {
          "bdata": "+EQLv2TNVr+yCHA/P/yxPm/pHL8VRko/azhhv0do876XcKm8+/F/vzxAMj/+vje/a4J6PwvxUr7T03g/LrJwPqRqVz9BUQo/zXouP7FUOz+5fQg/DpRYP/KQ0T7Gkmk/PTmfPmtOcz8lj3A+8dV4PzsjNT6D9ns/8yUIPii6fT92dcw9mLh+PzVvmT3RR38/rTZmPWiYfz/3rCw9vcV/P1mBAT08338/qT7CPJPtfz9Cq5E8o/V/P0p6Wjws+n8/V9YjPLn8fz8VufU7KP5/P1lEuDv3/n8/Wi6KO2v/fz8hPk87rP9/P/5oGzvR/38/IBXpOub/fz+Fya468f9/Pw==",
          "dtype": "f4"
         }
        },
        {
         "mode": "lines",
         "name": "Position 50",
         "type": "scatter",
         "x": [
          0,
          1,
          2,
          3,
          4,
          5,
          6,
          7,
          8,
          9,
          10,
          11,
          12,
          13,
          14,
          15,
          16,
          17,
          18,
          19,
          20,
          21,
          22,
          23,
          24,
          25,
          26,
          27,
          28,
          29,
          30,
          31,
          32,
          33,
          34,
          35,
          36,
          37,
          38,
          39,
          40,
          41,
          42,
          43,
          44,
          45,
          46,
          47,
          48,
          49,
          50,
          51,
          52,
          53,
          54,
          55,
          56,
          57,
          58,
          59,
          60,
          61,
          62,
          63
         ],
         "y": {
          "bdata": "/1WGvgQIdz+i2k++sqt6P8BgID4613y/wIhJP1LcHb+8b9O9zqF+v93FJr88OUI/pikCP5JwXL8RA8A+4VBtPxJ8db8cPJE+YDUSv/8jUr/g2qU+PzJyv5vgWz9FHAO/f/x/P2lyKbz3P20/mlbAPqzKRj/wTCE/U1IePxksST9Ed/U+QKlgP52Buz4FN24/7BGOPnzydT/1T1Y+oFR6Pxs8IT6Bznw/mELyPd8zfj8h27U9Hv1+P5JziD1hbn8/9LZMPRmufz/Wihk98NF/P/pN5jwZ5n8/zLasPG/xfz+BhYE8z/d/PyBCQjxl+38/u6wRPGn9fz+Ae9o7i/5/Pw==",
          "dtype": "f4"
         }
        }
       ],
       "layout": {
        "height": 500,
        "legend": {
         "title": {
          "text": "Position"
         }
        },
        "template": {
         "data": {
          "bar": [
           {
            "error_x": {
             "color": "#2a3f5f"
            },
            "error_y": {
             "color": "#2a3f5f"
            },
            "marker": {
             "line": {
              "color": "#E5ECF6",
              "width": 0.5
             },
             "pattern": {
              "fillmode": "overlay",
              "size": 10,
              "solidity": 0.2
             }
            },
            "type": "bar"
           }
          ],
          "barpolar": [
           {
            "marker": {
             "line": {
              "color": "#E5ECF6",
              "width": 0.5
             },
             "pattern": {
              "fillmode": "overlay",
              "size": 10,
              "solidity": 0.2
             }
            },
            "type": "barpolar"
           }
          ],
          "carpet": [
           {
            "aaxis": {
             "endlinecolor": "#2a3f5f",
             "gridcolor": "white",
             "linecolor": "white",
             "minorgridcolor": "white",
             "startlinecolor": "#2a3f5f"
            },
            "baxis": {
             "endlinecolor": "#2a3f5f",
             "gridcolor": "white",
             "linecolor": "white",
             "minorgridcolor": "white",
             "startlinecolor": "#2a3f5f"
            },
            "type": "carpet"
           }
          ],
          "choropleth": [
           {
            "colorbar": {
             "outlinewidth": 0,
             "ticks": ""
            },
            "type": "choropleth"
           }
          ],
          "contour": [
           {
            "colorbar": {
             "outlinewidth": 0,
             "ticks": ""
            },
            "colorscale": [
             [
              0,
              "#0d0887"
             ],
             [
              0.1111111111111111,
              "#46039f"
             ],
             [
              0.2222222222222222,
              "#7201a8"
             ],
             [
              0.3333333333333333,
              "#9c179e"
             ],
             [
              0.4444444444444444,
              "#bd3786"
             ],
             [
              0.5555555555555556,
              "#d8576b"
             ],
             [
              0.6666666666666666,
              "#ed7953"
             ],
             [
              0.7777777777777778,
              "#fb9f3a"
             ],
             [
              0.8888888888888888,
              "#fdca26"
             ],
             [
              1,
              "#f0f921"
             ]
            ],
            "type": "contour"
           }
          ],
          "contourcarpet": [
           {
            "colorbar": {
             "outlinewidth": 0,
             "ticks": ""
            },
            "type": "contourcarpet"
           }
          ],
          "heatmap": [
           {
            "colorbar": {
             "outlinewidth": 0,
             "ticks": ""
            },
            "colorscale": [
             [
              0,
              "#0d0887"
             ],
             [
              0.1111111111111111,
              "#46039f"
             ],
             [
              0.2222222222222222,
              "#7201a8"
             ],
             [
              0.3333333333333333,
              "#9c179e"
             ],
             [
              0.4444444444444444,
              "#bd3786"
             ],
             [
              0.5555555555555556,
              "#d8576b"
             ],
             [
              0.6666666666666666,
              "#ed7953"
             ],
             [
              0.7777777777777778,
              "#fb9f3a"
             ],
             [
              0.8888888888888888,
              "#fdca26"
             ],
             [
              1,
              "#f0f921"
             ]
            ],
            "type": "heatmap"
           }
          ],
          "histogram": [
           {
            "marker": {
             "pattern": {
              "fillmode": "overlay",
              "size": 10,
              "solidity": 0.2
             }
            },
            "type": "histogram"
           }
          ],
          "histogram2d": [
           {
            "colorbar": {
             "outlinewidth": 0,
             "ticks": ""
            },
            "colorscale": [
             [
              0,
              "#0d0887"
             ],
             [
              0.1111111111111111,
              "#46039f"
             ],
             [
              0.2222222222222222,
              "#7201a8"
             ],
             [
              0.3333333333333333,
              "#9c179e"
             ],
             [
              0.4444444444444444,
              "#bd3786"
             ],
             [
              0.5555555555555556,
              "#d8576b"
             ],
             [
              0.6666666666666666,
              "#ed7953"
             ],
             [
              0.7777777777777778,
              "#fb9f3a"
             ],
             [
              0.8888888888888888,
              "#fdca26"
             ],
             [
              1,
              "#f0f921"
             ]
            ],
            "type": "histogram2d"
           }
          ],
          "histogram2dcontour": [
           {
            "colorbar": {
             "outlinewidth": 0,
             "ticks": ""
            },
            "colorscale": [
             [
              0,
              "#0d0887"
             ],
             [
              0.1111111111111111,
              "#46039f"
             ],
             [
              0.2222222222222222,
              "#7201a8"
             ],
             [
              0.3333333333333333,
              "#9c179e"
             ],
             [
              0.4444444444444444,
              "#bd3786"
             ],
             [
              0.5555555555555556,
              "#d8576b"
             ],
             [
              0.6666666666666666,
              "#ed7953"
             ],
             [
              0.7777777777777778,
              "#fb9f3a"
             ],
             [
              0.8888888888888888,
              "#fdca26"
             ],
             [
              1,
              "#f0f921"
             ]
            ],
            "type": "histogram2dcontour"
           }
          ],
          "mesh3d": [
           {
            "colorbar": {
             "outlinewidth": 0,
             "ticks": ""
            },
            "type": "mesh3d"
           }
          ],
          "parcoords": [
           {
            "line": {
             "colorbar": {
              "outlinewidth": 0,
              "ticks": ""
             }
            },
            "type": "parcoords"
           }
          ],
          "pie": [
           {
            "automargin": true,
            "type": "pie"
           }
          ],
          "scatter": [
           {
            "fillpattern": {
             "fillmode": "overlay",
             "size": 10,
             "solidity": 0.2
            },
            "type": "scatter"
           }
          ],
          "scatter3d": [
           {
            "line": {
             "colorbar": {
              "outlinewidth": 0,
              "ticks": ""
             }
            },
            "marker": {
             "colorbar": {
              "outlinewidth": 0,
              "ticks": ""
             }
            },
            "type": "scatter3d"
           }
          ],
          "scattercarpet": [
           {
            "marker": {
             "colorbar": {
              "outlinewidth": 0,
              "ticks": ""
             }
            },
            "type": "scattercarpet"
           }
          ],
          "scattergeo": [
           {
            "marker": {
             "colorbar": {
              "outlinewidth": 0,
              "ticks": ""
             }
            },
            "type": "scattergeo"
           }
          ],
          "scattergl": [
           {
            "marker": {
             "colorbar": {
              "outlinewidth": 0,
              "ticks": ""
             }
            },
            "type": "scattergl"
           }
          ],
          "scattermap": [
           {
            "marker": {
             "colorbar": {
              "outlinewidth": 0,
              "ticks": ""
             }
            },
            "type": "scattermap"
           }
          ],
          "scattermapbox": [
           {
            "marker": {
             "colorbar": {
              "outlinewidth": 0,
              "ticks": ""
             }
            },
            "type": "scattermapbox"
           }
          ],
          "scatterpolar": [
           {
            "marker": {
             "colorbar": {
              "outlinewidth": 0,
              "ticks": ""
             }
            },
            "type": "scatterpolar"
           }
          ],
          "scatterpolargl": [
           {
            "marker": {
             "colorbar": {
              "outlinewidth": 0,
              "ticks": ""
             }
            },
            "type": "scatterpolargl"
           }
          ],
          "scatterternary": [
           {
            "marker": {
             "colorbar": {
              "outlinewidth": 0,
              "ticks": ""
             }
            },
            "type": "scatterternary"
           }
          ],
          "surface": [
           {
            "colorbar": {
             "outlinewidth": 0,
             "ticks": ""
            },
            "colorscale": [
             [
              0,
              "#0d0887"
             ],
             [
              0.1111111111111111,
              "#46039f"
             ],
             [
              0.2222222222222222,
              "#7201a8"
             ],
             [
              0.3333333333333333,
              "#9c179e"
             ],
             [
              0.4444444444444444,
              "#bd3786"
             ],
             [
              0.5555555555555556,
              "#d8576b"
             ],
             [
              0.6666666666666666,
              "#ed7953"
             ],
             [
              0.7777777777777778,
              "#fb9f3a"
             ],
             [
              0.8888888888888888,
              "#fdca26"
             ],
             [
              1,
              "#f0f921"
             ]
            ],
            "type": "surface"
           }
          ],
          "table": [
           {
            "cells": {
             "fill": {
              "color": "#EBF0F8"
             },
             "line": {
              "color": "white"
             }
            },
            "header": {
             "fill": {
              "color": "#C8D4E3"
             },
             "line": {
              "color": "white"
             }
            },
            "type": "table"
           }
          ]
         },
         "layout": {
          "annotationdefaults": {
           "arrowcolor": "#2a3f5f",
           "arrowhead": 0,
           "arrowwidth": 1
          },
          "autotypenumbers": "strict",
          "coloraxis": {
           "colorbar": {
            "outlinewidth": 0,
            "ticks": ""
           }
          },
          "colorscale": {
           "diverging": [
            [
             0,
             "#8e0152"
            ],
            [
             0.1,
             "#c51b7d"
            ],
            [
             0.2,
             "#de77ae"
            ],
            [
             0.3,
             "#f1b6da"
            ],
            [
             0.4,
             "#fde0ef"
            ],
            [
             0.5,
             "#f7f7f7"
            ],
            [
             0.6,
             "#e6f5d0"
            ],
            [
             0.7,
             "#b8e186"
            ],
            [
             0.8,
             "#7fbc41"
            ],
            [
             0.9,
             "#4d9221"
            ],
            [
             1,
             "#276419"
            ]
           ],
           "sequential": [
            [
             0,
             "#0d0887"
            ],
            [
             0.1111111111111111,
             "#46039f"
            ],
            [
             0.2222222222222222,
             "#7201a8"
            ],
            [
             0.3333333333333333,
             "#9c179e"
            ],
            [
             0.4444444444444444,
             "#bd3786"
            ],
            [
             0.5555555555555556,
             "#d8576b"
            ],
            [
             0.6666666666666666,
             "#ed7953"
            ],
            [
             0.7777777777777778,
             "#fb9f3a"
            ],
            [
             0.8888888888888888,
             "#fdca26"
            ],
            [
             1,
             "#f0f921"
            ]
           ],
           "sequentialminus": [
            [
             0,
             "#0d0887"
            ],
            [
             0.1111111111111111,
             "#46039f"
            ],
            [
             0.2222222222222222,
             "#7201a8"
            ],
            [
             0.3333333333333333,
             "#9c179e"
            ],
            [
             0.4444444444444444,
             "#bd3786"
            ],
            [
             0.5555555555555556,
             "#d8576b"
            ],
            [
             0.6666666666666666,
             "#ed7953"
            ],
            [
             0.7777777777777778,
             "#fb9f3a"
            ],
            [
             0.8888888888888888,
             "#fdca26"
            ],
            [
             1,
             "#f0f921"
            ]
           ]
          },
          "colorway": [
           "#636efa",
           "#EF553B",
           "#00cc96",
           "#ab63fa",
           "#FFA15A",
           "#19d3f3",
           "#FF6692",
           "#B6E880",
           "#FF97FF",
           "#FECB52"
          ],
          "font": {
           "color": "#2a3f5f"
          },
          "geo": {
           "bgcolor": "white",
           "lakecolor": "white",
           "landcolor": "#E5ECF6",
           "showlakes": true,
           "showland": true,
           "subunitcolor": "white"
          },
          "hoverlabel": {
           "align": "left"
          },
          "hovermode": "closest",
          "mapbox": {
           "style": "light"
          },
          "paper_bgcolor": "white",
          "plot_bgcolor": "#E5ECF6",
          "polar": {
           "angularaxis": {
            "gridcolor": "white",
            "linecolor": "white",
            "ticks": ""
           },
           "bgcolor": "#E5ECF6",
           "radialaxis": {
            "gridcolor": "white",
            "linecolor": "white",
            "ticks": ""
           }
          },
          "scene": {
           "xaxis": {
            "backgroundcolor": "#E5ECF6",
            "gridcolor": "white",
            "gridwidth": 2,
            "linecolor": "white",
            "showbackground": true,
            "ticks": "",
            "zerolinecolor": "white"
           },
           "yaxis": {
            "backgroundcolor": "#E5ECF6",
            "gridcolor": "white",
            "gridwidth": 2,
            "linecolor": "white",
            "showbackground": true,
            "ticks": "",
            "zerolinecolor": "white"
           },
           "zaxis": {
            "backgroundcolor": "#E5ECF6",
            "gridcolor": "white",
            "gridwidth": 2,
            "linecolor": "white",
            "showbackground": true,
            "ticks": "",
            "zerolinecolor": "white"
           }
          },
          "shapedefaults": {
           "line": {
            "color": "#2a3f5f"
           }
          },
          "ternary": {
           "aaxis": {
            "gridcolor": "white",
            "linecolor": "white",
            "ticks": ""
           },
           "baxis": {
            "gridcolor": "white",
            "linecolor": "white",
            "ticks": ""
           },
           "bgcolor": "#E5ECF6",
           "caxis": {
            "gridcolor": "white",
            "linecolor": "white",
            "ticks": ""
           }
          },
          "title": {
           "x": 0.05
          },
          "xaxis": {
           "automargin": true,
           "gridcolor": "white",
           "linecolor": "white",
           "ticks": "",
           "title": {
            "standoff": 15
           },
           "zerolinecolor": "white",
           "zerolinewidth": 2
          },
          "yaxis": {
           "automargin": true,
           "gridcolor": "white",
           "linecolor": "white",
           "ticks": "",
           "title": {
            "standoff": 15
           },
           "zerolinecolor": "white",
           "zerolinewidth": 2
          }
         }
        },
        "title": {
         "text": "Positional Encoding Vectors at Different Positions"
        },
        "width": 800,
        "xaxis": {
         "title": {
          "text": "Embedding Dimension"
         }
        },
        "yaxis": {
         "title": {
          "text": "Encoding Value"
         }
        }
       }
      }
     },
     "metadata": {},
     "output_type": "display_data"
    }
   ],
   "source": [
    "import torch\n",
    "import numpy as np\n",
    "import matplotlib.pyplot as plt\n",
    "import plotly.graph_objects as go\n",
    "from plotly.subplots import make_subplots\n",
    "\n",
    "def generate_traditional_positional_encoding(max_seq_length=100, d_model=64):\n",
    "    \"\"\"Generate traditional sinusoidal positional encodings from the Transformer paper\"\"\"\n",
    "    position = torch.arange(max_seq_length).unsqueeze(1).float()\n",
    "    div_term = torch.exp(torch.arange(0, d_model, 2).float() * -(np.log(10000.0) / d_model))\n",
    "    \n",
    "    pos_encoding = torch.zeros(max_seq_length, d_model)\n",
    "    pos_encoding[:, 0::2] = torch.sin(position * div_term)\n",
    "    pos_encoding[:, 1::2] = torch.cos(position * div_term)\n",
    "    \n",
    "    return pos_encoding\n",
    "\n",
    "# Compare positional encoding at different positions\n",
    "def compare_pe_at_positions(pe_matrix, positions=[0, 1, 10, 50], d_model=64):\n",
    "    fig = go.Figure()\n",
    "    \n",
    "    for pos in positions:\n",
    "        if pos < pe_matrix.shape[0]:\n",
    "            fig.add_trace(go.Scatter(\n",
    "                x=list(range(d_model)),\n",
    "                y=pe_matrix[pos].numpy(),\n",
    "                mode='lines',\n",
    "                name=f'Position {pos}'\n",
    "            ))\n",
    "    \n",
    "    fig.update_layout(\n",
    "        title='Positional Encoding Vectors at Different Positions',\n",
    "        xaxis_title='Embedding Dimension',\n",
    "        yaxis_title='Encoding Value',\n",
    "        legend_title='Position',\n",
    "        width=800,\n",
    "        height=500\n",
    "    )\n",
    "    return fig\n",
    "\n",
    "# Generate the positional encodings\n",
    "pe_matrix = generate_traditional_positional_encoding(max_seq_length=100, d_model=64)\n",
    "\n",
    "# Compare specific positions to see how they differ\n",
    "compare_pe_at_positions(pe_matrix)"
   ]
  },
  {
   "cell_type": "markdown",
   "id": "2acda28d",
   "metadata": {},
   "source": [
    "# Rotary Position Embedding (RoPE): A Deeper Dive\n",
    "RoPE is an elegant method for encoding positional information in Transformers. Instead of adding position vectors, RoPE rotates the query and key vectors in a position-dependent way, enabling the model to capture both absolute and relative positional information."
   ]
  },
  {
   "cell_type": "markdown",
   "id": "a0ce9178",
   "metadata": {},
   "source": [
    "## From Traditional Positional Encoding to RoPE\n",
    "\n",
    "While traditional positional encodings were a breakthrough, Rotary Position Embedding (RoPE) represents an evolution that addresses some of their limitations.\n",
    "\n",
    "### Key Differences and Improvements\n",
    "\n",
    "1. **Integration Method**:\n",
    "   - **Traditional**: Adds positional vectors to token embeddings before attention\n",
    "   - **RoPE**: Applies rotations directly to queries and keys during attention computation\n",
    "\n",
    "2. **Relative Position Modeling**:\n",
    "   - **Traditional**: Captures relative position indirectly and imperfectly\n",
    "   - **RoPE**: Explicitly encodes relative positions through dot product properties\n",
    "\n",
    "3. **Extrapolation to Longer Sequences**:\n",
    "   - **Traditional**: Limited extrapolation ability\n",
    "   - **RoPE**: Better generalization to sequences longer than training data\n",
    "\n",
    "4. **Mathematical Properties**:\n",
    "   - **Traditional**: Addition can change vector norms and affect attention score distributions\n",
    "   - **RoPE**: Rotation preserves vector norms and maintains stable attention distributions\n",
    "\n",
    "5. **Implementation**:\n",
    "   - **Traditional**: Applied once at embedding layer\n",
    "   - **RoPE**: Applied at each attention layer, directly to Q and K matrices\n",
    "\n",
    "Both approaches use sinusoidal functions at their core, but RoPE applies them as rotation matrices rather than additive vectors. This seemingly small change leads to significantly improved properties for attention-based language models, especially when handling long sequences and relative positional relationships."
   ]
  },
  {
   "cell_type": "markdown",
   "id": "ced602f5",
   "metadata": {},
   "source": [
    "## The Core Mechanism: Rotation in 2D Space\n",
    "RoPE operates by pairing the dimensions of the query and key vectors and applying a 2D rotation to each pair. For a d-dimensional vector, there are d/2 pairs. The rotation angle for each pair depends on the position and the pair index, introducing multiple frequencies into the encoding."
   ]
  },
  {
   "cell_type": "code",
   "execution_count": null,
   "id": "d977257b",
   "metadata": {},
   "outputs": [
    {
     "data": {
      "text/plain": [
       "(np.float64(0.7071067811865476), np.float64(0.7071067811865475))"
      ]
     },
     "execution_count": 94,
     "metadata": {},
     "output_type": "execute_result"
    }
   ],
   "source": [
    "import numpy as np\n",
    "\n",
    "def rotate_pair(x_j, x_j1, theta):\n",
    "    \"\"\"Apply 2D rotation to a pair of values.\"\"\"\n",
    "    x_j_new = x_j * np.cos(theta) - x_j1 * np.sin(theta)\n",
    "    x_j1_new = x_j * np.sin(theta) + x_j1 * np.cos(theta)\n",
    "    return x_j_new, x_j1_new\n",
    "\n",
    "# Example: rotate (1, 0) by 45 degrees\n",
    "x_j, x_j1 = 1.0, 0.0\n",
    "theta = np.pi / 4\n",
    "rotate_pair(x_j, x_j1, theta)"
   ]
  },
  {
   "cell_type": "markdown",
   "id": "23204b76",
   "metadata": {},
   "source": [
    "## Multi-Frequency Encoding: Local and Global Context\n",
    "Each pair of dimensions is rotated by a different frequency, determined by θ_i = 1 / (base^(2i/d)). Early pairs (small i) rotate quickly, capturing local relationships. Later pairs (large i) rotate slowly, capturing global context. This multi-scale approach is more powerful than using a single frequency."
   ]
  },
  {
   "cell_type": "code",
   "execution_count": null,
   "id": "dea22c9e",
   "metadata": {},
   "outputs": [
    {
     "data": {
      "application/vnd.plotly.v1+json": {
       "config": {
        "plotlyServerURL": "https://plot.ly"
       },
       "data": [
        {
         "mode": "lines",
         "name": "Pair 0",
         "type": "scatter",
         "x": {
          "bdata": "AAAAAAAA8D+MBrUPKErhPwVyU1cmotq/0uWFvgSu77/BJNsGpurkv9lKa3CFJ9I/9SJ4Cbe57j8XINme9x/oP5QvY7++n8K/axmmpvon7b8fawyJrNnqv98v7kGuIHI/42VrBNoA6z+3DCbVzQntP+2gLOyagME/86ScBl1P6L90L5Z+JaXuv+dYf7BGnNG/cCRdgVAh5T9YghDed6PvP0CoZDkEHto/WTd3g/+G4b/arNTYrf/vv3LykdX3DOG/mmAKtb8l2z//BJX17rfvP+2pkSaQs+Q/1d5Z+Way0r8AJVjRqs3uv0hOMVgW8Oe/UlpQ8oK+wz8gKuHDkUXtP+XoXTD1seo/eF/22NYwi7/311HZfCfrv6eUUOoL6+y/rDkDOx1hwL+MISCcRX7oP7aMTpr2j+4/l4KMhK0Q0T+PIWh9jlflv9+sYIpImO+/pVWwAVyZ2b+vYXP4fMPhP0SF+GS3/u8/P/A6D3DP4D+JSdWuzajbv/I/VVA2we+/6KtX+w985L9GOTOC6DzTPw==",
          "dtype": "f8"
         },
         "y": {
          "bdata": "AAAAAAAAAADuDAmPVO3qP0a00er2GO0/W9W2bTgQwj+vHtzduTfovzOZ4PWBr+6/wKKwivHh0b8ICm3CCAblP3vPKKDSqO8/kS8MNiZg2j9ST/P1nmjhv+uTLnbr/++/pWXX95or4b8GxYFIBOTaP0VefDIOs+8/6MLOcSjP5D/4IF8IAm3SvyuIQqzEw+6/Jx4TaBYI6L/PhPUoLS/DP+A8XfXYNu0/7NewC+LF6j/0uW6foiCCvwJ9JNA8FOu/DxQZeX/67L+dgB7z5vDAv4Mlw/rgZug/MLrlsKGa7j/WFEU7hVbRP+fJpiB9POW/PZAcf/Sd77+B/EC2wNvZv2ZlQpFJpeE/OGJBKEf/7z+hfTjQPu7gP+jLjEhYZ9u/xOGMAae8778P6Y9I3Zfkv52aR+qz99I/6gYEbGnX7j8AfwKO99fnP8jRdWO/TcS/7Q9M/yRU7b8TUacQ5p3qv0GwnRV0IJI/A5s9B5o66z+xGKI8c9vsP/b22vh8or8/gU+szIqV6L/XZ4JIJIXuvw==",
          "dtype": "f8"
         }
        },
        {
         "mode": "lines",
         "name": "Pair 1",
         "type": "scatter",
         "x": {
          "bdata": "AAAAAAAA8D/BF6j5EtfvP3pid5W0XO8/ugkv1B2S7j/4otvnVHntP1B9WwYoFew/FFtIPCZp6j+SnZ9SlnnoP2WYcd5rS+Y/HOKSljrk4z+MBrUPKErhPxFhxwa4B90/0Hk7lN4w1z9fTCposx7RPwNXE7x7wcU/p/nFT9Ubsj8zFl/Feuadv45sovT5fcC/eg4lT/UUzb+uRTS5xrDUvwVyU1cmotq/yp6YBLMn4L9wrYhLANXiv+QvMBciUuW/iNGQtLqY5799i4Xv96Lpv3D0gPaha+u/pgNmsyju7L9McFd3rybuv8pAo9sWEu+/0uWFvgSu778kplZH6vjvv7bLueIH8u+/tgunLG+Z778Cvl7DAvDuv18awQN09+2/WSzStD6y7L832X2toiPrv+io24SbT+m/58g0YtY657/BJNsGpurkv2QtajD1ZOK/HceK7G5g379TOxaSsabZv6rCYnxXq9O/aj1YVFv7yr+LjVkrB7a8vzRqUEM6X4m/f0BOWFVmtj9kFnwno9/HPw==",
          "dtype": "f8"
         },
         "y": {
          "bdata": "AAAAAAAAAAAsy4vLro65P7zSPSP/bck/NLq6lc3p0j9rZyvpOuzYP/AFS3Tort4/WkGlF40R4j+5GUZpbp3kP83+v8KU9OY/QahdmAMR6T/uDAmPVO3qPzhjLUzFhOw/xVUaokPT7T9LHsX5d9XuPwPhRN/NiO8/i20sm3rr7z/FQuDHgfzvP7aYL9e3u+8/8BW9gcIp7z9XOBofF0juP0a00er2GO0/+3LrP2mf6z8I16rZM9/pPyIvWC3R3Oc/mNHD9WSd5T+wys8NrybjP7uFoLv8fuA/DKckJDFa2z/A5V0jcnDVP9MwSNa4n84/W9W2bTgQwj8uEJiCD0qlPzIt6Dk3462/lwy3ygIxxL90TP8QyVrQvx9iun47c9a/8dHwQ0FS3L9BGy7savTgv6DA7P9WlOO/zrMfLS4C5r+vHtzduTfov73I4npTL+q/2BLQ3/Lj678ligE6O1Htv/AoRTGGc+6/gEDHPe1H77+67F0TUczvv1LsNw9f/++//z0MmpTg77+k6yJ2QHDvvw==",
          "dtype": "f8"
         }
        },
        {
         "mode": "lines",
         "name": "Pair 2",
         "type": "scatter",
         "x": {
          "bdata": "AAAAAAAA8D+ql60kl//vP5aNZZVc/u8/9lw1WlD87z94mIiAcvnvP1iSKBvD9e8/O+E7QkLx7z/vwUUT8OvvP/9VJbHM5e8/Kb8URNje7z/BF6j5EtfvP/hHzAR9zu8/JbjFnRbF7z/+3y4C4LrvP+Ky9nTZr+8/N+lePgOk7z/ZJvqrXZfvP77+qRDpie8/ydOcxKV77z/nlksllGzvP3pid5W0XO8/J/MmfQdM7z8Z/qNJjTrvP8lkeG1GKO8/WUZrYDMV7z+h7n2fVAHvP++i6Kyq7O4/o0wXEDbX7j+xAaZV98DuPyZrXQ/vqe4/ugkv1B2S7j+iWDFAhHnuP5vOm/QiYO4/Zb3Cl/pF7j+xDxPVCyvuP7flDV1XD+4/dBBE5d3y7T/Ja1EooNXtP4IX2OWet+0/fo974tqY7T/4otvnVHntPzNLj8QNWe0/kWEfTAY47T9INQFXPxbtP88AkcK58+w/LT8McXbQ7D9L4YtJdqzsP3Vj/je6h+w/JMMhLUNi7D9PVX0eEjzsPw==",
          "dtype": "f8"
         },
         "y": {
          "bdata": "AAAAAAAAAAAH6BXpynqEP2dYpc2HepQ/xmeW8SO3nj/7cgple3mkPzxk/6Lelqk/ll6ILZqzrj8BYedBxuexPxZEERVKdbQ/tdlq1UcCtz8sy4vLro65Pyv350NuGrw/zeU8j3Wlvj88kH8B2pfAP2+143yM3ME/Iu3f6ckgwz8vZIj7iWTEP2TPJmjEp8U/Rbxw6XDqxj9dy708hyzIP7zSPSP/bck/R+cuYtCuyj93SxPD8u7LPxhC5xNeLs0/vMNWJwptzj93FfPU7qrPP70ftPwBdNA/JDFZuyAS0T+KdCmaz6/RP/bLwo8KTdI/M7q6lc3p0j+vw7ioFIbTPzq7kMjbIdQ/Afpc+B691D8Igpg+2lfVP4wKOaUJ8tU/ifXIOamL1j/fLYENtSTXPzntYjUpvdc/RWlRygFV2D9rZyvpOuzYP2y25LLQgtk/Q42fTL8Y2j+lzsXfAq7aP2EwIpqXQts/JUb5rXnW2z/gbiJSpWncPzGkIMIW/Nw/NSs7PsqN3T8gJpYLvB7ePw==",
          "dtype": "f8"
         }
        },
        {
         "mode": "lines",
         "name": "Pair 3",
         "type": "scatter",
         "x": {
          "bdata": "AAAAAAAA8D9sh5Dz/v/vP0cvQs77/+8/WSwVkPb/7z+X1gk57//vPyapIMnl/+8/W0JaQNr/7z+5Y7eezP/vP/LxOOS8/+8/5/TfEKv/7z+ql60kl//vP3koox+B/+8/wRjCAWn/7z8g/QvLTv/vP2GNgnsy/+8/fKQnExT/7z+aQP2R8/7vPxGDBfjQ/u8/ZLBCRaz+7z9GMLd5hf7vP5aNZZVc/u8/YnZQmDH+7z/ku3qCBP7vP4RS51PV/e8/1lGZDKT97z+e9JOscP3vP8iY2jM7/e8/b79wogP97z/bDFr4yfzvP35ImjWO/O8/9lw1WlD87z8NWC9mEPzvP7lqjFnO++8/GOlQNIr77z92SoH2Q/vvP0cpIqD7+u8/KkM4MbH67z/meMipZPrvP2/O1wkW+u8/32prUcX57z94mIiAcvnvP6jENJcd+e8/AYB1lcb47z8/flB7bfjvP0aWy0gS+O8/HsLs/bT37z/3HrqaVffvPyjtOR/09u8/LJByi5D27z+ljmrfKvbvPw==",
          "dtype": "f8"
         },
         "y": {
          "bdata": "AAAAAAAAAABiiiGlTWJQP2EtsRtNYmA/kuTwUXKTaD9k1O/1SmJwP4apBrDbenQ/OfCEEmuTeD+KvbLY+Kt8P8Yg7F5CYoA/7eWePodugj8H6BXpynqEPyx19TsNh4Y/9PHhFE6TiD+8239RjZ+KP+bKc8/Kq4w/HXVibAa4jj/JV/gCIGKQP5u44bw7aJE/hOq/UlZukj8mjmWzb3STP2dYpc2HepQ/kRNSkJ6AlT9xoD7qs4aWP3v3PcrHjJc/5ikjH9qSmD/OYsHX6piZP1Po6+L5npo/uRx2Lwelmz+OfzOsEqucP8Gu90ccsZ0/xmeW8SO3nj+6iOOXKb2fP7+I2ZSWYaA/a5LsSpfkoD/IBJXllmehP84VPVyV6qE/mg5PppJtoj/6SzW7jvCiPwE/WpKJc6M/lG0oI4P2oz/7cgple3mkP3EAa09y/KQ/s9202Wd/pT+V6VL7WwKmP4gasKtOhaY/Nn834j8Ipz8JP1SWL4unP76acb8dDqg/9uz6VAqRqD/DqltO9ROpPw==",
          "dtype": "f8"
         }
        }
       ],
       "layout": {
        "template": {
         "data": {
          "bar": [
           {
            "error_x": {
             "color": "#2a3f5f"
            },
            "error_y": {
             "color": "#2a3f5f"
            },
            "marker": {
             "line": {
              "color": "#E5ECF6",
              "width": 0.5
             },
             "pattern": {
              "fillmode": "overlay",
              "size": 10,
              "solidity": 0.2
             }
            },
            "type": "bar"
           }
          ],
          "barpolar": [
           {
            "marker": {
             "line": {
              "color": "#E5ECF6",
              "width": 0.5
             },
             "pattern": {
              "fillmode": "overlay",
              "size": 10,
              "solidity": 0.2
             }
            },
            "type": "barpolar"
           }
          ],
          "carpet": [
           {
            "aaxis": {
             "endlinecolor": "#2a3f5f",
             "gridcolor": "white",
             "linecolor": "white",
             "minorgridcolor": "white",
             "startlinecolor": "#2a3f5f"
            },
            "baxis": {
             "endlinecolor": "#2a3f5f",
             "gridcolor": "white",
             "linecolor": "white",
             "minorgridcolor": "white",
             "startlinecolor": "#2a3f5f"
            },
            "type": "carpet"
           }
          ],
          "choropleth": [
           {
            "colorbar": {
             "outlinewidth": 0,
             "ticks": ""
            },
            "type": "choropleth"
           }
          ],
          "contour": [
           {
            "colorbar": {
             "outlinewidth": 0,
             "ticks": ""
            },
            "colorscale": [
             [
              0,
              "#0d0887"
             ],
             [
              0.1111111111111111,
              "#46039f"
             ],
             [
              0.2222222222222222,
              "#7201a8"
             ],
             [
              0.3333333333333333,
              "#9c179e"
             ],
             [
              0.4444444444444444,
              "#bd3786"
             ],
             [
              0.5555555555555556,
              "#d8576b"
             ],
             [
              0.6666666666666666,
              "#ed7953"
             ],
             [
              0.7777777777777778,
              "#fb9f3a"
             ],
             [
              0.8888888888888888,
              "#fdca26"
             ],
             [
              1,
              "#f0f921"
             ]
            ],
            "type": "contour"
           }
          ],
          "contourcarpet": [
           {
            "colorbar": {
             "outlinewidth": 0,
             "ticks": ""
            },
            "type": "contourcarpet"
           }
          ],
          "heatmap": [
           {
            "colorbar": {
             "outlinewidth": 0,
             "ticks": ""
            },
            "colorscale": [
             [
              0,
              "#0d0887"
             ],
             [
              0.1111111111111111,
              "#46039f"
             ],
             [
              0.2222222222222222,
              "#7201a8"
             ],
             [
              0.3333333333333333,
              "#9c179e"
             ],
             [
              0.4444444444444444,
              "#bd3786"
             ],
             [
              0.5555555555555556,
              "#d8576b"
             ],
             [
              0.6666666666666666,
              "#ed7953"
             ],
             [
              0.7777777777777778,
              "#fb9f3a"
             ],
             [
              0.8888888888888888,
              "#fdca26"
             ],
             [
              1,
              "#f0f921"
             ]
            ],
            "type": "heatmap"
           }
          ],
          "histogram": [
           {
            "marker": {
             "pattern": {
              "fillmode": "overlay",
              "size": 10,
              "solidity": 0.2
             }
            },
            "type": "histogram"
           }
          ],
          "histogram2d": [
           {
            "colorbar": {
             "outlinewidth": 0,
             "ticks": ""
            },
            "colorscale": [
             [
              0,
              "#0d0887"
             ],
             [
              0.1111111111111111,
              "#46039f"
             ],
             [
              0.2222222222222222,
              "#7201a8"
             ],
             [
              0.3333333333333333,
              "#9c179e"
             ],
             [
              0.4444444444444444,
              "#bd3786"
             ],
             [
              0.5555555555555556,
              "#d8576b"
             ],
             [
              0.6666666666666666,
              "#ed7953"
             ],
             [
              0.7777777777777778,
              "#fb9f3a"
             ],
             [
              0.8888888888888888,
              "#fdca26"
             ],
             [
              1,
              "#f0f921"
             ]
            ],
            "type": "histogram2d"
           }
          ],
          "histogram2dcontour": [
           {
            "colorbar": {
             "outlinewidth": 0,
             "ticks": ""
            },
            "colorscale": [
             [
              0,
              "#0d0887"
             ],
             [
              0.1111111111111111,
              "#46039f"
             ],
             [
              0.2222222222222222,
              "#7201a8"
             ],
             [
              0.3333333333333333,
              "#9c179e"
             ],
             [
              0.4444444444444444,
              "#bd3786"
             ],
             [
              0.5555555555555556,
              "#d8576b"
             ],
             [
              0.6666666666666666,
              "#ed7953"
             ],
             [
              0.7777777777777778,
              "#fb9f3a"
             ],
             [
              0.8888888888888888,
              "#fdca26"
             ],
             [
              1,
              "#f0f921"
             ]
            ],
            "type": "histogram2dcontour"
           }
          ],
          "mesh3d": [
           {
            "colorbar": {
             "outlinewidth": 0,
             "ticks": ""
            },
            "type": "mesh3d"
           }
          ],
          "parcoords": [
           {
            "line": {
             "colorbar": {
              "outlinewidth": 0,
              "ticks": ""
             }
            },
            "type": "parcoords"
           }
          ],
          "pie": [
           {
            "automargin": true,
            "type": "pie"
           }
          ],
          "scatter": [
           {
            "fillpattern": {
             "fillmode": "overlay",
             "size": 10,
             "solidity": 0.2
            },
            "type": "scatter"
           }
          ],
          "scatter3d": [
           {
            "line": {
             "colorbar": {
              "outlinewidth": 0,
              "ticks": ""
             }
            },
            "marker": {
             "colorbar": {
              "outlinewidth": 0,
              "ticks": ""
             }
            },
            "type": "scatter3d"
           }
          ],
          "scattercarpet": [
           {
            "marker": {
             "colorbar": {
              "outlinewidth": 0,
              "ticks": ""
             }
            },
            "type": "scattercarpet"
           }
          ],
          "scattergeo": [
           {
            "marker": {
             "colorbar": {
              "outlinewidth": 0,
              "ticks": ""
             }
            },
            "type": "scattergeo"
           }
          ],
          "scattergl": [
           {
            "marker": {
             "colorbar": {
              "outlinewidth": 0,
              "ticks": ""
             }
            },
            "type": "scattergl"
           }
          ],
          "scattermap": [
           {
            "marker": {
             "colorbar": {
              "outlinewidth": 0,
              "ticks": ""
             }
            },
            "type": "scattermap"
           }
          ],
          "scattermapbox": [
           {
            "marker": {
             "colorbar": {
              "outlinewidth": 0,
              "ticks": ""
             }
            },
            "type": "scattermapbox"
           }
          ],
          "scatterpolar": [
           {
            "marker": {
             "colorbar": {
              "outlinewidth": 0,
              "ticks": ""
             }
            },
            "type": "scatterpolar"
           }
          ],
          "scatterpolargl": [
           {
            "marker": {
             "colorbar": {
              "outlinewidth": 0,
              "ticks": ""
             }
            },
            "type": "scatterpolargl"
           }
          ],
          "scatterternary": [
           {
            "marker": {
             "colorbar": {
              "outlinewidth": 0,
              "ticks": ""
             }
            },
            "type": "scatterternary"
           }
          ],
          "surface": [
           {
            "colorbar": {
             "outlinewidth": 0,
             "ticks": ""
            },
            "colorscale": [
             [
              0,
              "#0d0887"
             ],
             [
              0.1111111111111111,
              "#46039f"
             ],
             [
              0.2222222222222222,
              "#7201a8"
             ],
             [
              0.3333333333333333,
              "#9c179e"
             ],
             [
              0.4444444444444444,
              "#bd3786"
             ],
             [
              0.5555555555555556,
              "#d8576b"
             ],
             [
              0.6666666666666666,
              "#ed7953"
             ],
             [
              0.7777777777777778,
              "#fb9f3a"
             ],
             [
              0.8888888888888888,
              "#fdca26"
             ],
             [
              1,
              "#f0f921"
             ]
            ],
            "type": "surface"
           }
          ],
          "table": [
           {
            "cells": {
             "fill": {
              "color": "#EBF0F8"
             },
             "line": {
              "color": "white"
             }
            },
            "header": {
             "fill": {
              "color": "#C8D4E3"
             },
             "line": {
              "color": "white"
             }
            },
            "type": "table"
           }
          ]
         },
         "layout": {
          "annotationdefaults": {
           "arrowcolor": "#2a3f5f",
           "arrowhead": 0,
           "arrowwidth": 1
          },
          "autotypenumbers": "strict",
          "coloraxis": {
           "colorbar": {
            "outlinewidth": 0,
            "ticks": ""
           }
          },
          "colorscale": {
           "diverging": [
            [
             0,
             "#8e0152"
            ],
            [
             0.1,
             "#c51b7d"
            ],
            [
             0.2,
             "#de77ae"
            ],
            [
             0.3,
             "#f1b6da"
            ],
            [
             0.4,
             "#fde0ef"
            ],
            [
             0.5,
             "#f7f7f7"
            ],
            [
             0.6,
             "#e6f5d0"
            ],
            [
             0.7,
             "#b8e186"
            ],
            [
             0.8,
             "#7fbc41"
            ],
            [
             0.9,
             "#4d9221"
            ],
            [
             1,
             "#276419"
            ]
           ],
           "sequential": [
            [
             0,
             "#0d0887"
            ],
            [
             0.1111111111111111,
             "#46039f"
            ],
            [
             0.2222222222222222,
             "#7201a8"
            ],
            [
             0.3333333333333333,
             "#9c179e"
            ],
            [
             0.4444444444444444,
             "#bd3786"
            ],
            [
             0.5555555555555556,
             "#d8576b"
            ],
            [
             0.6666666666666666,
             "#ed7953"
            ],
            [
             0.7777777777777778,
             "#fb9f3a"
            ],
            [
             0.8888888888888888,
             "#fdca26"
            ],
            [
             1,
             "#f0f921"
            ]
           ],
           "sequentialminus": [
            [
             0,
             "#0d0887"
            ],
            [
             0.1111111111111111,
             "#46039f"
            ],
            [
             0.2222222222222222,
             "#7201a8"
            ],
            [
             0.3333333333333333,
             "#9c179e"
            ],
            [
             0.4444444444444444,
             "#bd3786"
            ],
            [
             0.5555555555555556,
             "#d8576b"
            ],
            [
             0.6666666666666666,
             "#ed7953"
            ],
            [
             0.7777777777777778,
             "#fb9f3a"
            ],
            [
             0.8888888888888888,
             "#fdca26"
            ],
            [
             1,
             "#f0f921"
            ]
           ]
          },
          "colorway": [
           "#636efa",
           "#EF553B",
           "#00cc96",
           "#ab63fa",
           "#FFA15A",
           "#19d3f3",
           "#FF6692",
           "#B6E880",
           "#FF97FF",
           "#FECB52"
          ],
          "font": {
           "color": "#2a3f5f"
          },
          "geo": {
           "bgcolor": "white",
           "lakecolor": "white",
           "landcolor": "#E5ECF6",
           "showlakes": true,
           "showland": true,
           "subunitcolor": "white"
          },
          "hoverlabel": {
           "align": "left"
          },
          "hovermode": "closest",
          "mapbox": {
           "style": "light"
          },
          "paper_bgcolor": "white",
          "plot_bgcolor": "#E5ECF6",
          "polar": {
           "angularaxis": {
            "gridcolor": "white",
            "linecolor": "white",
            "ticks": ""
           },
           "bgcolor": "#E5ECF6",
           "radialaxis": {
            "gridcolor": "white",
            "linecolor": "white",
            "ticks": ""
           }
          },
          "scene": {
           "xaxis": {
            "backgroundcolor": "#E5ECF6",
            "gridcolor": "white",
            "gridwidth": 2,
            "linecolor": "white",
            "showbackground": true,
            "ticks": "",
            "zerolinecolor": "white"
           },
           "yaxis": {
            "backgroundcolor": "#E5ECF6",
            "gridcolor": "white",
            "gridwidth": 2,
            "linecolor": "white",
            "showbackground": true,
            "ticks": "",
            "zerolinecolor": "white"
           },
           "zaxis": {
            "backgroundcolor": "#E5ECF6",
            "gridcolor": "white",
            "gridwidth": 2,
            "linecolor": "white",
            "showbackground": true,
            "ticks": "",
            "zerolinecolor": "white"
           }
          },
          "shapedefaults": {
           "line": {
            "color": "#2a3f5f"
           }
          },
          "ternary": {
           "aaxis": {
            "gridcolor": "white",
            "linecolor": "white",
            "ticks": ""
           },
           "baxis": {
            "gridcolor": "white",
            "linecolor": "white",
            "ticks": ""
           },
           "bgcolor": "#E5ECF6",
           "caxis": {
            "gridcolor": "white",
            "linecolor": "white",
            "ticks": ""
           }
          },
          "title": {
           "x": 0.05
          },
          "xaxis": {
           "automargin": true,
           "gridcolor": "white",
           "linecolor": "white",
           "ticks": "",
           "title": {
            "standoff": 15
           },
           "zerolinecolor": "white",
           "zerolinewidth": 2
          },
          "yaxis": {
           "automargin": true,
           "gridcolor": "white",
           "linecolor": "white",
           "ticks": "",
           "title": {
            "standoff": 15
           },
           "zerolinecolor": "white",
           "zerolinewidth": 2
          }
         }
        },
        "title": {
         "text": "RoPE: Rotation Trajectories for Different Dimension Pairs"
        },
        "xaxis": {
         "title": {
          "text": "cos(mθ_i)"
         }
        },
        "yaxis": {
         "title": {
          "text": "sin(mθ_i)"
         }
        }
       }
      }
     },
     "metadata": {},
     "output_type": "display_data"
    }
   ],
   "source": [
    "import plotly.graph_objs as go\n",
    "import numpy as np\n",
    "\n",
    "positions = np.arange(0, 50)\n",
    "d = 8  # example dimensionality\n",
    "base = 10000\n",
    "\n",
    "traces = []\n",
    "for i in range(d // 2):\n",
    "    theta_i = 1 / (base ** (2 * i / d))\n",
    "    angles = positions * theta_i\n",
    "    x = np.cos(angles)\n",
    "    y = np.sin(angles)\n",
    "    traces.append(go.Scatter(x=x, y=y, mode='lines', name=f'Pair {i}'))\n",
    "\n",
    "layout = go.Layout(title='RoPE: Rotation Trajectories for Different Dimension Pairs',\n",
    "                   xaxis=dict(title='cos(mθ_i)'),\n",
    "                   yaxis=dict(title='sin(mθ_i)'))\n",
    "fig = go.Figure(data=traces, layout=layout)\n",
    "fig.show()"
   ]
  },
  {
   "cell_type": "markdown",
   "id": "8ac11c92",
   "metadata": {},
   "source": [
    "## Relative Position from Absolute Rotations\n",
    "A key property of RoPE is that, after rotation, the dot product between a query at position m and a key at position n depends only on their relative distance (m - n). This means the attention mechanism becomes sensitive to relative positions, which is crucial for modeling language context."
   ]
  },
  {
   "cell_type": "code",
   "execution_count": null,
   "id": "0336b1f0",
   "metadata": {},
   "outputs": [
    {
     "data": {
      "application/vnd.plotly.v1+json": {
       "config": {
        "plotlyServerURL": "https://plot.ly"
       },
       "data": [
        {
         "hovertemplate": "Relative Position (n)=%{x}<br>Dot Product=%{y}<extra></extra>",
         "legendgroup": "",
         "line": {
          "color": "#636efa",
          "dash": "solid"
         },
         "marker": {
          "symbol": "circle"
         },
         "mode": "lines",
         "name": "",
         "orientation": "v",
         "showlegend": false,
         "type": "scatter",
         "x": {
          "bdata": "9vf4+fr7/P3+/wABAgMEBQYHCAkK",
          "dtype": "i1"
         },
         "xaxis": "x",
         "y": {
          "bdata": "5H8A6W353b/mtTwHHme0PzEMb1F92Ns/tEGBNtsiyz8UbSBUD07cv9KOuKqBbu+/YJGzXfbj7r90C2Tnk1Tdv3AJWTDvJJk/gLY5BflMdr/h0saX/Pjhv+oGEE9htvK/ypEiV93X9L8s9eC4hrvrv4ln81wzRNK/XEtV6beVvL/0zuPi7pbgv3Kw4QeHPfK/CFfUbT+I9r9wde483zLxv1JfnAnXKdy/",
          "dtype": "f8"
         },
         "yaxis": "y"
        }
       ],
       "layout": {
        "legend": {
         "tracegroupgap": 0
        },
        "template": {
         "data": {
          "bar": [
           {
            "error_x": {
             "color": "#2a3f5f"
            },
            "error_y": {
             "color": "#2a3f5f"
            },
            "marker": {
             "line": {
              "color": "#E5ECF6",
              "width": 0.5
             },
             "pattern": {
              "fillmode": "overlay",
              "size": 10,
              "solidity": 0.2
             }
            },
            "type": "bar"
           }
          ],
          "barpolar": [
           {
            "marker": {
             "line": {
              "color": "#E5ECF6",
              "width": 0.5
             },
             "pattern": {
              "fillmode": "overlay",
              "size": 10,
              "solidity": 0.2
             }
            },
            "type": "barpolar"
           }
          ],
          "carpet": [
           {
            "aaxis": {
             "endlinecolor": "#2a3f5f",
             "gridcolor": "white",
             "linecolor": "white",
             "minorgridcolor": "white",
             "startlinecolor": "#2a3f5f"
            },
            "baxis": {
             "endlinecolor": "#2a3f5f",
             "gridcolor": "white",
             "linecolor": "white",
             "minorgridcolor": "white",
             "startlinecolor": "#2a3f5f"
            },
            "type": "carpet"
           }
          ],
          "choropleth": [
           {
            "colorbar": {
             "outlinewidth": 0,
             "ticks": ""
            },
            "type": "choropleth"
           }
          ],
          "contour": [
           {
            "colorbar": {
             "outlinewidth": 0,
             "ticks": ""
            },
            "colorscale": [
             [
              0,
              "#0d0887"
             ],
             [
              0.1111111111111111,
              "#46039f"
             ],
             [
              0.2222222222222222,
              "#7201a8"
             ],
             [
              0.3333333333333333,
              "#9c179e"
             ],
             [
              0.4444444444444444,
              "#bd3786"
             ],
             [
              0.5555555555555556,
              "#d8576b"
             ],
             [
              0.6666666666666666,
              "#ed7953"
             ],
             [
              0.7777777777777778,
              "#fb9f3a"
             ],
             [
              0.8888888888888888,
              "#fdca26"
             ],
             [
              1,
              "#f0f921"
             ]
            ],
            "type": "contour"
           }
          ],
          "contourcarpet": [
           {
            "colorbar": {
             "outlinewidth": 0,
             "ticks": ""
            },
            "type": "contourcarpet"
           }
          ],
          "heatmap": [
           {
            "colorbar": {
             "outlinewidth": 0,
             "ticks": ""
            },
            "colorscale": [
             [
              0,
              "#0d0887"
             ],
             [
              0.1111111111111111,
              "#46039f"
             ],
             [
              0.2222222222222222,
              "#7201a8"
             ],
             [
              0.3333333333333333,
              "#9c179e"
             ],
             [
              0.4444444444444444,
              "#bd3786"
             ],
             [
              0.5555555555555556,
              "#d8576b"
             ],
             [
              0.6666666666666666,
              "#ed7953"
             ],
             [
              0.7777777777777778,
              "#fb9f3a"
             ],
             [
              0.8888888888888888,
              "#fdca26"
             ],
             [
              1,
              "#f0f921"
             ]
            ],
            "type": "heatmap"
           }
          ],
          "histogram": [
           {
            "marker": {
             "pattern": {
              "fillmode": "overlay",
              "size": 10,
              "solidity": 0.2
             }
            },
            "type": "histogram"
           }
          ],
          "histogram2d": [
           {
            "colorbar": {
             "outlinewidth": 0,
             "ticks": ""
            },
            "colorscale": [
             [
              0,
              "#0d0887"
             ],
             [
              0.1111111111111111,
              "#46039f"
             ],
             [
              0.2222222222222222,
              "#7201a8"
             ],
             [
              0.3333333333333333,
              "#9c179e"
             ],
             [
              0.4444444444444444,
              "#bd3786"
             ],
             [
              0.5555555555555556,
              "#d8576b"
             ],
             [
              0.6666666666666666,
              "#ed7953"
             ],
             [
              0.7777777777777778,
              "#fb9f3a"
             ],
             [
              0.8888888888888888,
              "#fdca26"
             ],
             [
              1,
              "#f0f921"
             ]
            ],
            "type": "histogram2d"
           }
          ],
          "histogram2dcontour": [
           {
            "colorbar": {
             "outlinewidth": 0,
             "ticks": ""
            },
            "colorscale": [
             [
              0,
              "#0d0887"
             ],
             [
              0.1111111111111111,
              "#46039f"
             ],
             [
              0.2222222222222222,
              "#7201a8"
             ],
             [
              0.3333333333333333,
              "#9c179e"
             ],
             [
              0.4444444444444444,
              "#bd3786"
             ],
             [
              0.5555555555555556,
              "#d8576b"
             ],
             [
              0.6666666666666666,
              "#ed7953"
             ],
             [
              0.7777777777777778,
              "#fb9f3a"
             ],
             [
              0.8888888888888888,
              "#fdca26"
             ],
             [
              1,
              "#f0f921"
             ]
            ],
            "type": "histogram2dcontour"
           }
          ],
          "mesh3d": [
           {
            "colorbar": {
             "outlinewidth": 0,
             "ticks": ""
            },
            "type": "mesh3d"
           }
          ],
          "parcoords": [
           {
            "line": {
             "colorbar": {
              "outlinewidth": 0,
              "ticks": ""
             }
            },
            "type": "parcoords"
           }
          ],
          "pie": [
           {
            "automargin": true,
            "type": "pie"
           }
          ],
          "scatter": [
           {
            "fillpattern": {
             "fillmode": "overlay",
             "size": 10,
             "solidity": 0.2
            },
            "type": "scatter"
           }
          ],
          "scatter3d": [
           {
            "line": {
             "colorbar": {
              "outlinewidth": 0,
              "ticks": ""
             }
            },
            "marker": {
             "colorbar": {
              "outlinewidth": 0,
              "ticks": ""
             }
            },
            "type": "scatter3d"
           }
          ],
          "scattercarpet": [
           {
            "marker": {
             "colorbar": {
              "outlinewidth": 0,
              "ticks": ""
             }
            },
            "type": "scattercarpet"
           }
          ],
          "scattergeo": [
           {
            "marker": {
             "colorbar": {
              "outlinewidth": 0,
              "ticks": ""
             }
            },
            "type": "scattergeo"
           }
          ],
          "scattergl": [
           {
            "marker": {
             "colorbar": {
              "outlinewidth": 0,
              "ticks": ""
             }
            },
            "type": "scattergl"
           }
          ],
          "scattermap": [
           {
            "marker": {
             "colorbar": {
              "outlinewidth": 0,
              "ticks": ""
             }
            },
            "type": "scattermap"
           }
          ],
          "scattermapbox": [
           {
            "marker": {
             "colorbar": {
              "outlinewidth": 0,
              "ticks": ""
             }
            },
            "type": "scattermapbox"
           }
          ],
          "scatterpolar": [
           {
            "marker": {
             "colorbar": {
              "outlinewidth": 0,
              "ticks": ""
             }
            },
            "type": "scatterpolar"
           }
          ],
          "scatterpolargl": [
           {
            "marker": {
             "colorbar": {
              "outlinewidth": 0,
              "ticks": ""
             }
            },
            "type": "scatterpolargl"
           }
          ],
          "scatterternary": [
           {
            "marker": {
             "colorbar": {
              "outlinewidth": 0,
              "ticks": ""
             }
            },
            "type": "scatterternary"
           }
          ],
          "surface": [
           {
            "colorbar": {
             "outlinewidth": 0,
             "ticks": ""
            },
            "colorscale": [
             [
              0,
              "#0d0887"
             ],
             [
              0.1111111111111111,
              "#46039f"
             ],
             [
              0.2222222222222222,
              "#7201a8"
             ],
             [
              0.3333333333333333,
              "#9c179e"
             ],
             [
              0.4444444444444444,
              "#bd3786"
             ],
             [
              0.5555555555555556,
              "#d8576b"
             ],
             [
              0.6666666666666666,
              "#ed7953"
             ],
             [
              0.7777777777777778,
              "#fb9f3a"
             ],
             [
              0.8888888888888888,
              "#fdca26"
             ],
             [
              1,
              "#f0f921"
             ]
            ],
            "type": "surface"
           }
          ],
          "table": [
           {
            "cells": {
             "fill": {
              "color": "#EBF0F8"
             },
             "line": {
              "color": "white"
             }
            },
            "header": {
             "fill": {
              "color": "#C8D4E3"
             },
             "line": {
              "color": "white"
             }
            },
            "type": "table"
           }
          ]
         },
         "layout": {
          "annotationdefaults": {
           "arrowcolor": "#2a3f5f",
           "arrowhead": 0,
           "arrowwidth": 1
          },
          "autotypenumbers": "strict",
          "coloraxis": {
           "colorbar": {
            "outlinewidth": 0,
            "ticks": ""
           }
          },
          "colorscale": {
           "diverging": [
            [
             0,
             "#8e0152"
            ],
            [
             0.1,
             "#c51b7d"
            ],
            [
             0.2,
             "#de77ae"
            ],
            [
             0.3,
             "#f1b6da"
            ],
            [
             0.4,
             "#fde0ef"
            ],
            [
             0.5,
             "#f7f7f7"
            ],
            [
             0.6,
             "#e6f5d0"
            ],
            [
             0.7,
             "#b8e186"
            ],
            [
             0.8,
             "#7fbc41"
            ],
            [
             0.9,
             "#4d9221"
            ],
            [
             1,
             "#276419"
            ]
           ],
           "sequential": [
            [
             0,
             "#0d0887"
            ],
            [
             0.1111111111111111,
             "#46039f"
            ],
            [
             0.2222222222222222,
             "#7201a8"
            ],
            [
             0.3333333333333333,
             "#9c179e"
            ],
            [
             0.4444444444444444,
             "#bd3786"
            ],
            [
             0.5555555555555556,
             "#d8576b"
            ],
            [
             0.6666666666666666,
             "#ed7953"
            ],
            [
             0.7777777777777778,
             "#fb9f3a"
            ],
            [
             0.8888888888888888,
             "#fdca26"
            ],
            [
             1,
             "#f0f921"
            ]
           ],
           "sequentialminus": [
            [
             0,
             "#0d0887"
            ],
            [
             0.1111111111111111,
             "#46039f"
            ],
            [
             0.2222222222222222,
             "#7201a8"
            ],
            [
             0.3333333333333333,
             "#9c179e"
            ],
            [
             0.4444444444444444,
             "#bd3786"
            ],
            [
             0.5555555555555556,
             "#d8576b"
            ],
            [
             0.6666666666666666,
             "#ed7953"
            ],
            [
             0.7777777777777778,
             "#fb9f3a"
            ],
            [
             0.8888888888888888,
             "#fdca26"
            ],
            [
             1,
             "#f0f921"
            ]
           ]
          },
          "colorway": [
           "#636efa",
           "#EF553B",
           "#00cc96",
           "#ab63fa",
           "#FFA15A",
           "#19d3f3",
           "#FF6692",
           "#B6E880",
           "#FF97FF",
           "#FECB52"
          ],
          "font": {
           "color": "#2a3f5f"
          },
          "geo": {
           "bgcolor": "white",
           "lakecolor": "white",
           "landcolor": "#E5ECF6",
           "showlakes": true,
           "showland": true,
           "subunitcolor": "white"
          },
          "hoverlabel": {
           "align": "left"
          },
          "hovermode": "closest",
          "mapbox": {
           "style": "light"
          },
          "paper_bgcolor": "white",
          "plot_bgcolor": "#E5ECF6",
          "polar": {
           "angularaxis": {
            "gridcolor": "white",
            "linecolor": "white",
            "ticks": ""
           },
           "bgcolor": "#E5ECF6",
           "radialaxis": {
            "gridcolor": "white",
            "linecolor": "white",
            "ticks": ""
           }
          },
          "scene": {
           "xaxis": {
            "backgroundcolor": "#E5ECF6",
            "gridcolor": "white",
            "gridwidth": 2,
            "linecolor": "white",
            "showbackground": true,
            "ticks": "",
            "zerolinecolor": "white"
           },
           "yaxis": {
            "backgroundcolor": "#E5ECF6",
            "gridcolor": "white",
            "gridwidth": 2,
            "linecolor": "white",
            "showbackground": true,
            "ticks": "",
            "zerolinecolor": "white"
           },
           "zaxis": {
            "backgroundcolor": "#E5ECF6",
            "gridcolor": "white",
            "gridwidth": 2,
            "linecolor": "white",
            "showbackground": true,
            "ticks": "",
            "zerolinecolor": "white"
           }
          },
          "shapedefaults": {
           "line": {
            "color": "#2a3f5f"
           }
          },
          "ternary": {
           "aaxis": {
            "gridcolor": "white",
            "linecolor": "white",
            "ticks": ""
           },
           "baxis": {
            "gridcolor": "white",
            "linecolor": "white",
            "ticks": ""
           },
           "bgcolor": "#E5ECF6",
           "caxis": {
            "gridcolor": "white",
            "linecolor": "white",
            "ticks": ""
           }
          },
          "title": {
           "x": 0.05
          },
          "xaxis": {
           "automargin": true,
           "gridcolor": "white",
           "linecolor": "white",
           "ticks": "",
           "title": {
            "standoff": 15
           },
           "zerolinecolor": "white",
           "zerolinewidth": 2
          },
          "yaxis": {
           "automargin": true,
           "gridcolor": "white",
           "linecolor": "white",
           "ticks": "",
           "title": {
            "standoff": 15
           },
           "zerolinecolor": "white",
           "zerolinewidth": 2
          }
         }
        },
        "title": {
         "text": "RoPE Dot Product vs. Relative Position"
        },
        "xaxis": {
         "anchor": "y",
         "domain": [
          0,
          1
         ],
         "title": {
          "text": "Relative Position (n)"
         }
        },
        "yaxis": {
         "anchor": "x",
         "domain": [
          0,
          1
         ],
         "title": {
          "text": "Dot Product"
         }
        }
       }
      }
     },
     "metadata": {},
     "output_type": "display_data"
    }
   ],
   "source": [
    "def rope_dot_product(q, k, m, n, base=10000):\n",
    "    d = len(q)\n",
    "    result = 0.0\n",
    "    for i in range(0, d, 2):\n",
    "        theta_i = 1 / (base ** (2 * (i//2) / d))\n",
    "        angle_m = m * theta_i\n",
    "        angle_n = n * theta_i\n",
    "        # Rotate q and k\n",
    "        q_rot = np.array([q[i] * np.cos(angle_m) - q[i+1] * np.sin(angle_m),\n",
    "                          q[i] * np.sin(angle_m) + q[i+1] * np.cos(angle_m)])\n",
    "        k_rot = np.array([k[i] * np.cos(angle_n) - k[i+1] * np.sin(angle_n),\n",
    "                          k[i] * np.sin(angle_n) + k[i+1] * np.cos(angle_n)])\n",
    "        result += np.dot(q_rot, k_rot)\n",
    "    return result\n",
    "\n",
    "# Example: dot product for different relative positions\n",
    "q = np.random.randn(8)\n",
    "k = np.random.randn(8)\n",
    "rel_positions = np.arange(-10, 11)\n",
    "dots = [rope_dot_product(q, k, m=0, n=rp) for rp in rel_positions]\n",
    "\n",
    "import plotly.express as px\n",
    "fig = px.line(x=rel_positions, y=dots, labels={'x':'Relative Position (n)', 'y':'Dot Product'},\n",
    "              title='RoPE Dot Product vs. Relative Position')\n",
    "fig.show()"
   ]
  },
  {
   "cell_type": "markdown",
   "id": "9ca685af",
   "metadata": {},
   "source": [
    "## Understanding RoPE Dot Product vs. Relative Position\n",
    "\n",
    "This graph illustrates one of the most remarkable properties of Rotary Position Embedding: how the dot product between query and key vectors varies based on their relative position, not their absolute positions.\n",
    "\n",
    "**What this visualization shows:**\n",
    "\n",
    "- **Dot product magnitude varies with relative distance**: The y-axis shows the dot product value between a query at position 0 and keys at various relative positions (x-axis). This demonstrates how attention scores in RoPE naturally depend on how far apart tokens are.\n",
    "\n",
    "- **Symmetry around zero**: Notice how the dot product pattern is roughly symmetric around relative position zero. This means that the attention mechanism treats tokens at equal distances before and after the current position similarly, while still being able to distinguish direction.\n",
    "\n",
    "- **Periodic patterns**: The dot product shows a complex periodic pattern resulting from the multiple rotation frequencies used in different dimension pairs. This rich signal helps the model learn nuanced relationships between tokens based on their spacing.\n",
    "\n",
    "- **Graceful decay**: As the relative distance increases in either direction, the dot product typically decreases, aligning with the intuition that nearby tokens are often more relevant than distant ones.\n",
    "\n",
    "This property is crucial for language modeling because it allows the attention mechanism to focus on contextually relevant tokens based on their relative positions, regardless of where they appear in the absolute sequence."
   ]
  },
  {
   "cell_type": "markdown",
   "id": "05decf9e",
   "metadata": {},
   "source": [
    "# The \"Wow\" Factors of RoPE\n",
    "- **Relative from Absolute**: Encodes absolute positions via rotation, but attention scores depend on relative positions.\n",
    "- **Multi-Scale Positional Information**: Different rotation frequencies capture both local and global context.\n",
    "- **Excellent Extrapolation**: Generalizes well to longer sequences due to the periodic nature of rotations.\n",
    "- **No Extra Learnable Parameters**: RoPE uses fixed transformations, keeping the model efficient.\n",
    "- **Deep Integration**: RoPE is applied directly to Q and K vectors, making it a core part of the attention mechanism."
   ]
  },
  {
   "cell_type": "markdown",
   "id": "f6474dfd",
   "metadata": {},
   "source": [
    "# Transformer Implementation with PyTorch\n",
    "\n",
    "In this section, we'll implement a complete Transformer model with both traditional sinusoidal positional encoding and Rotary Position Embedding (RoPE). We'll use this to demonstrate how these positional encodings work in practice for next word prediction tasks."
   ]
  },
  {
   "cell_type": "code",
   "execution_count": null,
   "id": "c638ab76",
   "metadata": {},
   "outputs": [
    {
     "name": "stdout",
     "output_type": "stream",
     "text": [
      "Using device: cpu\n"
     ]
    }
   ],
   "source": [
    "import torch\n",
    "import torch.nn as nn\n",
    "import torch.nn.functional as F\n",
    "import torch.optim as optim\n",
    "import numpy as np\n",
    "import math\n",
    "import matplotlib.pyplot as plt\n",
    "import plotly.graph_objects as go\n",
    "import plotly.express as px\n",
    "from plotly.subplots import make_subplots\n",
    "from tqdm.notebook import tqdm\n",
    "from torch.utils.data import Dataset, DataLoader\n",
    "\n",
    "device = torch.device(\"cuda\" if torch.cuda.is_available() else \"cpu\")\n",
    "print(f\"Using device: {device}\")"
   ]
  },
  {
   "cell_type": "markdown",
   "id": "9af8c998",
   "metadata": {},
   "source": [
    "## Traditional Positional Encoding\n",
    "\n",
    "First, let's implement the original sinusoidal positional encoding from the \"Attention Is All You Need\" paper."
   ]
  },
  {
   "cell_type": "code",
   "execution_count": null,
   "id": "c61ae9bd",
   "metadata": {},
   "outputs": [
    {
     "data": {
      "application/vnd.plotly.v1+json": {
       "config": {
        "plotlyServerURL": "https://plot.ly"
       },
       "data": [
        {
         "coloraxis": "coloraxis",
         "hovertemplate": "Dimension: %{x}<br>Position: %{y}<br>Value: %{z}<extra></extra>",
         "name": "0",
         "type": "heatmap",
         "xaxis": "x",
         "yaxis": "y",
         "z": {
          "bdata": "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",
          "dtype": "f4",
          "shape": "100, 64"
         }
        }
       ],
       "layout": {
        "coloraxis": {
         "cmax": 1,
         "cmin": -1,
         "colorbar": {
          "title": {
           "text": "Value"
          }
         },
         "colorscale": [
          [
           0,
           "rgb(5,48,97)"
          ],
          [
           0.1,
           "rgb(33,102,172)"
          ],
          [
           0.2,
           "rgb(67,147,195)"
          ],
          [
           0.3,
           "rgb(146,197,222)"
          ],
          [
           0.4,
           "rgb(209,229,240)"
          ],
          [
           0.5,
           "rgb(247,247,247)"
          ],
          [
           0.6,
           "rgb(253,219,199)"
          ],
          [
           0.7,
           "rgb(244,165,130)"
          ],
          [
           0.8,
           "rgb(214,96,77)"
          ],
          [
           0.9,
           "rgb(178,24,43)"
          ],
          [
           1,
           "rgb(103,0,31)"
          ]
         ]
        },
        "height": 500,
        "template": {
         "data": {
          "bar": [
           {
            "error_x": {
             "color": "#2a3f5f"
            },
            "error_y": {
             "color": "#2a3f5f"
            },
            "marker": {
             "line": {
              "color": "#E5ECF6",
              "width": 0.5
             },
             "pattern": {
              "fillmode": "overlay",
              "size": 10,
              "solidity": 0.2
             }
            },
            "type": "bar"
           }
          ],
          "barpolar": [
           {
            "marker": {
             "line": {
              "color": "#E5ECF6",
              "width": 0.5
             },
             "pattern": {
              "fillmode": "overlay",
              "size": 10,
              "solidity": 0.2
             }
            },
            "type": "barpolar"
           }
          ],
          "carpet": [
           {
            "aaxis": {
             "endlinecolor": "#2a3f5f",
             "gridcolor": "white",
             "linecolor": "white",
             "minorgridcolor": "white",
             "startlinecolor": "#2a3f5f"
            },
            "baxis": {
             "endlinecolor": "#2a3f5f",
             "gridcolor": "white",
             "linecolor": "white",
             "minorgridcolor": "white",
             "startlinecolor": "#2a3f5f"
            },
            "type": "carpet"
           }
          ],
          "choropleth": [
           {
            "colorbar": {
             "outlinewidth": 0,
             "ticks": ""
            },
            "type": "choropleth"
           }
          ],
          "contour": [
           {
            "colorbar": {
             "outlinewidth": 0,
             "ticks": ""
            },
            "colorscale": [
             [
              0,
              "#0d0887"
             ],
             [
              0.1111111111111111,
              "#46039f"
             ],
             [
              0.2222222222222222,
              "#7201a8"
             ],
             [
              0.3333333333333333,
              "#9c179e"
             ],
             [
              0.4444444444444444,
              "#bd3786"
             ],
             [
              0.5555555555555556,
              "#d8576b"
             ],
             [
              0.6666666666666666,
              "#ed7953"
             ],
             [
              0.7777777777777778,
              "#fb9f3a"
             ],
             [
              0.8888888888888888,
              "#fdca26"
             ],
             [
              1,
              "#f0f921"
             ]
            ],
            "type": "contour"
           }
          ],
          "contourcarpet": [
           {
            "colorbar": {
             "outlinewidth": 0,
             "ticks": ""
            },
            "type": "contourcarpet"
           }
          ],
          "heatmap": [
           {
            "colorbar": {
             "outlinewidth": 0,
             "ticks": ""
            },
            "colorscale": [
             [
              0,
              "#0d0887"
             ],
             [
              0.1111111111111111,
              "#46039f"
             ],
             [
              0.2222222222222222,
              "#7201a8"
             ],
             [
              0.3333333333333333,
              "#9c179e"
             ],
             [
              0.4444444444444444,
              "#bd3786"
             ],
             [
              0.5555555555555556,
              "#d8576b"
             ],
             [
              0.6666666666666666,
              "#ed7953"
             ],
             [
              0.7777777777777778,
              "#fb9f3a"
             ],
             [
              0.8888888888888888,
              "#fdca26"
             ],
             [
              1,
              "#f0f921"
             ]
            ],
            "type": "heatmap"
           }
          ],
          "histogram": [
           {
            "marker": {
             "pattern": {
              "fillmode": "overlay",
              "size": 10,
              "solidity": 0.2
             }
            },
            "type": "histogram"
           }
          ],
          "histogram2d": [
           {
            "colorbar": {
             "outlinewidth": 0,
             "ticks": ""
            },
            "colorscale": [
             [
              0,
              "#0d0887"
             ],
             [
              0.1111111111111111,
              "#46039f"
             ],
             [
              0.2222222222222222,
              "#7201a8"
             ],
             [
              0.3333333333333333,
              "#9c179e"
             ],
             [
              0.4444444444444444,
              "#bd3786"
             ],
             [
              0.5555555555555556,
              "#d8576b"
             ],
             [
              0.6666666666666666,
              "#ed7953"
             ],
             [
              0.7777777777777778,
              "#fb9f3a"
             ],
             [
              0.8888888888888888,
              "#fdca26"
             ],
             [
              1,
              "#f0f921"
             ]
            ],
            "type": "histogram2d"
           }
          ],
          "histogram2dcontour": [
           {
            "colorbar": {
             "outlinewidth": 0,
             "ticks": ""
            },
            "colorscale": [
             [
              0,
              "#0d0887"
             ],
             [
              0.1111111111111111,
              "#46039f"
             ],
             [
              0.2222222222222222,
              "#7201a8"
             ],
             [
              0.3333333333333333,
              "#9c179e"
             ],
             [
              0.4444444444444444,
              "#bd3786"
             ],
             [
              0.5555555555555556,
              "#d8576b"
             ],
             [
              0.6666666666666666,
              "#ed7953"
             ],
             [
              0.7777777777777778,
              "#fb9f3a"
             ],
             [
              0.8888888888888888,
              "#fdca26"
             ],
             [
              1,
              "#f0f921"
             ]
            ],
            "type": "histogram2dcontour"
           }
          ],
          "mesh3d": [
           {
            "colorbar": {
             "outlinewidth": 0,
             "ticks": ""
            },
            "type": "mesh3d"
           }
          ],
          "parcoords": [
           {
            "line": {
             "colorbar": {
              "outlinewidth": 0,
              "ticks": ""
             }
            },
            "type": "parcoords"
           }
          ],
          "pie": [
           {
            "automargin": true,
            "type": "pie"
           }
          ],
          "scatter": [
           {
            "fillpattern": {
             "fillmode": "overlay",
             "size": 10,
             "solidity": 0.2
            },
            "type": "scatter"
           }
          ],
          "scatter3d": [
           {
            "line": {
             "colorbar": {
              "outlinewidth": 0,
              "ticks": ""
             }
            },
            "marker": {
             "colorbar": {
              "outlinewidth": 0,
              "ticks": ""
             }
            },
            "type": "scatter3d"
           }
          ],
          "scattercarpet": [
           {
            "marker": {
             "colorbar": {
              "outlinewidth": 0,
              "ticks": ""
             }
            },
            "type": "scattercarpet"
           }
          ],
          "scattergeo": [
           {
            "marker": {
             "colorbar": {
              "outlinewidth": 0,
              "ticks": ""
             }
            },
            "type": "scattergeo"
           }
          ],
          "scattergl": [
           {
            "marker": {
             "colorbar": {
              "outlinewidth": 0,
              "ticks": ""
             }
            },
            "type": "scattergl"
           }
          ],
          "scattermap": [
           {
            "marker": {
             "colorbar": {
              "outlinewidth": 0,
              "ticks": ""
             }
            },
            "type": "scattermap"
           }
          ],
          "scattermapbox": [
           {
            "marker": {
             "colorbar": {
              "outlinewidth": 0,
              "ticks": ""
             }
            },
            "type": "scattermapbox"
           }
          ],
          "scatterpolar": [
           {
            "marker": {
             "colorbar": {
              "outlinewidth": 0,
              "ticks": ""
             }
            },
            "type": "scatterpolar"
           }
          ],
          "scatterpolargl": [
           {
            "marker": {
             "colorbar": {
              "outlinewidth": 0,
              "ticks": ""
             }
            },
            "type": "scatterpolargl"
           }
          ],
          "scatterternary": [
           {
            "marker": {
             "colorbar": {
              "outlinewidth": 0,
              "ticks": ""
             }
            },
            "type": "scatterternary"
           }
          ],
          "surface": [
           {
            "colorbar": {
             "outlinewidth": 0,
             "ticks": ""
            },
            "colorscale": [
             [
              0,
              "#0d0887"
             ],
             [
              0.1111111111111111,
              "#46039f"
             ],
             [
              0.2222222222222222,
              "#7201a8"
             ],
             [
              0.3333333333333333,
              "#9c179e"
             ],
             [
              0.4444444444444444,
              "#bd3786"
             ],
             [
              0.5555555555555556,
              "#d8576b"
             ],
             [
              0.6666666666666666,
              "#ed7953"
             ],
             [
              0.7777777777777778,
              "#fb9f3a"
             ],
             [
              0.8888888888888888,
              "#fdca26"
             ],
             [
              1,
              "#f0f921"
             ]
            ],
            "type": "surface"
           }
          ],
          "table": [
           {
            "cells": {
             "fill": {
              "color": "#EBF0F8"
             },
             "line": {
              "color": "white"
             }
            },
            "header": {
             "fill": {
              "color": "#C8D4E3"
             },
             "line": {
              "color": "white"
             }
            },
            "type": "table"
           }
          ]
         },
         "layout": {
          "annotationdefaults": {
           "arrowcolor": "#2a3f5f",
           "arrowhead": 0,
           "arrowwidth": 1
          },
          "autotypenumbers": "strict",
          "coloraxis": {
           "colorbar": {
            "outlinewidth": 0,
            "ticks": ""
           }
          },
          "colorscale": {
           "diverging": [
            [
             0,
             "#8e0152"
            ],
            [
             0.1,
             "#c51b7d"
            ],
            [
             0.2,
             "#de77ae"
            ],
            [
             0.3,
             "#f1b6da"
            ],
            [
             0.4,
             "#fde0ef"
            ],
            [
             0.5,
             "#f7f7f7"
            ],
            [
             0.6,
             "#e6f5d0"
            ],
            [
             0.7,
             "#b8e186"
            ],
            [
             0.8,
             "#7fbc41"
            ],
            [
             0.9,
             "#4d9221"
            ],
            [
             1,
             "#276419"
            ]
           ],
           "sequential": [
            [
             0,
             "#0d0887"
            ],
            [
             0.1111111111111111,
             "#46039f"
            ],
            [
             0.2222222222222222,
             "#7201a8"
            ],
            [
             0.3333333333333333,
             "#9c179e"
            ],
            [
             0.4444444444444444,
             "#bd3786"
            ],
            [
             0.5555555555555556,
             "#d8576b"
            ],
            [
             0.6666666666666666,
             "#ed7953"
            ],
            [
             0.7777777777777778,
             "#fb9f3a"
            ],
            [
             0.8888888888888888,
             "#fdca26"
            ],
            [
             1,
             "#f0f921"
            ]
           ],
           "sequentialminus": [
            [
             0,
             "#0d0887"
            ],
            [
             0.1111111111111111,
             "#46039f"
            ],
            [
             0.2222222222222222,
             "#7201a8"
            ],
            [
             0.3333333333333333,
             "#9c179e"
            ],
            [
             0.4444444444444444,
             "#bd3786"
            ],
            [
             0.5555555555555556,
             "#d8576b"
            ],
            [
             0.6666666666666666,
             "#ed7953"
            ],
            [
             0.7777777777777778,
             "#fb9f3a"
            ],
            [
             0.8888888888888888,
             "#fdca26"
            ],
            [
             1,
             "#f0f921"
            ]
           ]
          },
          "colorway": [
           "#636efa",
           "#EF553B",
           "#00cc96",
           "#ab63fa",
           "#FFA15A",
           "#19d3f3",
           "#FF6692",
           "#B6E880",
           "#FF97FF",
           "#FECB52"
          ],
          "font": {
           "color": "#2a3f5f"
          },
          "geo": {
           "bgcolor": "white",
           "lakecolor": "white",
           "landcolor": "#E5ECF6",
           "showlakes": true,
           "showland": true,
           "subunitcolor": "white"
          },
          "hoverlabel": {
           "align": "left"
          },
          "hovermode": "closest",
          "mapbox": {
           "style": "light"
          },
          "paper_bgcolor": "white",
          "plot_bgcolor": "#E5ECF6",
          "polar": {
           "angularaxis": {
            "gridcolor": "white",
            "linecolor": "white",
            "ticks": ""
           },
           "bgcolor": "#E5ECF6",
           "radialaxis": {
            "gridcolor": "white",
            "linecolor": "white",
            "ticks": ""
           }
          },
          "scene": {
           "xaxis": {
            "backgroundcolor": "#E5ECF6",
            "gridcolor": "white",
            "gridwidth": 2,
            "linecolor": "white",
            "showbackground": true,
            "ticks": "",
            "zerolinecolor": "white"
           },
           "yaxis": {
            "backgroundcolor": "#E5ECF6",
            "gridcolor": "white",
            "gridwidth": 2,
            "linecolor": "white",
            "showbackground": true,
            "ticks": "",
            "zerolinecolor": "white"
           },
           "zaxis": {
            "backgroundcolor": "#E5ECF6",
            "gridcolor": "white",
            "gridwidth": 2,
            "linecolor": "white",
            "showbackground": true,
            "ticks": "",
            "zerolinecolor": "white"
           }
          },
          "shapedefaults": {
           "line": {
            "color": "#2a3f5f"
           }
          },
          "ternary": {
           "aaxis": {
            "gridcolor": "white",
            "linecolor": "white",
            "ticks": ""
           },
           "baxis": {
            "gridcolor": "white",
            "linecolor": "white",
            "ticks": ""
           },
           "bgcolor": "#E5ECF6",
           "caxis": {
            "gridcolor": "white",
            "linecolor": "white",
            "ticks": ""
           }
          },
          "title": {
           "x": 0.05
          },
          "xaxis": {
           "automargin": true,
           "gridcolor": "white",
           "linecolor": "white",
           "ticks": "",
           "title": {
            "standoff": 15
           },
           "zerolinecolor": "white",
           "zerolinewidth": 2
          },
          "yaxis": {
           "automargin": true,
           "gridcolor": "white",
           "linecolor": "white",
           "ticks": "",
           "title": {
            "standoff": 15
           },
           "zerolinecolor": "white",
           "zerolinewidth": 2
          }
         }
        },
        "title": {
         "text": "Traditional Sinusoidal Positional Encoding"
        },
        "width": 800,
        "xaxis": {
         "anchor": "y",
         "constrain": "domain",
         "domain": [
          0,
          1
         ],
         "scaleanchor": "y",
         "title": {
          "text": "Dimension"
         }
        },
        "yaxis": {
         "anchor": "x",
         "autorange": "reversed",
         "constrain": "domain",
         "domain": [
          0,
          1
         ],
         "title": {
          "text": "Position"
         }
        }
       }
      }
     },
     "metadata": {},
     "output_type": "display_data"
    }
   ],
   "source": [
    "class PositionalEncoding(nn.Module):\n",
    "    def __init__(self, d_model, max_seq_length=5000):\n",
    "        super().__init__()\n",
    "        \n",
    "        # Create positional encoding matrix\n",
    "        pe = torch.zeros(max_seq_length, d_model)\n",
    "        position = torch.arange(0, max_seq_length, dtype=torch.float).unsqueeze(1)\n",
    "        div_term = torch.exp(torch.arange(0, d_model, 2).float() * (-math.log(10000.0) / d_model))\n",
    "        \n",
    "        # Apply sine to even indices\n",
    "        pe[:, 0::2] = torch.sin(position * div_term)\n",
    "        # Apply cosine to odd indices\n",
    "        pe[:, 1::2] = torch.cos(position * div_term)\n",
    "        \n",
    "        # Add batch dimension\n",
    "        pe = pe.unsqueeze(0)\n",
    "        \n",
    "        # Register as buffer (not a parameter)\n",
    "        self.register_buffer('pe', pe)\n",
    "        \n",
    "    def forward(self, x):\n",
    "        # x has shape [batch_size, seq_len, embedding_dim]\n",
    "        # Add positional encoding to embeddings\n",
    "        x = x + self.pe[:, :x.size(1), :]\n",
    "        return x\n",
    "\n",
    "# Visualize the traditional positional encoding\n",
    "def visualize_positional_encoding(model_dim=64, seq_length=100):\n",
    "    pos_enc = PositionalEncoding(model_dim)\n",
    "    dummy_input = torch.zeros(1, seq_length, model_dim)\n",
    "    encoded = pos_enc(dummy_input)[0]  # Remove batch dimension\n",
    "    \n",
    "    # Create a heatmap with plotly\n",
    "    fig = px.imshow(encoded.detach().numpy(),\n",
    "                    labels=dict(x=\"Dimension\", y=\"Position\", color=\"Value\"),\n",
    "                    title=\"Traditional Sinusoidal Positional Encoding\",\n",
    "                    color_continuous_scale=\"RdBu_r\",\n",
    "                    zmin=-1, zmax=1)\n",
    "    fig.update_layout(width=800, height=500)\n",
    "    return fig\n",
    "\n",
    "# Display the visualization\n",
    "visualize_positional_encoding()"
   ]
  },
  {
   "cell_type": "markdown",
   "id": "ad22691b",
   "metadata": {},
   "source": [
    "## Understanding Traditional Positional Encoding Visualization\n",
    "\n",
    "The heatmap above visualizes the traditional sinusoidal positional encoding used in the original Transformer architecture. This encoding is crucial because Transformers process tokens in parallel, with no inherent sense of their order in the sequence.\n",
    "\n",
    "**Key observations:**\n",
    "\n",
    "- **Vertical patterns**: Each column represents a dimension in the embedding space. Note how some dimensions change rapidly (high-frequency components) while others change slowly (low-frequency components).\n",
    "  \n",
    "- **Position uniqueness**: Each row represents a unique position encoding vector, ensuring that each position in a sequence gets a distinctive representation.\n",
    "\n",
    "- **Sinusoidal pattern**: The encoding uses sine and cosine functions with different frequencies, creating the wave-like patterns you see. This approach allows the model to generalize to sequence lengths it hasn't seen during training.\n",
    "\n",
    "- **Color variations**: Blue represents negative values, red represents positive values, with white near zero. These variations help the model distinguish between different positions.\n",
    "\n",
    "This encoding is added directly to token embeddings before they're processed by the attention mechanism. However, this approach has limitations in capturing relative positions effectively, which is addressed by RoPE."
   ]
  },
  {
   "cell_type": "markdown",
   "id": "3d255bbe",
   "metadata": {},
   "source": [
    "## Rotary Position Embedding (RoPE)\n",
    "\n",
    "Now, let's implement RoPE, which applies rotation to query and key vectors in self-attention rather than adding positional vectors to the embeddings."
   ]
  },
  {
   "cell_type": "code",
   "execution_count": null,
   "id": "c1e5e2fe",
   "metadata": {},
   "outputs": [
    {
     "data": {
      "application/vnd.plotly.v1+json": {
       "config": {
        "plotlyServerURL": "https://plot.ly"
       },
       "data": [
        {
         "hoverinfo": "text",
         "line": {
          "color": "rgba(150,150,150,0.3)"
         },
         "marker": {
          "color": {
           "bdata": "AAECAwQFBgcICQoLDA0ODxAREhMUFRYXGBkaGxwdHh8gISIjJCUmJygpKissLS4vMDE=",
           "dtype": "i1"
          },
          "colorscale": [
           [
            0,
            "#440154"
           ],
           [
            0.1111111111111111,
            "#482878"
           ],
           [
            0.2222222222222222,
            "#3e4989"
           ],
           [
            0.3333333333333333,
            "#31688e"
           ],
           [
            0.4444444444444444,
            "#26828e"
           ],
           [
            0.5555555555555556,
            "#1f9e89"
           ],
           [
            0.6666666666666666,
            "#35b779"
           ],
           [
            0.7777777777777778,
            "#6ece58"
           ],
           [
            0.8888888888888888,
            "#b5de2b"
           ],
           [
            1,
            "#fde725"
           ]
          ],
          "size": 8
         },
         "mode": "lines+markers",
         "name": "Pair 0",
         "text": [
          "Pos 0",
          "Pos 1",
          "Pos 2",
          "Pos 3",
          "Pos 4",
          "Pos 5",
          "Pos 6",
          "Pos 7",
          "Pos 8",
          "Pos 9",
          "Pos 10",
          "Pos 11",
          "Pos 12",
          "Pos 13",
          "Pos 14",
          "Pos 15",
          "Pos 16",
          "Pos 17",
          "Pos 18",
          "Pos 19",
          "Pos 20",
          "Pos 21",
          "Pos 22",
          "Pos 23",
          "Pos 24",
          "Pos 25",
          "Pos 26",
          "Pos 27",
          "Pos 28",
          "Pos 29",
          "Pos 30",
          "Pos 31",
          "Pos 32",
          "Pos 33",
          "Pos 34",
          "Pos 35",
          "Pos 36",
          "Pos 37",
          "Pos 38",
          "Pos 39",
          "Pos 40",
          "Pos 41",
          "Pos 42",
          "Pos 43",
          "Pos 44",
          "Pos 45",
          "Pos 46",
          "Pos 47",
          "Pos 48",
          "Pos 49"
         ],
         "type": "scatter",
         "x": {
          "bdata": "AACAP0FRCj8zEdW+JnB9vzBVJ78sPJE+uM11P73/QD/2/RS+1T9pv2TNVr9yBZE70AZYP29OaD/XBAw+6HpCvywpdb824oy+hAopP78bfT8i8NA+/DcMv2/9f7+/Zwi//i3ZPni/fT+BnCU/OJOVvldtdr+zgD+/GPQdPo4saj+pj1U/t4ZZvOc7Wb9fWGe/6ggDvi3yQz+1f3Q/bIWIPnS8Kr9Ewny/4MrMvugbDj+79X8/gXsGP25G3b6zCX6/gOAjv0TnmT4=",
          "dtype": "f4"
         },
         "xaxis": "x",
         "y": {
          "bdata": "AAAAAKRqVz+3x2g/w4EQPs+9Qb8QfHW/jA+PvkYwKD+VRn0/MgHTPvhEC79c/3+/2FwJvyIg1z5ymH0/RHkmPxBok74mHna/s0BAv2l5GT7Itmk/EC9WPxUFEbzmoVi//NNnvziHB74IN0M/DtV0Pyq0ij7p4ym/pO98vwbezr5NKg0/Ofp/P/dxBz/COtu+OOV9v+q+JL+fvZc+TLt2P7y/Pj/7bSK+KKFqvzDvVL+hA5E80NRZP5rbZj/oE/09VqxEvyIpdL8=",
          "dtype": "f4"
         },
         "yaxis": "y"
        },
        {
         "hoverinfo": "text",
         "line": {
          "color": "rgba(150,150,150,0.3)"
         },
         "marker": {
          "color": {
           "bdata": "AAECAwQFBgcICQoLDA0ODxAREhMUFRYXGBkaGxwdHh8gISIjJCUmJygpKissLS4vMDE=",
           "dtype": "i1"
          },
          "colorscale": [
           [
            0,
            "#440154"
           ],
           [
            0.1111111111111111,
            "#482878"
           ],
           [
            0.2222222222222222,
            "#3e4989"
           ],
           [
            0.3333333333333333,
            "#31688e"
           ],
           [
            0.4444444444444444,
            "#26828e"
           ],
           [
            0.5555555555555556,
            "#1f9e89"
           ],
           [
            0.6666666666666666,
            "#35b779"
           ],
           [
            0.7777777777777778,
            "#6ece58"
           ],
           [
            0.8888888888888888,
            "#b5de2b"
           ],
           [
            1,
            "#fde725"
           ]
          ],
          "size": 8
         },
         "mode": "lines+markers",
         "name": "Pair 8",
         "text": [
          "Pos 0",
          "Pos 1",
          "Pos 2",
          "Pos 3",
          "Pos 4",
          "Pos 5",
          "Pos 6",
          "Pos 7",
          "Pos 8",
          "Pos 9",
          "Pos 10",
          "Pos 11",
          "Pos 12",
          "Pos 13",
          "Pos 14",
          "Pos 15",
          "Pos 16",
          "Pos 17",
          "Pos 18",
          "Pos 19",
          "Pos 20",
          "Pos 21",
          "Pos 22",
          "Pos 23",
          "Pos 24",
          "Pos 25",
          "Pos 26",
          "Pos 27",
          "Pos 28",
          "Pos 29",
          "Pos 30",
          "Pos 31",
          "Pos 32",
          "Pos 33",
          "Pos 34",
          "Pos 35",
          "Pos 36",
          "Pos 37",
          "Pos 38",
          "Pos 39",
          "Pos 40",
          "Pos 41",
          "Pos 42",
          "Pos 43",
          "Pos 44",
          "Pos 45",
          "Pos 46",
          "Pos 47",
          "Pos 48",
          "Pos 49"
         ],
         "type": "scatter",
         "x": {
          "bdata": "AACAP5i4fj+l5Xo/75B0P6fKaz9AqWA/MklTP7PMQz9fWzI/1CEfP0FRCj/APeg+84a5Ppn1iD7fCy4+qt6QPeMz77zT7wO+r6dovjWGpb4zEdW+mj0BvwOoFr8QkSq/18U8v78XTb8RXVu/RnFnv3w1cb+3kHi/JnB9v1LHf78/kH+/est8vxaAd7+gu2+/9ZFlvxUdWb/dfEq/stY5vzBVJ7+rJxO/bwP7voc1zb65Wp2+29pXvkaw5b2f+Eq8xDKzPSD9Pj4=",
          "dtype": "f4"
         },
         "xaxis": "x2",
         "y": {
          "bdata": "AAAAAHd1zD35b0s+bU6XPthhxz5Ed/U+aYwQP3PrJD+mpDc/HYhIP6RqVz8rJmQ/HZpuP8Crdj9vRnw/1Vt/Pw7kfz++3X0/FE55P7lAcj+3x2g/SftcP575Tj+K5j4/JussP3g1GT/k9wM/iNHaPpODqz7B/XQ+w4EQPlZQKj3HGW+9E4ghvkzWgr7cmbO+D5LivlijB7+3ohy/cxEwv8+9Qb+belG/mR9fv9uJar8ynHO/aj96v4hifr/5+n+/pAR/vwOCe78=",
          "dtype": "f4"
         },
         "yaxis": "y2"
        },
        {
         "hoverinfo": "text",
         "line": {
          "color": "rgba(150,150,150,0.3)"
         },
         "marker": {
          "color": {
           "bdata": "AAECAwQFBgcICQoLDA0ODxAREhMUFRYXGBkaGxwdHh8gISIjJCUmJygpKissLS4vMDE=",
           "dtype": "i1"
          },
          "colorscale": [
           [
            0,
            "#440154"
           ],
           [
            0.1111111111111111,
            "#482878"
           ],
           [
            0.2222222222222222,
            "#3e4989"
           ],
           [
            0.3333333333333333,
            "#31688e"
           ],
           [
            0.4444444444444444,
            "#26828e"
           ],
           [
            0.5555555555555556,
            "#1f9e89"
           ],
           [
            0.6666666666666666,
            "#35b779"
           ],
           [
            0.7777777777777778,
            "#6ece58"
           ],
           [
            0.8888888888888888,
            "#b5de2b"
           ],
           [
            1,
            "#fde725"
           ]
          ],
          "size": 8
         },
         "mode": "lines+markers",
         "name": "Pair 16",
         "text": [
          "Pos 0",
          "Pos 1",
          "Pos 2",
          "Pos 3",
          "Pos 4",
          "Pos 5",
          "Pos 6",
          "Pos 7",
          "Pos 8",
          "Pos 9",
          "Pos 10",
          "Pos 11",
          "Pos 12",
          "Pos 13",
          "Pos 14",
          "Pos 15",
          "Pos 16",
          "Pos 17",
          "Pos 18",
          "Pos 19",
          "Pos 20",
          "Pos 21",
          "Pos 22",
          "Pos 23",
          "Pos 24",
          "Pos 25",
          "Pos 26",
          "Pos 27",
          "Pos 28",
          "Pos 29",
          "Pos 30",
          "Pos 31",
          "Pos 32",
          "Pos 33",
          "Pos 34",
          "Pos 35",
          "Pos 36",
          "Pos 37",
          "Pos 38",
          "Pos 39",
          "Pos 40",
          "Pos 41",
          "Pos 42",
          "Pos 43",
          "Pos 44",
          "Pos 45",
          "Pos 46",
          "Pos 47",
          "Pos 48",
          "Pos 49"
         ],
         "type": "scatter",
         "x": {
          "bdata": "AACAP7n8fz/l8n8/g+J/P5TLfz8Zrn8/Eop/P4Fffz9lLn8/wvZ+P5i4fj/oc34/tSh+PwDXfT/Mfn0/GiB9P+26fD9JT3w/Lt17P6Fkez+l5Xo/PGB6P2rUeT80Qnk/m6l4P6UKeD9WZXc/sbl2P7sHdj95T3U/75B0PyLMcz8YAXM/1S9yP19YcT+7enA/75ZvPwGtbj/3vG0/18ZsP6fKaz9uyGo/M8BpP/uxaD/OnWc/tINmP7JjZT/SPWQ/GhJjP5HgYT8=",
          "dtype": "f4"
         },
         "xaxis": "x3",
         "y": {
          "bdata": "AAAAAFfWIzw+1KM8H7n1PNvLIz30tkw90Zx1PTI+jz1QqqM9PhK4PXZ1zD1y0+A9rCv1PdC+BD5k5A4+TwYZPlAkIz4jPi0+h1M3PjpkQT74b0s+g3ZVPpZ3Xz7wcmk+UWhzPndXfT4QoIM+BZGIPn1+jT5UaJI+bE6XPqUwnD7eDqE+9+ilPtK+qj5NkK8+SV20PqkluT5K6b0+DqjCPtdhxz6GFsw++sXQPhZw1T69FNo+zbPePipN4z624Oc+Um7sPuD18D4=",
          "dtype": "f4"
         },
         "yaxis": "y3"
        },
        {
         "hoverinfo": "text",
         "line": {
          "color": "rgba(150,150,150,0.3)"
         },
         "marker": {
          "color": {
           "bdata": "AAECAwQFBgcICQoLDA0ODxAREhMUFRYXGBkaGxwdHh8gISIjJCUmJygpKissLS4vMDE=",
           "dtype": "i1"
          },
          "colorscale": [
           [
            0,
            "#440154"
           ],
           [
            0.1111111111111111,
            "#482878"
           ],
           [
            0.2222222222222222,
            "#3e4989"
           ],
           [
            0.3333333333333333,
            "#31688e"
           ],
           [
            0.4444444444444444,
            "#26828e"
           ],
           [
            0.5555555555555556,
            "#1f9e89"
           ],
           [
            0.6666666666666666,
            "#35b779"
           ],
           [
            0.7777777777777778,
            "#6ece58"
           ],
           [
            0.8888888888888888,
            "#b5de2b"
           ],
           [
            1,
            "#fde725"
           ]
          ],
          "size": 8
         },
         "mode": "lines+markers",
         "name": "Pair 24",
         "text": [
          "Pos 0",
          "Pos 1",
          "Pos 2",
          "Pos 3",
          "Pos 4",
          "Pos 5",
          "Pos 6",
          "Pos 7",
          "Pos 8",
          "Pos 9",
          "Pos 10",
          "Pos 11",
          "Pos 12",
          "Pos 13",
          "Pos 14",
          "Pos 15",
          "Pos 16",
          "Pos 17",
          "Pos 18",
          "Pos 19",
          "Pos 20",
          "Pos 21",
          "Pos 22",
          "Pos 23",
          "Pos 24",
          "Pos 25",
          "Pos 26",
          "Pos 27",
          "Pos 28",
          "Pos 29",
          "Pos 30",
          "Pos 31",
          "Pos 32",
          "Pos 33",
          "Pos 34",
          "Pos 35",
          "Pos 36",
          "Pos 37",
          "Pos 38",
          "Pos 39",
          "Pos 40",
          "Pos 41",
          "Pos 42",
          "Pos 43",
          "Pos 44",
          "Pos 45",
          "Pos 46",
          "Pos 47",
          "Pos 48",
          "Pos 49"
         ],
         "type": "scatter",
         "x": {
          "bdata": "AACAP/j/fz/f/38/tf9/P3r/fz8v/38/0v5/P2X+fz/n/X8/Wf1/P7n8fz8J/H8/SPt/P3b6fz+U+X8/ofh/P533fz+I9n8/YvV/Pyz0fz/l8n8/jfF/PyTwfz+r7n8/IO1/P4brfz/a6X8/Heh/P1Dmfz9y5H8/g+J/P4Pgfz9z3n8/Utx/PyDafz/d138/itV/PyXTfz+w0H8/K85/P5TLfz/tyH8/NcZ/P2zDfz+SwH8/qL1/P626fz+ht38/hLR/P1exfz8=",
          "dtype": "f4"
         },
         "xaxis": "x4",
         "y": {
          "bdata": "AAAAAG4SgzppEgM7k5tEO1gSgzve1qM7WZvEO8df5TsTEgM8O3QTPFjWIzxrODQ8cZpEPGv8VDxXXmU8NMB1PAERgzzeQYs8s3KTPH6jmzw/1KM89QSsPKA1tDw/Zrw80ZbEPFfHzDzP99Q8OijdPJZY5TzjiO08ILn1PE3p/Ty1DAM9uiQHPbg8Cz2rVA89lmwTPXaEFz1NnBs9GbQfPdzLIz2T4yc9QPsrPeASMD12KjQ9AEI4PX5ZPD3vcEA9U4hEPaufSD0=",
          "dtype": "f4"
         },
         "yaxis": "y4"
        }
       ],
       "layout": {
        "annotations": [
         {
          "font": {
           "size": 16
          },
          "showarrow": false,
          "text": "Dimension Pair 0",
          "x": 0.225,
          "xanchor": "center",
          "xref": "paper",
          "y": 1,
          "yanchor": "bottom",
          "yref": "paper"
         },
         {
          "font": {
           "size": 16
          },
          "showarrow": false,
          "text": "Dimension Pair 8",
          "x": 0.775,
          "xanchor": "center",
          "xref": "paper",
          "y": 1,
          "yanchor": "bottom",
          "yref": "paper"
         },
         {
          "font": {
           "size": 16
          },
          "showarrow": false,
          "text": "Dimension Pair 16",
          "x": 0.225,
          "xanchor": "center",
          "xref": "paper",
          "y": 0.375,
          "yanchor": "bottom",
          "yref": "paper"
         },
         {
          "font": {
           "size": 16
          },
          "showarrow": false,
          "text": "Dimension Pair 24",
          "x": 0.775,
          "xanchor": "center",
          "xref": "paper",
          "y": 0.375,
          "yanchor": "bottom",
          "yref": "paper"
         },
         {
          "arrowhead": 2,
          "arrowsize": 1,
          "arrowwidth": 1,
          "ax": 0,
          "ay": -20,
          "showarrow": true,
          "text": "0",
          "x": 1,
          "xref": "x",
          "y": 0,
          "yref": "y"
         },
         {
          "arrowhead": 2,
          "arrowsize": 1,
          "arrowwidth": 1,
          "ax": 0,
          "ay": -20,
          "showarrow": true,
          "text": "10",
          "x": -0.83907151222229,
          "xref": "x",
          "y": -0.5440211296081543,
          "yref": "y"
         },
         {
          "arrowhead": 2,
          "arrowsize": 1,
          "arrowwidth": 1,
          "ax": 0,
          "ay": -20,
          "showarrow": true,
          "text": "20",
          "x": 0.4080820679664612,
          "xref": "x",
          "y": 0.9129452705383301,
          "yref": "y"
         },
         {
          "arrowhead": 2,
          "arrowsize": 1,
          "arrowwidth": 1,
          "ax": 0,
          "ay": -20,
          "showarrow": true,
          "text": "30",
          "x": 0.15425145626068115,
          "xref": "x",
          "y": -0.9880316257476807,
          "yref": "y"
         },
         {
          "arrowhead": 2,
          "arrowsize": 1,
          "arrowwidth": 1,
          "ax": 0,
          "ay": -20,
          "showarrow": true,
          "text": "40",
          "x": -0.666938066482544,
          "xref": "x",
          "y": 0.7451131343841553,
          "yref": "y"
         },
         {
          "arrowhead": 2,
          "arrowsize": 1,
          "arrowwidth": 1,
          "ax": 0,
          "ay": -20,
          "showarrow": true,
          "text": "0",
          "x": 1,
          "xref": "x2",
          "y": 0,
          "yref": "y2"
         },
         {
          "arrowhead": 2,
          "arrowsize": 1,
          "arrowwidth": 1,
          "ax": 0,
          "ay": -20,
          "showarrow": true,
          "text": "10",
          "x": 0.5403023362159729,
          "xref": "x2",
          "y": 0.8414709568023682,
          "yref": "y2"
         },
         {
          "arrowhead": 2,
          "arrowsize": 1,
          "arrowwidth": 1,
          "ax": 0,
          "ay": -20,
          "showarrow": true,
          "text": "20",
          "x": -0.416146844625473,
          "xref": "x2",
          "y": 0.9092974066734314,
          "yref": "y2"
         },
         {
          "arrowhead": 2,
          "arrowsize": 1,
          "arrowwidth": 1,
          "ax": 0,
          "ay": -20,
          "showarrow": true,
          "text": "30",
          "x": -0.9899924993515015,
          "xref": "x2",
          "y": 0.14112000167369843,
          "yref": "y2"
         },
         {
          "arrowhead": 2,
          "arrowsize": 1,
          "arrowwidth": 1,
          "ax": 0,
          "ay": -20,
          "showarrow": true,
          "text": "40",
          "x": -0.6536436080932617,
          "xref": "x2",
          "y": -0.756802499294281,
          "yref": "y2"
         },
         {
          "arrowhead": 2,
          "arrowsize": 1,
          "arrowwidth": 1,
          "ax": 0,
          "ay": -20,
          "showarrow": true,
          "text": "0",
          "x": 1,
          "xref": "x3",
          "y": 0,
          "yref": "y3"
         },
         {
          "arrowhead": 2,
          "arrowsize": 1,
          "arrowwidth": 1,
          "ax": 0,
          "ay": -20,
          "showarrow": true,
          "text": "10",
          "x": 0.9950041770935059,
          "xref": "x3",
          "y": 0.0998334139585495,
          "yref": "y3"
         },
         {
          "arrowhead": 2,
          "arrowsize": 1,
          "arrowwidth": 1,
          "ax": 0,
          "ay": -20,
          "showarrow": true,
          "text": "20",
          "x": 0.9800665974617004,
          "xref": "x3",
          "y": 0.19866931438446045,
          "yref": "y3"
         },
         {
          "arrowhead": 2,
          "arrowsize": 1,
          "arrowwidth": 1,
          "ax": 0,
          "ay": -20,
          "showarrow": true,
          "text": "30",
          "x": 0.9553365111351013,
          "xref": "x3",
          "y": 0.29552018642425537,
          "yref": "y3"
         },
         {
          "arrowhead": 2,
          "arrowsize": 1,
          "arrowwidth": 1,
          "ax": 0,
          "ay": -20,
          "showarrow": true,
          "text": "40",
          "x": 0.9210609793663025,
          "xref": "x3",
          "y": 0.3894183337688446,
          "yref": "y3"
         },
         {
          "arrowhead": 2,
          "arrowsize": 1,
          "arrowwidth": 1,
          "ax": 0,
          "ay": -20,
          "showarrow": true,
          "text": "0",
          "x": 1,
          "xref": "x4",
          "y": 0,
          "yref": "y4"
         },
         {
          "arrowhead": 2,
          "arrowsize": 1,
          "arrowwidth": 1,
          "ax": 0,
          "ay": -20,
          "showarrow": true,
          "text": "10",
          "x": 0.9999499917030334,
          "xref": "x4",
          "y": 0.0099998340010643,
          "yref": "y4"
         },
         {
          "arrowhead": 2,
          "arrowsize": 1,
          "arrowwidth": 1,
          "ax": 0,
          "ay": -20,
          "showarrow": true,
          "text": "20",
          "x": 0.9998000264167786,
          "xref": "x4",
          "y": 0.019998667761683464,
          "yref": "y4"
         },
         {
          "arrowhead": 2,
          "arrowsize": 1,
          "arrowwidth": 1,
          "ax": 0,
          "ay": -20,
          "showarrow": true,
          "text": "30",
          "x": 0.9995500445365906,
          "xref": "x4",
          "y": 0.029995501041412354,
          "yref": "y4"
         },
         {
          "arrowhead": 2,
          "arrowsize": 1,
          "arrowwidth": 1,
          "ax": 0,
          "ay": -20,
          "showarrow": true,
          "text": "40",
          "x": 0.9992001056671143,
          "xref": "x4",
          "y": 0.03998933732509613,
          "yref": "y4"
         }
        ],
        "height": 700,
        "showlegend": false,
        "template": {
         "data": {
          "bar": [
           {
            "error_x": {
             "color": "#2a3f5f"
            },
            "error_y": {
             "color": "#2a3f5f"
            },
            "marker": {
             "line": {
              "color": "#E5ECF6",
              "width": 0.5
             },
             "pattern": {
              "fillmode": "overlay",
              "size": 10,
              "solidity": 0.2
             }
            },
            "type": "bar"
           }
          ],
          "barpolar": [
           {
            "marker": {
             "line": {
              "color": "#E5ECF6",
              "width": 0.5
             },
             "pattern": {
              "fillmode": "overlay",
              "size": 10,
              "solidity": 0.2
             }
            },
            "type": "barpolar"
           }
          ],
          "carpet": [
           {
            "aaxis": {
             "endlinecolor": "#2a3f5f",
             "gridcolor": "white",
             "linecolor": "white",
             "minorgridcolor": "white",
             "startlinecolor": "#2a3f5f"
            },
            "baxis": {
             "endlinecolor": "#2a3f5f",
             "gridcolor": "white",
             "linecolor": "white",
             "minorgridcolor": "white",
             "startlinecolor": "#2a3f5f"
            },
            "type": "carpet"
           }
          ],
          "choropleth": [
           {
            "colorbar": {
             "outlinewidth": 0,
             "ticks": ""
            },
            "type": "choropleth"
           }
          ],
          "contour": [
           {
            "colorbar": {
             "outlinewidth": 0,
             "ticks": ""
            },
            "colorscale": [
             [
              0,
              "#0d0887"
             ],
             [
              0.1111111111111111,
              "#46039f"
             ],
             [
              0.2222222222222222,
              "#7201a8"
             ],
             [
              0.3333333333333333,
              "#9c179e"
             ],
             [
              0.4444444444444444,
              "#bd3786"
             ],
             [
              0.5555555555555556,
              "#d8576b"
             ],
             [
              0.6666666666666666,
              "#ed7953"
             ],
             [
              0.7777777777777778,
              "#fb9f3a"
             ],
             [
              0.8888888888888888,
              "#fdca26"
             ],
             [
              1,
              "#f0f921"
             ]
            ],
            "type": "contour"
           }
          ],
          "contourcarpet": [
           {
            "colorbar": {
             "outlinewidth": 0,
             "ticks": ""
            },
            "type": "contourcarpet"
           }
          ],
          "heatmap": [
           {
            "colorbar": {
             "outlinewidth": 0,
             "ticks": ""
            },
            "colorscale": [
             [
              0,
              "#0d0887"
             ],
             [
              0.1111111111111111,
              "#46039f"
             ],
             [
              0.2222222222222222,
              "#7201a8"
             ],
             [
              0.3333333333333333,
              "#9c179e"
             ],
             [
              0.4444444444444444,
              "#bd3786"
             ],
             [
              0.5555555555555556,
              "#d8576b"
             ],
             [
              0.6666666666666666,
              "#ed7953"
             ],
             [
              0.7777777777777778,
              "#fb9f3a"
             ],
             [
              0.8888888888888888,
              "#fdca26"
             ],
             [
              1,
              "#f0f921"
             ]
            ],
            "type": "heatmap"
           }
          ],
          "histogram": [
           {
            "marker": {
             "pattern": {
              "fillmode": "overlay",
              "size": 10,
              "solidity": 0.2
             }
            },
            "type": "histogram"
           }
          ],
          "histogram2d": [
           {
            "colorbar": {
             "outlinewidth": 0,
             "ticks": ""
            },
            "colorscale": [
             [
              0,
              "#0d0887"
             ],
             [
              0.1111111111111111,
              "#46039f"
             ],
             [
              0.2222222222222222,
              "#7201a8"
             ],
             [
              0.3333333333333333,
              "#9c179e"
             ],
             [
              0.4444444444444444,
              "#bd3786"
             ],
             [
              0.5555555555555556,
              "#d8576b"
             ],
             [
              0.6666666666666666,
              "#ed7953"
             ],
             [
              0.7777777777777778,
              "#fb9f3a"
             ],
             [
              0.8888888888888888,
              "#fdca26"
             ],
             [
              1,
              "#f0f921"
             ]
            ],
            "type": "histogram2d"
           }
          ],
          "histogram2dcontour": [
           {
            "colorbar": {
             "outlinewidth": 0,
             "ticks": ""
            },
            "colorscale": [
             [
              0,
              "#0d0887"
             ],
             [
              0.1111111111111111,
              "#46039f"
             ],
             [
              0.2222222222222222,
              "#7201a8"
             ],
             [
              0.3333333333333333,
              "#9c179e"
             ],
             [
              0.4444444444444444,
              "#bd3786"
             ],
             [
              0.5555555555555556,
              "#d8576b"
             ],
             [
              0.6666666666666666,
              "#ed7953"
             ],
             [
              0.7777777777777778,
              "#fb9f3a"
             ],
             [
              0.8888888888888888,
              "#fdca26"
             ],
             [
              1,
              "#f0f921"
             ]
            ],
            "type": "histogram2dcontour"
           }
          ],
          "mesh3d": [
           {
            "colorbar": {
             "outlinewidth": 0,
             "ticks": ""
            },
            "type": "mesh3d"
           }
          ],
          "parcoords": [
           {
            "line": {
             "colorbar": {
              "outlinewidth": 0,
              "ticks": ""
             }
            },
            "type": "parcoords"
           }
          ],
          "pie": [
           {
            "automargin": true,
            "type": "pie"
           }
          ],
          "scatter": [
           {
            "fillpattern": {
             "fillmode": "overlay",
             "size": 10,
             "solidity": 0.2
            },
            "type": "scatter"
           }
          ],
          "scatter3d": [
           {
            "line": {
             "colorbar": {
              "outlinewidth": 0,
              "ticks": ""
             }
            },
            "marker": {
             "colorbar": {
              "outlinewidth": 0,
              "ticks": ""
             }
            },
            "type": "scatter3d"
           }
          ],
          "scattercarpet": [
           {
            "marker": {
             "colorbar": {
              "outlinewidth": 0,
              "ticks": ""
             }
            },
            "type": "scattercarpet"
           }
          ],
          "scattergeo": [
           {
            "marker": {
             "colorbar": {
              "outlinewidth": 0,
              "ticks": ""
             }
            },
            "type": "scattergeo"
           }
          ],
          "scattergl": [
           {
            "marker": {
             "colorbar": {
              "outlinewidth": 0,
              "ticks": ""
             }
            },
            "type": "scattergl"
           }
          ],
          "scattermap": [
           {
            "marker": {
             "colorbar": {
              "outlinewidth": 0,
              "ticks": ""
             }
            },
            "type": "scattermap"
           }
          ],
          "scattermapbox": [
           {
            "marker": {
             "colorbar": {
              "outlinewidth": 0,
              "ticks": ""
             }
            },
            "type": "scattermapbox"
           }
          ],
          "scatterpolar": [
           {
            "marker": {
             "colorbar": {
              "outlinewidth": 0,
              "ticks": ""
             }
            },
            "type": "scatterpolar"
           }
          ],
          "scatterpolargl": [
           {
            "marker": {
             "colorbar": {
              "outlinewidth": 0,
              "ticks": ""
             }
            },
            "type": "scatterpolargl"
           }
          ],
          "scatterternary": [
           {
            "marker": {
             "colorbar": {
              "outlinewidth": 0,
              "ticks": ""
             }
            },
            "type": "scatterternary"
           }
          ],
          "surface": [
           {
            "colorbar": {
             "outlinewidth": 0,
             "ticks": ""
            },
            "colorscale": [
             [
              0,
              "#0d0887"
             ],
             [
              0.1111111111111111,
              "#46039f"
             ],
             [
              0.2222222222222222,
              "#7201a8"
             ],
             [
              0.3333333333333333,
              "#9c179e"
             ],
             [
              0.4444444444444444,
              "#bd3786"
             ],
             [
              0.5555555555555556,
              "#d8576b"
             ],
             [
              0.6666666666666666,
              "#ed7953"
             ],
             [
              0.7777777777777778,
              "#fb9f3a"
             ],
             [
              0.8888888888888888,
              "#fdca26"
             ],
             [
              1,
              "#f0f921"
             ]
            ],
            "type": "surface"
           }
          ],
          "table": [
           {
            "cells": {
             "fill": {
              "color": "#EBF0F8"
             },
             "line": {
              "color": "white"
             }
            },
            "header": {
             "fill": {
              "color": "#C8D4E3"
             },
             "line": {
              "color": "white"
             }
            },
            "type": "table"
           }
          ]
         },
         "layout": {
          "annotationdefaults": {
           "arrowcolor": "#2a3f5f",
           "arrowhead": 0,
           "arrowwidth": 1
          },
          "autotypenumbers": "strict",
          "coloraxis": {
           "colorbar": {
            "outlinewidth": 0,
            "ticks": ""
           }
          },
          "colorscale": {
           "diverging": [
            [
             0,
             "#8e0152"
            ],
            [
             0.1,
             "#c51b7d"
            ],
            [
             0.2,
             "#de77ae"
            ],
            [
             0.3,
             "#f1b6da"
            ],
            [
             0.4,
             "#fde0ef"
            ],
            [
             0.5,
             "#f7f7f7"
            ],
            [
             0.6,
             "#e6f5d0"
            ],
            [
             0.7,
             "#b8e186"
            ],
            [
             0.8,
             "#7fbc41"
            ],
            [
             0.9,
             "#4d9221"
            ],
            [
             1,
             "#276419"
            ]
           ],
           "sequential": [
            [
             0,
             "#0d0887"
            ],
            [
             0.1111111111111111,
             "#46039f"
            ],
            [
             0.2222222222222222,
             "#7201a8"
            ],
            [
             0.3333333333333333,
             "#9c179e"
            ],
            [
             0.4444444444444444,
             "#bd3786"
            ],
            [
             0.5555555555555556,
             "#d8576b"
            ],
            [
             0.6666666666666666,
             "#ed7953"
            ],
            [
             0.7777777777777778,
             "#fb9f3a"
            ],
            [
             0.8888888888888888,
             "#fdca26"
            ],
            [
             1,
             "#f0f921"
            ]
           ],
           "sequentialminus": [
            [
             0,
             "#0d0887"
            ],
            [
             0.1111111111111111,
             "#46039f"
            ],
            [
             0.2222222222222222,
             "#7201a8"
            ],
            [
             0.3333333333333333,
             "#9c179e"
            ],
            [
             0.4444444444444444,
             "#bd3786"
            ],
            [
             0.5555555555555556,
             "#d8576b"
            ],
            [
             0.6666666666666666,
             "#ed7953"
            ],
            [
             0.7777777777777778,
             "#fb9f3a"
            ],
            [
             0.8888888888888888,
             "#fdca26"
            ],
            [
             1,
             "#f0f921"
            ]
           ]
          },
          "colorway": [
           "#636efa",
           "#EF553B",
           "#00cc96",
           "#ab63fa",
           "#FFA15A",
           "#19d3f3",
           "#FF6692",
           "#B6E880",
           "#FF97FF",
           "#FECB52"
          ],
          "font": {
           "color": "#2a3f5f"
          },
          "geo": {
           "bgcolor": "white",
           "lakecolor": "white",
           "landcolor": "#E5ECF6",
           "showlakes": true,
           "showland": true,
           "subunitcolor": "white"
          },
          "hoverlabel": {
           "align": "left"
          },
          "hovermode": "closest",
          "mapbox": {
           "style": "light"
          },
          "paper_bgcolor": "white",
          "plot_bgcolor": "#E5ECF6",
          "polar": {
           "angularaxis": {
            "gridcolor": "white",
            "linecolor": "white",
            "ticks": ""
           },
           "bgcolor": "#E5ECF6",
           "radialaxis": {
            "gridcolor": "white",
            "linecolor": "white",
            "ticks": ""
           }
          },
          "scene": {
           "xaxis": {
            "backgroundcolor": "#E5ECF6",
            "gridcolor": "white",
            "gridwidth": 2,
            "linecolor": "white",
            "showbackground": true,
            "ticks": "",
            "zerolinecolor": "white"
           },
           "yaxis": {
            "backgroundcolor": "#E5ECF6",
            "gridcolor": "white",
            "gridwidth": 2,
            "linecolor": "white",
            "showbackground": true,
            "ticks": "",
            "zerolinecolor": "white"
           },
           "zaxis": {
            "backgroundcolor": "#E5ECF6",
            "gridcolor": "white",
            "gridwidth": 2,
            "linecolor": "white",
            "showbackground": true,
            "ticks": "",
            "zerolinecolor": "white"
           }
          },
          "shapedefaults": {
           "line": {
            "color": "#2a3f5f"
           }
          },
          "ternary": {
           "aaxis": {
            "gridcolor": "white",
            "linecolor": "white",
            "ticks": ""
           },
           "baxis": {
            "gridcolor": "white",
            "linecolor": "white",
            "ticks": ""
           },
           "bgcolor": "#E5ECF6",
           "caxis": {
            "gridcolor": "white",
            "linecolor": "white",
            "ticks": ""
           }
          },
          "title": {
           "x": 0.05
          },
          "xaxis": {
           "automargin": true,
           "gridcolor": "white",
           "linecolor": "white",
           "ticks": "",
           "title": {
            "standoff": 15
           },
           "zerolinecolor": "white",
           "zerolinewidth": 2
          },
          "yaxis": {
           "automargin": true,
           "gridcolor": "white",
           "linecolor": "white",
           "ticks": "",
           "title": {
            "standoff": 15
           },
           "zerolinecolor": "white",
           "zerolinewidth": 2
          }
         }
        },
        "title": {
         "text": "RoPE: Rotation Trajectories for Different Dimension Pairs"
        },
        "width": 900,
        "xaxis": {
         "anchor": "y",
         "domain": [
          0,
          0.45
         ],
         "range": [
          -1.1,
          1.1
         ],
         "title": {
          "text": "cos(mθ)"
         }
        },
        "xaxis2": {
         "anchor": "y2",
         "domain": [
          0.55,
          1
         ],
         "range": [
          -1.1,
          1.1
         ],
         "title": {
          "text": "cos(mθ)"
         }
        },
        "xaxis3": {
         "anchor": "y3",
         "domain": [
          0,
          0.45
         ],
         "range": [
          -1.1,
          1.1
         ],
         "title": {
          "text": "cos(mθ)"
         }
        },
        "xaxis4": {
         "anchor": "y4",
         "domain": [
          0.55,
          1
         ],
         "range": [
          -1.1,
          1.1
         ],
         "title": {
          "text": "cos(mθ)"
         }
        },
        "yaxis": {
         "anchor": "x",
         "domain": [
          0.625,
          1
         ],
         "range": [
          -1.1,
          1.1
         ],
         "title": {
          "text": "sin(mθ)"
         }
        },
        "yaxis2": {
         "anchor": "x2",
         "domain": [
          0.625,
          1
         ],
         "range": [
          -1.1,
          1.1
         ],
         "title": {
          "text": "sin(mθ)"
         }
        },
        "yaxis3": {
         "anchor": "x3",
         "domain": [
          0,
          0.375
         ],
         "range": [
          -1.1,
          1.1
         ],
         "title": {
          "text": "sin(mθ)"
         }
        },
        "yaxis4": {
         "anchor": "x4",
         "domain": [
          0,
          0.375
         ],
         "range": [
          -1.1,
          1.1
         ],
         "title": {
          "text": "sin(mθ)"
         }
        }
       }
      }
     },
     "metadata": {},
     "output_type": "display_data"
    }
   ],
   "source": [
    "class RotaryEmbedding(nn.Module):\n",
    "    \"\"\"Rotary Position Embedding implementation.\"\"\"\n",
    "    def __init__(self, dim, base=10000):\n",
    "        super().__init__()\n",
    "        self.dim = dim\n",
    "        self.base = base\n",
    "        inv_freq = 1.0 / (base ** (torch.arange(0, dim, 2).float() / dim))\n",
    "        self.register_buffer(\"inv_freq\", inv_freq)\n",
    "\n",
    "    def forward(self, seq_len):\n",
    "        # Create position indices\n",
    "        position = torch.arange(seq_len, device=self.inv_freq.device).float()\n",
    "        # Compute angles for each position and frequency\n",
    "        angles = position.unsqueeze(1) * self.inv_freq.unsqueeze(0)\n",
    "        # Return sines and cosines for easier rotation\n",
    "        return torch.stack([torch.cos(angles), torch.sin(angles)], dim=-1)\n",
    "\n",
    "    def _apply_rotary_pos_emb(self, x, cos, sin):\n",
    "        # x shape: [batch_size, seq_len, dim]\n",
    "        # Reshape x for easier rotation\n",
    "        x_reshape = x.reshape(*x.shape[:-1], -1, 2)\n",
    "        x1, x2 = x_reshape.unbind(-1)  # Split into pairs\n",
    "        \n",
    "        # Apply rotation using the rotation matrix [cos -sin; sin cos]\n",
    "        out1 = x1 * cos - x2 * sin\n",
    "        out2 = x1 * sin + x2 * cos\n",
    "        \n",
    "        # Stack and reshape back\n",
    "        return torch.stack([out1, out2], dim=-1).flatten(-2)\n",
    "\n",
    "    def apply_rotary_embedding(self, q, k, seq_len):\n",
    "        # Get rotation angles\n",
    "        cos_sin = self.forward(seq_len)\n",
    "        cos, sin = cos_sin[..., 0], cos_sin[..., 1]\n",
    "        \n",
    "        # Reshape for broadcasting\n",
    "        cos = cos.unsqueeze(0).unsqueeze(0)  # [1, 1, seq_len, dim/2]\n",
    "        sin = sin.unsqueeze(0).unsqueeze(0)  # [1, 1, seq_len, dim/2]\n",
    "        \n",
    "        # Apply rotations to q and k\n",
    "        q_rotated = self._apply_rotary_pos_emb(q, cos, sin)\n",
    "        k_rotated = self._apply_rotary_pos_emb(k, cos, sin)\n",
    "        \n",
    "        return q_rotated, k_rotated\n",
    "\n",
    "# Function to visualize rotation trajectories in RoPE\n",
    "def visualize_rope_trajectories(dim=64, seq_length=50, base=10000):\n",
    "    # Compute frequencies\n",
    "    freqs = 1.0 / (base ** (torch.arange(0, dim, 2).float() / dim))\n",
    "    positions = torch.arange(seq_length)\n",
    "    \n",
    "    # Create subplots for different frequency pairs\n",
    "    pairs_to_plot = [0, dim//8, dim//4, 3*dim//8]  # Plot 4 different frequency pairs\n",
    "    fig = make_subplots(rows=2, cols=2, \n",
    "                       subplot_titles=[f\"Dimension Pair {i}\" for i in pairs_to_plot])\n",
    "    \n",
    "    for i, pair_idx in enumerate(pairs_to_plot):\n",
    "        # Calculate row and column for subplot\n",
    "        row = i // 2 + 1\n",
    "        col = i % 2 + 1\n",
    "        \n",
    "        # Get frequency for this pair\n",
    "        freq = freqs[pair_idx].item()\n",
    "        \n",
    "        # Compute rotation angles\n",
    "        angles = positions.float() * freq\n",
    "        \n",
    "        # Compute x, y coordinates on the circle\n",
    "        x = torch.cos(angles)\n",
    "        y = torch.sin(angles)\n",
    "        \n",
    "        # Create a color gradient based on position\n",
    "        colors = positions.numpy()\n",
    "        \n",
    "        # Add scatter trace to subplot\n",
    "        fig.add_trace(\n",
    "            go.Scatter(x=x, y=y, mode='lines+markers',\n",
    "                      marker=dict(color=colors, colorscale='Viridis', size=8),\n",
    "                      line=dict(color='rgba(150,150,150,0.3)'),\n",
    "                      text=[f\"Pos {p}\" for p in positions],\n",
    "                      hoverinfo='text',\n",
    "                      name=f\"Pair {pair_idx}\"),\n",
    "            row=row, col=col\n",
    "        )\n",
    "        \n",
    "        # Add annotations for specific positions\n",
    "        special_pos = [0, 10, 20, 30, 40]\n",
    "        for pos in special_pos:\n",
    "            if pos < seq_length:\n",
    "                fig.add_annotation(\n",
    "                    x=x[pos].item(), y=y[pos].item(),\n",
    "                    text=str(pos),\n",
    "                    showarrow=True, arrowhead=2,\n",
    "                    arrowsize=1, arrowwidth=1, ax=0, ay=-20,\n",
    "                    row=row, col=col\n",
    "                )\n",
    "    \n",
    "    # Update layout\n",
    "    fig.update_layout(\n",
    "        title=\"RoPE: Rotation Trajectories for Different Dimension Pairs\",\n",
    "        height=700, width=900,\n",
    "        showlegend=False,\n",
    "    )\n",
    "    \n",
    "    # Update axis properties for all subplots\n",
    "    for i in range(1, 3):\n",
    "        for j in range(1, 3):\n",
    "            fig.update_xaxes(title_text=\"cos(mθ)\", range=[-1.1, 1.1], row=i, col=j)\n",
    "            fig.update_yaxes(title_text=\"sin(mθ)\", range=[-1.1, 1.1], row=i, col=j)\n",
    "    \n",
    "    return fig\n",
    "\n",
    "# Display the visualization\n",
    "visualize_rope_trajectories()"
   ]
  },
  {
   "cell_type": "markdown",
   "id": "3b051842",
   "metadata": {},
   "source": [
    "## Understanding RoPE Rotation Trajectories\n",
    "\n",
    "This visualization demonstrates how Rotary Position Embedding (RoPE) operates by rotating vector pairs in different dimensions at various frequencies. Unlike traditional positional encoding that adds position vectors to embeddings, RoPE directly rotates query and key vectors in the attention mechanism.\n",
    "\n",
    "**Key insights from the visualization:**\n",
    "\n",
    "- **Multiple rotation frequencies**: Each subplot shows how a different dimension pair rotates at its own frequency. Early pairs (Dimension Pair 0) rotate quickly with position changes, while later pairs (Dimension Pair 24, 32, 48) rotate more slowly.\n",
    "\n",
    "- **Position mapping to angles**: Each colored dot represents a position in the sequence, mapped to a specific angle on the unit circle. The color gradient helps track how positions (0, 10, 20, etc.) move around the circle.\n",
    "\n",
    "- **Multi-scale representation**: The varying rotation speeds create a multi-scale representation of position. Fast-rotating pairs capture local, fine-grained positional relationships, while slow-rotating pairs capture global context.\n",
    "\n",
    "- **Circular nature**: The circular trajectories ensure that the encoding is bounded and well-behaved numerically, avoiding the exploding or vanishing issues that can occur with some other position encodings.\n",
    "\n",
    "By using these rotations instead of additive encodings, RoPE elegantly integrates positional information into the attention mechanism while preserving the ability to model relative positions effectively."
   ]
  },
  {
   "cell_type": "markdown",
   "id": "ce72eb57",
   "metadata": {},
   "source": [
    "## Multi-Head Attention Implementation\n",
    "\n",
    "Now let's implement the multi-head attention mechanism with both standard positional encoding and RoPE variants."
   ]
  },
  {
   "cell_type": "code",
   "execution_count": null,
   "id": "1f973d0b",
   "metadata": {},
   "outputs": [],
   "source": [
    "import numpy as np\n",
    "\n",
    "def rotate_pair(x_j, x_j1, theta):\n",
    "    \"\"\"Apply 2D rotation to a pair of values.\"\"\"\n",
    "    x_j_new = x_j * np.cos(theta) - x_j1 * np.sin(theta)\n",
    "    x_j1_new = x_j * np.sin(theta) + x_j1 * np.cos(theta)\n",
    "    return x_j_new, x_j1_new\n",
    "\n",
    "# Example: rotate (1, 0) by 45 degrees\n",
    "x_j, x_j1 = 1.0, 0.0\n",
    "theta = np.pi / 4\n",
    "rotate_pair(x_j, x_j1, theta)"
   ]
  },
  {
   "cell_type": "markdown",
   "id": "a82b08bb",
   "metadata": {},
   "source": [
    "## Multi-Frequency Encoding: Local and Global Context\n",
    "Each pair of dimensions is rotated by a different frequency, determined by θ_i = 1 / (base^(2i/d)). Early pairs (small i) rotate quickly, capturing local relationships. Later pairs (large i) rotate slowly, capturing global context. This multi-scale approach is more powerful than using a single frequency."
   ]
  },
  {
   "cell_type": "code",
   "execution_count": null,
   "id": "8634d111",
   "metadata": {},
   "outputs": [],
   "source": [
    "import plotly.graph_objs as go\n",
    "import numpy as np\n",
    "\n",
    "positions = np.arange(0, 50)\n",
    "d = 8  # example dimensionality\n",
    "base = 10000\n",
    "\n",
    "traces = []\n",
    "for i in range(d // 2):\n",
    "    theta_i = 1 / (base ** (2 * i / d))\n",
    "    angles = positions * theta_i\n",
    "    x = np.cos(angles)\n",
    "    y = np.sin(angles)\n",
    "    traces.append(go.Scatter(x=x, y=y, mode='lines', name=f'Pair {i}'))\n",
    "\n",
    "layout = go.Layout(title='RoPE: Rotation Trajectories for Different Dimension Pairs',\n",
    "                   xaxis=dict(title='cos(mθ_i)'),\n",
    "                   yaxis=dict(title='sin(mθ_i)'))\n",
    "fig = go.Figure(data=traces, layout=layout)\n",
    "fig.show()"
   ]
  },
  {
   "cell_type": "markdown",
   "id": "95ce53c2",
   "metadata": {},
   "source": [
    "## Relative Position from Absolute Rotations\n",
    "A key property of RoPE is that, after rotation, the dot product between a query at position m and a key at position n depends only on their relative distance (m - n). This means the attention mechanism becomes sensitive to relative positions, which is crucial for modeling language context."
   ]
  },
  {
   "cell_type": "code",
   "execution_count": null,
   "id": "eb45ef9c",
   "metadata": {},
   "outputs": [],
   "source": [
    "def rope_dot_product(q, k, m, n, base=10000):\n",
    "    d = len(q)\n",
    "    result = 0.0\n",
    "    for i in range(0, d, 2):\n",
    "        theta_i = 1 / (base ** (2 * (i//2) / d))\n",
    "        angle_m = m * theta_i\n",
    "        angle_n = n * theta_i\n",
    "        # Rotate q and k\n",
    "        q_rot = np.array([q[i] * np.cos(angle_m) - q[i+1] * np.sin(angle_m),\n",
    "                          q[i] * np.sin(angle_m) + q[i+1] * np.cos(angle_m)])\n",
    "        k_rot = np.array([k[i] * np.cos(angle_n) - k[i+1] * np.sin(angle_n),\n",
    "                          k[i] * np.sin(angle_n) + k[i+1] * np.cos(angle_n)])\n",
    "        result += np.dot(q_rot, k_rot)\n",
    "    return result\n",
    "\n",
    "# Example: dot product for different relative positions\n",
    "q = np.random.randn(8)\n",
    "k = np.random.randn(8)\n",
    "rel_positions = np.arange(-10, 11)\n",
    "dots = [rope_dot_product(q, k, m=0, n=rp) for rp in rel_positions]\n",
    "\n",
    "import plotly.express as px\n",
    "fig = px.line(x=rel_positions, y=dots, labels={'x':'Relative Position (n)', 'y':'Dot Product'},\n",
    "              title='RoPE Dot Product vs. Relative Position')\n",
    "fig.show()"
   ]
  },
  {
   "cell_type": "markdown",
   "id": "e7f2b4c4",
   "metadata": {},
   "source": [
    "## Understanding RoPE Dot Product vs. Relative Position\n",
    "\n",
    "This graph illustrates one of the most remarkable properties of Rotary Position Embedding: how the dot product between query and key vectors varies based on their relative position, not their absolute positions.\n",
    "\n",
    "**What this visualization shows:**\n",
    "\n",
    "- **Dot product magnitude varies with relative distance**: The y-axis shows the dot product value between a query at position 0 and keys at various relative positions (x-axis). This demonstrates how attention scores in RoPE naturally depend on how far apart tokens are.\n",
    "\n",
    "- **Symmetry around zero**: Notice how the dot product pattern is roughly symmetric around relative position zero. This means that the attention mechanism treats tokens at equal distances before and after the current position similarly, while still being able to distinguish direction.\n",
    "\n",
    "- **Periodic patterns**: The dot product shows a complex periodic pattern resulting from the multiple rotation frequencies used in different dimension pairs. This rich signal helps the model learn nuanced relationships between tokens based on their spacing.\n",
    "\n",
    "- **Graceful decay**: As the relative distance increases in either direction, the dot product typically decreases, aligning with the intuition that nearby tokens are often more relevant than distant ones.\n",
    "\n",
    "This property is crucial for language modeling because it allows the attention mechanism to focus on contextually relevant tokens based on their relative positions, regardless of where they appear in the absolute sequence."
   ]
  },
  {
   "cell_type": "markdown",
   "id": "f1e160d8",
   "metadata": {},
   "source": [
    "# The \"Wow\" Factors of RoPE\n",
    "- **Relative from Absolute**: Encodes absolute positions via rotation, but attention scores depend on relative positions.\n",
    "- **Multi-Scale Positional Information**: Different rotation frequencies capture both local and global context.\n",
    "- **Excellent Extrapolation**: Generalizes well to longer sequences due to the periodic nature of rotations.\n",
    "- **No Extra Learnable Parameters**: RoPE uses fixed transformations, keeping the model efficient.\n",
    "- **Deep Integration**: RoPE is applied directly to Q and K vectors, making it a core part of the attention mechanism."
   ]
  },
  {
   "cell_type": "markdown",
   "id": "5a963769",
   "metadata": {},
   "source": [
    "# Transformer Implementation with PyTorch\n",
    "\n",
    "In this section, we'll implement a complete Transformer model with both traditional sinusoidal positional encoding and Rotary Position Embedding (RoPE). We'll use this to demonstrate how these positional encodings work in practice for next word prediction tasks."
   ]
  },
  {
   "cell_type": "code",
   "execution_count": null,
   "id": "11b33966",
   "metadata": {},
   "outputs": [],
   "source": [
    "import torch\n",
    "import torch.nn as nn\n",
    "import torch.nn.functional as F\n",
    "import torch.optim as optim\n",
    "import numpy as np\n",
    "import math\n",
    "import matplotlib.pyplot as plt\n",
    "import plotly.graph_objects as go\n",
    "import plotly.express as px\n",
    "from plotly.subplots import make_subplots\n",
    "from tqdm.notebook import tqdm\n",
    "from torch.utils.data import Dataset, DataLoader\n",
    "\n",
    "device = torch.device(\"cuda\" if torch.cuda.is_available() else \"cpu\")\n",
    "print(f\"Using device: {device}\")"
   ]
  },
  {
   "cell_type": "markdown",
   "id": "94fc308d",
   "metadata": {},
   "source": [
    "## Traditional Positional Encoding\n",
    "\n",
    "First, let's implement the original sinusoidal positional encoding from the \"Attention Is All You Need\" paper."
   ]
  },
  {
   "cell_type": "code",
   "execution_count": null,
   "id": "95bff15a",
   "metadata": {},
   "outputs": [],
   "source": [
    "class PositionalEncoding(nn.Module):\n",
    "    def __init__(self, d_model, max_seq_length=5000):\n",
    "        super().__init__()\n",
    "        \n",
    "        # Create positional encoding matrix\n",
    "        pe = torch.zeros(max_seq_length, d_model)\n",
    "        position = torch.arange(0, max_seq_length, dtype=torch.float).unsqueeze(1)\n",
    "        div_term = torch.exp(torch.arange(0, d_model, 2).float() * (-math.log(10000.0) / d_model))\n",
    "        \n",
    "        # Apply sine to even indices\n",
    "        pe[:, 0::2] = torch.sin(position * div_term)\n",
    "        # Apply cosine to odd indices\n",
    "        pe[:, 1::2] = torch.cos(position * div_term)\n",
    "        \n",
    "        # Add batch dimension\n",
    "        pe = pe.unsqueeze(0)\n",
    "        \n",
    "        # Register as buffer (not a parameter)\n",
    "        self.register_buffer('pe', pe)\n",
    "        \n",
    "    def forward(self, x):\n",
    "        # x has shape [batch_size, seq_len, embedding_dim]\n",
    "        # Add positional encoding to embeddings\n",
    "        x = x + self.pe[:, :x.size(1), :]\n",
    "        return x\n",
    "\n",
    "# Visualize the traditional positional encoding\n",
    "def visualize_positional_encoding(model_dim=64, seq_length=100):\n",
    "    pos_enc = PositionalEncoding(model_dim)\n",
    "    dummy_input = torch.zeros(1, seq_length, model_dim)\n",
    "    encoded = pos_enc(dummy_input)[0]  # Remove batch dimension\n",
    "    \n",
    "    # Create a heatmap with plotly\n",
    "    fig = px.imshow(encoded.detach().numpy(),\n",
    "                    labels=dict(x=\"Dimension\", y=\"Position\", color=\"Value\"),\n",
    "                    title=\"Traditional Sinusoidal Positional Encoding\",\n",
    "                    color_continuous_scale=\"RdBu_r\",\n",
    "                    zmin=-1, zmax=1)\n",
    "    fig.update_layout(width=800, height=500)\n",
    "    return fig\n",
    "\n",
    "# Display the visualization\n",
    "visualize_positional_encoding()"
   ]
  },
  {
   "cell_type": "markdown",
   "id": "5fce9073",
   "metadata": {},
   "source": [
    "## Understanding Traditional Positional Encoding Visualization\n",
    "\n",
    "The heatmap above visualizes the traditional sinusoidal positional encoding used in the original Transformer architecture. This encoding is crucial because Transformers process tokens in parallel, with no inherent sense of their order in the sequence.\n",
    "\n",
    "**Key observations:**\n",
    "\n",
    "- **Vertical patterns**: Each column represents a dimension in the embedding space. Note how some dimensions change rapidly (high-frequency components) while others change slowly (low-frequency components).\n",
    "  \n",
    "- **Position uniqueness**: Each row represents a unique position encoding vector, ensuring that each position in a sequence gets a distinctive representation.\n",
    "\n",
    "- **Sinusoidal pattern**: The encoding uses sine and cosine functions with different frequencies, creating the wave-like patterns you see. This approach allows the model to generalize to sequence lengths it hasn't seen during training.\n",
    "\n",
    "- **Color variations**: Blue represents negative values, red represents positive values, with white near zero. These variations help the model distinguish between different positions.\n",
    "\n",
    "This encoding is added directly to token embeddings before they're processed by the attention mechanism. However, this approach has limitations in capturing relative positions effectively, which is addressed by RoPE."
   ]
  },
  {
   "cell_type": "markdown",
   "id": "69e8cc0f",
   "metadata": {},
   "source": [
    "## Rotary Position Embedding (RoPE)\n",
    "\n",
    "Now, let's implement RoPE, which applies rotation to query and key vectors in self-attention rather than adding positional vectors to the embeddings."
   ]
  },
  {
   "cell_type": "code",
   "execution_count": null,
   "id": "5cc661eb",
   "metadata": {},
   "outputs": [],
   "source": [
    "class RotaryEmbedding(nn.Module):\n",
    "    \"\"\"Rotary Position Embedding implementation.\"\"\"\n",
    "    def __init__(self, dim, base=10000):\n",
    "        super().__init__()\n",
    "        self.dim = dim\n",
    "        self.base = base\n",
    "        inv_freq = 1.0 / (base ** (torch.arange(0, dim, 2).float() / dim))\n",
    "        self.register_buffer(\"inv_freq\", inv_freq)\n",
    "\n",
    "    def forward(self, seq_len):\n",
    "        # Create position indices\n",
    "        position = torch.arange(seq_len, device=self.inv_freq.device).float()\n",
    "        # Compute angles for each position and frequency\n",
    "        angles = position.unsqueeze(1) * self.inv_freq.unsqueeze(0)\n",
    "        # Return sines and cosines for easier rotation\n",
    "        return torch.stack([torch.cos(angles), torch.sin(angles)], dim=-1)\n",
    "\n",
    "    def _apply_rotary_pos_emb(self, x, cos, sin):\n",
    "        # x shape: [batch_size, seq_len, dim]\n",
    "        # Reshape x for easier rotation\n",
    "        x_reshape = x.reshape(*x.shape[:-1], -1, 2)\n",
    "        x1, x2 = x_reshape.unbind(-1)  # Split into pairs\n",
    "        \n",
    "        # Apply rotation using the rotation matrix [cos -sin; sin cos]\n",
    "        out1 = x1 * cos - x2 * sin\n",
    "        out2 = x1 * sin + x2 * cos\n",
    "        \n",
    "        # Stack and reshape back\n",
    "        return torch.stack([out1, out2], dim=-1).flatten(-2)\n",
    "\n",
    "    def apply_rotary_embedding(self, q, k, seq_len):\n",
    "        # Get rotation angles\n",
    "        cos_sin = self.forward(seq_len)\n",
    "        cos, sin = cos_sin[..., 0], cos_sin[..., 1]\n",
    "        \n",
    "        # Reshape for broadcasting\n",
    "        cos = cos.unsqueeze(0).unsqueeze(0)  # [1, 1, seq_len, dim/2]\n",
    "        sin = sin.unsqueeze(0).unsqueeze(0)  # [1, 1, seq_len, dim/2]\n",
    "        \n",
    "        # Apply rotations to q and k\n",
    "        q_rotated = self._apply_rotary_pos_emb(q, cos, sin)\n",
    "        k_rotated = self._apply_rotary_pos_emb(k, cos, sin)\n",
    "        \n",
    "        return q_rotated, k_rotated\n",
    "\n",
    "# Function to visualize rotation trajectories in RoPE\n",
    "def visualize_rope_trajectories(dim=64, seq_length=50, base=10000):\n",
    "    # Compute frequencies\n",
    "    freqs = 1.0 / (base ** (torch.arange(0, dim, 2).float() / dim))\n",
    "    positions = torch.arange(seq_length)\n",
    "    \n",
    "    # Create subplots for different frequency pairs\n",
    "    pairs_to_plot = [0, dim//8, dim//4, 3*dim//8]  # Plot 4 different frequency pairs\n",
    "    fig = make_subplots(rows=2, cols=2, \n",
    "                       subplot_titles=[f\"Dimension Pair {i}\" for i in pairs_to_plot])\n",
    "    \n",
    "    for i, pair_idx in enumerate(pairs_to_plot):\n",
    "        # Calculate row and column for subplot\n",
    "        row = i // 2 + 1\n",
    "        col = i % 2 + 1\n",
    "        \n",
    "        # Get frequency for this pair\n",
    "        freq = freqs[pair_idx].item()\n",
    "        \n",
    "        # Compute rotation angles\n",
    "        angles = positions.float() * freq\n",
    "        \n",
    "        # Compute x, y coordinates on the circle\n",
    "        x = torch.cos(angles)\n",
    "        y = torch.sin(angles)\n",
    "        \n",
    "        # Create a color gradient based on position\n",
    "        colors = positions.numpy()\n",
    "        \n",
    "        # Add scatter trace to subplot\n",
    "        fig.add_trace(\n",
    "            go.Scatter(x=x, y=y, mode='lines+markers',\n",
    "                      marker=dict(color=colors, colorscale='Viridis', size=8),\n",
    "                      line=dict(color='rgba(150,150,150,0.3)'),\n",
    "                      text=[f\"Pos {p}\" for p in positions],\n",
    "                      hoverinfo='text',\n",
    "                      name=f\"Pair {pair_idx}\"),\n",
    "            row=row, col=col\n",
    "        )\n",
    "        \n",
    "        # Add annotations for specific positions\n",
    "        special_pos = [0, 10, 20, 30, 40]\n",
    "        for pos in special_pos:\n",
    "            if pos < seq_length:\n",
    "                fig.add_annotation(\n",
    "                    x=x[pos].item(), y=y[pos].item(),\n",
    "                    text=str(pos),\n",
    "                    showarrow=True, arrowhead=2,\n",
    "                    arrowsize=1, arrowwidth=1, ax=0, ay=-20,\n",
    "                    row=row, col=col\n",
    "                )\n",
    "    \n",
    "    # Update layout\n",
    "    fig.update_layout(\n",
    "        title=\"RoPE: Rotation Trajectories for Different Dimension Pairs\",\n",
    "        height=700, width=900,\n",
    "        showlegend=False,\n",
    "    )\n",
    "    \n",
    "    # Update axis properties for all subplots\n",
    "    for i in range(1, 3):\n",
    "        for j in range(1, 3):\n",
    "            fig.update_xaxes(title_text=\"cos(mθ)\", range=[-1.1, 1.1], row=i, col=j)\n",
    "            fig.update_yaxes(title_text=\"sin(mθ)\", range=[-1.1, 1.1], row=i, col=j)\n",
    "    \n",
    "    return fig\n",
    "\n",
    "# Display the visualization\n",
    "visualize_rope_trajectories()"
   ]
  },
  {
   "cell_type": "markdown",
   "id": "7fe74a25",
   "metadata": {},
   "source": [
    "## Understanding RoPE Rotation Trajectories\n",
    "\n",
    "This visualization demonstrates how Rotary Position Embedding (RoPE) operates by rotating vector pairs in different dimensions at various frequencies. Unlike traditional positional encoding that adds position vectors to embeddings, RoPE directly rotates query and key vectors in the attention mechanism.\n",
    "\n",
    "**Key insights from the visualization:**\n",
    "\n",
    "- **Multiple rotation frequencies**: Each subplot shows how a different dimension pair rotates at its own frequency. Early pairs (Dimension Pair 0) rotate quickly with position changes, while later pairs (Dimension Pair 24, 32, 48) rotate more slowly.\n",
    "\n",
    "- **Position mapping to angles**: Each colored dot represents a position in the sequence, mapped to a specific angle on the unit circle. The color gradient helps track how positions (0, 10, 20, etc.) move around the circle.\n",
    "\n",
    "- **Multi-scale representation**: The varying rotation speeds create a multi-scale representation of position. Fast-rotating pairs capture local, fine-grained positional relationships, while slow-rotating pairs capture global context.\n",
    "\n",
    "- **Circular nature**: The circular trajectories ensure that the encoding is bounded and well-behaved numerically, avoiding the exploding or vanishing issues that can occur with some other position encodings.\n",
    "\n",
    "By using these rotations instead of additive encodings, RoPE elegantly integrates positional information into the attention mechanism while preserving the ability to model relative positions effectively."
   ]
  },
  {
   "cell_type": "markdown",
   "id": "a2ba6def",
   "metadata": {},
   "source": [
    "## The Core Mechanism: Rotation in 2D Space\n",
    "RoPE operates by pairing the dimensions of the query and key vectors and applying a 2D rotation to each pair. For a d-dimensional vector, there are d/2 pairs. The rotation angle for each pair depends on the position and the pair index, introducing multiple frequencies into the encoding."
   ]
  },
  {
   "cell_type": "code",
   "execution_count": null,
   "id": "fa5bd093",
   "metadata": {},
   "outputs": [],
   "source": [
    "import numpy as np\n",
    "\n",
    "def rotate_pair(x_j, x_j1, theta):\n",
    "    \"\"\"Apply 2D rotation to a pair of values.\"\"\"\n",
    "    x_j_new = x_j * np.cos(theta) - x_j1 * np.sin(theta)\n",
    "    x_j1_new = x_j * np.sin(theta) + x_j1 * np.cos(theta)\n",
    "    return x_j_new, x_j1_new\n",
    "\n",
    "# Example: rotate (1, 0) by 45 degrees\n",
    "x_j, x_j1 = 1.0, 0.0\n",
    "theta = np.pi / 4\n",
    "rotate_pair(x_j, x_j1, theta)"
   ]
  },
  {
   "cell_type": "markdown",
   "id": "030fd83d",
   "metadata": {},
   "source": [
    "## Multi-Frequency Encoding: Local and Global Context\n",
    "Each pair of dimensions is rotated by a different frequency, determined by θ_i = 1 / (base^(2i/d)). Early pairs (small i) rotate quickly, capturing local relationships. Later pairs (large i) rotate slowly, capturing global context. This multi-scale approach is more powerful than using a single frequency."
   ]
  },
  {
   "cell_type": "code",
   "execution_count": null,
   "id": "4f983b08",
   "metadata": {},
   "outputs": [],
   "source": [
    "import plotly.graph_objs as go\n",
    "import numpy as np\n",
    "\n",
    "positions = np.arange(0, 50)\n",
    "d = 8  # example dimensionality\n",
    "base = 10000\n",
    "\n",
    "traces = []\n",
    "for i in range(d // 2):\n",
    "    theta_i = 1 / (base ** (2 * i / d))\n",
    "    angles = positions * theta_i\n",
    "    x = np.cos(angles)\n",
    "    y = np.sin(angles)\n",
    "    traces.append(go.Scatter(x=x, y=y, mode='lines', name=f'Pair {i}'))\n",
    "\n",
    "layout = go.Layout(title='RoPE: Rotation Trajectories for Different Dimension Pairs',\n",
    "                   xaxis=dict(title='cos(mθ_i)'),\n",
    "                   yaxis=dict(title='sin(mθ_i)'))\n",
    "fig = go.Figure(data=traces, layout=layout)\n",
    "fig.show()"
   ]
  },
  {
   "cell_type": "markdown",
   "id": "e7bdbf50",
   "metadata": {},
   "source": [
    "## Relative Position from Absolute Rotations\n",
    "A key property of RoPE is that, after rotation, the dot product between a query at position m and a key at position n depends only on their relative distance (m - n). This means the attention mechanism becomes sensitive to relative positions, which is crucial for modeling language context."
   ]
  },
  {
   "cell_type": "code",
   "execution_count": null,
   "id": "55ede96a",
   "metadata": {},
   "outputs": [],
   "source": [
    "def rope_dot_product(q, k, m, n, base=10000):\n",
    "    d = len(q)\n",
    "    result = 0.0\n",
    "    for i in range(0, d, 2):\n",
    "        theta_i = 1 / (base ** (2 * (i//2) / d))\n",
    "        angle_m = m * theta_i\n",
    "        angle_n = n * theta_i\n",
    "        # Rotate q and k\n",
    "        q_rot = np.array([q[i] * np.cos(angle_m) - q[i+1] * np.sin(angle_m),\n",
    "                          q[i] * np.sin(angle_m) + q[i+1] * np.cos(angle_m)])\n",
    "        k_rot = np.array([k[i] * np.cos(angle_n) - k[i+1] * np.sin(angle_n),\n",
    "                          k[i] * np.sin(angle_n) + k[i+1] * np.cos(angle_n)])\n",
    "        result += np.dot(q_rot, k_rot)\n",
    "    return result\n",
    "\n",
    "# Example: dot product for different relative positions\n",
    "q = np.random.randn(8)\n",
    "k = np.random.randn(8)\n",
    "rel_positions = np.arange(-10, 11)\n",
    "dots = [rope_dot_product(q, k, m=0, n=rp) for rp in rel_positions]\n",
    "\n",
    "import plotly.express as px\n",
    "fig = px.line(x=rel_positions, y=dots, labels={'x':'Relative Position (n)', 'y':'Dot Product'},\n",
    "              title='RoPE Dot Product vs. Relative Position')\n",
    "fig.show()"
   ]
  },
  {
   "cell_type": "markdown",
   "id": "20ad8d94",
   "metadata": {},
   "source": [
    "## Understanding RoPE Dot Product vs. Relative Position\n",
    "\n",
    "This graph illustrates one of the most remarkable properties of Rotary Position Embedding: how the dot product between query and key vectors varies based on their relative position, not their absolute positions.\n",
    "\n",
    "**What this visualization shows:**\n",
    "\n",
    "- **Dot product magnitude varies with relative distance**: The y-axis shows the dot product value between a query at position 0 and keys at various relative positions (x-axis). This demonstrates how attention scores in RoPE naturally depend on how far apart tokens are.\n",
    "\n",
    "- **Symmetry around zero**: Notice how the dot product pattern is roughly symmetric around relative position zero. This means that the attention mechanism treats tokens at equal distances before and after the current position similarly, while still being able to distinguish direction.\n",
    "\n",
    "- **Periodic patterns**: The dot product shows a complex periodic pattern resulting from the multiple rotation frequencies used in different dimension pairs. This rich signal helps the model learn nuanced relationships between tokens based on their spacing.\n",
    "\n",
    "- **Graceful decay**: As the relative distance increases in either direction, the dot product typically decreases, aligning with the intuition that nearby tokens are often more relevant than distant ones.\n",
    "\n",
    "This property is crucial for language modeling because it allows the attention mechanism to focus on contextually relevant tokens based on their relative positions, regardless of where they appear in the absolute sequence."
   ]
  },
  {
   "cell_type": "markdown",
   "id": "13c75e17",
   "metadata": {},
   "source": [
    "# The \"Wow\" Factors of RoPE\n",
    "- **Relative from Absolute**: Encodes absolute positions via rotation, but attention scores depend on relative positions.\n",
    "- **Multi-Scale Positional Information**: Different rotation frequencies capture both local and global context.\n",
    "- **Excellent Extrapolation**: Generalizes well to longer sequences due to the periodic nature of rotations.\n",
    "- **No Extra Learnable Parameters**: RoPE uses fixed transformations, keeping the model efficient.\n",
    "- **Deep Integration**: RoPE is applied directly to Q and K vectors, making it a core part of the attention mechanism."
   ]
  },
  {
   "cell_type": "markdown",
   "id": "c4c22f48",
   "metadata": {},
   "source": [
    "# Transformer Implementation with PyTorch\n",
    "\n",
    "In this section, we'll implement a complete Transformer model with both traditional sinusoidal positional encoding and Rotary Position Embedding (RoPE). We'll use this to demonstrate how these positional encodings work in practice for next word prediction tasks."
   ]
  },
  {
   "cell_type": "code",
   "execution_count": null,
   "id": "c5b172ed",
   "metadata": {},
   "outputs": [],
   "source": [
    "import torch\n",
    "import torch.nn as nn\n",
    "import torch.nn.functional as F\n",
    "import torch.optim as optim\n",
    "import numpy as np\n",
    "import math\n",
    "import matplotlib.pyplot as plt\n",
    "import plotly.graph_objects as go\n",
    "import plotly.express as px\n",
    "from plotly.subplots import make_subplots\n",
    "from tqdm.notebook import tqdm\n",
    "from torch.utils.data import Dataset, DataLoader\n",
    "\n",
    "device = torch.device(\"cuda\" if torch.cuda.is_available() else \"cpu\")\n",
    "print(f\"Using device: {device}\")"
   ]
  },
  {
   "cell_type": "markdown",
   "id": "b73b74d3",
   "metadata": {},
   "source": [
    "## Traditional Positional Encoding\n",
    "\n",
    "First, let's implement the original sinusoidal positional encoding from the \"Attention Is All You Need\" paper."
   ]
  },
  {
   "cell_type": "code",
   "execution_count": null,
   "id": "6ea2411f",
   "metadata": {},
   "outputs": [],
   "source": [
    "class PositionalEncoding(nn.Module):\n",
    "    def __init__(self, d_model, max_seq_length=5000):\n",
    "        super().__init__()\n",
    "        \n",
    "        # Create positional encoding matrix\n",
    "        pe = torch.zeros(max_seq_length, d_model)\n",
    "        position = torch.arange(0, max_seq_length, dtype=torch.float).unsqueeze(1)\n",
    "        div_term = torch.exp(torch.arange(0, d_model, 2).float() * (-math.log(10000.0) / d_model))\n",
    "        \n",
    "        # Apply sine to even indices\n",
    "        pe[:, 0::2] = torch.sin(position * div_term)\n",
    "        # Apply cosine to odd indices\n",
    "        pe[:, 1::2] = torch.cos(position * div_term)\n",
    "        \n",
    "        # Add batch dimension\n",
    "        pe = pe.unsqueeze(0)\n",
    "        \n",
    "        # Register as buffer (not a parameter)\n",
    "        self.register_buffer('pe', pe)\n",
    "        \n",
    "    def forward(self, x):\n",
    "        # x has shape [batch_size, seq_len, embedding_dim]\n",
    "        # Add positional encoding to embeddings\n",
    "        x = x + self.pe[:, :x.size(1), :]\n",
    "        return x\n",
    "\n",
    "# Visualize the traditional positional encoding\n",
    "def visualize_positional_encoding(model_dim=64, seq_length=100):\n",
    "    pos_enc = PositionalEncoding(model_dim)\n",
    "    dummy_input = torch.zeros(1, seq_length, model_dim)\n",
    "    encoded = pos_enc(dummy_input)[0]  # Remove batch dimension\n",
    "    \n",
    "    # Create a heatmap with plotly\n",
    "    fig = px.imshow(encoded.detach().numpy(),\n",
    "                    labels=dict(x=\"Dimension\", y=\"Position\", color=\"Value\"),\n",
    "                    title=\"Traditional Sinusoidal Positional Encoding\",\n",
    "                    color_continuous_scale=\"RdBu_r\",\n",
    "                    zmin=-1, zmax=1)\n",
    "    fig.update_layout(width=800, height=500)\n",
    "    return fig\n",
    "\n",
    "# Display the visualization\n",
    "visualize_positional_encoding()"
   ]
  },
  {
   "cell_type": "markdown",
   "id": "e7803ce2",
   "metadata": {},
   "source": [
    "## Understanding Traditional Positional Encoding Visualization\n",
    "\n",
    "The heatmap above visualizes the traditional sinusoidal positional encoding used in the original Transformer architecture. This encoding is crucial because Transformers process tokens in parallel, with no inherent sense of their order in the sequence.\n",
    "\n",
    "**Key observations:**\n",
    "\n",
    "- **Vertical patterns**: Each column represents a dimension in the embedding space. Note how some dimensions change rapidly (high-frequency components) while others change slowly (low-frequency components).\n",
    "  \n",
    "- **Position uniqueness**: Each row represents a unique position encoding vector, ensuring that each position in a sequence gets a distinctive representation.\n",
    "\n",
    "- **Sinusoidal pattern**: The encoding uses sine and cosine functions with different frequencies, creating the wave-like patterns you see. This approach allows the model to generalize to sequence lengths it hasn't seen during training.\n",
    "\n",
    "- **Color variations**: Blue represents negative values, red represents positive values, with white near zero. These variations help the model distinguish between different positions.\n",
    "\n",
    "This encoding is added directly to token embeddings before they're processed by the attention mechanism. However, this approach has limitations in capturing relative positions effectively, which is addressed by RoPE."
   ]
  },
  {
   "cell_type": "markdown",
   "id": "0209db7d",
   "metadata": {},
   "source": [
    "## Rotary Position Embedding (RoPE)\n",
    "\n",
    "Now, let's implement RoPE, which applies rotation to query and key vectors in self-attention rather than adding positional vectors to the embeddings."
   ]
  },
  {
   "cell_type": "code",
   "execution_count": null,
   "id": "75ad1eb4",
   "metadata": {},
   "outputs": [],
   "source": [
    "class RotaryEmbedding(nn.Module):\n",
    "    \"\"\"Rotary Position Embedding implementation.\"\"\"\n",
    "    def __init__(self, dim, base=10000):\n",
    "        super().__init__()\n",
    "        self.dim = dim\n",
    "        self.base = base\n",
    "        inv_freq = 1.0 / (base ** (torch.arange(0, dim, 2).float() / dim))\n",
    "        self.register_buffer(\"inv_freq\", inv_freq)\n",
    "\n",
    "    def forward(self, seq_len):\n",
    "        # Create position indices\n",
    "        position = torch.arange(seq_len, device=self.inv_freq.device).float()\n",
    "        # Compute angles for each position and frequency\n",
    "        angles = position.unsqueeze(1) * self.inv_freq.unsqueeze(0)\n",
    "        # Return sines and cosines for easier rotation\n",
    "        return torch.stack([torch.cos(angles), torch.sin(angles)], dim=-1)\n",
    "\n",
    "    def _apply_rotary_pos_emb(self, x, cos, sin):\n",
    "        # x shape: [batch_size, seq_len, dim]\n",
    "        # Reshape x for easier rotation\n",
    "        x_reshape = x.reshape(*x.shape[:-1], -1, 2)\n",
    "        x1, x2 = x_reshape.unbind(-1)  # Split into pairs\n",
    "        \n",
    "        # Apply rotation using the rotation matrix [cos -sin; sin cos]\n",
    "        out1 = x1 * cos - x2 * sin\n",
    "        out2 = x1 * sin + x2 * cos\n",
    "        \n",
    "        # Stack and reshape back\n",
    "        return torch.stack([out1, out2], dim=-1).flatten(-2)\n",
    "\n",
    "    def apply_rotary_embedding(self, q, k, seq_len):\n",
    "        # Get rotation angles\n",
    "        cos_sin = self.forward(seq_len)\n",
    "        cos, sin = cos_sin[..., 0], cos_sin[..., 1]\n",
    "        \n",
    "        # Reshape for broadcasting\n",
    "        cos = cos.unsqueeze(0).unsqueeze(0)  # [1, 1, seq_len, dim/2]\n",
    "        sin = sin.unsqueeze(0).unsqueeze(0)  # [1, 1, seq_len, dim/2]\n",
    "        \n",
    "        # Apply rotations to q and k\n",
    "        q_rotated = self._apply_rotary_pos_emb(q, cos, sin)\n",
    "        k_rotated = self._apply_rotary_pos_emb(k, cos, sin)\n",
    "        \n",
    "        return q_rotated, k_rotated\n",
    "\n",
    "# Function to visualize rotation trajectories in RoPE\n",
    "def visualize_rope_trajectories(dim=64, seq_length=50, base=10000):\n",
    "    # Compute frequencies\n",
    "    freqs = 1.0 / (base ** (torch.arange(0, dim, 2).float() / dim))\n",
    "    positions = torch.arange(seq_length)\n",
    "    \n",
    "    # Create subplots for different frequency pairs\n",
    "    pairs_to_plot = [0, dim//8, dim//4, 3*dim//8]  # Plot 4 different frequency pairs\n",
    "    fig = make_subplots(rows=2, cols=2, \n",
    "                       subplot_titles=[f\"Dimension Pair {i}\" for i in pairs_to_plot])\n",
    "    \n",
    "    for i, pair_idx in enumerate(pairs_to_plot):\n",
    "        # Calculate row and column for subplot\n",
    "        row = i // 2 + 1\n",
    "        col = i % 2 + 1\n",
    "        \n",
    "        # Get frequency for this pair\n",
    "        freq = freqs[pair_idx].item()\n",
    "        \n",
    "        # Compute rotation angles\n",
    "        angles = positions.float() * freq\n",
    "        \n",
    "        # Compute x, y coordinates on the circle\n",
    "        x = torch.cos(angles)\n",
    "        y = torch.sin(angles)\n",
    "        \n",
    "        # Create a color gradient based on position\n",
    "        colors = positions.numpy()\n",
    "        \n",
    "        # Add scatter trace to subplot\n",
    "        fig.add_trace(\n",
    "            go.Scatter(x=x, y=y, mode='lines+markers',\n",
    "                      marker=dict(color=colors, colorscale='Viridis', size=8),\n",
    "                      line=dict(color='rgba(150,150,150,0.3)'),\n",
    "                      text=[f\"Pos {p}\" for p in positions],\n",
    "                      hoverinfo='text',\n",
    "                      name=f\"Pair {pair_idx}\"),\n",
    "            row=row, col=col\n",
    "        )\n",
    "        \n",
    "        # Add annotations for specific positions\n",
    "        special_pos = [0, 10, 20, 30, 40]\n",
    "        for pos in special_pos:\n",
    "            if pos < seq_length:\n",
    "                fig.add_annotation(\n",
    "                    x=x[pos].item(), y=y[pos].item(),\n",
    "                    text=str(pos),\n",
    "                    showarrow=True, arrowhead=2,\n",
    "                    arrowsize=1, arrowwidth=1, ax=0, ay=-20,\n",
    "                    row=row, col=col\n",
    "                )\n",
    "    \n",
    "    # Update layout\n",
    "    fig.update_layout(\n",
    "        title=\"RoPE: Rotation Trajectories for Different Dimension Pairs\",\n",
    "        height=700, width=900,\n",
    "        showlegend=False,\n",
    "    )\n",
    "    \n",
    "    # Update axis properties for all subplots\n",
    "    for i in range(1, 3):\n",
    "        for j in range(1, 3):\n",
    "            fig.update_xaxes(title_text=\"cos(mθ)\", range=[-1.1, 1.1], row=i, col=j)\n",
    "            fig.update_yaxes(title_text=\"sin(mθ)\", range=[-1.1, 1.1], row=i, col=j)\n",
    "    \n",
    "    return fig\n",
    "\n",
    "# Display the visualization\n",
    "visualize_rope_trajectories()"
   ]
  },
  {
   "cell_type": "markdown",
   "id": "9a7de4ee",
   "metadata": {},
   "source": [
    "## Understanding RoPE Rotation Trajectories\n",
    "\n",
    "This visualization demonstrates how Rotary Position Embedding (RoPE) operates by rotating vector pairs in different dimensions at various frequencies. Unlike traditional positional encoding that adds position vectors to embeddings, RoPE directly rotates query and key vectors in the attention mechanism.\n",
    "\n",
    "**Key insights from the visualization:**\n",
    "\n",
    "- **Multiple rotation frequencies**: Each subplot shows how a different dimension pair rotates at its own frequency. Early pairs (Dimension Pair 0) rotate quickly with position changes, while later pairs (Dimension Pair 24, 32, 48) rotate more slowly.\n",
    "\n",
    "- **Position mapping to angles**: Each colored dot represents a position in the sequence, mapped to a specific angle on the unit circle. The color gradient helps track how positions (0, 10, 20, etc.) move around the circle.\n",
    "\n",
    "- **Multi-scale representation**: The varying rotation speeds create a multi-scale representation of position. Fast-rotating pairs capture local, fine-grained positional relationships, while slow-rotating pairs capture global context.\n",
    "\n",
    "- **Circular nature**: The circular trajectories ensure that the encoding is bounded and well-behaved numerically, avoiding the exploding or vanishing issues that can occur with some other position encodings.\n",
    "\n",
    "By using these rotations instead of additive encodings, RoPE elegantly integrates positional information into the attention mechanism while preserving the ability to model relative positions effectively."
   ]
  },
  {
   "cell_type": "markdown",
   "id": "d3c1f8a6",
   "metadata": {},
   "source": [
    "## The Core Mechanism: Rotation in 2D Space\n",
    "RoPE operates by pairing the dimensions of the query and key vectors and applying a 2D rotation to each pair. For a d-dimensional vector, there are d/2 pairs. The rotation angle for each pair depends on the position and the pair index, introducing multiple frequencies into the encoding."
   ]
  },
  {
   "cell_type": "code",
   "execution_count": null,
   "id": "5d00e86f",
   "metadata": {},
   "outputs": [],
   "source": [
    "import numpy as np\n",
    "\n",
    "def rotate_pair(x_j, x_j1, theta):\n",
    "    \"\"\"Apply 2D rotation to a pair of values.\"\"\"\n",
    "    x_j_new = x_j * np.cos(theta) - x_j1 * np.sin(theta)\n",
    "    x_j1_new = x_j * np.sin(theta) + x_j1 * np.cos(theta)\n",
    "    return x_j_new, x_j1_new\n",
    "\n",
    "# Example: rotate (1, 0) by 45 degrees\n",
    "x_j, x_j1 = 1.0, 0.0\n",
    "theta = np.pi / 4\n",
    "rotate_pair(x_j, x_j1, theta)"
   ]
  },
  {
   "cell_type": "markdown",
   "id": "510c7130",
   "metadata": {},
   "source": [
    "## Multi-Frequency Encoding: Local and Global Context\n",
    "Each pair of dimensions is rotated by a different frequency, determined by θ_i = 1 / (base^(2i/d)). Early pairs (small i) rotate quickly, capturing local relationships. Later pairs (large i) rotate slowly, capturing global context. This multi-scale approach is more powerful than using a single frequency."
   ]
  },
  {
   "cell_type": "code",
   "execution_count": null,
   "id": "e9ea63d5",
   "metadata": {},
   "outputs": [],
   "source": [
    "import plotly.graph_objs as go\n",
    "import numpy as np\n",
    "\n",
    "positions = np.arange(0, 50)\n",
    "d = 8  # example dimensionality\n",
    "base = 10000\n",
    "\n",
    "traces = []\n",
    "for i in range(d // 2):\n",
    "    theta_i = 1 / (base ** (2 * i / d))\n",
    "    angles = positions * theta_i\n",
    "    x = np.cos(angles)\n",
    "    y = np.sin(angles)\n",
    "    traces.append(go.Scatter(x=x, y=y, mode='lines', name=f'Pair {i}'))\n",
    "\n",
    "layout = go.Layout(title='RoPE: Rotation Trajectories for Different Dimension Pairs',\n",
    "                   xaxis=dict(title='cos(mθ_i)'),\n",
    "                   yaxis=dict(title='sin(mθ_i)'))\n",
    "fig = go.Figure(data=traces, layout=layout)\n",
    "fig.show()"
   ]
  },
  {
   "cell_type": "markdown",
   "id": "b53c8842",
   "metadata": {},
   "source": [
    "## Relative Position from Absolute Rotations\n",
    "A key property of RoPE is that, after rotation, the dot product between a query at position m and a key at position n depends only on their relative distance (m - n). This means the attention mechanism becomes sensitive to relative positions, which is crucial for modeling language context."
   ]
  },
  {
   "cell_type": "code",
   "execution_count": null,
   "id": "35f51aac",
   "metadata": {},
   "outputs": [],
   "source": [
    "def rope_dot_product(q, k, m, n, base=10000):\n",
    "    d = len(q)\n",
    "    result = 0.0\n",
    "    for i in range(0, d, 2):\n",
    "        theta_i = 1 / (base ** (2 * (i//2) / d))\n",
    "        angle_m = m * theta_i\n",
    "        angle_n = n * theta_i\n",
    "        # Rotate q and k\n",
    "        q_rot = np.array([q[i] * np.cos(angle_m) - q[i+1] * np.sin(angle_m),\n",
    "                          q[i] * np.sin(angle_m) + q[i+1] * np.cos(angle_m)])\n",
    "        k_rot = np.array([k[i] * np.cos(angle_n) - k[i+1] * np.sin(angle_n),\n",
    "                          k[i] * np.sin(angle_n) + k[i+1] * np.cos(angle_n)])\n",
    "        result += np.dot(q_rot, k_rot)\n",
    "    return result\n",
    "\n",
    "# Example: dot product for different relative positions\n",
    "q = np.random.randn(8)\n",
    "k = np.random.randn(8)\n",
    "rel_positions = np.arange(-10, 11)\n",
    "dots = [rope_dot_product(q, k, m=0, n=rp) for rp in rel_positions]\n",
    "\n",
    "import plotly.express as px\n",
    "fig = px.line(x=rel_positions, y=dots, labels={'x':'Relative Position (n)', 'y':'Dot Product'},\n",
    "              title='RoPE Dot Product vs. Relative Position')\n",
    "fig.show()"
   ]
  },
  {
   "cell_type": "markdown",
   "id": "e4fdf7a8",
   "metadata": {},
   "source": [
    "## Understanding RoPE Dot Product vs. Relative Position\n",
    "\n",
    "This graph illustrates one of the most remarkable properties of Rotary Position Embedding: how the dot product between query and key vectors varies based on their relative position, not their absolute positions.\n",
    "\n",
    "**What this visualization shows:**\n",
    "\n",
    "- **Dot product magnitude varies with relative distance**: The y-axis shows the dot product value between a query at position 0 and keys at various relative positions (x-axis). This demonstrates how attention scores in RoPE naturally depend on how far apart tokens are.\n",
    "\n",
    "- **Symmetry around zero**: Notice how the dot product pattern is roughly symmetric around relative position zero. This means that the attention mechanism treats tokens at equal distances before and after the current position similarly, while still being able to distinguish direction.\n",
    "\n",
    "- **Periodic patterns**: The dot product shows a complex periodic pattern resulting from the multiple rotation frequencies used in different dimension pairs. This rich signal helps the model learn nuanced relationships between tokens based on their spacing.\n",
    "\n",
    "- **Graceful decay**: As the relative distance increases in either direction, the dot product typically decreases, aligning with the intuition that nearby tokens are often more relevant than distant ones.\n",
    "\n",
    "This property is crucial for language modeling because it allows the attention mechanism to focus on contextually relevant tokens based on their relative positions, regardless of where they appear in the absolute sequence."
   ]
  },
  {
   "cell_type": "markdown",
   "id": "3e609918",
   "metadata": {},
   "source": [
    "# The \"Wow\" Factors of RoPE\n",
    "- **Relative from Absolute**: Encodes absolute positions via rotation, but attention scores depend on relative positions.\n",
    "- **Multi-Scale Positional Information**: Different rotation frequencies capture both local and global context.\n",
    "- **Excellent Extrapolation**: Generalizes well to longer sequences due to the periodic nature of rotations.\n",
    "- **No Extra Learnable Parameters**: RoPE uses fixed transformations, keeping the model efficient.\n",
    "- **Deep Integration**: RoPE is applied directly to Q and K vectors, making it a core part of the attention mechanism."
   ]
  },
  {
   "cell_type": "markdown",
   "id": "e0af832d",
   "metadata": {},
   "source": [
    "# Transformer Implementation with PyTorch\n",
    "\n",
    "In this section, we'll implement a complete Transformer model with both traditional sinusoidal positional encoding and Rotary Position Embedding (RoPE). We'll use this to demonstrate how these positional encodings work in practice for next word prediction tasks."
   ]
  },
  {
   "cell_type": "code",
   "execution_count": null,
   "id": "1f33ac0e",
   "metadata": {},
   "outputs": [],
   "source": [
    "import torch\n",
    "import torch.nn as nn\n",
    "import torch.nn.functional as F\n",
    "import torch.optim as optim\n",
    "import numpy as np\n",
    "import math\n",
    "import matplotlib.pyplot as plt\n",
    "import plotly.graph_objects as go\n",
    "import plotly.express as px\n",
    "from plotly.subplots import make_subplots\n",
    "from tqdm.notebook import tqdm\n",
    "from torch.utils.data import Dataset, DataLoader\n",
    "\n",
    "device = torch.device(\"cuda\" if torch.cuda.is_available() else \"cpu\")\n",
    "print(f\"Using device: {device}\")"
   ]
  },
  {
   "cell_type": "markdown",
   "id": "600de769",
   "metadata": {},
   "source": [
    "## Traditional Positional Encoding\n",
    "\n",
    "First, let's implement the original sinusoidal positional encoding from the \"Attention Is All You Need\" paper."
   ]
  },
  {
   "cell_type": "code",
   "execution_count": null,
   "id": "85aec3d6",
   "metadata": {},
   "outputs": [],
   "source": [
    "class PositionalEncoding(nn.Module):\n",
    "    def __init__(self, d_model, max_seq_length=5000):\n",
    "        super().__init__()\n",
    "        \n",
    "        # Create positional encoding matrix\n",
    "        pe = torch.zeros(max_seq_length, d_model)\n",
    "        position = torch.arange(0, max_seq_length, dtype=torch.float).unsqueeze(1)\n",
    "        div_term = torch.exp(torch.arange(0, d_model, 2).float() * (-math.log(10000.0) / d_model))\n",
    "        \n",
    "        # Apply sine to even indices\n",
    "        pe[:, 0::2] = torch.sin(position * div_term)\n",
    "        # Apply cosine to odd indices\n",
    "        pe[:, 1::2] = torch.cos(position * div_term)\n",
    "        \n",
    "        # Add batch dimension\n",
    "        pe = pe.unsqueeze(0)\n",
    "        \n",
    "        # Register as buffer (not a parameter)\n",
    "        self.register_buffer('pe', pe)\n",
    "        \n",
    "    def forward(self, x):\n",
    "        # x has shape [batch_size, seq_len, embedding_dim]\n",
    "        # Add positional encoding to embeddings\n",
    "        x = x + self.pe[:, :x.size(1), :]\n",
    "        return x\n",
    "\n",
    "# Visualize the traditional positional encoding\n",
    "def visualize_positional_encoding(model_dim=64, seq_length=100):\n",
    "    pos_enc = PositionalEncoding(model_dim)\n",
    "    dummy_input = torch.zeros(1, seq_length, model_dim)\n",
    "    encoded = pos_enc(dummy_input)[0]  # Remove batch dimension\n",
    "    \n",
    "    # Create a heatmap with plotly\n",
    "    fig = px.imshow(encoded.detach().numpy(),\n",
    "                    labels=dict(x=\"Dimension\", y=\"Position\", color=\"Value\"),\n",
    "                    title=\"Traditional Sinusoidal Positional Encoding\",\n",
    "                    color_continuous_scale=\"RdBu_r\",\n",
    "                    zmin=-1, zmax=1)\n",
    "    fig.update_layout(width=800, height=500)\n",
    "    return fig\n",
    "\n",
    "# Display the visualization\n",
    "visualize_positional_encoding()"
   ]
  },
  {
   "cell_type": "markdown",
   "id": "70dc85ce",
   "metadata": {},
   "source": [
    "## Understanding Traditional Positional Encoding Visualization\n",
    "\n",
    "The heatmap above visualizes the traditional sinusoidal positional encoding used in the original Transformer architecture. This encoding is crucial because Transformers process tokens in parallel, with no inherent sense of their order in the sequence.\n",
    "\n",
    "**Key observations:**\n",
    "\n",
    "- **Vertical patterns**: Each column represents a dimension in the embedding space. Note how some dimensions change rapidly (high-frequency components) while others change slowly (low-frequency components).\n",
    "  \n",
    "- **Position uniqueness**: Each row represents a unique position encoding vector, ensuring that each position in a sequence gets a distinctive representation.\n",
    "\n",
    "- **Sinusoidal pattern**: The encoding uses sine and cosine functions with different frequencies, creating the wave-like patterns you see. This approach allows the model to generalize to sequence lengths it hasn't seen during training.\n",
    "\n",
    "- **Color variations**: Blue represents negative values, red represents positive values, with white near zero. These variations help the model distinguish between different positions.\n",
    "\n",
    "This encoding is added directly to token embeddings before they're processed by the attention mechanism. However, this approach has limitations in capturing relative positions effectively, which is addressed by RoPE."
   ]
  },
  {
   "cell_type": "markdown",
   "id": "a58d30de",
   "metadata": {},
   "source": [
    "## Rotary Position Embedding (RoPE)\n",
    "\n",
    "Now, let's implement RoPE, which applies rotation to query and key vectors in self-attention rather than adding positional vectors to the embeddings."
   ]
  },
  {
   "cell_type": "code",
   "execution_count": null,
   "id": "c5a0e80d",
   "metadata": {},
   "outputs": [],
   "source": [
    "class RotaryEmbedding(nn.Module):\n",
    "    \"\"\"Rotary Position Embedding implementation.\"\"\"\n",
    "    def __init__(self, dim, base=10000):\n",
    "        super().__init__()\n",
    "        self.dim = dim\n",
    "        self.base = base\n",
    "        inv_freq = 1.0 / (base ** (torch.arange(0, dim, 2).float() / dim))\n",
    "        self.register_buffer(\"inv_freq\", inv_freq)\n",
    "\n",
    "    def forward(self, seq_len):\n",
    "        # Create position indices\n",
    "        position = torch.arange(seq_len, device=self.inv_freq.device).float()\n",
    "        # Compute angles for each position and frequency\n",
    "        angles = position.unsqueeze(1) * self.inv_freq.unsqueeze(0)\n",
    "        # Return sines and cosines for easier rotation\n",
    "        return torch.stack([torch.cos(angles), torch.sin(angles)], dim=-1)\n",
    "\n",
    "    def _apply_rotary_pos_emb(self, x, cos, sin):\n",
    "        # x shape: [batch_size, seq_len, dim]\n",
    "        # Reshape x for easier rotation\n",
    "        x_reshape = x.reshape(*x.shape[:-1], -1, 2)\n",
    "        x1, x2 = x_reshape.unbind(-1)  # Split into pairs\n",
    "        \n",
    "        # Apply rotation using the rotation matrix [cos -sin; sin cos]\n",
    "        out1 = x1 * cos - x2 * sin\n",
    "        out2 = x1 * sin + x2 * cos\n",
    "        \n",
    "        # Stack and reshape back\n",
    "        return torch.stack([out1, out2], dim=-1).flatten(-2)\n",
    "\n",
    "    def apply_rotary_embedding(self, q, k, seq_len):\n",
    "        # Get rotation angles\n",
    "        cos_sin = self.forward(seq_len)\n",
    "        cos, sin = cos_sin[..., 0], cos_sin[..., 1]\n",
    "        \n",
    "        # Reshape for broadcasting\n",
    "        cos = cos.unsqueeze(0).unsqueeze(0)  # [1, 1, seq_len, dim/2]\n",
    "        sin = sin.unsqueeze(0).unsqueeze(0)  # [1, 1, seq_len, dim/2]\n",
    "        \n",
    "        # Apply rotations to q and k\n",
    "        q_rotated = self._apply_rotary_pos_emb(q, cos, sin)\n",
    "        k_rotated = self._apply_rotary_pos_emb(k, cos, sin)\n",
    "        \n",
    "        return q_rotated, k_rotated\n",
    "\n",
    "# Function to visualize rotation trajectories in RoPE\n",
    "def visualize_rope_trajectories(dim=64, seq_length=50, base=10000):\n",
    "    # Compute frequencies\n",
    "    freqs = 1.0 / (base ** (torch.arange(0, dim, 2).float() / dim))\n",
    "    positions = torch.arange(seq_length)\n",
    "    \n",
    "    # Create subplots for different frequency pairs\n",
    "    pairs_to_plot = [0, dim//8, dim//4, 3*dim//8]  # Plot 4 different frequency pairs\n",
    "    fig = make_subplots(rows=2, cols=2, \n",
    "                       subplot_titles=[f\"Dimension Pair {i}\" for i in pairs_to_plot])\n",
    "    \n",
    "    for i, pair_idx in enumerate(pairs_to_plot):\n",
    "        # Calculate row and column for subplot\n",
    "        row = i // 2 + 1\n",
    "        col = i % 2 + 1\n",
    "        \n",
    "        # Get frequency for this pair\n",
    "        freq = freqs[pair_idx].item()\n",
    "        \n",
    "        # Compute rotation angles\n",
    "        angles = positions.float() * freq\n",
    "        \n",
    "        # Compute x, y coordinates on the circle\n",
    "        x = torch.cos(angles)\n",
    "        y = torch.sin(angles)\n",
    "        \n",
    "        # Create a color gradient based on position\n",
    "        colors = positions.numpy()\n",
    "        \n",
    "        # Add scatter trace to subplot\n",
    "        fig.add_trace(\n",
    "            go.Scatter(x=x, y=y, mode='lines+markers',\n",
    "                      marker=dict(color=colors, colorscale='Viridis', size=8),\n",
    "                      line=dict(color='rgba(150,150,150,0.3)'),\n",
    "                      text=[f\"Pos {p}\" for p in positions],\n",
    "                      hoverinfo='text',\n",
    "                      name=f\"Pair {pair_idx}\"),\n",
    "            row=row, col=col\n",
    "        )\n",
    "        \n",
    "        # Add annotations for specific positions\n",
    "        special_pos = [0, 10, 20, 30, 40]\n",
    "        for pos in special_pos:\n",
    "            if pos < seq_length:\n",
    "                fig.add_annotation(\n",
    "                    x=x[pos].item(), y=y[pos].item(),\n",
    "                    text=str(pos),\n",
    "                    showarrow=True, arrowhead=2,\n",
    "                    arrowsize=1, arrowwidth=1, ax=0, ay=-20,\n",
    "                    row=row, col=col\n",
    "                )\n",
    "    \n",
    "    # Update layout\n",
    "    fig.update_layout(\n",
    "        title=\"RoPE: Rotation Trajectories for Different Dimension Pairs\",\n",
    "        height=700, width=900,\n",
    "        showlegend=False,\n",
    "    )\n",
    "    \n",
    "    # Update axis properties for all subplots\n",
    "    for i in range(1, 3):\n",
    "        for j in range(1, 3):\n",
    "            fig.update_xaxes(title_text=\"cos(mθ)\", range=[-1.1, 1.1], row=i, col=j)\n",
    "            fig.update_yaxes(title_text=\"sin(mθ)\", range=[-1.1, 1.1], row=i, col=j)\n",
    "    \n",
    "    return fig\n",
    "\n",
    "# Display the visualization\n",
    "visualize_rope_trajectories()"
   ]
  },
  {
   "cell_type": "markdown",
   "id": "2688561f",
   "metadata": {},
   "source": [
    "## Understanding RoPE Rotation Trajectories\n",
    "\n",
    "This visualization demonstrates how Rotary Position Embedding (RoPE) operates by rotating vector pairs in different dimensions at various frequencies. Unlike traditional positional encoding that adds position vectors to embeddings, RoPE directly rotates query and key vectors in the attention mechanism.\n",
    "\n",
    "**Key insights from the visualization:**\n",
    "\n",
    "- **Multiple rotation frequencies**: Each subplot shows how a different dimension pair rotates at its own frequency. Early pairs (Dimension Pair 0) rotate quickly with position changes, while later pairs (Dimension Pair 24, 32, 48) rotate more slowly.\n",
    "\n",
    "- **Position mapping to angles**: Each colored dot represents a position in the sequence, mapped to a specific angle on the unit circle. The color gradient helps track how positions (0, 10, 20, etc.) move around the circle.\n",
    "\n",
    "- **Multi-scale representation**: The varying rotation speeds create a multi-scale representation of position. Fast-rotating pairs capture local, fine-grained positional relationships, while slow-rotating pairs capture global context.\n",
    "\n",
    "- **Circular nature**: The circular trajectories ensure that the encoding is bounded and well-behaved numerically, avoiding the exploding or vanishing issues that can occur with some other position encodings.\n",
    "\n",
    "By using these rotations instead of additive encodings, RoPE elegantly integrates positional information into the attention mechanism while preserving the ability to model relative positions effectively."
   ]
  },
  {
   "cell_type": "markdown",
   "id": "e6d835ec",
   "metadata": {},
   "source": [
    "## The Core Mechanism: Rotation in 2D Space\n",
    "RoPE operates by pairing the dimensions of the query and key vectors and applying a 2D rotation to each pair. For a d-dimensional vector, there are d/2 pairs. The rotation angle for each pair depends on the position and the pair index, introducing multiple frequencies into the encoding."
   ]
  },
  {
   "cell_type": "code",
   "execution_count": null,
   "id": "6acc7a9c",
   "metadata": {},
   "outputs": [],
   "source": [
    "import numpy as np\n",
    "\n",
    "def rotate_pair(x_j, x_j1, theta):\n",
    "    \"\"\"Apply 2D rotation to a pair of values.\"\"\"\n",
    "    x_j_new = x_j * np.cos(theta) - x_j1 * np.sin(theta)\n",
    "    x_j1_new = x_j * np.sin(theta) + x_j1 * np.cos(theta)\n",
    "    return x_j_new, x_j1_new\n",
    "\n",
    "# Example: rotate (1, 0) by 45 degrees\n",
    "x_j, x_j1 = 1.0, 0.0\n",
    "theta = np.pi / 4\n",
    "rotate_pair(x_j, x_j1, theta)"
   ]
  },
  {
   "cell_type": "markdown",
   "id": "32708278",
   "metadata": {},
   "source": [
    "## Multi-Frequency Encoding: Local and Global Context\n",
    "Each pair of dimensions is rotated by a different frequency, determined by θ_i = 1 / (base^(2i/d)). Early pairs (small i) rotate quickly, capturing local relationships. Later pairs (large i) rotate slowly, capturing global context. This multi-scale approach is more powerful than using a single frequency."
   ]
  },
  {
   "cell_type": "code",
   "execution_count": null,
   "id": "9cb5a217",
   "metadata": {},
   "outputs": [],
   "source": [
    "import plotly.graph_objs as go\n",
    "import numpy as np\n",
    "\n",
    "positions = np.arange(0, 50)\n",
    "d = 8  # example dimensionality\n",
    "base = 10000\n",
    "\n",
    "traces = []\n",
    "for i in range(d // 2):\n",
    "    theta_i = 1 / (base ** (2 * i / d))\n",
    "    angles = positions * theta_i\n",
    "    x = np.cos(angles)\n",
    "    y = np.sin(angles)\n",
    "    traces.append(go.Scatter(x=x, y=y, mode='lines', name=f'Pair {i}'))\n",
    "\n",
    "layout = go.Layout(title='RoPE: Rotation Trajectories for Different Dimension Pairs',\n",
    "                   xaxis=dict(title='cos(mθ_i)'),\n",
    "                   yaxis=dict(title='sin(mθ_i)'))\n",
    "fig = go.Figure(data=traces, layout=layout)\n",
    "fig.show()"
   ]
  },
  {
   "cell_type": "markdown",
   "id": "665f33b2",
   "metadata": {},
   "source": [
    "## Relative Position from Absolute Rotations\n",
    "A key property of RoPE is that, after rotation, the dot product between a query at position m and a key at position n depends only on their relative distance (m - n). This means the attention mechanism becomes sensitive to relative positions, which is crucial for modeling language context."
   ]
  },
  {
   "cell_type": "code",
   "execution_count": null,
   "id": "3fc64bc1",
   "metadata": {},
   "outputs": [],
   "source": [
    "def rope_dot_product(q, k, m, n, base=10000):\n",
    "    d = len(q)\n",
    "    result = 0.0\n",
    "    for i in range(0, d, 2):\n",
    "        theta_i = 1 / (base ** (2 * (i//2) / d))\n",
    "        angle_m = m * theta_i\n",
    "        angle_n = n * theta_i\n",
    "        # Rotate q and k\n",
    "        q_rot = np.array([q[i] * np.cos(angle_m) - q[i+1] * np.sin(angle_m),\n",
    "                          q[i] * np.sin(angle_m) + q[i+1] * np.cos(angle_m)])\n",
    "        k_rot = np.array([k[i] * np.cos(angle_n) - k[i+1] * np.sin(angle_n),\n",
    "                          k[i] * np.sin(angle_n) + k[i+1] * np.cos(angle_n)])\n",
    "        result += np.dot(q_rot, k_rot)\n",
    "    return result\n",
    "\n",
    "# Example: dot product for different relative positions\n",
    "q = np.random.randn(8)\n",
    "k = np.random.randn(8)\n",
    "rel_positions = np.arange(-10, 11)\n",
    "dots = [rope_dot_product(q, k, m=0, n=rp) for rp in rel_positions]\n",
    "\n",
    "import plotly.express as px\n",
    "fig = px.line(x=rel_positions, y=dots, labels={'x':'Relative Position (n)', 'y':'Dot Product'},\n",
    "              title='RoPE Dot Product vs. Relative Position')\n",
    "fig.show()"
   ]
  },
  {
   "cell_type": "markdown",
   "id": "c543acc2",
   "metadata": {},
   "source": [
    "## Understanding RoPE Dot Product vs. Relative Position\n",
    "\n",
    "This graph illustrates one of the most remarkable properties of Rotary Position Embedding: how the dot product between query and key vectors varies based on their relative position, not their absolute positions.\n",
    "\n",
    "**What this visualization shows:**\n",
    "\n",
    "- **Dot product magnitude varies with relative distance**: The y-axis shows the dot product value between a query at position 0 and keys at various relative positions (x-axis). This demonstrates how attention scores in RoPE naturally depend on how far apart tokens are.\n",
    "\n",
    "- **Symmetry around zero**: Notice how the dot product pattern is roughly symmetric around relative position zero. This means that the attention mechanism treats tokens at equal distances before and after the current position similarly, while still being able to distinguish direction.\n",
    "\n",
    "- **Periodic patterns**: The dot product shows a complex periodic pattern resulting from the multiple rotation frequencies used in different dimension pairs. This rich signal helps the model learn nuanced relationships between tokens based on their spacing.\n",
    "\n",
    "- **Graceful decay**: As the relative distance increases in either direction, the dot product typically decreases, aligning with the intuition that nearby tokens are often more relevant than distant ones.\n",
    "\n",
    "This property is crucial for language modeling because it allows the attention mechanism to focus on contextually relevant tokens based on their relative positions, regardless of where they appear in the absolute sequence."
   ]
  },
  {
   "cell_type": "markdown",
   "id": "c18dfd7c",
   "metadata": {},
   "source": [
    "# The \"Wow\" Factors of RoPE\n",
    "- **Relative from Absolute**: Encodes absolute positions via rotation, but attention scores depend on relative positions.\n",
    "- **Multi-Scale Positional Information**: Different rotation frequencies capture both local and global context.\n",
    "- **Excellent Extrapolation**: Generalizes well to longer sequences due to the periodic nature of rotations.\n",
    "- **No Extra Learnable Parameters**: RoPE uses fixed transformations, keeping the model efficient.\n",
    "- **Deep Integration**: RoPE is applied directly to Q and K vectors, making it a core part of the attention mechanism."
   ]
  },
  {
   "cell_type": "markdown",
   "id": "eabdf23a",
   "metadata": {},
   "source": [
    "# Transformer Implementation with PyTorch\n",
    "\n",
    "In this section, we'll implement a complete Transformer model with both traditional sinusoidal positional encoding and Rotary Position Embedding (RoPE). We'll use this to demonstrate how these positional encodings work in practice for next word prediction tasks."
   ]
  },
  {
   "cell_type": "code",
   "execution_count": null,
   "id": "213f572e",
   "metadata": {},
   "outputs": [],
   "source": [
    "import torch\n",
    "import torch.nn as nn\n",
    "import torch.nn.functional as F\n",
    "import torch.optim as optim\n",
    "import numpy as np\n",
    "import math\n",
    "import matplotlib.pyplot as plt\n",
    "import plotly.graph_objects as go\n",
    "import plotly.express as px\n",
    "from plotly.subplots import make_subplots\n",
    "from tqdm.notebook import tqdm\n",
    "from torch.utils.data import Dataset, DataLoader\n",
    "\n",
    "device = torch.device(\"cuda\" if torch.cuda.is_available() else \"cpu\")\n",
    "print(f\"Using device: {device}\")"
   ]
  },
  {
   "cell_type": "markdown",
   "id": "c46a7a45",
   "metadata": {},
   "source": [
    "## Traditional Positional Encoding\n",
    "\n",
    "First, let's implement the original sinusoidal positional encoding from the \"Attention Is All You Need\" paper."
   ]
  },
  {
   "cell_type": "code",
   "execution_count": null,
   "id": "aabd3bbb",
   "metadata": {},
   "outputs": [],
   "source": [
    "class PositionalEncoding(nn.Module):\n",
    "    def __init__(self, d_model, max_seq_length=5000):\n",
    "        super().__init__()\n",
    "        \n",
    "        # Create positional encoding matrix\n",
    "        pe = torch.zeros(max_seq_length, d_model)\n",
    "        position = torch.arange(0, max_seq_length, dtype=torch.float).unsqueeze(1)\n",
    "        div_term = torch.exp(torch.arange(0, d_model, 2).float() * (-math.log(10000.0) / d_model))\n",
    "        \n",
    "        # Apply sine to even indices\n",
    "        pe[:, 0::2] = torch.sin(position * div_term)\n",
    "        # Apply cosine to odd indices\n",
    "        pe[:, 1::2] = torch.cos(position * div_term)\n",
    "        \n",
    "        # Add batch dimension\n",
    "        pe = pe.unsqueeze(0)\n",
    "        \n",
    "        # Register as buffer (not a parameter)\n",
    "        self.register_buffer('pe', pe)\n",
    "        \n",
    "    def forward(self, x):\n",
    "        # x has shape [batch_size, seq_len, embedding_dim]\n",
    "        # Add positional encoding to embeddings\n",
    "        x = x + self.pe[:, :x.size(1), :]\n",
    "        return x\n",
    "\n",
    "# Visualize the traditional positional encoding\n",
    "def visualize_positional_encoding(model_dim=64, seq_length=100):\n",
    "    pos_enc = PositionalEncoding(model_dim)\n",
    "    dummy_input = torch.zeros(1, seq_length, model_dim)\n",
    "    encoded = pos_enc(dummy_input)[0]  # Remove batch dimension\n",
    "    \n",
    "    # Create a heatmap with plotly\n",
    "    fig = px.imshow(encoded.detach().numpy(),\n",
    "                    labels=dict(x=\"Dimension\", y=\"Position\", color=\"Value\"),\n",
    "                    title=\"Traditional Sinusoidal Positional Encoding\",\n",
    "                    color_continuous_scale=\"RdBu_r\",\n",
    "                    zmin=-1, zmax=1)\n",
    "    fig.update_layout(width=800, height=500)\n",
    "    return fig\n",
    "\n",
    "# Display the visualization\n",
    "visualize_positional_encoding()"
   ]
  },
  {
   "cell_type": "markdown",
   "id": "a1087671",
   "metadata": {},
   "source": [
    "## Understanding Traditional Positional Encoding Visualization\n",
    "\n",
    "The heatmap above visualizes the traditional sinusoidal positional encoding used in the original Transformer architecture. This encoding is crucial because Transformers process tokens in parallel, with no inherent sense of their order in the sequence.\n",
    "\n",
    "**Key observations:**\n",
    "\n",
    "- **Vertical patterns**: Each column represents a dimension in the embedding space. Note how some dimensions change rapidly (high-frequency components) while others change slowly (low-frequency components).\n",
    "  \n",
    "- **Position uniqueness**: Each row represents a unique position encoding vector, ensuring that each position in a sequence gets a distinctive representation.\n",
    "\n",
    "- **Sinusoidal pattern**: The encoding uses sine and cosine functions with different frequencies, creating the wave-like patterns you see. This approach allows the model to generalize to sequence lengths it hasn't seen during training.\n",
    "\n",
    "- **Color variations**: Blue represents negative values, red represents positive values, with white near zero. These variations help the model distinguish between different positions.\n",
    "\n",
    "This encoding is added directly to token embeddings before they're processed by the attention mechanism. However, this approach has limitations in capturing relative positions effectively, which is addressed by RoPE."
   ]
  },
  {
   "cell_type": "markdown",
   "id": "660f1fb9",
   "metadata": {},
   "source": [
    "## Rotary Position Embedding (RoPE)\n",
    "\n",
    "Now, let's implement RoPE, which applies rotation to query and key vectors in self-attention rather than adding positional vectors to the embeddings."
   ]
  },
  {
   "cell_type": "code",
   "execution_count": null,
   "id": "577f6198",
   "metadata": {},
   "outputs": [],
   "source": [
    "class RotaryEmbedding(nn.Module):\n",
    "    \"\"\"Rotary Position Embedding implementation.\"\"\"\n",
    "    def __init__(self, dim, base=10000):\n",
    "        super().__init__()\n",
    "        self.dim = dim\n",
    "        self.base = base\n",
    "        inv_freq = 1.0 / (base ** (torch.arange(0, dim, 2).float() / dim))\n",
    "        self.register_buffer(\"inv_freq\", inv_freq)\n",
    "\n",
    "    def forward(self, seq_len):\n",
    "        # Create position indices\n",
    "        position = torch.arange(seq_len, device=self.inv_freq.device).float()\n",
    "        # Compute angles for each position and frequency\n",
    "        angles = position.unsqueeze(1) * self.inv_freq.unsqueeze(0)\n",
    "        # Return sines and cosines for easier rotation\n",
    "        return torch.stack([torch.cos(angles), torch.sin(angles)], dim=-1)\n",
    "\n",
    "    def _apply_rotary_pos_emb(self, x, cos, sin):\n",
    "        # x shape: [batch_size, seq_len, dim]\n",
    "        # Reshape x for easier rotation\n",
    "        x_reshape = x.reshape(*x.shape[:-1], -1, 2)\n",
    "        x1, x2 = x_reshape.unbind(-1)  # Split into pairs\n",
    "        \n",
    "        # Apply rotation using the rotation matrix [cos -sin; sin cos]\n",
    "        out1 = x1 * cos - x2 * sin\n",
    "        out2 = x1 * sin + x2 * cos\n",
    "        \n",
    "        # Stack and reshape back\n",
    "        return torch.stack([out1, out2], dim=-1).flatten(-2)\n",
    "\n",
    "    def apply_rotary_embedding(self, q, k, seq_len):\n",
    "        # Get rotation angles\n",
    "        cos_sin = self.forward(seq_len)\n",
    "        cos, sin = cos_sin[..., 0], cos_sin[..., 1]\n",
    "        \n",
    "        # Reshape for broadcasting\n",
    "        cos = cos.unsqueeze(0).unsqueeze(0)  # [1, 1, seq_len, dim/2]\n",
    "        sin = sin.unsqueeze(0).unsqueeze(0)  # [1, 1, seq_len, dim/2]\n",
    "        \n",
    "        # Apply rotations to q and k\n",
    "        q_rotated = self._apply_rotary_pos_emb(q, cos, sin)\n",
    "        k_rotated = self._apply_rotary_pos_emb(k, cos, sin)\n",
    "        \n",
    "        return q_rotated, k_rotated\n",
    "\n",
    "# Function to visualize rotation trajectories in RoPE\n",
    "def visualize_rope_trajectories(dim=64, seq_length=50, base=10000):\n",
    "    # Compute frequencies\n",
    "    freqs = 1.0 / (base ** (torch.arange(0, dim, 2).float() / dim))\n",
    "    positions = torch.arange(seq_length)\n",
    "    \n",
    "    # Create subplots for different frequency pairs\n",
    "    pairs_to_plot = [0, dim//8, dim//4, 3*dim//8]  # Plot 4 different frequency pairs\n",
    "    fig = make_subplots(rows=2, cols=2, \n",
    "                       subplot_titles=[f\"Dimension Pair {i}\" for i in pairs_to_plot])\n",
    "    \n",
    "    for i, pair_idx in enumerate(pairs_to_plot):\n",
    "        # Calculate row and column for subplot\n",
    "        row = i // 2 + 1\n",
    "        col = i % 2 + 1\n",
    "        \n",
    "        # Get frequency for this pair\n",
    "        freq = freqs[pair_idx].item()\n",
    "        \n",
    "        # Compute rotation angles\n",
    "        angles = positions.float() * freq\n",
    "        \n",
    "        # Compute x, y coordinates on the circle\n",
    "        x = torch.cos(angles)\n",
    "        y = torch.sin(angles)\n",
    "        \n",
    "        # Create a color gradient based on position\n",
    "        colors = positions.numpy()\n",
    "        \n",
    "        # Add scatter trace to subplot\n",
    "        fig.add_trace(\n",
    "            go.Scatter(x=x, y=y, mode='lines+markers',\n",
    "                      marker=dict(color=colors, colorscale='Viridis', size=8),\n",
    "                      line=dict(color='rgba(150,150,150,0.3)'),\n",
    "                      text=[f\"Pos {p}\" for p in positions],\n",
    "                      hoverinfo='text',\n",
    "                      name=f\"Pair {pair_idx}\"),\n",
    "            row=row, col=col\n",
    "        )\n",
    "        \n",
    "        # Add annotations for specific positions\n",
    "        special_pos = [0, 10, 20, 30, 40]\n",
    "        for pos in special_pos:\n",
    "            if pos < seq_length:\n",
    "                fig.add_annotation(\n",
    "                    x=x[pos].item(), y=y[pos].item(),\n",
    "                    text=str(pos),\n",
    "                    showarrow=True, arrowhead=2,\n",
    "                    arrowsize=1, arrowwidth=1, ax=0, ay=-20,\n",
    "                    row=row, col=col\n",
    "                )\n",
    "    \n",
    "    # Update layout\n",
    "    fig.update_layout(\n",
    "        title=\"RoPE: Rotation Trajectories for Different Dimension Pairs\",\n",
    "        height=700, width=900,\n",
    "        showlegend=False,\n",
    "    )\n",
    "    \n",
    "    # Update axis properties for all subplots\n",
    "    for i in range(1, 3):\n",
    "        for j in range(1, 3):\n",
    "            fig.update_xaxes(title_text=\"cos(mθ)\", range=[-1.1, 1.1], row=i, col=j)\n",
    "            fig.update_yaxes(title_text=\"sin(mθ)\", range=[-1.1, 1.1], row=i, col=j)\n",
    "    \n",
    "    return fig\n",
    "\n",
    "# Display the visualization\n",
    "visualize_rope_trajectories()"
   ]
  },
  {
   "cell_type": "markdown",
   "id": "72858c7f",
   "metadata": {},
   "source": [
    "## Understanding RoPE Rotation Trajectories\n",
    "\n",
    "This visualization demonstrates how Rotary Position Embedding (RoPE) operates by rotating vector pairs in different dimensions at various frequencies. Unlike traditional positional encoding that adds position vectors to embeddings, RoPE directly rotates query and key vectors in the attention mechanism.\n",
    "\n",
    "**Key insights from the visualization:**\n",
    "\n",
    "- **Multiple rotation frequencies**: Each subplot shows how a different dimension pair rotates at its own frequency. Early pairs (Dimension Pair 0) rotate quickly with position changes, while later pairs (Dimension Pair 24, 32, 48) rotate more slowly.\n",
    "\n",
    "- **Position mapping to angles**: Each colored dot represents a position in the sequence, mapped to a specific angle on the unit circle. The color gradient helps track how positions (0, 10, 20, etc.) move around the circle.\n",
    "\n",
    "- **Multi-scale representation**: The varying rotation speeds create a multi-scale representation of position. Fast-rotating pairs capture local, fine-grained positional relationships, while slow-rotating pairs capture global context.\n",
    "\n",
    "- **Circular nature**: The circular trajectories ensure that the encoding is bounded and well-behaved numerically, avoiding the exploding or vanishing issues that can occur with some other position encodings.\n",
    "\n",
    "By using these rotations instead of additive encodings, RoPE elegantly integrates positional information into the attention mechanism while preserving the ability to model relative positions effectively."
   ]
  },
  {
   "cell_type": "markdown",
   "id": "af8e4889",
   "metadata": {},
   "source": [
    "## The Core Mechanism: Rotation in 2D Space\n",
    "RoPE operates by pairing the dimensions of the query and key vectors and applying a 2D rotation to each pair. For a d-dimensional vector, there are d/2 pairs. The rotation angle for each pair depends on the position and the pair index, introducing multiple frequencies into the encoding."
   ]
  },
  {
   "cell_type": "code",
   "execution_count": null,
   "id": "1b16fb25",
   "metadata": {},
   "outputs": [],
   "source": [
    "import numpy as np\n",
    "\n",
    "def rotate_pair(x_j, x_j1, theta):\n",
    "    \"\"\"Apply 2D rotation to a pair of values.\"\"\"\n",
    "    x_j_new = x_j * np.cos(theta) - x_j1 * np.sin(theta)\n",
    "    x_j1_new = x_j * np.sin(theta) + x_j1 * np.cos(theta)\n",
    "    return x_j_new, x_j1_new\n",
    "\n",
    "# Example: rotate (1, 0) by 45 degrees\n",
    "x_j, x_j1 = 1.0, 0.0\n",
    "theta = np.pi / 4\n",
    "rotate_pair(x_j, x_j1, theta)"
   ]
  },
  {
   "cell_type": "markdown",
   "id": "46a66c3a",
   "metadata": {},
   "source": [
    "## Multi-Frequency Encoding: Local and Global Context\n",
    "Each pair of dimensions is rotated by a different frequency, determined by θ_i = 1 / (base^(2i/d)). Early pairs (small i) rotate quickly, capturing local relationships. Later pairs (large i) rotate slowly, capturing global context. This multi-scale approach is more powerful than using a single frequency."
   ]
  },
  {
   "cell_type": "code",
   "execution_count": null,
   "id": "2f60ef34",
   "metadata": {},
   "outputs": [],
   "source": [
    "import plotly.graph_objs as go\n",
    "import numpy as np\n",
    "\n",
    "positions = np.arange(0, 50)\n",
    "d = 8  # example dimensionality\n",
    "base = 10000\n",
    "\n",
    "traces = []\n",
    "for i in range(d // 2):\n",
    "    theta_i = 1 / (base ** (2 * i / d))\n",
    "    angles = positions * theta_i\n",
    "    x = np.cos(angles)\n",
    "    y = np.sin(angles)\n",
    "    traces.append(go.Scatter(x=x, y=y, mode='lines', name=f'Pair {i}'))\n",
    "\n",
    "layout = go.Layout(title='RoPE: Rotation Trajectories for Different Dimension Pairs',\n",
    "                   xaxis=dict(title='cos(mθ_i)'),\n",
    "                   yaxis=dict(title='sin(mθ_i)'))\n",
    "fig = go.Figure(data=traces, layout=layout)\n",
    "fig.show()"
   ]
  },
  {
   "cell_type": "markdown",
   "id": "5f3e2a73",
   "metadata": {},
   "source": [
    "## Relative Position from Absolute Rotations\n",
    "A key property of RoPE is that, after rotation, the dot product between a query at position m and a key at position n depends only on their relative distance (m - n). This means the attention mechanism becomes sensitive to relative positions, which is crucial for modeling language context."
   ]
  },
  {
   "cell_type": "code",
   "execution_count": null,
   "id": "0d3d21c8",
   "metadata": {},
   "outputs": [],
   "source": [
    "def rope_dot_product(q, k, m, n, base=10000):\n",
    "    d = len(q)\n",
    "    result = 0.0\n",
    "    for i in range(0, d, 2):\n",
    "        theta_i = 1 / (base ** (2 * (i//2) / d))\n",
    "        angle_m = m * theta_i\n",
    "        angle_n = n * theta_i\n",
    "        # Rotate q and k\n",
    "        q_rot = np.array([q[i] * np.cos(angle_m) - q[i+1] * np.sin(angle_m),\n",
    "                          q[i] * np.sin(angle_m) + q[i+1] * np.cos(angle_m)])\n",
    "        k_rot = np.array([k[i] * np.cos(angle_n) - k[i+1] * np.sin(angle_n),\n",
    "                          k[i] * np.sin(angle_n) + k[i+1] * np.cos(angle_n)])\n",
    "        result += np.dot(q_rot, k_rot)\n",
    "    return result\n",
    "\n",
    "# Example: dot product for different relative positions\n",
    "q = np.random.randn(8)\n",
    "k = np.random.randn(8)\n",
    "rel_positions = np.arange(-10, 11)\n",
    "dots = [rope_dot_product(q, k, m=0, n=rp) for rp in rel_positions]\n",
    "\n",
    "import plotly.express as px\n",
    "fig = px.line(x=rel_positions, y=dots, labels={'x':'Relative Position (n)', 'y':'Dot Product'},\n",
    "              title='RoPE Dot Product vs. Relative Position')\n",
    "fig.show()"
   ]
  },
  {
   "cell_type": "markdown",
   "id": "49435658",
   "metadata": {},
   "source": [
    "## Understanding RoPE Dot Product vs. Relative Position\n",
    "\n",
    "This graph illustrates one of the most remarkable properties of Rotary Position Embedding: how the dot product between query and key vectors varies based on their relative position, not their absolute positions.\n",
    "\n",
    "**What this visualization shows:**\n",
    "\n",
    "- **Dot product magnitude varies with relative distance**: The y-axis shows the dot product value between a query at position 0 and keys at various relative positions (x-axis). This demonstrates how attention scores in RoPE naturally depend on how far apart tokens are.\n",
    "\n",
    "- **Symmetry around zero**: Notice how the dot product pattern is roughly symmetric around relative position zero. This means that the attention mechanism treats tokens at equal distances before and after the current position similarly, while still being able to distinguish direction.\n",
    "\n",
    "- **Periodic patterns**: The dot product shows a complex periodic pattern resulting from the multiple rotation frequencies used in different dimension pairs. This rich signal helps the model learn nuanced relationships between tokens based on their spacing.\n",
    "\n",
    "- **Graceful decay**: As the relative distance increases in either direction, the dot product typically decreases, aligning with the intuition that nearby tokens are often more relevant than distant ones.\n",
    "\n",
    "This property is crucial for language modeling because it allows the attention mechanism to focus on contextually relevant tokens based on their relative positions, regardless of where they appear in the absolute sequence."
   ]
  },
  {
   "cell_type": "markdown",
   "id": "d82a30c3",
   "metadata": {},
   "source": [
    "# The \"Wow\" Factors of RoPE\n",
    "- **Relative from Absolute**: Encodes absolute positions via rotation, but attention scores depend on relative positions.\n",
    "- **Multi-Scale Positional Information**: Different rotation frequencies capture both local and global context.\n",
    "- **Excellent Extrapolation**: Generalizes well to longer sequences due to the periodic nature of rotations.\n",
    "- **No Extra Learnable Parameters**: RoPE uses fixed transformations, keeping the model efficient.\n",
    "- **Deep Integration**: RoPE is applied directly to Q and K vectors, making it a core part of the attention mechanism."
   ]
  },
  {
   "cell_type": "markdown",
   "id": "52cc7f68",
   "metadata": {},
   "source": [
    "# Transformer Implementation with PyTorch\n",
    "\n",
    "In this section, we'll implement a complete Transformer model with both traditional sinusoidal positional encoding and Rotary Position Embedding (RoPE). We'll use this to demonstrate how these positional encodings work in practice for next word prediction tasks."
   ]
  },
  {
   "cell_type": "code",
   "execution_count": null,
   "id": "732bbfb6",
   "metadata": {},
   "outputs": [],
   "source": [
    "import torch\n",
    "import torch.nn as nn\n",
    "import torch.nn.functional as F\n",
    "import torch.optim as optim\n",
    "import numpy as np\n",
    "import math\n",
    "import matplotlib.pyplot as plt\n",
    "import plotly.graph_objects as go\n",
    "import plotly.express as px\n",
    "from plotly.subplots import make_subplots\n",
    "from tqdm.notebook import tqdm\n",
    "from torch.utils.data import Dataset, DataLoader\n",
    "\n",
    "device = torch.device(\"cuda\" if torch.cuda.is_available() else \"cpu\")\n",
    "print(f\"Using device: {device}\")"
   ]
  },
  {
   "cell_type": "markdown",
   "id": "ad25c73e",
   "metadata": {},
   "source": [
    "## Traditional Positional Encoding\n",
    "\n",
    "First, let's implement the original sinusoidal positional encoding from the \"Attention Is All You Need\" paper."
   ]
  },
  {
   "cell_type": "code",
   "execution_count": null,
   "id": "917cbba9",
   "metadata": {},
   "outputs": [],
   "source": [
    "class PositionalEncoding(nn.Module):\n",
    "    def __init__(self, d_model, max_seq_length=5000):\n",
    "        super().__init__()\n",
    "        \n",
    "        # Create positional encoding matrix\n",
    "        pe = torch.zeros(max_seq_length, d_model)\n",
    "        position = torch.arange(0, max_seq_length, dtype=torch.float).unsqueeze(1)\n",
    "        div_term = torch.exp(torch.arange(0, d_model, 2).float() * (-math.log(10000.0) / d_model))\n",
    "        \n",
    "        # Apply sine to even indices\n",
    "        pe[:, 0::2] = torch.sin(position * div_term)\n",
    "        # Apply cosine to odd indices\n",
    "        pe[:, 1::2] = torch.cos(position * div_term)\n",
    "        \n",
    "        # Add batch dimension\n",
    "        pe = pe.unsqueeze(0)\n",
    "        \n",
    "        # Register as buffer (not a parameter)\n",
    "        self.register_buffer('pe', pe)\n",
    "        \n",
    "    def forward(self, x):\n",
    "        # x has shape [batch_size, seq_len, embedding_dim]\n",
    "        # Add positional encoding to embeddings\n",
    "        x = x + self.pe[:, :x.size(1), :]\n",
    "        return x\n",
    "\n",
    "# Visualize the traditional positional encoding\n",
    "def visualize_positional_encoding(model_dim=64, seq_length=100):\n",
    "    pos_enc = PositionalEncoding(model_dim)\n",
    "    dummy_input = torch.zeros(1, seq_length, model_dim)\n",
    "    encoded = pos_enc(dummy_input)[0]  # Remove batch dimension\n",
    "    \n",
    "    # Create a heatmap with plotly\n",
    "    fig = px.imshow(encoded.detach().numpy(),\n",
    "                    labels=dict(x=\"Dimension\", y=\"Position\", color=\"Value\"),\n",
    "                    title=\"Traditional Sinusoidal Positional Encoding\",\n",
    "                    color_continuous_scale=\"RdBu_r\",\n",
    "                    zmin=-1, zmax=1)\n",
    "    fig.update_layout(width=800, height=500)\n",
    "    return fig\n",
    "\n",
    "# Display the visualization\n",
    "visualize_positional_encoding()"
   ]
  },
  {
   "cell_type": "markdown",
   "id": "b3d983ee",
   "metadata": {},
   "source": [
    "## Understanding Traditional Positional Encoding Visualization\n",
    "\n",
    "The heatmap above visualizes the traditional sinusoidal positional encoding used in the original Transformer architecture. This encoding is crucial because Transformers process tokens in parallel, with no inherent sense of their order in the sequence.\n",
    "\n",
    "**Key observations:**\n",
    "\n",
    "- **Vertical patterns**: Each column represents a dimension in the embedding space. Note how some dimensions change rapidly (high-frequency components) while others change slowly (low-frequency components).\n",
    "  \n",
    "- **Position uniqueness**: Each row represents a unique position encoding vector, ensuring that each position in a sequence gets a distinctive representation.\n",
    "\n",
    "- **Sinusoidal pattern**: The encoding uses sine and cosine functions with different frequencies, creating the wave-like patterns you see. This approach allows the model to generalize to sequence lengths it hasn't seen during training.\n",
    "\n",
    "- **Color variations**: Blue represents negative values, red represents positive values, with white near zero. These variations help the model distinguish between different positions.\n",
    "\n",
    "This encoding is added directly to token embeddings before they're processed by the attention mechanism. However, this approach has limitations in capturing relative positions effectively, which is addressed by RoPE."
   ]
  },
  {
   "cell_type": "markdown",
   "id": "76b31efd",
   "metadata": {},
   "source": [
    "## Rotary Position Embedding (RoPE)\n",
    "\n",
    "Now, let's implement RoPE, which applies rotation to query and key vectors in self-attention rather than adding positional vectors to the embeddings."
   ]
  },
  {
   "cell_type": "code",
   "execution_count": null,
   "id": "2f8b200f",
   "metadata": {},
   "outputs": [],
   "source": [
    "class RotaryEmbedding(nn.Module):\n",
    "    \"\"\"Rotary Position Embedding implementation.\"\"\"\n",
    "    def __init__(self, dim, base=10000):\n",
    "        super().__init__()\n",
    "        self.dim = dim\n",
    "        self.base = base\n",
    "        inv_freq = 1.0 / (base ** (torch.arange(0, dim, 2).float() / dim))\n",
    "        self.register_buffer(\"inv_freq\", inv_freq)\n",
    "\n",
    "    def forward(self, seq_len):\n",
    "        # Create position indices\n",
    "        position = torch.arange(seq_len, device=self.inv_freq.device).float()\n",
    "        # Compute angles for each position and frequency\n",
    "        angles = position.unsqueeze(1) * self.inv_freq.unsqueeze(0)\n",
    "        # Return sines and cosines for easier rotation\n",
    "        return torch.stack([torch.cos(angles), torch.sin(angles)], dim=-1)\n",
    "\n",
    "    def _apply_rotary_pos_emb(self, x, cos, sin):\n",
    "        # x shape: [batch_size, seq_len, dim]\n",
    "        # Reshape x for easier rotation\n",
    "        x_reshape = x.reshape(*x.shape[:-1], -1, 2)\n",
    "        x1, x2 = x_reshape.unbind(-1)  # Split into pairs\n",
    "        \n",
    "        # Apply rotation using the rotation matrix [cos -sin; sin cos]\n",
    "        out1 = x1 * cos - x2 * sin\n",
    "        out2 = x1 * sin + x2 * cos\n",
    "        \n",
    "        # Stack and reshape back\n",
    "        return torch.stack([out1, out2], dim=-1).flatten(-2)\n",
    "\n",
    "    def apply_rotary_embedding(self, q, k, seq_len):\n",
    "        # Get rotation angles\n",
    "        cos_sin = self.forward(seq_len)\n",
    "        cos, sin = cos_sin[..., 0], cos_sin[..., 1]\n",
    "        \n",
    "        # Reshape for broadcasting\n",
    "        cos = cos.unsqueeze(0).unsqueeze(0)  # [1, 1, seq_len, dim/2]\n",
    "        sin = sin.unsqueeze(0).unsqueeze(0)  # [1, 1, seq_len, dim/2]\n",
    "        \n",
    "        # Apply rotations to q and k\n",
    "        q_rotated = self._apply_rotary_pos_emb(q, cos, sin)\n",
    "        k_rotated = self._apply_rotary_pos_emb(k, cos, sin)\n",
    "        \n",
    "        return q_rotated, k_rotated\n",
    "\n",
    "# Function to visualize rotation trajectories in RoPE\n",
    "def visualize_rope_trajectories(dim=64, seq_length=50, base=10000):\n",
    "    # Compute frequencies\n",
    "    freqs = 1.0 / (base ** (torch.arange(0, dim, 2).float() / dim))\n",
    "    positions = torch.arange(seq_length)\n",
    "    \n",
    "    # Create subplots for different frequency pairs\n",
    "    pairs_to_plot = [0, dim//8, dim//4, 3*dim//8]  # Plot 4 different frequency pairs\n",
    "    fig = make_subplots(rows=2, cols=2, \n",
    "                       subplot_titles=[f\"Dimension Pair {i}\" for i in pairs_to_plot])\n",
    "    \n",
    "    for i, pair_idx in enumerate(pairs_to_plot):\n",
    "        # Calculate row and column for subplot\n",
    "        row = i // 2 + 1\n",
    "        col = i % 2 + 1\n",
    "        \n",
    "        # Get frequency for this pair\n",
    "        freq = freqs[pair_idx].item()\n",
    "        \n",
    "        # Compute rotation angles\n",
    "        angles = positions.float() * freq\n",
    "        \n",
    "        # Compute x, y coordinates on the circle\n",
    "        x = torch.cos(angles)\n",
    "        y = torch.sin(angles)\n",
    "        \n",
    "        # Create a color gradient based on position\n",
    "        colors = positions.numpy()\n",
    "        \n",
    "        # Add scatter trace to subplot\n",
    "        fig.add_trace(\n",
    "            go.Scatter(x=x, y=y, mode='lines+markers',\n",
    "                      marker=dict(color=colors, colorscale='Viridis', size=8),\n",
    "                      line=dict(color='rgba(150,150,150,0.3)'),\n",
    "                      text=[f\"Pos {p}\" for p in positions],\n",
    "                      hoverinfo='text',\n",
    "                      name=f\"Pair {pair_idx}\"),\n",
    "            row=row, col=col\n",
    "        )\n",
    "        \n",
    "        # Add annotations for specific positions\n",
    "        special_pos = [0, 10, 20, 30, 40]\n",
    "        for pos in special_pos:\n",
    "            if pos < seq_length:\n",
    "                fig.add_annotation(\n",
    "                    x=x[pos].item(), y=y[pos].item(),\n",
    "                    text=str(pos),\n",
    "                    showarrow=True, arrowhead=2,\n",
    "                    arrowsize=1, arrowwidth=1, ax=0, ay=-20,\n",
    "                    row=row, col=col\n",
    "                )\n",
    "    \n",
    "    # Update layout\n",
    "    fig.update_layout(\n",
    "        title=\"RoPE: Rotation Trajectories for Different Dimension Pairs\",\n",
    "        height=700, width=900,\n",
    "        showlegend=False,\n",
    "    )\n",
    "    \n",
    "    # Update axis properties for all subplots\n",
    "    for i in range(1, 3):\n",
    "        for j in range(1, 3):\n",
    "            fig.update_xaxes(title_text=\"cos(mθ)\", range=[-1.1, 1.1], row=i, col=j)\n",
    "            fig.update_yaxes(title_text=\"sin(mθ)\", range=[-1.1, 1.1], row=i, col=j)\n",
    "    \n",
    "    return fig\n",
    "\n",
    "# Display the visualization\n",
    "visualize_rope_trajectories()"
   ]
  },
  {
   "cell_type": "markdown",
   "id": "6eed5d82",
   "metadata": {},
   "source": [
    "## Understanding RoPE Rotation Trajectories\n",
    "\n",
    "This visualization demonstrates how Rotary Position Embedding (RoPE) operates by rotating vector pairs in different dimensions at various frequencies. Unlike traditional positional encoding that adds position vectors to embeddings, RoPE directly rotates query and key vectors in the attention mechanism.\n",
    "\n",
    "**Key insights from the visualization:**\n",
    "\n",
    "- **Multiple rotation frequencies**: Each subplot shows how a different dimension pair rotates at its own frequency. Early pairs (Dimension Pair 0) rotate quickly with position changes, while later pairs (Dimension Pair 24, 32, 48) rotate more slowly.\n",
    "\n",
    "- **Position mapping to angles**: Each colored dot represents a position in the sequence, mapped to a specific angle on the unit circle. The color gradient helps track how positions (0, 10, 20, etc.) move around the circle.\n",
    "\n",
    "- **Multi-scale representation**: The varying rotation speeds create a multi-scale representation of position. Fast-rotating pairs capture local, fine-grained positional relationships, while slow-rotating pairs capture global context.\n",
    "\n",
    "- **Circular nature**: The circular trajectories ensure that the encoding is bounded and well-behaved numerically, avoiding the exploding or vanishing issues that can occur with some other position encodings.\n",
    "\n",
    "By using these rotations instead of additive encodings, RoPE elegantly integrates positional information into the attention mechanism while preserving the ability to model relative positions effectively."
   ]
  },
  {
   "cell_type": "markdown",
   "id": "2be8936d",
   "metadata": {},
   "source": [
    "## The Core Mechanism: Rotation in 2D Space\n",
    "RoPE operates by pairing the dimensions of the query and key vectors and applying a 2D rotation to each pair. For a d-dimensional vector, there are d/2 pairs. The rotation angle for each pair depends on the position and the pair index, introducing multiple frequencies into the encoding."
   ]
  },
  {
   "cell_type": "code",
   "execution_count": null,
   "id": "1eb786d9",
   "metadata": {},
   "outputs": [],
   "source": [
    "import numpy as np\n",
    "\n",
    "def rotate_pair(x_j, x_j1, theta):\n",
    "    \"\"\"Apply 2D rotation to a pair of values.\"\"\"\n",
    "    x_j_new = x_j * np.cos(theta) - x_j1 * np.sin(theta)\n",
    "    x_j1_new = x_j * np.sin(theta) + x_j1 * np.cos(theta)\n",
    "    return x_j_new, x_j1_new\n",
    "\n",
    "# Example: rotate (1, 0) by 45 degrees\n",
    "x_j, x_j1 = 1.0, 0.0\n",
    "theta = np.pi / 4\n",
    "rotate_pair(x_j, x_j1, theta)"
   ]
  },
  {
   "cell_type": "markdown",
   "id": "77795043",
   "metadata": {},
   "source": [
    "## Multi-Frequency Encoding: Local and Global Context\n",
    "Each pair of dimensions is rotated by a different frequency, determined by θ_i = 1 / (base^(2i/d)). Early pairs (small i) rotate quickly, capturing local relationships. Later pairs (large i) rotate slowly, capturing global context. This multi-scale approach is more powerful than using a single frequency."
   ]
  },
  {
   "cell_type": "code",
   "execution_count": null,
   "id": "1c691176",
   "metadata": {},
   "outputs": [],
   "source": [
    "import plotly.graph_objs as go\n",
    "import numpy as np\n",
    "\n",
    "positions = np.arange(0, 50)\n",
    "d = 8  # example dimensionality\n",
    "base = 10000\n",
    "\n",
    "traces = []\n",
    "for i in range(d // 2):\n",
    "    theta_i = 1 / (base ** (2 * i / d))\n",
    "    angles = positions * theta_i\n",
    "    x = np.cos(angles)\n",
    "    y = np.sin(angles)\n",
    "    traces.append(go.Scatter(x=x, y=y, mode='lines', name=f'Pair {i}'))\n",
    "\n",
    "layout = go.Layout(title='RoPE: Rotation Trajectories for Different Dimension Pairs',\n",
    "                   xaxis=dict(title='cos(mθ_i)'),\n",
    "                   yaxis=dict(title='sin(mθ_i)'))\n",
    "fig = go.Figure(data=traces, layout=layout)\n",
    "fig.show()"
   ]
  },
  {
   "cell_type": "markdown",
   "id": "a1bd415f",
   "metadata": {},
   "source": [
    "## Relative Position from Absolute Rotations\n",
    "A key property of RoPE is that, after rotation, the dot product between a query at position m and a key at position n depends only on their relative distance (m - n). This means the attention mechanism becomes sensitive to relative positions, which is crucial for modeling language context."
   ]
  },
  {
   "cell_type": "code",
   "execution_count": null,
   "id": "2efaf063",
   "metadata": {},
   "outputs": [],
   "source": [
    "def rope_dot_product(q, k, m, n, base=10000):\n",
    "    d = len(q)\n",
    "    result = 0.0\n",
    "    for i in range(0, d, 2):\n",
    "        theta_i = 1 / (base ** (2 * (i//2) / d))\n",
    "        angle_m = m * theta_i\n",
    "        angle_n = n * theta_i\n",
    "        # Rotate q and k\n",
    "        q_rot = np.array([q[i] * np.cos(angle_m) - q[i+1] * np.sin(angle_m),\n",
    "                          q[i] * np.sin(angle_m) + q[i+1] * np.cos(angle_m)])\n",
    "        k_rot = np.array([k[i] * np.cos(angle_n) - k[i+1] * np.sin(angle_n),\n",
    "                          k[i] * np.sin(angle_n) + k[i+1] * np.cos(angle_n)])\n",
    "        result += np.dot(q_rot, k_rot)\n",
    "    return result\n",
    "\n",
    "# Example: dot product for different relative positions\n",
    "q = np.random.randn(8)\n",
    "k = np.random.randn(8)\n",
    "rel_positions = np.arange(-10, 11)\n",
    "dots = [rope_dot_product(q, k, m=0, n=rp) for rp in rel_positions]\n",
    "\n",
    "import plotly.express as px\n",
    "fig = px.line(x=rel_positions, y=dots, labels={'x':'Relative Position (n)', 'y':'Dot Product'},\n",
    "              title='RoPE Dot Product vs. Relative Position')\n",
    "fig.show()"
   ]
  },
  {
   "cell_type": "markdown",
   "id": "51e36d63",
   "metadata": {},
   "source": [
    "## Understanding RoPE Dot Product vs. Relative Position\n",
    "\n",
    "This graph illustrates one of the most remarkable properties of Rotary Position Embedding: how the dot product between query and key vectors varies based on their relative position, not their absolute positions.\n",
    "\n",
    "**What this visualization shows:**\n",
    "\n",
    "- **Dot product magnitude varies with relative distance**: The y-axis shows the dot product value between a query at position 0 and keys at various relative positions (x-axis). This demonstrates how attention scores in RoPE naturally depend on how far apart tokens are.\n",
    "\n",
    "- **Symmetry around zero**: Notice how the dot product pattern is roughly symmetric around relative position zero. This means that the attention mechanism treats tokens at equal distances before and after the current position similarly, while still being able to distinguish direction.\n",
    "\n",
    "- **Periodic patterns**: The dot product shows a complex periodic pattern resulting from the multiple rotation frequencies used in different dimension pairs. This rich signal helps the model learn nuanced relationships between tokens based on their spacing.\n",
    "\n",
    "- **Graceful decay**: As the relative distance increases in either direction, the dot product typically decreases, aligning with the intuition that nearby tokens are often more relevant than distant ones.\n",
    "\n",
    "This property is crucial for language modeling because it allows the attention mechanism to focus on contextually relevant tokens based on their relative positions, regardless of where they appear in the absolute sequence."
   ]
  },
  {
   "cell_type": "markdown",
   "id": "db1cf2e0",
   "metadata": {},
   "source": [
    "# The \"Wow\" Factors of RoPE\n",
    "- **Relative from Absolute**: Encodes absolute positions via rotation, but attention scores depend on relative positions.\n",
    "- **Multi-Scale Positional Information**: Different rotation frequencies capture both local and global context.\n",
    "- **Excellent Extrapolation**: Generalizes well to longer sequences due to the periodic nature of rotations.\n",
    "- **No Extra Learnable Parameters**: RoPE uses fixed transformations, keeping the model efficient.\n",
    "- **Deep Integration**: RoPE is applied directly to Q and K vectors, making it a core part of the attention mechanism."
   ]
  },
  {
   "cell_type": "markdown",
   "id": "e11e2f7f",
   "metadata": {},
   "source": [
    "# Transformer Implementation with PyTorch\n",
    "\n",
    "In this section, we'll implement a complete Transformer model with both traditional sinusoidal positional encoding and Rotary Position Embedding (RoPE). We'll use this to demonstrate how these positional encodings work in practice for next word prediction tasks."
   ]
  },
  {
   "cell_type": "code",
   "execution_count": null,
   "id": "738a9cf6",
   "metadata": {},
   "outputs": [],
   "source": [
    "import torch\n",
    "import torch.nn as nn\n",
    "import torch.nn.functional as F\n",
    "import torch.optim as optim\n",
    "import numpy as np\n",
    "import math\n",
    "import matplotlib.pyplot as plt\n",
    "import plotly.graph_objects as go\n",
    "import plotly.express as px\n",
    "from plotly.subplots import make_subplots\n",
    "from tqdm.notebook import tqdm\n",
    "from torch.utils.data import Dataset, DataLoader\n",
    "\n",
    "device = torch.device(\"cuda\" if torch.cuda.is_available() else \"cpu\")\n",
    "print(f\"Using device: {device}\")"
   ]
  },
  {
   "cell_type": "markdown",
   "id": "3d93c5db",
   "metadata": {},
   "source": [
    "## Traditional Positional Encoding\n",
    "\n",
    "First, let's implement the original sinusoidal positional encoding from the \"Attention Is All You Need\" paper."
   ]
  },
  {
   "cell_type": "code",
   "execution_count": null,
   "id": "f047f5e9",
   "metadata": {},
   "outputs": [],
   "source": [
    "class PositionalEncoding(nn.Module):\n",
    "    def __init__(self, d_model, max_seq_length=5000):\n",
    "        super().__init__()\n",
    "        \n",
    "        # Create positional encoding matrix\n",
    "        pe = torch.zeros(max_seq_length, d_model)\n",
    "        position = torch.arange(0, max_seq_length, dtype=torch.float).unsqueeze(1)\n",
    "        div_term = torch.exp(torch.arange(0, d_model, 2).float() * (-math.log(10000.0) / d_model))\n",
    "        \n",
    "        # Apply sine to even indices\n",
    "        pe[:, 0::2] = torch.sin(position * div_term)\n",
    "        # Apply cosine to odd indices\n",
    "        pe[:, 1::2] = torch.cos(position * div_term)\n",
    "        \n",
    "        # Add batch dimension\n",
    "        pe = pe.unsqueeze(0)\n",
    "        \n",
    "        # Register as buffer (not a parameter)\n",
    "        self.register_buffer('pe', pe)\n",
    "        \n",
    "    def forward(self, x):\n",
    "        # x has shape [batch_size, seq_len, embedding_dim]\n",
    "        # Add positional encoding to embeddings\n",
    "        x = x + self.pe[:, :x.size(1), :]\n",
    "        return x\n",
    "\n",
    "# Visualize the traditional positional encoding\n",
    "def visualize_positional_encoding(model_dim=64, seq_length=100):\n",
    "    pos_enc = PositionalEncoding(model_dim)\n",
    "    dummy_input = torch.zeros(1, seq_length, model_dim)\n",
    "    encoded = pos_enc(dummy_input)[0]  # Remove batch dimension\n",
    "    \n",
    "    # Create a heatmap with plotly\n",
    "    fig = px.imshow(encoded.detach().numpy(),\n",
    "                    labels=dict(x=\"Dimension\", y=\"Position\", color=\"Value\"),\n",
    "                    title=\"Traditional Sinusoidal Positional Encoding\",\n",
    "                    color_continuous_scale=\"RdBu_r\",\n",
    "                    zmin=-1, zmax=1)\n",
    "    fig.update_layout(width=800, height=500)\n",
    "    return fig\n",
    "\n",
    "# Display the visualization\n",
    "visualize_positional_encoding()"
   ]
  },
  {
   "cell_type": "markdown",
   "id": "0949543e",
   "metadata": {},
   "source": [
    "## Understanding Traditional Positional Encoding Visualization\n",
    "\n",
    "The heatmap above visualizes the traditional sinusoidal positional encoding used in the original Transformer architecture. This encoding is crucial because Transformers process tokens in parallel, with no inherent sense of their order in the sequence.\n",
    "\n",
    "**Key observations:**\n",
    "\n",
    "- **Vertical patterns**: Each column represents a dimension in the embedding space. Note how some dimensions change rapidly (high-frequency components) while others change slowly (low-frequency components).\n",
    "  \n",
    "- **Position uniqueness**: Each row represents a unique position encoding vector, ensuring that each position in a sequence gets a distinctive representation.\n",
    "\n",
    "- **Sinusoidal pattern**: The encoding uses sine and cosine functions with different frequencies, creating the wave-like patterns you see. This approach allows the model to generalize to sequence lengths it hasn't seen during training.\n",
    "\n",
    "- **Color variations**: Blue represents negative values, red represents positive values, with white near zero. These variations help the model distinguish between different positions.\n",
    "\n",
    "This encoding is added directly to token embeddings before they're processed by the attention mechanism. However, this approach has limitations in capturing relative positions effectively, which is addressed by RoPE."
   ]
  },
  {
   "cell_type": "markdown",
   "id": "273ad0bf",
   "metadata": {},
   "source": [
    "## Rotary Position Embedding (RoPE)\n",
    "\n",
    "Now, let's implement RoPE, which applies rotation to query and key vectors in self-attention rather than adding positional vectors to the embeddings."
   ]
  },
  {
   "cell_type": "code",
   "execution_count": null,
   "id": "9c5a9c11",
   "metadata": {},
   "outputs": [],
   "source": [
    "class RotaryEmbedding(nn.Module):\n",
    "    \"\"\"Rotary Position Embedding implementation.\"\"\"\n",
    "    def __init__(self, dim, base=10000):\n",
    "        super().__init__()\n",
    "        self.dim = dim\n",
    "        self.base = base\n",
    "        inv_freq = 1.0 / (base ** (torch.arange(0, dim, 2).float() / dim))\n",
    "        self.register_buffer(\"inv_freq\", inv_freq)\n",
    "\n",
    "    def forward(self, seq_len):\n",
    "        # Create position indices\n",
    "        position = torch.arange(seq_len, device=self.inv_freq.device).float()\n",
    "        # Compute angles for each position and frequency\n",
    "        angles = position.unsqueeze(1) * self.inv_freq.unsqueeze(0)\n",
    "        # Return sines and cosines for easier rotation\n",
    "        return torch.stack([torch.cos(angles), torch.sin(angles)], dim=-1)\n",
    "\n",
    "    def _apply_rotary_pos_emb(self, x, cos, sin):\n",
    "        # x shape: [batch_size, seq_len, dim]\n",
    "        # Reshape x for easier rotation\n",
    "        x_reshape = x.reshape(*x.shape[:-1], -1, 2)\n",
    "        x1, x2 = x_reshape.unbind(-1)  # Split into pairs\n",
    "        \n",
    "        # Apply rotation using the rotation matrix [cos -sin; sin cos]\n",
    "        out1 = x1 * cos - x2 * sin\n",
    "        out2 = x1 * sin + x2 * cos\n",
    "        \n",
    "        # Stack and reshape back\n",
    "        return torch.stack([out1, out2], dim=-1).flatten(-2)\n",
    "\n",
    "    def apply_rotary_embedding(self, q, k, seq_len):\n",
    "        # Get rotation angles\n",
    "        cos_sin = self"
   ]
  }
 ],
 "metadata": {
  "kernelspec": {
   "display_name": ".venv",
   "language": "python",
   "name": "python3"
  },
  "language_info": {
   "codemirror_mode": {
    "name": "ipython",
    "version": 3
   },
   "file_extension": ".py",
   "mimetype": "text/x-python",
   "name": "python",
   "nbconvert_exporter": "python",
   "pygments_lexer": "ipython3",
   "version": "3.11.9"
  }
 },
 "nbformat": 4,
 "nbformat_minor": 5
}
